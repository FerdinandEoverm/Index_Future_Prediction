{
 "cells": [
  {
   "cell_type": "markdown",
   "id": "88bc4d21",
   "metadata": {},
   "source": [
    "Transformer及其衍生架构，在自然语言处理上取得了卓越的成果。但是，在将这一范式迁移到时间序列预测上来的时候，却遇到了尴尬的打不过线性模型的困难"
   ]
  },
  {
   "cell_type": "markdown",
   "id": "200a60c2",
   "metadata": {},
   "source": [
    "首先我们分析一下，NLP（自然语言处理）和TSF（时间序列预测）两个问题的主要差别：\n",
    "\n",
    "1. 自然语言中的语义既存在在每个单词中，也存在在单词之间的序列关系上。一个句子完全打乱单词顺序，也能保留部分信息（尽管不那么准确）。一个还不懂语法的语言学习者，仅靠单词也可以和其他人勉强交流。但是对于时间序列，打乱顺序就意味着完全丢失信息，可以说时间序列的信息绝大部分都隐藏在序列之中。\n",
    "\n",
    "2. 自然语言的具有高度的一致性和可迁移性，常见单词和词组的含义在绝大多数语料中都是相近相似的，虽然会有一些多义词但毕竟是少数。而不同的时间序列即使出现了相同的形态，也不能说就有相似含义。例如，在金融领域，某些价格形态会包含价格趋势信息，其底层的逻辑是多空双方的博弈导致的，但是如果这样的形态出现在例如气温序列中，就不能说表示趋势性，因为底层的逻辑完全不一样。\n",
    "\n",
    "3. 自然语言的训练集非常丰富，在人类历史上积累了大量的训练语料。但由于时间序列的含义差距，每个领域的时间序列是有限的，只能使用当前研究的框架内的数据。一般资产的数据有10年以上已经是非常丰富的历史了。如果扩展序列就会面临结构和范式的变化。\n",
    "\n",
    "4. 自然语言的模式迁移非常缓慢，几乎可以忽略不记，虽然人类的语言会有所发展和变化，但是这种变化都是以数十年为单位的，在短期内改变的只会有少数词的词义，大的语法是不会改变的。但对于金融数据。概念漂移是非常常见的，时间序列的底层因素，例如次贷危机、疫情的出现很可能直接导致资产的模式完全改变，从而让历史数据的价值大打折扣，进一步加剧了数据量的问题。"
   ]
  },
  {
   "cell_type": "markdown",
   "id": "df6c3e3f",
   "metadata": {},
   "source": [
    "Transformer架构能在NLP上取得成功的原因，恰恰也是Transformer架构不能被直接迁移到TSF上的原因：\n",
    "\n",
    "1. RNN架构的顺序结构会影响长距离信息传递，长距离信息要么随着梯度消失，要么产生梯度爆炸。为了能顺利捕捉长距离关系，Transformer架构可以放弃了RNN架构的顺序性，转而使用并行性保护远距离信息可以顺利传播；\n",
    "\n",
    "2. 因为采用了并行架构丢失了顺序信息，Transformer架构采用位置编码补齐丢失的顺序信息。但位置编码会影响一部分原始语义信息；\n",
    "\n",
    "3. 因为训练语料足够丰富，导致位置编码的影响可以被最小化；\n",
    "\n",
    "4. 平行架构也可以充分运用算力，大幅度加速训练过程，因此可以接受更复杂的模型层数。将牺牲的部分通过更大的模型来弥补。\n",
    "\n",
    "换言之，因为自然语言的训练资料足够丰富，足以掩盖Transformer架构的缺点，充分发挥Transformer架构的优势，才使得Transformer架构得以在NLP问题上大放异彩。但反过来，在TSF问题上，Transformer架构并没有这样的优势。而其劣势，会被时间序列数据量缺乏的问题放大。Transformer架构本身就很复杂，模型的参数量越大，需要的数据集也就越大，超大的模型可以轻松记忆本就为数不多的数据集导致过拟合，必须对扩展模型保持谨慎态度。"
   ]
  },
  {
   "cell_type": "markdown",
   "id": "b007329c",
   "metadata": {},
   "source": [
    "当然，这也并不意味着完全就不能使用Transformer架构。Transformer架构在长距离提取上仍然有优势。具体来说，如果想要充分发挥Transformer架构的优势，我们需要解决如下问题：\n",
    "\n",
    "1. 每个信息单元包含的信息要足够丰富。自然语言中每个单词的语义已经非常丰富，最新的的大语言模型单个词嵌入维度已经达到了4096甚至更高。而单个时间步的OHLCV数据的维度太小，即使扩展一些辅助信息，也很难从单个时间步得到有效信息进行相互传播。因此，单个信息单元要从时间步提升到子序列级别，比如一个长达10天的子序列，除了10天本身的价格信息以外，还能抽象出某种趋势信息，例如一小段缩量上涨、或者一小段区间的放量震荡等等。通过将多个时间步组合成一个patch的方式，模型可以变为处理一段一段的时间。同时，这样的结构也可以接入更长的历史窗口，绕开Transformer在注意力层的O(N^2)复杂度的限制。\n",
    "\n",
    "2. 用科学的方式扩展训练集，如果我们的目标是资产价格预测，那么至少训练集的范围可以扩展到其他金融资产，但不应该扩展到非金融的领域。因为价格的底层逻辑是供需关系、多空博弈。同时，还要增加额外的机制让模型理解不同资产之间的差距和联系，例如波动率、相关性、协整性等等。\n",
    "\n"
   ]
  },
  {
   "cell_type": "code",
   "execution_count": 1,
   "id": "d3856689",
   "metadata": {},
   "outputs": [],
   "source": [
    "import os\n",
    "os.chdir('d:/future/Index_Future_Prediction')\n",
    "\n",
    "import numpy as np\n",
    "import pandas as pd\n",
    "import matplotlib.pyplot as plt\n",
    "import tqdm\n",
    "import optuna\n",
    "\n",
    "import torch\n",
    "import torch.nn as nn\n",
    "from torch.nn import functional as F\n",
    "from torch.optim import lr_scheduler, Adam, AdamW\n",
    "from torch.utils.data import TensorDataset, DataLoader\n",
    "\n",
    "from utils import *\n",
    "\n",
    "import warnings\n",
    "warnings.filterwarnings(\"ignore\", category=FutureWarning)\n",
    "warnings.filterwarnings(\"ignore\", category=UserWarning)"
   ]
  },
  {
   "cell_type": "code",
   "execution_count": 2,
   "id": "80a65999",
   "metadata": {},
   "outputs": [],
   "source": [
    "import math\n",
    "class PositionalEncoding(nn.Module):\n",
    "    \"\"\"\n",
    "    处理(* , seq_len, feature_dim) tensor，在seq_len维度上添加位置编码。\n",
    "    \"\"\"\n",
    "    def __init__(self, d_model, dropout, max_len = 5000):\n",
    "        \"\"\"\n",
    "            d_model (int): 特征维度 (feature_dim)\n",
    "            dropout (float): Dropout的概率\n",
    "            max_len (int): 预先计算编码的最大序列长度\n",
    "        \"\"\"\n",
    "        super().__init__()\n",
    "        self.dropout = nn.Dropout(dropout)\n",
    "        assert d_model % 2 == 0, \"d_model 必须是偶数\"\n",
    "\n",
    "        position = torch.arange(max_len).unsqueeze(1)\n",
    "\n",
    "\n",
    "        div_term = torch.exp(torch.arange(0, d_model, 2) * (-math.log(10000.0) / d_model))\n",
    "        pe = torch.zeros(max_len, d_model)\n",
    "        pe[:, 0::2] = torch.sin(position * div_term)\n",
    "        pe[:, 1::2] = torch.cos(position * div_term)\n",
    "\n",
    "        self.register_buffer('pe', pe)\n",
    "\n",
    "    def forward(self, x):\n",
    "        seq_len = x.size(-2)\n",
    "        pos_encoding = self.pe[:seq_len, :]\n",
    "        x = x + pos_encoding\n",
    "        return self.dropout(x)\n",
    "    \n",
    "class PatchProjection(nn.Module):\n",
    "    def __init__(self, input_size, patch_size, d_model = 128, dropout = 0.1):\n",
    "        super().__init__()\n",
    "        self.input_size = input_size\n",
    "        self.patch_size = patch_size\n",
    "        \n",
    "        self.project = nn.Linear(input_size * patch_size, d_model) # 暂时只使用单层线性投影就够了 暂时不需要做太过深度的信息抽象，这个过程会交给Encoder去完成\n",
    "        self.pe = PositionalEncoding(d_model = d_model, dropout = dropout)\n",
    "        \n",
    "    \n",
    "    def forward(self, x):\n",
    "        x = self.project(x)\n",
    "        x = self.pe(x)\n",
    "        return x"
   ]
  },
  {
   "cell_type": "code",
   "execution_count": 3,
   "id": "9f3c757e",
   "metadata": {},
   "outputs": [],
   "source": [
    "from modules.patch import TimeSeriesPatcher\n",
    "from modules.encoder import MultiLayerEncoder\n",
    "\n",
    "\n",
    "class Patch_TST(nn.Module):\n",
    "    \"\"\"Patch Time Series Transformer\"\"\"\n",
    "    def __init__(self, input_size, seq_len, patch_size, stride, num_layer, num_head, d_model, masking_ratio, mask_expand_size, dropout_1, dropout_2, dropout_3):\n",
    "        super().__init__()\n",
    "        self.device = 'cuda:0'\n",
    "        self.input_size = input_size\n",
    "        self.patch_size = patch_size\n",
    "        self.stride = stride\n",
    "        self.masking_ratio = masking_ratio\n",
    "        self.mask_expand_size = mask_expand_size\n",
    "\n",
    "        self.num_patch = int(np.floor((seq_len - patch_size) / stride) + 1)\n",
    "\n",
    "        self.patch = TimeSeriesPatcher(patch_size, stride) # 首先经过patcher分成子序列\n",
    "\n",
    "        self.projection = PatchProjection(input_size, patch_size, d_model = d_model, dropout = dropout_1)\n",
    "\n",
    "        self.encoder = MultiLayerEncoder(dim_feature = d_model, dim_sequence = self.num_patch, num_enc_layer = num_layer, num_head = num_head, num_ffn_hidden = d_model*2, dropout = dropout_2)\n",
    "\n",
    "        self.reconstruction = nn.Linear(d_model, input_size * patch_size)\n",
    "        \n",
    "        self.output = nn.Sequential(\n",
    "            nn.Flatten(start_dim = -2),\n",
    "            nn.Dropout(dropout_3),\n",
    "            HybridDecoder(dim_state = self.num_patch * d_model, init_prob = [0.0,0.5,0.0])\n",
    "        )\n",
    "    \n",
    "    def self_supervised(self, x):\n",
    "        \"\"\"\n",
    "        自监督预训练\n",
    "        如果不允许patch重叠，正好被patch隔断的形态无法学习到。\n",
    "        允许patch重叠，则模型预训练的时候可以从前后patch偷看到信息。\n",
    "        需要用双重mask\n",
    "        target mask 是真正需要重建的patch\n",
    "        input mask 是target mask的扩展，根据系数向两侧扩展掩蔽范围。例如假如patch允许重叠50%，则向前后各多屏蔽一个patch就可以完全屏蔽掉信息。\n",
    "        \"\"\"\n",
    "        device = x.device\n",
    "        batch_size = x.shape[0]\n",
    "\n",
    "\n",
    "        noise = torch.rand(size=(batch_size, self.num_patch), device=device)\n",
    "        target_mask = noise < self.masking_ratio\n",
    "        \n",
    "        # 防止出现所有 patch 都没被 mask 的情况，至少 mask 一个随机选择一个 patch 进行 mask\n",
    "        if not target_mask.any(dim=1).all():\n",
    "            for i in range(batch_size):\n",
    "                if not target_mask[i].any():\n",
    "                    fallback_idx = torch.randint(0, self.num_patch, (1,)).item()\n",
    "                    target_mask[i, fallback_idx] = True\n",
    "\n",
    "        target_mask_float = target_mask.float().unsqueeze(1)\n",
    "        kernel_size = 2 * self.mask_expand_size + 1\n",
    "        kernel = torch.ones(1, 1, kernel_size, device=device)\n",
    "        padding = self.mask_expand_size\n",
    "        expanded_mask_float = F.conv1d(target_mask_float, kernel, padding=padding)\n",
    "        input_mask = (expanded_mask_float > 0).squeeze(1)\n",
    "\n",
    "\n",
    "        x_patched = self.patch(x)\n",
    "        reshape_mask = input_mask.unsqueeze(-1)\n",
    "        x_masked = torch.where(reshape_mask, 0.0, x_patched)\n",
    "        x_projected = self.projection(x_masked)\n",
    "        x_encodered = self.encoder(x_projected)\n",
    "        \n",
    "        x_pre_reconstruction = x_encodered[target_mask] # 仅关注target mask\n",
    "        x_reconstructed = self.reconstruction(x_pre_reconstruction)\n",
    "        x_target = x_patched[target_mask] # 仅关注target mask\n",
    "\n",
    "        return x_reconstructed, x_target\n",
    "    \n",
    "    def forward(self, x):\n",
    "        \"\"\"前向传播输出\"\"\"\n",
    "        x_patched = self.patch(x)\n",
    "        x_projected = self.projection(x_patched)\n",
    "        x_encodered = self.encoder(x_projected)\n",
    "        output = self.output(x_encodered)\n",
    "        return output\n",
    "        \n"
   ]
  },
  {
   "cell_type": "markdown",
   "id": "356b22e7",
   "metadata": {},
   "source": [
    "stride = patch_size // 2 # 50 overlap\n",
    "masking_ratio = 0.75 # 模型可以从前后patch偷看信息，因此必须提高遮蔽率来抑制这种偷看\n",
    "\n",
    "最佳准确率:  0.4144319490840037\n",
    "最佳超参数:  {'seq_len': 30, 'patch_size': 5, 'num_layer': 3, 'num_head': 4, 'd_model': 256, 'dropout_1': 0.27149005025784373, 'dropout_2': 0.482387240118911, 'batch_size': 256, 'learning_rate': 0.000985487230271521, 'assets_list': ['IH.CFX', 'IF.CFX', 'IC.CFX']}"
   ]
  },
  {
   "cell_type": "markdown",
   "id": "1ec14b89",
   "metadata": {},
   "source": [
    "最佳准确率:  0.3711612921370112\n",
    "最佳超参数:  {'seq_len': 118, 'patch_size': 5, 'num_layer': 3, 'num_head': 4, 'd_model': 256, 'dropout_1': 0.4818863873957155, 'dropout_2': 0.0203014150393781, 'batch_size': 64, 'learning_rate': 0.0008700348124440109, 'assets_list': ['IH.CFX', 'IF.CFX', 'IC.CFX']}"
   ]
  },
  {
   "cell_type": "code",
   "execution_count": 4,
   "id": "f2107fc2",
   "metadata": {},
   "outputs": [],
   "source": [
    "def objective(trial):\n",
    "\n",
    "    # 超参数\n",
    "    seq_len = trial.suggest_int(\"seq_len\", 120, 250)\n",
    "    patch_size = 5\n",
    "    # patch_size = trial.suggest_int(\"patch_size\", 3,7)\n",
    "\n",
    "\n",
    "    num_layer = trial.suggest_categorical('num_layer', [3,4,5])\n",
    "    num_head = trial.suggest_categorical('num_head', [4,8,16])\n",
    "    d_model = trial.suggest_categorical('d_model', [128, 256, 512])\n",
    "    \n",
    "\n",
    "    dropout_1 = trial.suggest_float(\"dropout_1\", 0.4, 0.6)\n",
    "    dropout_2 = trial.suggest_float(\"dropout_2\", 0.0, 0.1)\n",
    "    dropout_3 = 0.2\n",
    "\n",
    "    batch_size = trial.suggest_categorical('batch_size', [32, 64,128])\n",
    "    learning_rate = trial.suggest_float(\"learning_rate\", 1e-4, 1e-2, log=True)\n",
    "    weight_decay = trial.suggest_float(\"weight_decay\", 1e-6, 1e-3, log=True)\n",
    "\n",
    "    assets_list_all = ['IH.CFX', 'IF.CFX', 'IC.CFX', 'AU.SHF', 'JM.DCE','RB.SHF','HC.SHF', 'I.DCE', 'M.DCE', 'CF.ZCE',]\n",
    "    assets_list_cfx = ['IH.CFX', 'IF.CFX', 'IC.CFX',]\n",
    "    assets_list = trial.suggest_categorical(\"assets_list\", [assets_list_cfx])\n",
    "\n",
    "    # 预训练目标 这两个超参数是比较特殊的，不能随机选择\n",
    "    # 掩码的比例是预训练的难度，随机选择这个参数不公平\n",
    "    # 步长则关系到模型能从前后的序列中偷看到多少的的信息，对预训练也至关重要\n",
    "    \n",
    "    # stride = patch_size # no overlap\n",
    "    # masking_ratio = 0.2 # 可以设置较小的遮蔽率，因为模型完全不能偷看，只要遮蔽率是固定的，对其他超参数选择就是公平的\n",
    "\n",
    "    stride = patch_size // 2 # 50 overlap\n",
    "    masking_ratio = 0.2 # 模型可以从前后patch偷看信息，因此必须提高遮蔽率来抑制这种偷看\n",
    "    mask_expand_size = 1\n",
    "\n",
    "    # 提取数据\n",
    "    feature_columns = ['inday_chg_open','inday_chg_high','inday_chg_low','inday_chg_close','inday_chg_amplitude', 'ma_10','ma_26','ma_45','ma_90','ma_vol',]\n",
    "    label_columns = ['label_return','down_prob','middle_prob','up_prob']\n",
    "\n",
    "    \n",
    "    # 加载数据\n",
    "    feature = []\n",
    "    label = []\n",
    "    for asset_code in assets_list:\n",
    "        data = pd.read_csv(f'data/{asset_code}.csv')\n",
    "        feature.append(torch.tensor(data[feature_columns].values, dtype = torch.float32, device = 'cuda:0'))\n",
    "        label.append(torch.tensor(data[label_columns].values, dtype = torch.float32, device = 'cuda:0'))\n",
    "\n",
    "    feature = torch.stack(feature, dim = 1)\n",
    "    label = torch.stack(label, dim = 1)\n",
    "    feature = feature.unfold(dimension = 0, size = seq_len, step = 1).transpose(2,3)\n",
    "    label = label[seq_len-1:]\n",
    "    data = RandomLoader(feature, label)\n",
    "    train_loader, test_loader = data(batch_size=batch_size, slice_size=[0.5,0.4], balance=[True, False])\n",
    "\n",
    "\n",
    "\n",
    "    loss_fn = nn.MSELoss()\n",
    "    model = Patch_TST(input_size = 10,\n",
    "                    seq_len = seq_len,\n",
    "                    patch_size = patch_size,\n",
    "                    stride = stride,\n",
    "                    num_layer = num_layer, \n",
    "                    num_head = num_head,\n",
    "                    d_model = d_model,\n",
    "                    masking_ratio = masking_ratio,\n",
    "                    mask_expand_size = mask_expand_size,\n",
    "                    dropout_1 = dropout_1,\n",
    "                    dropout_2 = dropout_2,\n",
    "                    dropout_3 = dropout_3,\n",
    "                    ).to('cuda:0')\n",
    "\n",
    "    optimizer = torch.optim.AdamW(model.parameters(), lr=learning_rate, weight_decay = weight_decay)\n",
    "    scheduler = lr_scheduler.StepLR(optimizer, step_size=1, gamma=0.95)\n",
    "\n",
    "\n",
    "    def epoch():\n",
    "        train_losses = []\n",
    "        model.train()\n",
    "        for batch_x, batch_y in train_loader:\n",
    "            optimizer.zero_grad()\n",
    "            x_reconstructed, x_target = model.self_supervised(batch_x)\n",
    "            loss = loss_fn(x_reconstructed, x_target)\n",
    "            train_losses.append(loss.item()) \n",
    "            loss.backward()\n",
    "            optimizer.step()\n",
    "        \n",
    "        test_losses = []\n",
    "        model.eval()\n",
    "        with torch.no_grad():\n",
    "            for batch_x, batch_y in test_loader:\n",
    "                x_reconstructed, x_target = model.self_supervised(batch_x)\n",
    "                loss = loss_fn(x_reconstructed, x_target)\n",
    "                test_losses.append(loss.item()) \n",
    "        return np.mean(train_losses), np.mean(test_losses)\n",
    "\n",
    "    def train(epochs = 100):\n",
    "        train_losses = []\n",
    "        test_losses = []\n",
    "        for i in tqdm.tqdm(range(epochs)):\n",
    "            train_loss, test_loss = epoch()\n",
    "            train_losses.append(train_loss)\n",
    "            test_losses.append(test_loss)\n",
    "            scheduler.step()\n",
    "        # plt.plot(range(epochs), train_losses)\n",
    "        # plt.plot(range(epochs), test_losses)\n",
    "        # plt.show()\n",
    "        return np.mean(test_losses[-10:])\n",
    "\n",
    "    final_loss = train(30)\n",
    "\n",
    "    return final_loss"
   ]
  },
  {
   "cell_type": "code",
   "execution_count": 5,
   "id": "70dc0b99",
   "metadata": {},
   "outputs": [
    {
     "name": "stderr",
     "output_type": "stream",
     "text": [
      "[I 2025-10-05 03:53:23,662] Using an existing study with name 'patchtst_pretrain' instead of creating a new one.\n",
      "100%|██████████| 30/30 [00:41<00:00,  1.37s/it]\n",
      "[I 2025-10-05 03:54:06,237] Trial 2 finished with value: 0.4356943588124381 and parameters: {'seq_len': 172, 'num_layer': 5, 'num_head': 8, 'd_model': 256, 'dropout_1': 0.48398378399141273, 'dropout_2': 0.05849657638528469, 'batch_size': 64, 'learning_rate': 0.0003109979701758971, 'weight_decay': 1.0266651217234693e-06, 'assets_list': ['IH.CFX', 'IF.CFX', 'IC.CFX']}. Best is trial 2 with value: 0.4356943588124381.\n",
      "100%|██████████| 30/30 [01:30<00:00,  3.03s/it]\n",
      "[I 2025-10-05 03:55:37,422] Trial 3 finished with value: 0.43400625890942035 and parameters: {'seq_len': 122, 'num_layer': 5, 'num_head': 16, 'd_model': 512, 'dropout_1': 0.42335650333460906, 'dropout_2': 0.022184356998410117, 'batch_size': 32, 'learning_rate': 0.00010350579210628519, 'weight_decay': 0.00032211247590812974, 'assets_list': ['IH.CFX', 'IF.CFX', 'IC.CFX']}. Best is trial 3 with value: 0.43400625890942035.\n",
      "100%|██████████| 30/30 [01:15<00:00,  2.51s/it]\n",
      "[I 2025-10-05 03:56:52,870] Trial 4 finished with value: 0.6749232086208131 and parameters: {'seq_len': 189, 'num_layer': 4, 'num_head': 4, 'd_model': 256, 'dropout_1': 0.4336454162627196, 'dropout_2': 0.027899691674520333, 'batch_size': 32, 'learning_rate': 0.00868775299375136, 'weight_decay': 1.228996967506097e-06, 'assets_list': ['IH.CFX', 'IF.CFX', 'IC.CFX']}. Best is trial 3 with value: 0.43400625890942035.\n",
      "100%|██████████| 30/30 [01:29<00:00,  2.98s/it]\n",
      "[I 2025-10-05 03:58:22,320] Trial 5 finished with value: 0.43586762530936135 and parameters: {'seq_len': 204, 'num_layer': 5, 'num_head': 4, 'd_model': 256, 'dropout_1': 0.5809184124274533, 'dropout_2': 0.012037013202961612, 'batch_size': 32, 'learning_rate': 0.0005933301268956658, 'weight_decay': 0.000572309416785949, 'assets_list': ['IH.CFX', 'IF.CFX', 'IC.CFX']}. Best is trial 3 with value: 0.43400625890942035.\n",
      "100%|██████████| 30/30 [01:21<00:00,  2.72s/it]\n",
      "[I 2025-10-05 03:59:43,989] Trial 6 finished with value: 0.3993342530727387 and parameters: {'seq_len': 188, 'num_layer': 5, 'num_head': 4, 'd_model': 256, 'dropout_1': 0.5140089976398645, 'dropout_2': 0.08141491371122411, 'batch_size': 32, 'learning_rate': 0.0008856457285260961, 'weight_decay': 4.9900647694846324e-05, 'assets_list': ['IH.CFX', 'IF.CFX', 'IC.CFX']}. Best is trial 6 with value: 0.3993342530727387.\n",
      "100%|██████████| 30/30 [00:39<00:00,  1.33s/it]\n",
      "[I 2025-10-05 04:00:23,974] Trial 7 finished with value: 0.5801661268207763 and parameters: {'seq_len': 198, 'num_layer': 5, 'num_head': 16, 'd_model': 256, 'dropout_1': 0.5563453016701729, 'dropout_2': 0.07149236431528709, 'batch_size': 64, 'learning_rate': 0.0033075225218433626, 'weight_decay': 8.840785841208294e-06, 'assets_list': ['IH.CFX', 'IF.CFX', 'IC.CFX']}. Best is trial 6 with value: 0.3993342530727387.\n",
      "100%|██████████| 30/30 [00:34<00:00,  1.14s/it]\n",
      "[I 2025-10-05 04:00:58,244] Trial 8 finished with value: 0.40145803657562834 and parameters: {'seq_len': 133, 'num_layer': 4, 'num_head': 16, 'd_model': 512, 'dropout_1': 0.45709519980936403, 'dropout_2': 0.040933074087175836, 'batch_size': 64, 'learning_rate': 0.0001738900695649312, 'weight_decay': 0.00010092418702081821, 'assets_list': ['IH.CFX', 'IF.CFX', 'IC.CFX']}. Best is trial 6 with value: 0.3993342530727387.\n",
      "100%|██████████| 30/30 [00:42<00:00,  1.42s/it]\n",
      "[I 2025-10-05 04:01:41,006] Trial 9 finished with value: 0.5121683338615629 and parameters: {'seq_len': 179, 'num_layer': 5, 'num_head': 8, 'd_model': 128, 'dropout_1': 0.48003470558211897, 'dropout_2': 0.02520134805524671, 'batch_size': 64, 'learning_rate': 0.0002455538821604307, 'weight_decay': 1.4267456186428422e-06, 'assets_list': ['IH.CFX', 'IF.CFX', 'IC.CFX']}. Best is trial 6 with value: 0.3993342530727387.\n",
      "100%|██████████| 30/30 [00:28<00:00,  1.06it/s]\n",
      "[I 2025-10-05 04:02:09,514] Trial 10 finished with value: 0.4582632346586748 and parameters: {'seq_len': 213, 'num_layer': 3, 'num_head': 16, 'd_model': 128, 'dropout_1': 0.4181652995694078, 'dropout_2': 0.09704504228799904, 'batch_size': 64, 'learning_rate': 0.003413338483134645, 'weight_decay': 0.0007042513114205657, 'assets_list': ['IH.CFX', 'IF.CFX', 'IC.CFX']}. Best is trial 6 with value: 0.3993342530727387.\n",
      "100%|██████████| 30/30 [00:18<00:00,  1.63it/s]\n",
      "[I 2025-10-05 04:02:28,044] Trial 11 finished with value: 0.4816591777584769 and parameters: {'seq_len': 154, 'num_layer': 4, 'num_head': 4, 'd_model': 128, 'dropout_1': 0.5270557805358487, 'dropout_2': 0.07510708067499386, 'batch_size': 128, 'learning_rate': 0.002184751372996523, 'weight_decay': 2.0352725488910295e-05, 'assets_list': ['IH.CFX', 'IF.CFX', 'IC.CFX']}. Best is trial 6 with value: 0.3993342530727387.\n",
      "100%|██████████| 30/30 [01:07<00:00,  2.25s/it]\n",
      "[I 2025-10-05 04:03:35,684] Trial 12 finished with value: 0.40602441433296405 and parameters: {'seq_len': 121, 'num_layer': 4, 'num_head': 4, 'd_model': 512, 'dropout_1': 0.4564478425903774, 'dropout_2': 0.044862122437273486, 'batch_size': 32, 'learning_rate': 0.00011537948696295213, 'weight_decay': 0.00010166589934731703, 'assets_list': ['IH.CFX', 'IF.CFX', 'IC.CFX']}. Best is trial 6 with value: 0.3993342530727387.\n",
      "100%|██████████| 30/30 [00:38<00:00,  1.28s/it]\n",
      "[I 2025-10-05 04:04:14,172] Trial 13 finished with value: 0.41990824725892806 and parameters: {'seq_len': 153, 'num_layer': 4, 'num_head': 16, 'd_model': 512, 'dropout_1': 0.5108274196644942, 'dropout_2': 0.04119172443875505, 'batch_size': 64, 'learning_rate': 0.00039067648980639, 'weight_decay': 7.696794876971891e-05, 'assets_list': ['IH.CFX', 'IF.CFX', 'IC.CFX']}. Best is trial 6 with value: 0.3993342530727387.\n",
      "100%|██████████| 30/30 [01:14<00:00,  2.50s/it]\n",
      "[I 2025-10-05 04:05:29,339] Trial 14 finished with value: 0.6503302713458459 and parameters: {'seq_len': 226, 'num_layer': 4, 'num_head': 4, 'd_model': 512, 'dropout_1': 0.5337665314040896, 'dropout_2': 0.06014091312246765, 'batch_size': 32, 'learning_rate': 0.0012103749224439972, 'weight_decay': 0.0001092462048034644, 'assets_list': ['IH.CFX', 'IF.CFX', 'IC.CFX']}. Best is trial 6 with value: 0.3993342530727387.\n",
      "100%|██████████| 30/30 [00:23<00:00,  1.27it/s]\n",
      "[I 2025-10-05 04:05:53,066] Trial 15 finished with value: 0.43794629081435826 and parameters: {'seq_len': 149, 'num_layer': 3, 'num_head': 16, 'd_model': 512, 'dropout_1': 0.4604503187082621, 'dropout_2': 0.08306746525989393, 'batch_size': 128, 'learning_rate': 0.0002347522439710891, 'weight_decay': 2.4376809461435592e-05, 'assets_list': ['IH.CFX', 'IF.CFX', 'IC.CFX']}. Best is trial 6 with value: 0.3993342530727387.\n",
      "100%|██████████| 30/30 [00:43<00:00,  1.45s/it]\n",
      "[I 2025-10-05 04:06:36,602] Trial 16 finished with value: 0.4269939868979984 and parameters: {'seq_len': 161, 'num_layer': 5, 'num_head': 4, 'd_model': 256, 'dropout_1': 0.502517819550081, 'dropout_2': 0.05867187177711101, 'batch_size': 64, 'learning_rate': 0.0006133186313535573, 'weight_decay': 8.313866119176765e-06, 'assets_list': ['IH.CFX', 'IF.CFX', 'IC.CFX']}. Best is trial 6 with value: 0.3993342530727387.\n",
      "100%|██████████| 30/30 [01:08<00:00,  2.29s/it]\n",
      "[I 2025-10-05 04:07:45,553] Trial 17 finished with value: 0.6012274465807106 and parameters: {'seq_len': 138, 'num_layer': 4, 'num_head': 16, 'd_model': 512, 'dropout_1': 0.40164136507394377, 'dropout_2': 0.001764673882658177, 'batch_size': 32, 'learning_rate': 0.009149448763697986, 'weight_decay': 0.00019383951575166152, 'assets_list': ['IH.CFX', 'IF.CFX', 'IC.CFX']}. Best is trial 6 with value: 0.3993342530727387.\n",
      "100%|██████████| 30/30 [01:11<00:00,  2.37s/it]\n",
      "[I 2025-10-05 04:08:56,912] Trial 18 finished with value: 0.4608163055074349 and parameters: {'seq_len': 228, 'num_layer': 4, 'num_head': 4, 'd_model': 256, 'dropout_1': 0.4572535412513722, 'dropout_2': 0.03731478421699962, 'batch_size': 32, 'learning_rate': 0.0001640184796615936, 'weight_decay': 4.365952148181646e-05, 'assets_list': ['IH.CFX', 'IF.CFX', 'IC.CFX']}. Best is trial 6 with value: 0.3993342530727387.\n",
      "100%|██████████| 30/30 [00:44<00:00,  1.48s/it]\n",
      "[I 2025-10-05 04:09:41,567] Trial 19 finished with value: 0.5216325719488992 and parameters: {'seq_len': 170, 'num_layer': 5, 'num_head': 16, 'd_model': 512, 'dropout_1': 0.5418193705832652, 'dropout_2': 0.06927052897598936, 'batch_size': 64, 'learning_rate': 0.0013599404221496486, 'weight_decay': 1.0084295217624513e-05, 'assets_list': ['IH.CFX', 'IF.CFX', 'IC.CFX']}. Best is trial 6 with value: 0.3993342530727387.\n",
      "100%|██████████| 30/30 [00:16<00:00,  1.83it/s]\n",
      "[I 2025-10-05 04:09:58,084] Trial 20 finished with value: 0.5653615656106369 and parameters: {'seq_len': 133, 'num_layer': 3, 'num_head': 8, 'd_model': 128, 'dropout_1': 0.5961048811763184, 'dropout_2': 0.08494947478490297, 'batch_size': 128, 'learning_rate': 0.0005262776595340631, 'weight_decay': 3.4958064629900053e-06, 'assets_list': ['IH.CFX', 'IF.CFX', 'IC.CFX']}. Best is trial 6 with value: 0.3993342530727387.\n",
      "100%|██████████| 30/30 [00:52<00:00,  1.75s/it]\n",
      "[I 2025-10-05 04:10:50,658] Trial 21 finished with value: 0.5851485772265328 and parameters: {'seq_len': 189, 'num_layer': 5, 'num_head': 16, 'd_model': 512, 'dropout_1': 0.483287640130774, 'dropout_2': 0.03393271440363588, 'batch_size': 64, 'learning_rate': 0.004549468703540569, 'weight_decay': 5.51662806351391e-05, 'assets_list': ['IH.CFX', 'IF.CFX', 'IC.CFX']}. Best is trial 6 with value: 0.3993342530727387.\n",
      "100%|██████████| 30/30 [01:11<00:00,  2.39s/it]\n",
      "[I 2025-10-05 04:12:02,621] Trial 22 finished with value: 0.42123338791631887 and parameters: {'seq_len': 121, 'num_layer': 4, 'num_head': 4, 'd_model': 512, 'dropout_1': 0.451913304883818, 'dropout_2': 0.041917092467807754, 'batch_size': 32, 'learning_rate': 0.00012215326473849185, 'weight_decay': 0.00014601807394340127, 'assets_list': ['IH.CFX', 'IF.CFX', 'IC.CFX']}. Best is trial 6 with value: 0.3993342530727387.\n",
      "100%|██████████| 30/30 [01:11<00:00,  2.37s/it]\n",
      "[I 2025-10-05 04:13:13,974] Trial 23 finished with value: 0.3927493197762448 and parameters: {'seq_len': 132, 'num_layer': 4, 'num_head': 4, 'd_model': 512, 'dropout_1': 0.44667826965166857, 'dropout_2': 0.046300262612400146, 'batch_size': 32, 'learning_rate': 0.00018943545633070635, 'weight_decay': 0.00018954814429872046, 'assets_list': ['IH.CFX', 'IF.CFX', 'IC.CFX']}. Best is trial 23 with value: 0.3927493197762448.\n",
      "100%|██████████| 30/30 [01:11<00:00,  2.39s/it]\n",
      "[I 2025-10-05 04:14:25,899] Trial 24 finished with value: 0.40594905783300816 and parameters: {'seq_len': 139, 'num_layer': 4, 'num_head': 4, 'd_model': 512, 'dropout_1': 0.43863144724427616, 'dropout_2': 0.05149326911244976, 'batch_size': 32, 'learning_rate': 0.00018093073676426653, 'weight_decay': 0.00026588600359859284, 'assets_list': ['IH.CFX', 'IF.CFX', 'IC.CFX']}. Best is trial 23 with value: 0.3927493197762448.\n",
      "100%|██████████| 30/30 [01:08<00:00,  2.27s/it]\n",
      "[I 2025-10-05 04:15:34,238] Trial 25 finished with value: 0.38008031942274256 and parameters: {'seq_len': 144, 'num_layer': 4, 'num_head': 4, 'd_model': 512, 'dropout_1': 0.5160692314831651, 'dropout_2': 0.0484637132836844, 'batch_size': 32, 'learning_rate': 0.00037503451882177276, 'weight_decay': 0.0003781658165683482, 'assets_list': ['IH.CFX', 'IF.CFX', 'IC.CFX']}. Best is trial 25 with value: 0.38008031942274256.\n",
      "100%|██████████| 30/30 [01:04<00:00,  2.16s/it]\n",
      "[I 2025-10-05 04:16:39,315] Trial 26 finished with value: 0.383938667341903 and parameters: {'seq_len': 167, 'num_layer': 4, 'num_head': 4, 'd_model': 256, 'dropout_1': 0.5148213326817631, 'dropout_2': 0.05144496390782694, 'batch_size': 32, 'learning_rate': 0.000808061516305435, 'weight_decay': 0.00039354931116100433, 'assets_list': ['IH.CFX', 'IF.CFX', 'IC.CFX']}. Best is trial 25 with value: 0.38008031942274256.\n",
      "100%|██████████| 30/30 [01:06<00:00,  2.21s/it]\n",
      "[I 2025-10-05 04:17:45,687] Trial 27 finished with value: 0.3679165592887899 and parameters: {'seq_len': 164, 'num_layer': 4, 'num_head': 4, 'd_model': 512, 'dropout_1': 0.4904027601461599, 'dropout_2': 0.05173672499291169, 'batch_size': 32, 'learning_rate': 0.0004063346203116716, 'weight_decay': 0.0009988629575338828, 'assets_list': ['IH.CFX', 'IF.CFX', 'IC.CFX']}. Best is trial 27 with value: 0.3679165592887899.\n",
      "100%|██████████| 30/30 [01:14<00:00,  2.48s/it]\n",
      "[I 2025-10-05 04:19:00,305] Trial 28 finished with value: 0.3902500564580435 and parameters: {'seq_len': 165, 'num_layer': 4, 'num_head': 4, 'd_model': 512, 'dropout_1': 0.4941892950794783, 'dropout_2': 0.053918505363087135, 'batch_size': 32, 'learning_rate': 0.00041560991287008014, 'weight_decay': 0.0009182916198932396, 'assets_list': ['IH.CFX', 'IF.CFX', 'IC.CFX']}. Best is trial 27 with value: 0.3679165592887899.\n",
      "100%|██████████| 30/30 [01:14<00:00,  2.50s/it]\n",
      "[I 2025-10-05 04:20:15,401] Trial 29 finished with value: 0.4519170676236567 and parameters: {'seq_len': 148, 'num_layer': 4, 'num_head': 4, 'd_model': 128, 'dropout_1': 0.5215281033443825, 'dropout_2': 0.06489991390533943, 'batch_size': 32, 'learning_rate': 0.0008751413969536287, 'weight_decay': 0.00042317648215078673, 'assets_list': ['IH.CFX', 'IF.CFX', 'IC.CFX']}. Best is trial 27 with value: 0.3679165592887899.\n",
      "100%|██████████| 30/30 [00:16<00:00,  1.86it/s]\n",
      "[I 2025-10-05 04:20:31,647] Trial 30 finished with value: 0.4495332701639695 and parameters: {'seq_len': 159, 'num_layer': 3, 'num_head': 8, 'd_model': 256, 'dropout_1': 0.47239548927482145, 'dropout_2': 0.031478487316635016, 'batch_size': 128, 'learning_rate': 0.0019461881636015817, 'weight_decay': 0.00048108841988745734, 'assets_list': ['IH.CFX', 'IF.CFX', 'IC.CFX']}. Best is trial 27 with value: 0.3679165592887899.\n",
      "100%|██████████| 30/30 [01:11<00:00,  2.38s/it]\n",
      "[I 2025-10-05 04:21:43,077] Trial 31 finished with value: 0.4069750639108512 and parameters: {'seq_len': 173, 'num_layer': 4, 'num_head': 4, 'd_model': 256, 'dropout_1': 0.5513600132376668, 'dropout_2': 0.05012411596412969, 'batch_size': 32, 'learning_rate': 0.0006647759374104847, 'weight_decay': 0.0009287084112912967, 'assets_list': ['IH.CFX', 'IF.CFX', 'IC.CFX']}. Best is trial 27 with value: 0.3679165592887899.\n"
     ]
    },
    {
     "name": "stdout",
     "output_type": "stream",
     "text": [
      "最佳试验的编号:  27\n",
      "最佳准确率:  0.3679165592887899\n",
      "最佳超参数:  {'seq_len': 164, 'num_layer': 4, 'num_head': 4, 'd_model': 512, 'dropout_1': 0.4904027601461599, 'dropout_2': 0.05173672499291169, 'batch_size': 32, 'learning_rate': 0.0004063346203116716, 'weight_decay': 0.0009988629575338828, 'assets_list': ['IH.CFX', 'IF.CFX', 'IC.CFX']}\n"
     ]
    },
    {
     "data": {
      "application/vnd.microsoft.datawrangler.viewer.v0+json": {
       "columns": [
        {
         "name": "index",
         "rawType": "int64",
         "type": "integer"
        },
        {
         "name": "number",
         "rawType": "int64",
         "type": "integer"
        },
        {
         "name": "value",
         "rawType": "float64",
         "type": "float"
        },
        {
         "name": "datetime_start",
         "rawType": "datetime64[ns]",
         "type": "datetime"
        },
        {
         "name": "datetime_complete",
         "rawType": "datetime64[ns]",
         "type": "datetime"
        },
        {
         "name": "duration",
         "rawType": "timedelta64[ns]",
         "type": "unknown"
        },
        {
         "name": "params_assets_list",
         "rawType": "object",
         "type": "unknown"
        },
        {
         "name": "params_batch_size",
         "rawType": "int64",
         "type": "integer"
        },
        {
         "name": "params_d_model",
         "rawType": "int64",
         "type": "integer"
        },
        {
         "name": "params_dropout_1",
         "rawType": "float64",
         "type": "float"
        },
        {
         "name": "params_dropout_2",
         "rawType": "float64",
         "type": "float"
        },
        {
         "name": "params_learning_rate",
         "rawType": "float64",
         "type": "float"
        },
        {
         "name": "params_num_head",
         "rawType": "int64",
         "type": "integer"
        },
        {
         "name": "params_num_layer",
         "rawType": "int64",
         "type": "integer"
        },
        {
         "name": "params_seq_len",
         "rawType": "int64",
         "type": "integer"
        },
        {
         "name": "params_weight_decay",
         "rawType": "float64",
         "type": "float"
        },
        {
         "name": "state",
         "rawType": "object",
         "type": "string"
        }
       ],
       "ref": "b9c1f020-13e8-4f32-8ced-7707dd8ff031",
       "rows": [
        [
         "27",
         "27",
         "0.3679165592887899",
         "2025-10-05 04:16:39.321003",
         "2025-10-05 04:17:45.680688",
         "0 days 00:01:06.359685",
         "['IH.CFX', 'IF.CFX', 'IC.CFX']",
         "32",
         "512",
         "0.4904027601461599",
         "0.05173672499291169",
         "0.0004063346203116716",
         "4",
         "4",
         "164",
         "0.0009988629575338828",
         "COMPLETE"
        ],
        [
         "25",
         "25",
         "0.38008031942274256",
         "2025-10-05 04:14:25.904459",
         "2025-10-05 04:15:34.230865",
         "0 days 00:01:08.326406",
         "['IH.CFX', 'IF.CFX', 'IC.CFX']",
         "32",
         "512",
         "0.5160692314831651",
         "0.0484637132836844",
         "0.00037503451882177276",
         "4",
         "4",
         "144",
         "0.0003781658165683482",
         "COMPLETE"
        ],
        [
         "26",
         "26",
         "0.383938667341903",
         "2025-10-05 04:15:34.243046",
         "2025-10-05 04:16:39.308877",
         "0 days 00:01:05.065831",
         "['IH.CFX', 'IF.CFX', 'IC.CFX']",
         "32",
         "256",
         "0.5148213326817631",
         "0.05144496390782694",
         "0.000808061516305435",
         "4",
         "4",
         "167",
         "0.00039354931116100433",
         "COMPLETE"
        ],
        [
         "28",
         "28",
         "0.3902500564580435",
         "2025-10-05 04:17:45.692278",
         "2025-10-05 04:19:00.298819",
         "0 days 00:01:14.606541",
         "['IH.CFX', 'IF.CFX', 'IC.CFX']",
         "32",
         "512",
         "0.4941892950794783",
         "0.053918505363087135",
         "0.00041560991287008014",
         "4",
         "4",
         "165",
         "0.0009182916198932396",
         "COMPLETE"
        ],
        [
         "23",
         "23",
         "0.3927493197762448",
         "2025-10-05 04:12:02.628212",
         "2025-10-05 04:13:13.967289",
         "0 days 00:01:11.339077",
         "['IH.CFX', 'IF.CFX', 'IC.CFX']",
         "32",
         "512",
         "0.44667826965166857",
         "0.046300262612400146",
         "0.00018943545633070635",
         "4",
         "4",
         "132",
         "0.00018954814429872046",
         "COMPLETE"
        ],
        [
         "6",
         "6",
         "0.3993342530727387",
         "2025-10-05 03:58:22.325816",
         "2025-10-05 03:59:43.983017",
         "0 days 00:01:21.657201",
         "['IH.CFX', 'IF.CFX', 'IC.CFX']",
         "32",
         "256",
         "0.5140089976398645",
         "0.08141491371122411",
         "0.0008856457285260961",
         "4",
         "5",
         "188",
         "4.9900647694846324e-05",
         "COMPLETE"
        ],
        [
         "8",
         "8",
         "0.40145803657562834",
         "2025-10-05 04:00:23.979674",
         "2025-10-05 04:00:58.237122",
         "0 days 00:00:34.257448",
         "['IH.CFX', 'IF.CFX', 'IC.CFX']",
         "64",
         "512",
         "0.45709519980936403",
         "0.040933074087175836",
         "0.0001738900695649312",
         "16",
         "4",
         "133",
         "0.00010092418702081821",
         "COMPLETE"
        ],
        [
         "24",
         "24",
         "0.40594905783300816",
         "2025-10-05 04:13:13.979036",
         "2025-10-05 04:14:25.892433",
         "0 days 00:01:11.913397",
         "['IH.CFX', 'IF.CFX', 'IC.CFX']",
         "32",
         "512",
         "0.43863144724427616",
         "0.05149326911244976",
         "0.00018093073676426653",
         "4",
         "4",
         "139",
         "0.00026588600359859284",
         "COMPLETE"
        ],
        [
         "12",
         "12",
         "0.40602441433296405",
         "2025-10-05 04:02:28.049058",
         "2025-10-05 04:03:35.677189",
         "0 days 00:01:07.628131",
         "['IH.CFX', 'IF.CFX', 'IC.CFX']",
         "32",
         "512",
         "0.4564478425903774",
         "0.044862122437273486",
         "0.00011537948696295213",
         "4",
         "4",
         "121",
         "0.00010166589934731703",
         "COMPLETE"
        ],
        [
         "31",
         "31",
         "0.4069750639108512",
         "2025-10-05 04:20:31.652653",
         "2025-10-05 04:21:43.070599",
         "0 days 00:01:11.417946",
         "['IH.CFX', 'IF.CFX', 'IC.CFX']",
         "32",
         "256",
         "0.5513600132376668",
         "0.05012411596412969",
         "0.0006647759374104847",
         "4",
         "4",
         "173",
         "0.0009287084112912967",
         "COMPLETE"
        ],
        [
         "13",
         "13",
         "0.41990824725892806",
         "2025-10-05 04:03:35.689204",
         "2025-10-05 04:04:14.165749",
         "0 days 00:00:38.476545",
         "['IH.CFX', 'IF.CFX', 'IC.CFX']",
         "64",
         "512",
         "0.5108274196644942",
         "0.04119172443875505",
         "0.00039067648980639",
         "16",
         "4",
         "153",
         "7.696794876971891e-05",
         "COMPLETE"
        ],
        [
         "22",
         "22",
         "0.42123338791631887",
         "2025-10-05 04:10:50.663569",
         "2025-10-05 04:12:02.613995",
         "0 days 00:01:11.950426",
         "['IH.CFX', 'IF.CFX', 'IC.CFX']",
         "32",
         "512",
         "0.451913304883818",
         "0.041917092467807754",
         "0.00012215326473849185",
         "4",
         "4",
         "121",
         "0.00014601807394340127",
         "COMPLETE"
        ],
        [
         "16",
         "16",
         "0.4269939868979984",
         "2025-10-05 04:05:53.071755",
         "2025-10-05 04:06:36.595165",
         "0 days 00:00:43.523410",
         "['IH.CFX', 'IF.CFX', 'IC.CFX']",
         "64",
         "256",
         "0.502517819550081",
         "0.05867187177711101",
         "0.0006133186313535573",
         "4",
         "5",
         "161",
         "8.313866119176765e-06",
         "COMPLETE"
        ],
        [
         "3",
         "3",
         "0.43400625890942035",
         "2025-10-05 03:54:06.242393",
         "2025-10-05 03:55:37.415129",
         "0 days 00:01:31.172736",
         "['IH.CFX', 'IF.CFX', 'IC.CFX']",
         "32",
         "512",
         "0.42335650333460906",
         "0.022184356998410117",
         "0.00010350579210628519",
         "16",
         "5",
         "122",
         "0.00032211247590812974",
         "COMPLETE"
        ],
        [
         "2",
         "2",
         "0.4356943588124381",
         "2025-10-05 03:53:23.679993",
         "2025-10-05 03:54:06.227901",
         "0 days 00:00:42.547908",
         "['IH.CFX', 'IF.CFX', 'IC.CFX']",
         "64",
         "256",
         "0.48398378399141273",
         "0.05849657638528469",
         "0.0003109979701758971",
         "8",
         "5",
         "172",
         "1.0266651217234693e-06",
         "COMPLETE"
        ],
        [
         "5",
         "5",
         "0.43586762530936135",
         "2025-10-05 03:56:52.875182",
         "2025-10-05 03:58:22.313783",
         "0 days 00:01:29.438601",
         "['IH.CFX', 'IF.CFX', 'IC.CFX']",
         "32",
         "256",
         "0.5809184124274533",
         "0.012037013202961612",
         "0.0005933301268956658",
         "4",
         "5",
         "204",
         "0.000572309416785949",
         "COMPLETE"
        ],
        [
         "15",
         "15",
         "0.43794629081435826",
         "2025-10-05 04:05:29.344234",
         "2025-10-05 04:05:53.059540",
         "0 days 00:00:23.715306",
         "['IH.CFX', 'IF.CFX', 'IC.CFX']",
         "128",
         "512",
         "0.4604503187082621",
         "0.08306746525989393",
         "0.0002347522439710891",
         "16",
         "3",
         "149",
         "2.4376809461435592e-05",
         "COMPLETE"
        ],
        [
         "30",
         "30",
         "0.4495332701639695",
         "2025-10-05 04:20:15.406572",
         "2025-10-05 04:20:31.640359",
         "0 days 00:00:16.233787",
         "['IH.CFX', 'IF.CFX', 'IC.CFX']",
         "128",
         "256",
         "0.47239548927482145",
         "0.031478487316635016",
         "0.0019461881636015817",
         "8",
         "3",
         "159",
         "0.00048108841988745734",
         "COMPLETE"
        ],
        [
         "29",
         "29",
         "0.4519170676236567",
         "2025-10-05 04:19:00.310638",
         "2025-10-05 04:20:15.394364",
         "0 days 00:01:15.083726",
         "['IH.CFX', 'IF.CFX', 'IC.CFX']",
         "32",
         "128",
         "0.5215281033443825",
         "0.06489991390533943",
         "0.0008751413969536287",
         "4",
         "4",
         "148",
         "0.00042317648215078673",
         "COMPLETE"
        ],
        [
         "10",
         "10",
         "0.4582632346586748",
         "2025-10-05 04:01:41.011191",
         "2025-10-05 04:02:09.507926",
         "0 days 00:00:28.496735",
         "['IH.CFX', 'IF.CFX', 'IC.CFX']",
         "64",
         "128",
         "0.4181652995694078",
         "0.09704504228799904",
         "0.003413338483134645",
         "16",
         "3",
         "213",
         "0.0007042513114205657",
         "COMPLETE"
        ],
        [
         "18",
         "18",
         "0.4608163055074349",
         "2025-10-05 04:07:45.558553",
         "2025-10-05 04:08:56.905930",
         "0 days 00:01:11.347377",
         "['IH.CFX', 'IF.CFX', 'IC.CFX']",
         "32",
         "256",
         "0.4572535412513722",
         "0.03731478421699962",
         "0.0001640184796615936",
         "4",
         "4",
         "228",
         "4.365952148181646e-05",
         "COMPLETE"
        ],
        [
         "11",
         "11",
         "0.4816591777584769",
         "2025-10-05 04:02:09.519491",
         "2025-10-05 04:02:28.037225",
         "0 days 00:00:18.517734",
         "['IH.CFX', 'IF.CFX', 'IC.CFX']",
         "128",
         "128",
         "0.5270557805358487",
         "0.07510708067499386",
         "0.002184751372996523",
         "4",
         "4",
         "154",
         "2.0352725488910295e-05",
         "COMPLETE"
        ],
        [
         "0",
         "0",
         "0.5109643616459587",
         "2025-10-05 03:52:43.337143",
         "2025-10-05 03:53:02.541680",
         "0 days 00:00:19.204537",
         "['IH.CFX', 'IF.CFX', 'IC.CFX']",
         "128",
         "256",
         "0.5695394956745012",
         "0.091858923122137",
         "0.0009766436532348125",
         "8",
         "3",
         "247",
         null,
         "COMPLETE"
        ],
        [
         "9",
         "9",
         "0.5121683338615629",
         "2025-10-05 04:00:58.250232",
         "2025-10-05 04:01:40.999734",
         "0 days 00:00:42.749502",
         "['IH.CFX', 'IF.CFX', 'IC.CFX']",
         "64",
         "128",
         "0.48003470558211897",
         "0.02520134805524671",
         "0.0002455538821604307",
         "8",
         "5",
         "179",
         "1.4267456186428422e-06",
         "COMPLETE"
        ],
        [
         "19",
         "19",
         "0.5216325719488992",
         "2025-10-05 04:08:56.918269",
         "2025-10-05 04:09:41.559169",
         "0 days 00:00:44.640900",
         "['IH.CFX', 'IF.CFX', 'IC.CFX']",
         "64",
         "512",
         "0.5418193705832652",
         "0.06927052897598936",
         "0.0013599404221496486",
         "16",
         "5",
         "170",
         "1.0084295217624513e-05",
         "COMPLETE"
        ],
        [
         "20",
         "20",
         "0.5653615656106369",
         "2025-10-05 04:09:41.573881",
         "2025-10-05 04:09:58.077579",
         "0 days 00:00:16.503698",
         "['IH.CFX', 'IF.CFX', 'IC.CFX']",
         "128",
         "128",
         "0.5961048811763184",
         "0.08494947478490297",
         "0.0005262776595340631",
         "8",
         "3",
         "133",
         "3.4958064629900053e-06",
         "COMPLETE"
        ],
        [
         "7",
         "7",
         "0.5801661268207763",
         "2025-10-05 03:59:43.995359",
         "2025-10-05 04:00:23.967561",
         "0 days 00:00:39.972202",
         "['IH.CFX', 'IF.CFX', 'IC.CFX']",
         "64",
         "256",
         "0.5563453016701729",
         "0.07149236431528709",
         "0.0033075225218433626",
         "16",
         "5",
         "198",
         "8.840785841208294e-06",
         "COMPLETE"
        ],
        [
         "21",
         "21",
         "0.5851485772265328",
         "2025-10-05 04:09:58.089370",
         "2025-10-05 04:10:50.652024",
         "0 days 00:00:52.562654",
         "['IH.CFX', 'IF.CFX', 'IC.CFX']",
         "64",
         "512",
         "0.483287640130774",
         "0.03393271440363588",
         "0.004549468703540569",
         "16",
         "5",
         "189",
         "5.51662806351391e-05",
         "COMPLETE"
        ],
        [
         "17",
         "17",
         "0.6012274465807106",
         "2025-10-05 04:06:36.607021",
         "2025-10-05 04:07:45.546879",
         "0 days 00:01:08.939858",
         "['IH.CFX', 'IF.CFX', 'IC.CFX']",
         "32",
         "512",
         "0.40164136507394377",
         "0.001764673882658177",
         "0.009149448763697986",
         "16",
         "4",
         "138",
         "0.00019383951575166152",
         "COMPLETE"
        ],
        [
         "14",
         "14",
         "0.6503302713458459",
         "2025-10-05 04:04:14.178514",
         "2025-10-05 04:05:29.332250",
         "0 days 00:01:15.153736",
         "['IH.CFX', 'IF.CFX', 'IC.CFX']",
         "32",
         "512",
         "0.5337665314040896",
         "0.06014091312246765",
         "0.0012103749224439972",
         "4",
         "4",
         "226",
         "0.0001092462048034644",
         "COMPLETE"
        ],
        [
         "4",
         "4",
         "0.6749232086208131",
         "2025-10-05 03:55:37.429678",
         "2025-10-05 03:56:52.863532",
         "0 days 00:01:15.433854",
         "['IH.CFX', 'IF.CFX', 'IC.CFX']",
         "32",
         "256",
         "0.4336454162627196",
         "0.027899691674520333",
         "0.00868775299375136",
         "4",
         "4",
         "189",
         "1.228996967506097e-06",
         "COMPLETE"
        ],
        [
         "1",
         "1",
         null,
         "2025-10-05 03:53:02.554955",
         null,
         null,
         "['IH.CFX', 'IF.CFX', 'IC.CFX']",
         "32",
         "128",
         "0.5660315577595452",
         "0.05840314902530021",
         "0.00010195488311431145",
         "16",
         "5",
         "214",
         null,
         "RUNNING"
        ]
       ],
       "shape": {
        "columns": 16,
        "rows": 32
       }
      },
      "text/html": [
       "<div>\n",
       "<style scoped>\n",
       "    .dataframe tbody tr th:only-of-type {\n",
       "        vertical-align: middle;\n",
       "    }\n",
       "\n",
       "    .dataframe tbody tr th {\n",
       "        vertical-align: top;\n",
       "    }\n",
       "\n",
       "    .dataframe thead th {\n",
       "        text-align: right;\n",
       "    }\n",
       "</style>\n",
       "<table border=\"1\" class=\"dataframe\">\n",
       "  <thead>\n",
       "    <tr style=\"text-align: right;\">\n",
       "      <th></th>\n",
       "      <th>number</th>\n",
       "      <th>value</th>\n",
       "      <th>datetime_start</th>\n",
       "      <th>datetime_complete</th>\n",
       "      <th>duration</th>\n",
       "      <th>params_assets_list</th>\n",
       "      <th>params_batch_size</th>\n",
       "      <th>params_d_model</th>\n",
       "      <th>params_dropout_1</th>\n",
       "      <th>params_dropout_2</th>\n",
       "      <th>params_learning_rate</th>\n",
       "      <th>params_num_head</th>\n",
       "      <th>params_num_layer</th>\n",
       "      <th>params_seq_len</th>\n",
       "      <th>params_weight_decay</th>\n",
       "      <th>state</th>\n",
       "    </tr>\n",
       "  </thead>\n",
       "  <tbody>\n",
       "    <tr>\n",
       "      <th>27</th>\n",
       "      <td>27</td>\n",
       "      <td>0.367917</td>\n",
       "      <td>2025-10-05 04:16:39.321003</td>\n",
       "      <td>2025-10-05 04:17:45.680688</td>\n",
       "      <td>0 days 00:01:06.359685</td>\n",
       "      <td>[IH.CFX, IF.CFX, IC.CFX]</td>\n",
       "      <td>32</td>\n",
       "      <td>512</td>\n",
       "      <td>0.490403</td>\n",
       "      <td>0.051737</td>\n",
       "      <td>0.000406</td>\n",
       "      <td>4</td>\n",
       "      <td>4</td>\n",
       "      <td>164</td>\n",
       "      <td>0.000999</td>\n",
       "      <td>COMPLETE</td>\n",
       "    </tr>\n",
       "    <tr>\n",
       "      <th>25</th>\n",
       "      <td>25</td>\n",
       "      <td>0.380080</td>\n",
       "      <td>2025-10-05 04:14:25.904459</td>\n",
       "      <td>2025-10-05 04:15:34.230865</td>\n",
       "      <td>0 days 00:01:08.326406</td>\n",
       "      <td>[IH.CFX, IF.CFX, IC.CFX]</td>\n",
       "      <td>32</td>\n",
       "      <td>512</td>\n",
       "      <td>0.516069</td>\n",
       "      <td>0.048464</td>\n",
       "      <td>0.000375</td>\n",
       "      <td>4</td>\n",
       "      <td>4</td>\n",
       "      <td>144</td>\n",
       "      <td>0.000378</td>\n",
       "      <td>COMPLETE</td>\n",
       "    </tr>\n",
       "    <tr>\n",
       "      <th>26</th>\n",
       "      <td>26</td>\n",
       "      <td>0.383939</td>\n",
       "      <td>2025-10-05 04:15:34.243046</td>\n",
       "      <td>2025-10-05 04:16:39.308877</td>\n",
       "      <td>0 days 00:01:05.065831</td>\n",
       "      <td>[IH.CFX, IF.CFX, IC.CFX]</td>\n",
       "      <td>32</td>\n",
       "      <td>256</td>\n",
       "      <td>0.514821</td>\n",
       "      <td>0.051445</td>\n",
       "      <td>0.000808</td>\n",
       "      <td>4</td>\n",
       "      <td>4</td>\n",
       "      <td>167</td>\n",
       "      <td>0.000394</td>\n",
       "      <td>COMPLETE</td>\n",
       "    </tr>\n",
       "    <tr>\n",
       "      <th>28</th>\n",
       "      <td>28</td>\n",
       "      <td>0.390250</td>\n",
       "      <td>2025-10-05 04:17:45.692278</td>\n",
       "      <td>2025-10-05 04:19:00.298819</td>\n",
       "      <td>0 days 00:01:14.606541</td>\n",
       "      <td>[IH.CFX, IF.CFX, IC.CFX]</td>\n",
       "      <td>32</td>\n",
       "      <td>512</td>\n",
       "      <td>0.494189</td>\n",
       "      <td>0.053919</td>\n",
       "      <td>0.000416</td>\n",
       "      <td>4</td>\n",
       "      <td>4</td>\n",
       "      <td>165</td>\n",
       "      <td>0.000918</td>\n",
       "      <td>COMPLETE</td>\n",
       "    </tr>\n",
       "    <tr>\n",
       "      <th>23</th>\n",
       "      <td>23</td>\n",
       "      <td>0.392749</td>\n",
       "      <td>2025-10-05 04:12:02.628212</td>\n",
       "      <td>2025-10-05 04:13:13.967289</td>\n",
       "      <td>0 days 00:01:11.339077</td>\n",
       "      <td>[IH.CFX, IF.CFX, IC.CFX]</td>\n",
       "      <td>32</td>\n",
       "      <td>512</td>\n",
       "      <td>0.446678</td>\n",
       "      <td>0.046300</td>\n",
       "      <td>0.000189</td>\n",
       "      <td>4</td>\n",
       "      <td>4</td>\n",
       "      <td>132</td>\n",
       "      <td>0.000190</td>\n",
       "      <td>COMPLETE</td>\n",
       "    </tr>\n",
       "    <tr>\n",
       "      <th>6</th>\n",
       "      <td>6</td>\n",
       "      <td>0.399334</td>\n",
       "      <td>2025-10-05 03:58:22.325816</td>\n",
       "      <td>2025-10-05 03:59:43.983017</td>\n",
       "      <td>0 days 00:01:21.657201</td>\n",
       "      <td>[IH.CFX, IF.CFX, IC.CFX]</td>\n",
       "      <td>32</td>\n",
       "      <td>256</td>\n",
       "      <td>0.514009</td>\n",
       "      <td>0.081415</td>\n",
       "      <td>0.000886</td>\n",
       "      <td>4</td>\n",
       "      <td>5</td>\n",
       "      <td>188</td>\n",
       "      <td>0.000050</td>\n",
       "      <td>COMPLETE</td>\n",
       "    </tr>\n",
       "    <tr>\n",
       "      <th>8</th>\n",
       "      <td>8</td>\n",
       "      <td>0.401458</td>\n",
       "      <td>2025-10-05 04:00:23.979674</td>\n",
       "      <td>2025-10-05 04:00:58.237122</td>\n",
       "      <td>0 days 00:00:34.257448</td>\n",
       "      <td>[IH.CFX, IF.CFX, IC.CFX]</td>\n",
       "      <td>64</td>\n",
       "      <td>512</td>\n",
       "      <td>0.457095</td>\n",
       "      <td>0.040933</td>\n",
       "      <td>0.000174</td>\n",
       "      <td>16</td>\n",
       "      <td>4</td>\n",
       "      <td>133</td>\n",
       "      <td>0.000101</td>\n",
       "      <td>COMPLETE</td>\n",
       "    </tr>\n",
       "    <tr>\n",
       "      <th>24</th>\n",
       "      <td>24</td>\n",
       "      <td>0.405949</td>\n",
       "      <td>2025-10-05 04:13:13.979036</td>\n",
       "      <td>2025-10-05 04:14:25.892433</td>\n",
       "      <td>0 days 00:01:11.913397</td>\n",
       "      <td>[IH.CFX, IF.CFX, IC.CFX]</td>\n",
       "      <td>32</td>\n",
       "      <td>512</td>\n",
       "      <td>0.438631</td>\n",
       "      <td>0.051493</td>\n",
       "      <td>0.000181</td>\n",
       "      <td>4</td>\n",
       "      <td>4</td>\n",
       "      <td>139</td>\n",
       "      <td>0.000266</td>\n",
       "      <td>COMPLETE</td>\n",
       "    </tr>\n",
       "    <tr>\n",
       "      <th>12</th>\n",
       "      <td>12</td>\n",
       "      <td>0.406024</td>\n",
       "      <td>2025-10-05 04:02:28.049058</td>\n",
       "      <td>2025-10-05 04:03:35.677189</td>\n",
       "      <td>0 days 00:01:07.628131</td>\n",
       "      <td>[IH.CFX, IF.CFX, IC.CFX]</td>\n",
       "      <td>32</td>\n",
       "      <td>512</td>\n",
       "      <td>0.456448</td>\n",
       "      <td>0.044862</td>\n",
       "      <td>0.000115</td>\n",
       "      <td>4</td>\n",
       "      <td>4</td>\n",
       "      <td>121</td>\n",
       "      <td>0.000102</td>\n",
       "      <td>COMPLETE</td>\n",
       "    </tr>\n",
       "    <tr>\n",
       "      <th>31</th>\n",
       "      <td>31</td>\n",
       "      <td>0.406975</td>\n",
       "      <td>2025-10-05 04:20:31.652653</td>\n",
       "      <td>2025-10-05 04:21:43.070599</td>\n",
       "      <td>0 days 00:01:11.417946</td>\n",
       "      <td>[IH.CFX, IF.CFX, IC.CFX]</td>\n",
       "      <td>32</td>\n",
       "      <td>256</td>\n",
       "      <td>0.551360</td>\n",
       "      <td>0.050124</td>\n",
       "      <td>0.000665</td>\n",
       "      <td>4</td>\n",
       "      <td>4</td>\n",
       "      <td>173</td>\n",
       "      <td>0.000929</td>\n",
       "      <td>COMPLETE</td>\n",
       "    </tr>\n",
       "    <tr>\n",
       "      <th>13</th>\n",
       "      <td>13</td>\n",
       "      <td>0.419908</td>\n",
       "      <td>2025-10-05 04:03:35.689204</td>\n",
       "      <td>2025-10-05 04:04:14.165749</td>\n",
       "      <td>0 days 00:00:38.476545</td>\n",
       "      <td>[IH.CFX, IF.CFX, IC.CFX]</td>\n",
       "      <td>64</td>\n",
       "      <td>512</td>\n",
       "      <td>0.510827</td>\n",
       "      <td>0.041192</td>\n",
       "      <td>0.000391</td>\n",
       "      <td>16</td>\n",
       "      <td>4</td>\n",
       "      <td>153</td>\n",
       "      <td>0.000077</td>\n",
       "      <td>COMPLETE</td>\n",
       "    </tr>\n",
       "    <tr>\n",
       "      <th>22</th>\n",
       "      <td>22</td>\n",
       "      <td>0.421233</td>\n",
       "      <td>2025-10-05 04:10:50.663569</td>\n",
       "      <td>2025-10-05 04:12:02.613995</td>\n",
       "      <td>0 days 00:01:11.950426</td>\n",
       "      <td>[IH.CFX, IF.CFX, IC.CFX]</td>\n",
       "      <td>32</td>\n",
       "      <td>512</td>\n",
       "      <td>0.451913</td>\n",
       "      <td>0.041917</td>\n",
       "      <td>0.000122</td>\n",
       "      <td>4</td>\n",
       "      <td>4</td>\n",
       "      <td>121</td>\n",
       "      <td>0.000146</td>\n",
       "      <td>COMPLETE</td>\n",
       "    </tr>\n",
       "    <tr>\n",
       "      <th>16</th>\n",
       "      <td>16</td>\n",
       "      <td>0.426994</td>\n",
       "      <td>2025-10-05 04:05:53.071755</td>\n",
       "      <td>2025-10-05 04:06:36.595165</td>\n",
       "      <td>0 days 00:00:43.523410</td>\n",
       "      <td>[IH.CFX, IF.CFX, IC.CFX]</td>\n",
       "      <td>64</td>\n",
       "      <td>256</td>\n",
       "      <td>0.502518</td>\n",
       "      <td>0.058672</td>\n",
       "      <td>0.000613</td>\n",
       "      <td>4</td>\n",
       "      <td>5</td>\n",
       "      <td>161</td>\n",
       "      <td>0.000008</td>\n",
       "      <td>COMPLETE</td>\n",
       "    </tr>\n",
       "    <tr>\n",
       "      <th>3</th>\n",
       "      <td>3</td>\n",
       "      <td>0.434006</td>\n",
       "      <td>2025-10-05 03:54:06.242393</td>\n",
       "      <td>2025-10-05 03:55:37.415129</td>\n",
       "      <td>0 days 00:01:31.172736</td>\n",
       "      <td>[IH.CFX, IF.CFX, IC.CFX]</td>\n",
       "      <td>32</td>\n",
       "      <td>512</td>\n",
       "      <td>0.423357</td>\n",
       "      <td>0.022184</td>\n",
       "      <td>0.000104</td>\n",
       "      <td>16</td>\n",
       "      <td>5</td>\n",
       "      <td>122</td>\n",
       "      <td>0.000322</td>\n",
       "      <td>COMPLETE</td>\n",
       "    </tr>\n",
       "    <tr>\n",
       "      <th>2</th>\n",
       "      <td>2</td>\n",
       "      <td>0.435694</td>\n",
       "      <td>2025-10-05 03:53:23.679993</td>\n",
       "      <td>2025-10-05 03:54:06.227901</td>\n",
       "      <td>0 days 00:00:42.547908</td>\n",
       "      <td>[IH.CFX, IF.CFX, IC.CFX]</td>\n",
       "      <td>64</td>\n",
       "      <td>256</td>\n",
       "      <td>0.483984</td>\n",
       "      <td>0.058497</td>\n",
       "      <td>0.000311</td>\n",
       "      <td>8</td>\n",
       "      <td>5</td>\n",
       "      <td>172</td>\n",
       "      <td>0.000001</td>\n",
       "      <td>COMPLETE</td>\n",
       "    </tr>\n",
       "    <tr>\n",
       "      <th>5</th>\n",
       "      <td>5</td>\n",
       "      <td>0.435868</td>\n",
       "      <td>2025-10-05 03:56:52.875182</td>\n",
       "      <td>2025-10-05 03:58:22.313783</td>\n",
       "      <td>0 days 00:01:29.438601</td>\n",
       "      <td>[IH.CFX, IF.CFX, IC.CFX]</td>\n",
       "      <td>32</td>\n",
       "      <td>256</td>\n",
       "      <td>0.580918</td>\n",
       "      <td>0.012037</td>\n",
       "      <td>0.000593</td>\n",
       "      <td>4</td>\n",
       "      <td>5</td>\n",
       "      <td>204</td>\n",
       "      <td>0.000572</td>\n",
       "      <td>COMPLETE</td>\n",
       "    </tr>\n",
       "    <tr>\n",
       "      <th>15</th>\n",
       "      <td>15</td>\n",
       "      <td>0.437946</td>\n",
       "      <td>2025-10-05 04:05:29.344234</td>\n",
       "      <td>2025-10-05 04:05:53.059540</td>\n",
       "      <td>0 days 00:00:23.715306</td>\n",
       "      <td>[IH.CFX, IF.CFX, IC.CFX]</td>\n",
       "      <td>128</td>\n",
       "      <td>512</td>\n",
       "      <td>0.460450</td>\n",
       "      <td>0.083067</td>\n",
       "      <td>0.000235</td>\n",
       "      <td>16</td>\n",
       "      <td>3</td>\n",
       "      <td>149</td>\n",
       "      <td>0.000024</td>\n",
       "      <td>COMPLETE</td>\n",
       "    </tr>\n",
       "    <tr>\n",
       "      <th>30</th>\n",
       "      <td>30</td>\n",
       "      <td>0.449533</td>\n",
       "      <td>2025-10-05 04:20:15.406572</td>\n",
       "      <td>2025-10-05 04:20:31.640359</td>\n",
       "      <td>0 days 00:00:16.233787</td>\n",
       "      <td>[IH.CFX, IF.CFX, IC.CFX]</td>\n",
       "      <td>128</td>\n",
       "      <td>256</td>\n",
       "      <td>0.472395</td>\n",
       "      <td>0.031478</td>\n",
       "      <td>0.001946</td>\n",
       "      <td>8</td>\n",
       "      <td>3</td>\n",
       "      <td>159</td>\n",
       "      <td>0.000481</td>\n",
       "      <td>COMPLETE</td>\n",
       "    </tr>\n",
       "    <tr>\n",
       "      <th>29</th>\n",
       "      <td>29</td>\n",
       "      <td>0.451917</td>\n",
       "      <td>2025-10-05 04:19:00.310638</td>\n",
       "      <td>2025-10-05 04:20:15.394364</td>\n",
       "      <td>0 days 00:01:15.083726</td>\n",
       "      <td>[IH.CFX, IF.CFX, IC.CFX]</td>\n",
       "      <td>32</td>\n",
       "      <td>128</td>\n",
       "      <td>0.521528</td>\n",
       "      <td>0.064900</td>\n",
       "      <td>0.000875</td>\n",
       "      <td>4</td>\n",
       "      <td>4</td>\n",
       "      <td>148</td>\n",
       "      <td>0.000423</td>\n",
       "      <td>COMPLETE</td>\n",
       "    </tr>\n",
       "    <tr>\n",
       "      <th>10</th>\n",
       "      <td>10</td>\n",
       "      <td>0.458263</td>\n",
       "      <td>2025-10-05 04:01:41.011191</td>\n",
       "      <td>2025-10-05 04:02:09.507926</td>\n",
       "      <td>0 days 00:00:28.496735</td>\n",
       "      <td>[IH.CFX, IF.CFX, IC.CFX]</td>\n",
       "      <td>64</td>\n",
       "      <td>128</td>\n",
       "      <td>0.418165</td>\n",
       "      <td>0.097045</td>\n",
       "      <td>0.003413</td>\n",
       "      <td>16</td>\n",
       "      <td>3</td>\n",
       "      <td>213</td>\n",
       "      <td>0.000704</td>\n",
       "      <td>COMPLETE</td>\n",
       "    </tr>\n",
       "    <tr>\n",
       "      <th>18</th>\n",
       "      <td>18</td>\n",
       "      <td>0.460816</td>\n",
       "      <td>2025-10-05 04:07:45.558553</td>\n",
       "      <td>2025-10-05 04:08:56.905930</td>\n",
       "      <td>0 days 00:01:11.347377</td>\n",
       "      <td>[IH.CFX, IF.CFX, IC.CFX]</td>\n",
       "      <td>32</td>\n",
       "      <td>256</td>\n",
       "      <td>0.457254</td>\n",
       "      <td>0.037315</td>\n",
       "      <td>0.000164</td>\n",
       "      <td>4</td>\n",
       "      <td>4</td>\n",
       "      <td>228</td>\n",
       "      <td>0.000044</td>\n",
       "      <td>COMPLETE</td>\n",
       "    </tr>\n",
       "    <tr>\n",
       "      <th>11</th>\n",
       "      <td>11</td>\n",
       "      <td>0.481659</td>\n",
       "      <td>2025-10-05 04:02:09.519491</td>\n",
       "      <td>2025-10-05 04:02:28.037225</td>\n",
       "      <td>0 days 00:00:18.517734</td>\n",
       "      <td>[IH.CFX, IF.CFX, IC.CFX]</td>\n",
       "      <td>128</td>\n",
       "      <td>128</td>\n",
       "      <td>0.527056</td>\n",
       "      <td>0.075107</td>\n",
       "      <td>0.002185</td>\n",
       "      <td>4</td>\n",
       "      <td>4</td>\n",
       "      <td>154</td>\n",
       "      <td>0.000020</td>\n",
       "      <td>COMPLETE</td>\n",
       "    </tr>\n",
       "    <tr>\n",
       "      <th>0</th>\n",
       "      <td>0</td>\n",
       "      <td>0.510964</td>\n",
       "      <td>2025-10-05 03:52:43.337143</td>\n",
       "      <td>2025-10-05 03:53:02.541680</td>\n",
       "      <td>0 days 00:00:19.204537</td>\n",
       "      <td>[IH.CFX, IF.CFX, IC.CFX]</td>\n",
       "      <td>128</td>\n",
       "      <td>256</td>\n",
       "      <td>0.569539</td>\n",
       "      <td>0.091859</td>\n",
       "      <td>0.000977</td>\n",
       "      <td>8</td>\n",
       "      <td>3</td>\n",
       "      <td>247</td>\n",
       "      <td>NaN</td>\n",
       "      <td>COMPLETE</td>\n",
       "    </tr>\n",
       "    <tr>\n",
       "      <th>9</th>\n",
       "      <td>9</td>\n",
       "      <td>0.512168</td>\n",
       "      <td>2025-10-05 04:00:58.250232</td>\n",
       "      <td>2025-10-05 04:01:40.999734</td>\n",
       "      <td>0 days 00:00:42.749502</td>\n",
       "      <td>[IH.CFX, IF.CFX, IC.CFX]</td>\n",
       "      <td>64</td>\n",
       "      <td>128</td>\n",
       "      <td>0.480035</td>\n",
       "      <td>0.025201</td>\n",
       "      <td>0.000246</td>\n",
       "      <td>8</td>\n",
       "      <td>5</td>\n",
       "      <td>179</td>\n",
       "      <td>0.000001</td>\n",
       "      <td>COMPLETE</td>\n",
       "    </tr>\n",
       "    <tr>\n",
       "      <th>19</th>\n",
       "      <td>19</td>\n",
       "      <td>0.521633</td>\n",
       "      <td>2025-10-05 04:08:56.918269</td>\n",
       "      <td>2025-10-05 04:09:41.559169</td>\n",
       "      <td>0 days 00:00:44.640900</td>\n",
       "      <td>[IH.CFX, IF.CFX, IC.CFX]</td>\n",
       "      <td>64</td>\n",
       "      <td>512</td>\n",
       "      <td>0.541819</td>\n",
       "      <td>0.069271</td>\n",
       "      <td>0.001360</td>\n",
       "      <td>16</td>\n",
       "      <td>5</td>\n",
       "      <td>170</td>\n",
       "      <td>0.000010</td>\n",
       "      <td>COMPLETE</td>\n",
       "    </tr>\n",
       "    <tr>\n",
       "      <th>20</th>\n",
       "      <td>20</td>\n",
       "      <td>0.565362</td>\n",
       "      <td>2025-10-05 04:09:41.573881</td>\n",
       "      <td>2025-10-05 04:09:58.077579</td>\n",
       "      <td>0 days 00:00:16.503698</td>\n",
       "      <td>[IH.CFX, IF.CFX, IC.CFX]</td>\n",
       "      <td>128</td>\n",
       "      <td>128</td>\n",
       "      <td>0.596105</td>\n",
       "      <td>0.084949</td>\n",
       "      <td>0.000526</td>\n",
       "      <td>8</td>\n",
       "      <td>3</td>\n",
       "      <td>133</td>\n",
       "      <td>0.000003</td>\n",
       "      <td>COMPLETE</td>\n",
       "    </tr>\n",
       "    <tr>\n",
       "      <th>7</th>\n",
       "      <td>7</td>\n",
       "      <td>0.580166</td>\n",
       "      <td>2025-10-05 03:59:43.995359</td>\n",
       "      <td>2025-10-05 04:00:23.967561</td>\n",
       "      <td>0 days 00:00:39.972202</td>\n",
       "      <td>[IH.CFX, IF.CFX, IC.CFX]</td>\n",
       "      <td>64</td>\n",
       "      <td>256</td>\n",
       "      <td>0.556345</td>\n",
       "      <td>0.071492</td>\n",
       "      <td>0.003308</td>\n",
       "      <td>16</td>\n",
       "      <td>5</td>\n",
       "      <td>198</td>\n",
       "      <td>0.000009</td>\n",
       "      <td>COMPLETE</td>\n",
       "    </tr>\n",
       "    <tr>\n",
       "      <th>21</th>\n",
       "      <td>21</td>\n",
       "      <td>0.585149</td>\n",
       "      <td>2025-10-05 04:09:58.089370</td>\n",
       "      <td>2025-10-05 04:10:50.652024</td>\n",
       "      <td>0 days 00:00:52.562654</td>\n",
       "      <td>[IH.CFX, IF.CFX, IC.CFX]</td>\n",
       "      <td>64</td>\n",
       "      <td>512</td>\n",
       "      <td>0.483288</td>\n",
       "      <td>0.033933</td>\n",
       "      <td>0.004549</td>\n",
       "      <td>16</td>\n",
       "      <td>5</td>\n",
       "      <td>189</td>\n",
       "      <td>0.000055</td>\n",
       "      <td>COMPLETE</td>\n",
       "    </tr>\n",
       "    <tr>\n",
       "      <th>17</th>\n",
       "      <td>17</td>\n",
       "      <td>0.601227</td>\n",
       "      <td>2025-10-05 04:06:36.607021</td>\n",
       "      <td>2025-10-05 04:07:45.546879</td>\n",
       "      <td>0 days 00:01:08.939858</td>\n",
       "      <td>[IH.CFX, IF.CFX, IC.CFX]</td>\n",
       "      <td>32</td>\n",
       "      <td>512</td>\n",
       "      <td>0.401641</td>\n",
       "      <td>0.001765</td>\n",
       "      <td>0.009149</td>\n",
       "      <td>16</td>\n",
       "      <td>4</td>\n",
       "      <td>138</td>\n",
       "      <td>0.000194</td>\n",
       "      <td>COMPLETE</td>\n",
       "    </tr>\n",
       "    <tr>\n",
       "      <th>14</th>\n",
       "      <td>14</td>\n",
       "      <td>0.650330</td>\n",
       "      <td>2025-10-05 04:04:14.178514</td>\n",
       "      <td>2025-10-05 04:05:29.332250</td>\n",
       "      <td>0 days 00:01:15.153736</td>\n",
       "      <td>[IH.CFX, IF.CFX, IC.CFX]</td>\n",
       "      <td>32</td>\n",
       "      <td>512</td>\n",
       "      <td>0.533767</td>\n",
       "      <td>0.060141</td>\n",
       "      <td>0.001210</td>\n",
       "      <td>4</td>\n",
       "      <td>4</td>\n",
       "      <td>226</td>\n",
       "      <td>0.000109</td>\n",
       "      <td>COMPLETE</td>\n",
       "    </tr>\n",
       "    <tr>\n",
       "      <th>4</th>\n",
       "      <td>4</td>\n",
       "      <td>0.674923</td>\n",
       "      <td>2025-10-05 03:55:37.429678</td>\n",
       "      <td>2025-10-05 03:56:52.863532</td>\n",
       "      <td>0 days 00:01:15.433854</td>\n",
       "      <td>[IH.CFX, IF.CFX, IC.CFX]</td>\n",
       "      <td>32</td>\n",
       "      <td>256</td>\n",
       "      <td>0.433645</td>\n",
       "      <td>0.027900</td>\n",
       "      <td>0.008688</td>\n",
       "      <td>4</td>\n",
       "      <td>4</td>\n",
       "      <td>189</td>\n",
       "      <td>0.000001</td>\n",
       "      <td>COMPLETE</td>\n",
       "    </tr>\n",
       "    <tr>\n",
       "      <th>1</th>\n",
       "      <td>1</td>\n",
       "      <td>NaN</td>\n",
       "      <td>2025-10-05 03:53:02.554955</td>\n",
       "      <td>NaT</td>\n",
       "      <td>NaT</td>\n",
       "      <td>[IH.CFX, IF.CFX, IC.CFX]</td>\n",
       "      <td>32</td>\n",
       "      <td>128</td>\n",
       "      <td>0.566032</td>\n",
       "      <td>0.058403</td>\n",
       "      <td>0.000102</td>\n",
       "      <td>16</td>\n",
       "      <td>5</td>\n",
       "      <td>214</td>\n",
       "      <td>NaN</td>\n",
       "      <td>RUNNING</td>\n",
       "    </tr>\n",
       "  </tbody>\n",
       "</table>\n",
       "</div>"
      ],
      "text/plain": [
       "    number     value             datetime_start          datetime_complete  \\\n",
       "27      27  0.367917 2025-10-05 04:16:39.321003 2025-10-05 04:17:45.680688   \n",
       "25      25  0.380080 2025-10-05 04:14:25.904459 2025-10-05 04:15:34.230865   \n",
       "26      26  0.383939 2025-10-05 04:15:34.243046 2025-10-05 04:16:39.308877   \n",
       "28      28  0.390250 2025-10-05 04:17:45.692278 2025-10-05 04:19:00.298819   \n",
       "23      23  0.392749 2025-10-05 04:12:02.628212 2025-10-05 04:13:13.967289   \n",
       "6        6  0.399334 2025-10-05 03:58:22.325816 2025-10-05 03:59:43.983017   \n",
       "8        8  0.401458 2025-10-05 04:00:23.979674 2025-10-05 04:00:58.237122   \n",
       "24      24  0.405949 2025-10-05 04:13:13.979036 2025-10-05 04:14:25.892433   \n",
       "12      12  0.406024 2025-10-05 04:02:28.049058 2025-10-05 04:03:35.677189   \n",
       "31      31  0.406975 2025-10-05 04:20:31.652653 2025-10-05 04:21:43.070599   \n",
       "13      13  0.419908 2025-10-05 04:03:35.689204 2025-10-05 04:04:14.165749   \n",
       "22      22  0.421233 2025-10-05 04:10:50.663569 2025-10-05 04:12:02.613995   \n",
       "16      16  0.426994 2025-10-05 04:05:53.071755 2025-10-05 04:06:36.595165   \n",
       "3        3  0.434006 2025-10-05 03:54:06.242393 2025-10-05 03:55:37.415129   \n",
       "2        2  0.435694 2025-10-05 03:53:23.679993 2025-10-05 03:54:06.227901   \n",
       "5        5  0.435868 2025-10-05 03:56:52.875182 2025-10-05 03:58:22.313783   \n",
       "15      15  0.437946 2025-10-05 04:05:29.344234 2025-10-05 04:05:53.059540   \n",
       "30      30  0.449533 2025-10-05 04:20:15.406572 2025-10-05 04:20:31.640359   \n",
       "29      29  0.451917 2025-10-05 04:19:00.310638 2025-10-05 04:20:15.394364   \n",
       "10      10  0.458263 2025-10-05 04:01:41.011191 2025-10-05 04:02:09.507926   \n",
       "18      18  0.460816 2025-10-05 04:07:45.558553 2025-10-05 04:08:56.905930   \n",
       "11      11  0.481659 2025-10-05 04:02:09.519491 2025-10-05 04:02:28.037225   \n",
       "0        0  0.510964 2025-10-05 03:52:43.337143 2025-10-05 03:53:02.541680   \n",
       "9        9  0.512168 2025-10-05 04:00:58.250232 2025-10-05 04:01:40.999734   \n",
       "19      19  0.521633 2025-10-05 04:08:56.918269 2025-10-05 04:09:41.559169   \n",
       "20      20  0.565362 2025-10-05 04:09:41.573881 2025-10-05 04:09:58.077579   \n",
       "7        7  0.580166 2025-10-05 03:59:43.995359 2025-10-05 04:00:23.967561   \n",
       "21      21  0.585149 2025-10-05 04:09:58.089370 2025-10-05 04:10:50.652024   \n",
       "17      17  0.601227 2025-10-05 04:06:36.607021 2025-10-05 04:07:45.546879   \n",
       "14      14  0.650330 2025-10-05 04:04:14.178514 2025-10-05 04:05:29.332250   \n",
       "4        4  0.674923 2025-10-05 03:55:37.429678 2025-10-05 03:56:52.863532   \n",
       "1        1       NaN 2025-10-05 03:53:02.554955                        NaT   \n",
       "\n",
       "                 duration        params_assets_list  params_batch_size  \\\n",
       "27 0 days 00:01:06.359685  [IH.CFX, IF.CFX, IC.CFX]                 32   \n",
       "25 0 days 00:01:08.326406  [IH.CFX, IF.CFX, IC.CFX]                 32   \n",
       "26 0 days 00:01:05.065831  [IH.CFX, IF.CFX, IC.CFX]                 32   \n",
       "28 0 days 00:01:14.606541  [IH.CFX, IF.CFX, IC.CFX]                 32   \n",
       "23 0 days 00:01:11.339077  [IH.CFX, IF.CFX, IC.CFX]                 32   \n",
       "6  0 days 00:01:21.657201  [IH.CFX, IF.CFX, IC.CFX]                 32   \n",
       "8  0 days 00:00:34.257448  [IH.CFX, IF.CFX, IC.CFX]                 64   \n",
       "24 0 days 00:01:11.913397  [IH.CFX, IF.CFX, IC.CFX]                 32   \n",
       "12 0 days 00:01:07.628131  [IH.CFX, IF.CFX, IC.CFX]                 32   \n",
       "31 0 days 00:01:11.417946  [IH.CFX, IF.CFX, IC.CFX]                 32   \n",
       "13 0 days 00:00:38.476545  [IH.CFX, IF.CFX, IC.CFX]                 64   \n",
       "22 0 days 00:01:11.950426  [IH.CFX, IF.CFX, IC.CFX]                 32   \n",
       "16 0 days 00:00:43.523410  [IH.CFX, IF.CFX, IC.CFX]                 64   \n",
       "3  0 days 00:01:31.172736  [IH.CFX, IF.CFX, IC.CFX]                 32   \n",
       "2  0 days 00:00:42.547908  [IH.CFX, IF.CFX, IC.CFX]                 64   \n",
       "5  0 days 00:01:29.438601  [IH.CFX, IF.CFX, IC.CFX]                 32   \n",
       "15 0 days 00:00:23.715306  [IH.CFX, IF.CFX, IC.CFX]                128   \n",
       "30 0 days 00:00:16.233787  [IH.CFX, IF.CFX, IC.CFX]                128   \n",
       "29 0 days 00:01:15.083726  [IH.CFX, IF.CFX, IC.CFX]                 32   \n",
       "10 0 days 00:00:28.496735  [IH.CFX, IF.CFX, IC.CFX]                 64   \n",
       "18 0 days 00:01:11.347377  [IH.CFX, IF.CFX, IC.CFX]                 32   \n",
       "11 0 days 00:00:18.517734  [IH.CFX, IF.CFX, IC.CFX]                128   \n",
       "0  0 days 00:00:19.204537  [IH.CFX, IF.CFX, IC.CFX]                128   \n",
       "9  0 days 00:00:42.749502  [IH.CFX, IF.CFX, IC.CFX]                 64   \n",
       "19 0 days 00:00:44.640900  [IH.CFX, IF.CFX, IC.CFX]                 64   \n",
       "20 0 days 00:00:16.503698  [IH.CFX, IF.CFX, IC.CFX]                128   \n",
       "7  0 days 00:00:39.972202  [IH.CFX, IF.CFX, IC.CFX]                 64   \n",
       "21 0 days 00:00:52.562654  [IH.CFX, IF.CFX, IC.CFX]                 64   \n",
       "17 0 days 00:01:08.939858  [IH.CFX, IF.CFX, IC.CFX]                 32   \n",
       "14 0 days 00:01:15.153736  [IH.CFX, IF.CFX, IC.CFX]                 32   \n",
       "4  0 days 00:01:15.433854  [IH.CFX, IF.CFX, IC.CFX]                 32   \n",
       "1                     NaT  [IH.CFX, IF.CFX, IC.CFX]                 32   \n",
       "\n",
       "    params_d_model  params_dropout_1  params_dropout_2  params_learning_rate  \\\n",
       "27             512          0.490403          0.051737              0.000406   \n",
       "25             512          0.516069          0.048464              0.000375   \n",
       "26             256          0.514821          0.051445              0.000808   \n",
       "28             512          0.494189          0.053919              0.000416   \n",
       "23             512          0.446678          0.046300              0.000189   \n",
       "6              256          0.514009          0.081415              0.000886   \n",
       "8              512          0.457095          0.040933              0.000174   \n",
       "24             512          0.438631          0.051493              0.000181   \n",
       "12             512          0.456448          0.044862              0.000115   \n",
       "31             256          0.551360          0.050124              0.000665   \n",
       "13             512          0.510827          0.041192              0.000391   \n",
       "22             512          0.451913          0.041917              0.000122   \n",
       "16             256          0.502518          0.058672              0.000613   \n",
       "3              512          0.423357          0.022184              0.000104   \n",
       "2              256          0.483984          0.058497              0.000311   \n",
       "5              256          0.580918          0.012037              0.000593   \n",
       "15             512          0.460450          0.083067              0.000235   \n",
       "30             256          0.472395          0.031478              0.001946   \n",
       "29             128          0.521528          0.064900              0.000875   \n",
       "10             128          0.418165          0.097045              0.003413   \n",
       "18             256          0.457254          0.037315              0.000164   \n",
       "11             128          0.527056          0.075107              0.002185   \n",
       "0              256          0.569539          0.091859              0.000977   \n",
       "9              128          0.480035          0.025201              0.000246   \n",
       "19             512          0.541819          0.069271              0.001360   \n",
       "20             128          0.596105          0.084949              0.000526   \n",
       "7              256          0.556345          0.071492              0.003308   \n",
       "21             512          0.483288          0.033933              0.004549   \n",
       "17             512          0.401641          0.001765              0.009149   \n",
       "14             512          0.533767          0.060141              0.001210   \n",
       "4              256          0.433645          0.027900              0.008688   \n",
       "1              128          0.566032          0.058403              0.000102   \n",
       "\n",
       "    params_num_head  params_num_layer  params_seq_len  params_weight_decay  \\\n",
       "27                4                 4             164             0.000999   \n",
       "25                4                 4             144             0.000378   \n",
       "26                4                 4             167             0.000394   \n",
       "28                4                 4             165             0.000918   \n",
       "23                4                 4             132             0.000190   \n",
       "6                 4                 5             188             0.000050   \n",
       "8                16                 4             133             0.000101   \n",
       "24                4                 4             139             0.000266   \n",
       "12                4                 4             121             0.000102   \n",
       "31                4                 4             173             0.000929   \n",
       "13               16                 4             153             0.000077   \n",
       "22                4                 4             121             0.000146   \n",
       "16                4                 5             161             0.000008   \n",
       "3                16                 5             122             0.000322   \n",
       "2                 8                 5             172             0.000001   \n",
       "5                 4                 5             204             0.000572   \n",
       "15               16                 3             149             0.000024   \n",
       "30                8                 3             159             0.000481   \n",
       "29                4                 4             148             0.000423   \n",
       "10               16                 3             213             0.000704   \n",
       "18                4                 4             228             0.000044   \n",
       "11                4                 4             154             0.000020   \n",
       "0                 8                 3             247                  NaN   \n",
       "9                 8                 5             179             0.000001   \n",
       "19               16                 5             170             0.000010   \n",
       "20                8                 3             133             0.000003   \n",
       "7                16                 5             198             0.000009   \n",
       "21               16                 5             189             0.000055   \n",
       "17               16                 4             138             0.000194   \n",
       "14                4                 4             226             0.000109   \n",
       "4                 4                 4             189             0.000001   \n",
       "1                16                 5             214                  NaN   \n",
       "\n",
       "       state  \n",
       "27  COMPLETE  \n",
       "25  COMPLETE  \n",
       "26  COMPLETE  \n",
       "28  COMPLETE  \n",
       "23  COMPLETE  \n",
       "6   COMPLETE  \n",
       "8   COMPLETE  \n",
       "24  COMPLETE  \n",
       "12  COMPLETE  \n",
       "31  COMPLETE  \n",
       "13  COMPLETE  \n",
       "22  COMPLETE  \n",
       "16  COMPLETE  \n",
       "3   COMPLETE  \n",
       "2   COMPLETE  \n",
       "5   COMPLETE  \n",
       "15  COMPLETE  \n",
       "30  COMPLETE  \n",
       "29  COMPLETE  \n",
       "10  COMPLETE  \n",
       "18  COMPLETE  \n",
       "11  COMPLETE  \n",
       "0   COMPLETE  \n",
       "9   COMPLETE  \n",
       "19  COMPLETE  \n",
       "20  COMPLETE  \n",
       "7   COMPLETE  \n",
       "21  COMPLETE  \n",
       "17  COMPLETE  \n",
       "14  COMPLETE  \n",
       "4   COMPLETE  \n",
       "1    RUNNING  "
      ]
     },
     "execution_count": 5,
     "metadata": {},
     "output_type": "execute_result"
    }
   ],
   "source": [
    "study = optuna.create_study(\n",
    "    direction=\"minimize\",\n",
    "    study_name=\"patchtst_pretrain\",\n",
    "    storage=\"sqlite:///db.sqlite3_1\",  # 保存到 SQLite 文件\n",
    "    load_if_exists=True # 如果存在同名study，则加载它\n",
    ")\n",
    "study.optimize(objective, n_trials=30)\n",
    "\n",
    "\n",
    "print(\"最佳试验的编号: \", study.best_trial.number)\n",
    "print(\"最佳loss: \", study.best_value)\n",
    "print(\"最佳超参数: \", study.best_params)\n",
    "df = study.trials_dataframe()\n",
    "df.sort_values(by='value')"
   ]
  },
  {
   "cell_type": "code",
   "execution_count": 6,
   "id": "4edbb721",
   "metadata": {},
   "outputs": [
    {
     "data": {
      "application/vnd.microsoft.datawrangler.viewer.v0+json": {
       "columns": [
        {
         "name": "index",
         "rawType": "int64",
         "type": "integer"
        },
        {
         "name": "number",
         "rawType": "int64",
         "type": "integer"
        },
        {
         "name": "value",
         "rawType": "float64",
         "type": "float"
        },
        {
         "name": "datetime_start",
         "rawType": "datetime64[ns]",
         "type": "datetime"
        },
        {
         "name": "datetime_complete",
         "rawType": "datetime64[ns]",
         "type": "datetime"
        },
        {
         "name": "duration",
         "rawType": "timedelta64[ns]",
         "type": "unknown"
        },
        {
         "name": "params_assets_list",
         "rawType": "object",
         "type": "unknown"
        },
        {
         "name": "params_batch_size",
         "rawType": "int64",
         "type": "integer"
        },
        {
         "name": "params_d_model",
         "rawType": "int64",
         "type": "integer"
        },
        {
         "name": "params_dropout_1",
         "rawType": "float64",
         "type": "float"
        },
        {
         "name": "params_dropout_2",
         "rawType": "float64",
         "type": "float"
        },
        {
         "name": "params_learning_rate",
         "rawType": "float64",
         "type": "float"
        },
        {
         "name": "params_num_head",
         "rawType": "int64",
         "type": "integer"
        },
        {
         "name": "params_num_layer",
         "rawType": "int64",
         "type": "integer"
        },
        {
         "name": "params_seq_len",
         "rawType": "int64",
         "type": "integer"
        },
        {
         "name": "params_weight_decay",
         "rawType": "float64",
         "type": "float"
        },
        {
         "name": "state",
         "rawType": "object",
         "type": "string"
        }
       ],
       "ref": "72bf3f63-8628-4299-a9b7-29d372c629a8",
       "rows": [
        [
         "27",
         "27",
         "0.3679165592887899",
         "2025-10-05 04:16:39.321003",
         "2025-10-05 04:17:45.680688",
         "0 days 00:01:06.359685",
         "['IH.CFX', 'IF.CFX', 'IC.CFX']",
         "32",
         "512",
         "0.4904027601461599",
         "0.05173672499291169",
         "0.0004063346203116716",
         "4",
         "4",
         "164",
         "0.0009988629575338828",
         "COMPLETE"
        ],
        [
         "25",
         "25",
         "0.38008031942274256",
         "2025-10-05 04:14:25.904459",
         "2025-10-05 04:15:34.230865",
         "0 days 00:01:08.326406",
         "['IH.CFX', 'IF.CFX', 'IC.CFX']",
         "32",
         "512",
         "0.5160692314831651",
         "0.0484637132836844",
         "0.00037503451882177276",
         "4",
         "4",
         "144",
         "0.0003781658165683482",
         "COMPLETE"
        ],
        [
         "26",
         "26",
         "0.383938667341903",
         "2025-10-05 04:15:34.243046",
         "2025-10-05 04:16:39.308877",
         "0 days 00:01:05.065831",
         "['IH.CFX', 'IF.CFX', 'IC.CFX']",
         "32",
         "256",
         "0.5148213326817631",
         "0.05144496390782694",
         "0.000808061516305435",
         "4",
         "4",
         "167",
         "0.00039354931116100433",
         "COMPLETE"
        ],
        [
         "28",
         "28",
         "0.3902500564580435",
         "2025-10-05 04:17:45.692278",
         "2025-10-05 04:19:00.298819",
         "0 days 00:01:14.606541",
         "['IH.CFX', 'IF.CFX', 'IC.CFX']",
         "32",
         "512",
         "0.4941892950794783",
         "0.053918505363087135",
         "0.00041560991287008014",
         "4",
         "4",
         "165",
         "0.0009182916198932396",
         "COMPLETE"
        ],
        [
         "23",
         "23",
         "0.3927493197762448",
         "2025-10-05 04:12:02.628212",
         "2025-10-05 04:13:13.967289",
         "0 days 00:01:11.339077",
         "['IH.CFX', 'IF.CFX', 'IC.CFX']",
         "32",
         "512",
         "0.44667826965166857",
         "0.046300262612400146",
         "0.00018943545633070635",
         "4",
         "4",
         "132",
         "0.00018954814429872046",
         "COMPLETE"
        ],
        [
         "6",
         "6",
         "0.3993342530727387",
         "2025-10-05 03:58:22.325816",
         "2025-10-05 03:59:43.983017",
         "0 days 00:01:21.657201",
         "['IH.CFX', 'IF.CFX', 'IC.CFX']",
         "32",
         "256",
         "0.5140089976398645",
         "0.08141491371122411",
         "0.0008856457285260961",
         "4",
         "5",
         "188",
         "4.9900647694846324e-05",
         "COMPLETE"
        ],
        [
         "8",
         "8",
         "0.40145803657562834",
         "2025-10-05 04:00:23.979674",
         "2025-10-05 04:00:58.237122",
         "0 days 00:00:34.257448",
         "['IH.CFX', 'IF.CFX', 'IC.CFX']",
         "64",
         "512",
         "0.45709519980936403",
         "0.040933074087175836",
         "0.0001738900695649312",
         "16",
         "4",
         "133",
         "0.00010092418702081821",
         "COMPLETE"
        ],
        [
         "24",
         "24",
         "0.40594905783300816",
         "2025-10-05 04:13:13.979036",
         "2025-10-05 04:14:25.892433",
         "0 days 00:01:11.913397",
         "['IH.CFX', 'IF.CFX', 'IC.CFX']",
         "32",
         "512",
         "0.43863144724427616",
         "0.05149326911244976",
         "0.00018093073676426653",
         "4",
         "4",
         "139",
         "0.00026588600359859284",
         "COMPLETE"
        ],
        [
         "12",
         "12",
         "0.40602441433296405",
         "2025-10-05 04:02:28.049058",
         "2025-10-05 04:03:35.677189",
         "0 days 00:01:07.628131",
         "['IH.CFX', 'IF.CFX', 'IC.CFX']",
         "32",
         "512",
         "0.4564478425903774",
         "0.044862122437273486",
         "0.00011537948696295213",
         "4",
         "4",
         "121",
         "0.00010166589934731703",
         "COMPLETE"
        ],
        [
         "31",
         "31",
         "0.4069750639108512",
         "2025-10-05 04:20:31.652653",
         "2025-10-05 04:21:43.070599",
         "0 days 00:01:11.417946",
         "['IH.CFX', 'IF.CFX', 'IC.CFX']",
         "32",
         "256",
         "0.5513600132376668",
         "0.05012411596412969",
         "0.0006647759374104847",
         "4",
         "4",
         "173",
         "0.0009287084112912967",
         "COMPLETE"
        ]
       ],
       "shape": {
        "columns": 16,
        "rows": 10
       }
      },
      "text/html": [
       "<div>\n",
       "<style scoped>\n",
       "    .dataframe tbody tr th:only-of-type {\n",
       "        vertical-align: middle;\n",
       "    }\n",
       "\n",
       "    .dataframe tbody tr th {\n",
       "        vertical-align: top;\n",
       "    }\n",
       "\n",
       "    .dataframe thead th {\n",
       "        text-align: right;\n",
       "    }\n",
       "</style>\n",
       "<table border=\"1\" class=\"dataframe\">\n",
       "  <thead>\n",
       "    <tr style=\"text-align: right;\">\n",
       "      <th></th>\n",
       "      <th>number</th>\n",
       "      <th>value</th>\n",
       "      <th>datetime_start</th>\n",
       "      <th>datetime_complete</th>\n",
       "      <th>duration</th>\n",
       "      <th>params_assets_list</th>\n",
       "      <th>params_batch_size</th>\n",
       "      <th>params_d_model</th>\n",
       "      <th>params_dropout_1</th>\n",
       "      <th>params_dropout_2</th>\n",
       "      <th>params_learning_rate</th>\n",
       "      <th>params_num_head</th>\n",
       "      <th>params_num_layer</th>\n",
       "      <th>params_seq_len</th>\n",
       "      <th>params_weight_decay</th>\n",
       "      <th>state</th>\n",
       "    </tr>\n",
       "  </thead>\n",
       "  <tbody>\n",
       "    <tr>\n",
       "      <th>27</th>\n",
       "      <td>27</td>\n",
       "      <td>0.367917</td>\n",
       "      <td>2025-10-05 04:16:39.321003</td>\n",
       "      <td>2025-10-05 04:17:45.680688</td>\n",
       "      <td>0 days 00:01:06.359685</td>\n",
       "      <td>[IH.CFX, IF.CFX, IC.CFX]</td>\n",
       "      <td>32</td>\n",
       "      <td>512</td>\n",
       "      <td>0.490403</td>\n",
       "      <td>0.051737</td>\n",
       "      <td>0.000406</td>\n",
       "      <td>4</td>\n",
       "      <td>4</td>\n",
       "      <td>164</td>\n",
       "      <td>0.000999</td>\n",
       "      <td>COMPLETE</td>\n",
       "    </tr>\n",
       "    <tr>\n",
       "      <th>25</th>\n",
       "      <td>25</td>\n",
       "      <td>0.380080</td>\n",
       "      <td>2025-10-05 04:14:25.904459</td>\n",
       "      <td>2025-10-05 04:15:34.230865</td>\n",
       "      <td>0 days 00:01:08.326406</td>\n",
       "      <td>[IH.CFX, IF.CFX, IC.CFX]</td>\n",
       "      <td>32</td>\n",
       "      <td>512</td>\n",
       "      <td>0.516069</td>\n",
       "      <td>0.048464</td>\n",
       "      <td>0.000375</td>\n",
       "      <td>4</td>\n",
       "      <td>4</td>\n",
       "      <td>144</td>\n",
       "      <td>0.000378</td>\n",
       "      <td>COMPLETE</td>\n",
       "    </tr>\n",
       "    <tr>\n",
       "      <th>26</th>\n",
       "      <td>26</td>\n",
       "      <td>0.383939</td>\n",
       "      <td>2025-10-05 04:15:34.243046</td>\n",
       "      <td>2025-10-05 04:16:39.308877</td>\n",
       "      <td>0 days 00:01:05.065831</td>\n",
       "      <td>[IH.CFX, IF.CFX, IC.CFX]</td>\n",
       "      <td>32</td>\n",
       "      <td>256</td>\n",
       "      <td>0.514821</td>\n",
       "      <td>0.051445</td>\n",
       "      <td>0.000808</td>\n",
       "      <td>4</td>\n",
       "      <td>4</td>\n",
       "      <td>167</td>\n",
       "      <td>0.000394</td>\n",
       "      <td>COMPLETE</td>\n",
       "    </tr>\n",
       "    <tr>\n",
       "      <th>28</th>\n",
       "      <td>28</td>\n",
       "      <td>0.390250</td>\n",
       "      <td>2025-10-05 04:17:45.692278</td>\n",
       "      <td>2025-10-05 04:19:00.298819</td>\n",
       "      <td>0 days 00:01:14.606541</td>\n",
       "      <td>[IH.CFX, IF.CFX, IC.CFX]</td>\n",
       "      <td>32</td>\n",
       "      <td>512</td>\n",
       "      <td>0.494189</td>\n",
       "      <td>0.053919</td>\n",
       "      <td>0.000416</td>\n",
       "      <td>4</td>\n",
       "      <td>4</td>\n",
       "      <td>165</td>\n",
       "      <td>0.000918</td>\n",
       "      <td>COMPLETE</td>\n",
       "    </tr>\n",
       "    <tr>\n",
       "      <th>23</th>\n",
       "      <td>23</td>\n",
       "      <td>0.392749</td>\n",
       "      <td>2025-10-05 04:12:02.628212</td>\n",
       "      <td>2025-10-05 04:13:13.967289</td>\n",
       "      <td>0 days 00:01:11.339077</td>\n",
       "      <td>[IH.CFX, IF.CFX, IC.CFX]</td>\n",
       "      <td>32</td>\n",
       "      <td>512</td>\n",
       "      <td>0.446678</td>\n",
       "      <td>0.046300</td>\n",
       "      <td>0.000189</td>\n",
       "      <td>4</td>\n",
       "      <td>4</td>\n",
       "      <td>132</td>\n",
       "      <td>0.000190</td>\n",
       "      <td>COMPLETE</td>\n",
       "    </tr>\n",
       "    <tr>\n",
       "      <th>6</th>\n",
       "      <td>6</td>\n",
       "      <td>0.399334</td>\n",
       "      <td>2025-10-05 03:58:22.325816</td>\n",
       "      <td>2025-10-05 03:59:43.983017</td>\n",
       "      <td>0 days 00:01:21.657201</td>\n",
       "      <td>[IH.CFX, IF.CFX, IC.CFX]</td>\n",
       "      <td>32</td>\n",
       "      <td>256</td>\n",
       "      <td>0.514009</td>\n",
       "      <td>0.081415</td>\n",
       "      <td>0.000886</td>\n",
       "      <td>4</td>\n",
       "      <td>5</td>\n",
       "      <td>188</td>\n",
       "      <td>0.000050</td>\n",
       "      <td>COMPLETE</td>\n",
       "    </tr>\n",
       "    <tr>\n",
       "      <th>8</th>\n",
       "      <td>8</td>\n",
       "      <td>0.401458</td>\n",
       "      <td>2025-10-05 04:00:23.979674</td>\n",
       "      <td>2025-10-05 04:00:58.237122</td>\n",
       "      <td>0 days 00:00:34.257448</td>\n",
       "      <td>[IH.CFX, IF.CFX, IC.CFX]</td>\n",
       "      <td>64</td>\n",
       "      <td>512</td>\n",
       "      <td>0.457095</td>\n",
       "      <td>0.040933</td>\n",
       "      <td>0.000174</td>\n",
       "      <td>16</td>\n",
       "      <td>4</td>\n",
       "      <td>133</td>\n",
       "      <td>0.000101</td>\n",
       "      <td>COMPLETE</td>\n",
       "    </tr>\n",
       "    <tr>\n",
       "      <th>24</th>\n",
       "      <td>24</td>\n",
       "      <td>0.405949</td>\n",
       "      <td>2025-10-05 04:13:13.979036</td>\n",
       "      <td>2025-10-05 04:14:25.892433</td>\n",
       "      <td>0 days 00:01:11.913397</td>\n",
       "      <td>[IH.CFX, IF.CFX, IC.CFX]</td>\n",
       "      <td>32</td>\n",
       "      <td>512</td>\n",
       "      <td>0.438631</td>\n",
       "      <td>0.051493</td>\n",
       "      <td>0.000181</td>\n",
       "      <td>4</td>\n",
       "      <td>4</td>\n",
       "      <td>139</td>\n",
       "      <td>0.000266</td>\n",
       "      <td>COMPLETE</td>\n",
       "    </tr>\n",
       "    <tr>\n",
       "      <th>12</th>\n",
       "      <td>12</td>\n",
       "      <td>0.406024</td>\n",
       "      <td>2025-10-05 04:02:28.049058</td>\n",
       "      <td>2025-10-05 04:03:35.677189</td>\n",
       "      <td>0 days 00:01:07.628131</td>\n",
       "      <td>[IH.CFX, IF.CFX, IC.CFX]</td>\n",
       "      <td>32</td>\n",
       "      <td>512</td>\n",
       "      <td>0.456448</td>\n",
       "      <td>0.044862</td>\n",
       "      <td>0.000115</td>\n",
       "      <td>4</td>\n",
       "      <td>4</td>\n",
       "      <td>121</td>\n",
       "      <td>0.000102</td>\n",
       "      <td>COMPLETE</td>\n",
       "    </tr>\n",
       "    <tr>\n",
       "      <th>31</th>\n",
       "      <td>31</td>\n",
       "      <td>0.406975</td>\n",
       "      <td>2025-10-05 04:20:31.652653</td>\n",
       "      <td>2025-10-05 04:21:43.070599</td>\n",
       "      <td>0 days 00:01:11.417946</td>\n",
       "      <td>[IH.CFX, IF.CFX, IC.CFX]</td>\n",
       "      <td>32</td>\n",
       "      <td>256</td>\n",
       "      <td>0.551360</td>\n",
       "      <td>0.050124</td>\n",
       "      <td>0.000665</td>\n",
       "      <td>4</td>\n",
       "      <td>4</td>\n",
       "      <td>173</td>\n",
       "      <td>0.000929</td>\n",
       "      <td>COMPLETE</td>\n",
       "    </tr>\n",
       "  </tbody>\n",
       "</table>\n",
       "</div>"
      ],
      "text/plain": [
       "    number     value             datetime_start          datetime_complete  \\\n",
       "27      27  0.367917 2025-10-05 04:16:39.321003 2025-10-05 04:17:45.680688   \n",
       "25      25  0.380080 2025-10-05 04:14:25.904459 2025-10-05 04:15:34.230865   \n",
       "26      26  0.383939 2025-10-05 04:15:34.243046 2025-10-05 04:16:39.308877   \n",
       "28      28  0.390250 2025-10-05 04:17:45.692278 2025-10-05 04:19:00.298819   \n",
       "23      23  0.392749 2025-10-05 04:12:02.628212 2025-10-05 04:13:13.967289   \n",
       "6        6  0.399334 2025-10-05 03:58:22.325816 2025-10-05 03:59:43.983017   \n",
       "8        8  0.401458 2025-10-05 04:00:23.979674 2025-10-05 04:00:58.237122   \n",
       "24      24  0.405949 2025-10-05 04:13:13.979036 2025-10-05 04:14:25.892433   \n",
       "12      12  0.406024 2025-10-05 04:02:28.049058 2025-10-05 04:03:35.677189   \n",
       "31      31  0.406975 2025-10-05 04:20:31.652653 2025-10-05 04:21:43.070599   \n",
       "\n",
       "                 duration        params_assets_list  params_batch_size  \\\n",
       "27 0 days 00:01:06.359685  [IH.CFX, IF.CFX, IC.CFX]                 32   \n",
       "25 0 days 00:01:08.326406  [IH.CFX, IF.CFX, IC.CFX]                 32   \n",
       "26 0 days 00:01:05.065831  [IH.CFX, IF.CFX, IC.CFX]                 32   \n",
       "28 0 days 00:01:14.606541  [IH.CFX, IF.CFX, IC.CFX]                 32   \n",
       "23 0 days 00:01:11.339077  [IH.CFX, IF.CFX, IC.CFX]                 32   \n",
       "6  0 days 00:01:21.657201  [IH.CFX, IF.CFX, IC.CFX]                 32   \n",
       "8  0 days 00:00:34.257448  [IH.CFX, IF.CFX, IC.CFX]                 64   \n",
       "24 0 days 00:01:11.913397  [IH.CFX, IF.CFX, IC.CFX]                 32   \n",
       "12 0 days 00:01:07.628131  [IH.CFX, IF.CFX, IC.CFX]                 32   \n",
       "31 0 days 00:01:11.417946  [IH.CFX, IF.CFX, IC.CFX]                 32   \n",
       "\n",
       "    params_d_model  params_dropout_1  params_dropout_2  params_learning_rate  \\\n",
       "27             512          0.490403          0.051737              0.000406   \n",
       "25             512          0.516069          0.048464              0.000375   \n",
       "26             256          0.514821          0.051445              0.000808   \n",
       "28             512          0.494189          0.053919              0.000416   \n",
       "23             512          0.446678          0.046300              0.000189   \n",
       "6              256          0.514009          0.081415              0.000886   \n",
       "8              512          0.457095          0.040933              0.000174   \n",
       "24             512          0.438631          0.051493              0.000181   \n",
       "12             512          0.456448          0.044862              0.000115   \n",
       "31             256          0.551360          0.050124              0.000665   \n",
       "\n",
       "    params_num_head  params_num_layer  params_seq_len  params_weight_decay  \\\n",
       "27                4                 4             164             0.000999   \n",
       "25                4                 4             144             0.000378   \n",
       "26                4                 4             167             0.000394   \n",
       "28                4                 4             165             0.000918   \n",
       "23                4                 4             132             0.000190   \n",
       "6                 4                 5             188             0.000050   \n",
       "8                16                 4             133             0.000101   \n",
       "24                4                 4             139             0.000266   \n",
       "12                4                 4             121             0.000102   \n",
       "31                4                 4             173             0.000929   \n",
       "\n",
       "       state  \n",
       "27  COMPLETE  \n",
       "25  COMPLETE  \n",
       "26  COMPLETE  \n",
       "28  COMPLETE  \n",
       "23  COMPLETE  \n",
       "6   COMPLETE  \n",
       "8   COMPLETE  \n",
       "24  COMPLETE  \n",
       "12  COMPLETE  \n",
       "31  COMPLETE  "
      ]
     },
     "execution_count": 6,
     "metadata": {},
     "output_type": "execute_result"
    }
   ],
   "source": [
    "df = study.trials_dataframe()\n",
    "df.to_csv('result.csv')\n",
    "df.sort_values(by='value').head(10)"
   ]
  },
  {
   "cell_type": "code",
   "execution_count": 7,
   "id": "1199c244",
   "metadata": {},
   "outputs": [
    {
     "data": {
      "application/vnd.plotly.v1+json": {
       "config": {
        "plotlyServerURL": "https://plot.ly"
       },
       "data": [
        {
         "mode": "markers",
         "name": "Objective Value",
         "type": "scatter",
         "x": [
          0,
          2,
          3,
          4,
          5,
          6,
          7,
          8,
          9,
          10,
          11,
          12,
          13,
          14,
          15,
          16,
          17,
          18,
          19,
          20,
          21,
          22,
          23,
          24,
          25,
          26,
          27,
          28,
          29,
          30,
          31
         ],
         "y": [
          0.5109643616459587,
          0.4356943588124381,
          0.43400625890942035,
          0.6749232086208131,
          0.43586762530936135,
          0.3993342530727387,
          0.5801661268207763,
          0.40145803657562834,
          0.5121683338615629,
          0.4582632346586748,
          0.4816591777584769,
          0.40602441433296405,
          0.41990824725892806,
          0.6503302713458459,
          0.43794629081435826,
          0.4269939868979984,
          0.6012274465807106,
          0.4608163055074349,
          0.5216325719488992,
          0.5653615656106369,
          0.5851485772265328,
          0.42123338791631887,
          0.3927493197762448,
          0.40594905783300816,
          0.38008031942274256,
          0.383938667341903,
          0.3679165592887899,
          0.3902500564580435,
          0.4519170676236567,
          0.4495332701639695,
          0.4069750639108512
         ]
        },
        {
         "mode": "lines",
         "name": "Best Value",
         "type": "scatter",
         "x": [
          0,
          1,
          2,
          3,
          4,
          5,
          6,
          7,
          8,
          9,
          10,
          11,
          12,
          13,
          14,
          15,
          16,
          17,
          18,
          19,
          20,
          21,
          22,
          23,
          24,
          25,
          26,
          27,
          28,
          29,
          30,
          31
         ],
         "y": [
          0.5109643616459587,
          0.5109643616459587,
          0.4356943588124381,
          0.43400625890942035,
          0.43400625890942035,
          0.43400625890942035,
          0.3993342530727387,
          0.3993342530727387,
          0.3993342530727387,
          0.3993342530727387,
          0.3993342530727387,
          0.3993342530727387,
          0.3993342530727387,
          0.3993342530727387,
          0.3993342530727387,
          0.3993342530727387,
          0.3993342530727387,
          0.3993342530727387,
          0.3993342530727387,
          0.3993342530727387,
          0.3993342530727387,
          0.3993342530727387,
          0.3993342530727387,
          0.3927493197762448,
          0.3927493197762448,
          0.38008031942274256,
          0.38008031942274256,
          0.3679165592887899,
          0.3679165592887899,
          0.3679165592887899,
          0.3679165592887899,
          0.3679165592887899
         ]
        },
        {
         "marker": {
          "color": "#cccccc"
         },
         "mode": "markers",
         "name": "Infeasible Trial",
         "showlegend": false,
         "type": "scatter",
         "x": [],
         "y": []
        }
       ],
       "layout": {
        "template": {
         "data": {
          "bar": [
           {
            "error_x": {
             "color": "#2a3f5f"
            },
            "error_y": {
             "color": "#2a3f5f"
            },
            "marker": {
             "line": {
              "color": "#E5ECF6",
              "width": 0.5
             },
             "pattern": {
              "fillmode": "overlay",
              "size": 10,
              "solidity": 0.2
             }
            },
            "type": "bar"
           }
          ],
          "barpolar": [
           {
            "marker": {
             "line": {
              "color": "#E5ECF6",
              "width": 0.5
             },
             "pattern": {
              "fillmode": "overlay",
              "size": 10,
              "solidity": 0.2
             }
            },
            "type": "barpolar"
           }
          ],
          "carpet": [
           {
            "aaxis": {
             "endlinecolor": "#2a3f5f",
             "gridcolor": "white",
             "linecolor": "white",
             "minorgridcolor": "white",
             "startlinecolor": "#2a3f5f"
            },
            "baxis": {
             "endlinecolor": "#2a3f5f",
             "gridcolor": "white",
             "linecolor": "white",
             "minorgridcolor": "white",
             "startlinecolor": "#2a3f5f"
            },
            "type": "carpet"
           }
          ],
          "choropleth": [
           {
            "colorbar": {
             "outlinewidth": 0,
             "ticks": ""
            },
            "type": "choropleth"
           }
          ],
          "contour": [
           {
            "colorbar": {
             "outlinewidth": 0,
             "ticks": ""
            },
            "colorscale": [
             [
              0,
              "#0d0887"
             ],
             [
              0.1111111111111111,
              "#46039f"
             ],
             [
              0.2222222222222222,
              "#7201a8"
             ],
             [
              0.3333333333333333,
              "#9c179e"
             ],
             [
              0.4444444444444444,
              "#bd3786"
             ],
             [
              0.5555555555555556,
              "#d8576b"
             ],
             [
              0.6666666666666666,
              "#ed7953"
             ],
             [
              0.7777777777777778,
              "#fb9f3a"
             ],
             [
              0.8888888888888888,
              "#fdca26"
             ],
             [
              1,
              "#f0f921"
             ]
            ],
            "type": "contour"
           }
          ],
          "contourcarpet": [
           {
            "colorbar": {
             "outlinewidth": 0,
             "ticks": ""
            },
            "type": "contourcarpet"
           }
          ],
          "heatmap": [
           {
            "colorbar": {
             "outlinewidth": 0,
             "ticks": ""
            },
            "colorscale": [
             [
              0,
              "#0d0887"
             ],
             [
              0.1111111111111111,
              "#46039f"
             ],
             [
              0.2222222222222222,
              "#7201a8"
             ],
             [
              0.3333333333333333,
              "#9c179e"
             ],
             [
              0.4444444444444444,
              "#bd3786"
             ],
             [
              0.5555555555555556,
              "#d8576b"
             ],
             [
              0.6666666666666666,
              "#ed7953"
             ],
             [
              0.7777777777777778,
              "#fb9f3a"
             ],
             [
              0.8888888888888888,
              "#fdca26"
             ],
             [
              1,
              "#f0f921"
             ]
            ],
            "type": "heatmap"
           }
          ],
          "histogram": [
           {
            "marker": {
             "pattern": {
              "fillmode": "overlay",
              "size": 10,
              "solidity": 0.2
             }
            },
            "type": "histogram"
           }
          ],
          "histogram2d": [
           {
            "colorbar": {
             "outlinewidth": 0,
             "ticks": ""
            },
            "colorscale": [
             [
              0,
              "#0d0887"
             ],
             [
              0.1111111111111111,
              "#46039f"
             ],
             [
              0.2222222222222222,
              "#7201a8"
             ],
             [
              0.3333333333333333,
              "#9c179e"
             ],
             [
              0.4444444444444444,
              "#bd3786"
             ],
             [
              0.5555555555555556,
              "#d8576b"
             ],
             [
              0.6666666666666666,
              "#ed7953"
             ],
             [
              0.7777777777777778,
              "#fb9f3a"
             ],
             [
              0.8888888888888888,
              "#fdca26"
             ],
             [
              1,
              "#f0f921"
             ]
            ],
            "type": "histogram2d"
           }
          ],
          "histogram2dcontour": [
           {
            "colorbar": {
             "outlinewidth": 0,
             "ticks": ""
            },
            "colorscale": [
             [
              0,
              "#0d0887"
             ],
             [
              0.1111111111111111,
              "#46039f"
             ],
             [
              0.2222222222222222,
              "#7201a8"
             ],
             [
              0.3333333333333333,
              "#9c179e"
             ],
             [
              0.4444444444444444,
              "#bd3786"
             ],
             [
              0.5555555555555556,
              "#d8576b"
             ],
             [
              0.6666666666666666,
              "#ed7953"
             ],
             [
              0.7777777777777778,
              "#fb9f3a"
             ],
             [
              0.8888888888888888,
              "#fdca26"
             ],
             [
              1,
              "#f0f921"
             ]
            ],
            "type": "histogram2dcontour"
           }
          ],
          "mesh3d": [
           {
            "colorbar": {
             "outlinewidth": 0,
             "ticks": ""
            },
            "type": "mesh3d"
           }
          ],
          "parcoords": [
           {
            "line": {
             "colorbar": {
              "outlinewidth": 0,
              "ticks": ""
             }
            },
            "type": "parcoords"
           }
          ],
          "pie": [
           {
            "automargin": true,
            "type": "pie"
           }
          ],
          "scatter": [
           {
            "fillpattern": {
             "fillmode": "overlay",
             "size": 10,
             "solidity": 0.2
            },
            "type": "scatter"
           }
          ],
          "scatter3d": [
           {
            "line": {
             "colorbar": {
              "outlinewidth": 0,
              "ticks": ""
             }
            },
            "marker": {
             "colorbar": {
              "outlinewidth": 0,
              "ticks": ""
             }
            },
            "type": "scatter3d"
           }
          ],
          "scattercarpet": [
           {
            "marker": {
             "colorbar": {
              "outlinewidth": 0,
              "ticks": ""
             }
            },
            "type": "scattercarpet"
           }
          ],
          "scattergeo": [
           {
            "marker": {
             "colorbar": {
              "outlinewidth": 0,
              "ticks": ""
             }
            },
            "type": "scattergeo"
           }
          ],
          "scattergl": [
           {
            "marker": {
             "colorbar": {
              "outlinewidth": 0,
              "ticks": ""
             }
            },
            "type": "scattergl"
           }
          ],
          "scattermap": [
           {
            "marker": {
             "colorbar": {
              "outlinewidth": 0,
              "ticks": ""
             }
            },
            "type": "scattermap"
           }
          ],
          "scattermapbox": [
           {
            "marker": {
             "colorbar": {
              "outlinewidth": 0,
              "ticks": ""
             }
            },
            "type": "scattermapbox"
           }
          ],
          "scatterpolar": [
           {
            "marker": {
             "colorbar": {
              "outlinewidth": 0,
              "ticks": ""
             }
            },
            "type": "scatterpolar"
           }
          ],
          "scatterpolargl": [
           {
            "marker": {
             "colorbar": {
              "outlinewidth": 0,
              "ticks": ""
             }
            },
            "type": "scatterpolargl"
           }
          ],
          "scatterternary": [
           {
            "marker": {
             "colorbar": {
              "outlinewidth": 0,
              "ticks": ""
             }
            },
            "type": "scatterternary"
           }
          ],
          "surface": [
           {
            "colorbar": {
             "outlinewidth": 0,
             "ticks": ""
            },
            "colorscale": [
             [
              0,
              "#0d0887"
             ],
             [
              0.1111111111111111,
              "#46039f"
             ],
             [
              0.2222222222222222,
              "#7201a8"
             ],
             [
              0.3333333333333333,
              "#9c179e"
             ],
             [
              0.4444444444444444,
              "#bd3786"
             ],
             [
              0.5555555555555556,
              "#d8576b"
             ],
             [
              0.6666666666666666,
              "#ed7953"
             ],
             [
              0.7777777777777778,
              "#fb9f3a"
             ],
             [
              0.8888888888888888,
              "#fdca26"
             ],
             [
              1,
              "#f0f921"
             ]
            ],
            "type": "surface"
           }
          ],
          "table": [
           {
            "cells": {
             "fill": {
              "color": "#EBF0F8"
             },
             "line": {
              "color": "white"
             }
            },
            "header": {
             "fill": {
              "color": "#C8D4E3"
             },
             "line": {
              "color": "white"
             }
            },
            "type": "table"
           }
          ]
         },
         "layout": {
          "annotationdefaults": {
           "arrowcolor": "#2a3f5f",
           "arrowhead": 0,
           "arrowwidth": 1
          },
          "autotypenumbers": "strict",
          "coloraxis": {
           "colorbar": {
            "outlinewidth": 0,
            "ticks": ""
           }
          },
          "colorscale": {
           "diverging": [
            [
             0,
             "#8e0152"
            ],
            [
             0.1,
             "#c51b7d"
            ],
            [
             0.2,
             "#de77ae"
            ],
            [
             0.3,
             "#f1b6da"
            ],
            [
             0.4,
             "#fde0ef"
            ],
            [
             0.5,
             "#f7f7f7"
            ],
            [
             0.6,
             "#e6f5d0"
            ],
            [
             0.7,
             "#b8e186"
            ],
            [
             0.8,
             "#7fbc41"
            ],
            [
             0.9,
             "#4d9221"
            ],
            [
             1,
             "#276419"
            ]
           ],
           "sequential": [
            [
             0,
             "#0d0887"
            ],
            [
             0.1111111111111111,
             "#46039f"
            ],
            [
             0.2222222222222222,
             "#7201a8"
            ],
            [
             0.3333333333333333,
             "#9c179e"
            ],
            [
             0.4444444444444444,
             "#bd3786"
            ],
            [
             0.5555555555555556,
             "#d8576b"
            ],
            [
             0.6666666666666666,
             "#ed7953"
            ],
            [
             0.7777777777777778,
             "#fb9f3a"
            ],
            [
             0.8888888888888888,
             "#fdca26"
            ],
            [
             1,
             "#f0f921"
            ]
           ],
           "sequentialminus": [
            [
             0,
             "#0d0887"
            ],
            [
             0.1111111111111111,
             "#46039f"
            ],
            [
             0.2222222222222222,
             "#7201a8"
            ],
            [
             0.3333333333333333,
             "#9c179e"
            ],
            [
             0.4444444444444444,
             "#bd3786"
            ],
            [
             0.5555555555555556,
             "#d8576b"
            ],
            [
             0.6666666666666666,
             "#ed7953"
            ],
            [
             0.7777777777777778,
             "#fb9f3a"
            ],
            [
             0.8888888888888888,
             "#fdca26"
            ],
            [
             1,
             "#f0f921"
            ]
           ]
          },
          "colorway": [
           "#636efa",
           "#EF553B",
           "#00cc96",
           "#ab63fa",
           "#FFA15A",
           "#19d3f3",
           "#FF6692",
           "#B6E880",
           "#FF97FF",
           "#FECB52"
          ],
          "font": {
           "color": "#2a3f5f"
          },
          "geo": {
           "bgcolor": "white",
           "lakecolor": "white",
           "landcolor": "#E5ECF6",
           "showlakes": true,
           "showland": true,
           "subunitcolor": "white"
          },
          "hoverlabel": {
           "align": "left"
          },
          "hovermode": "closest",
          "mapbox": {
           "style": "light"
          },
          "paper_bgcolor": "white",
          "plot_bgcolor": "#E5ECF6",
          "polar": {
           "angularaxis": {
            "gridcolor": "white",
            "linecolor": "white",
            "ticks": ""
           },
           "bgcolor": "#E5ECF6",
           "radialaxis": {
            "gridcolor": "white",
            "linecolor": "white",
            "ticks": ""
           }
          },
          "scene": {
           "xaxis": {
            "backgroundcolor": "#E5ECF6",
            "gridcolor": "white",
            "gridwidth": 2,
            "linecolor": "white",
            "showbackground": true,
            "ticks": "",
            "zerolinecolor": "white"
           },
           "yaxis": {
            "backgroundcolor": "#E5ECF6",
            "gridcolor": "white",
            "gridwidth": 2,
            "linecolor": "white",
            "showbackground": true,
            "ticks": "",
            "zerolinecolor": "white"
           },
           "zaxis": {
            "backgroundcolor": "#E5ECF6",
            "gridcolor": "white",
            "gridwidth": 2,
            "linecolor": "white",
            "showbackground": true,
            "ticks": "",
            "zerolinecolor": "white"
           }
          },
          "shapedefaults": {
           "line": {
            "color": "#2a3f5f"
           }
          },
          "ternary": {
           "aaxis": {
            "gridcolor": "white",
            "linecolor": "white",
            "ticks": ""
           },
           "baxis": {
            "gridcolor": "white",
            "linecolor": "white",
            "ticks": ""
           },
           "bgcolor": "#E5ECF6",
           "caxis": {
            "gridcolor": "white",
            "linecolor": "white",
            "ticks": ""
           }
          },
          "title": {
           "x": 0.05
          },
          "xaxis": {
           "automargin": true,
           "gridcolor": "white",
           "linecolor": "white",
           "ticks": "",
           "title": {
            "standoff": 15
           },
           "zerolinecolor": "white",
           "zerolinewidth": 2
          },
          "yaxis": {
           "automargin": true,
           "gridcolor": "white",
           "linecolor": "white",
           "ticks": "",
           "title": {
            "standoff": 15
           },
           "zerolinecolor": "white",
           "zerolinewidth": 2
          }
         }
        },
        "title": {
         "text": "Optimization History Plot"
        },
        "xaxis": {
         "title": {
          "text": "Trial"
         }
        },
        "yaxis": {
         "title": {
          "text": "Objective Value"
         }
        }
       }
      }
     },
     "metadata": {},
     "output_type": "display_data"
    }
   ],
   "source": [
    "from optuna.visualization import plot_optimization_historyplot_param_importances\n",
    "\n",
    "fig = plot_optimization_history(study)\n",
    "fig.show()"
   ]
  },
  {
   "cell_type": "code",
   "execution_count": 8,
   "id": "36304473",
   "metadata": {},
   "outputs": [
    {
     "data": {
      "application/vnd.plotly.v1+json": {
       "config": {
        "plotlyServerURL": "https://plot.ly"
       },
       "data": [
        {
         "cliponaxis": false,
         "hovertemplate": [
          "assets_list (CategoricalDistribution): 0.0<extra></extra>",
          "dropout_1 (FloatDistribution): 0.013799025533633913<extra></extra>",
          "dropout_2 (FloatDistribution): 0.05550900515361456<extra></extra>",
          "seq_len (IntDistribution): 0.0667830903247403<extra></extra>",
          "num_head (CategoricalDistribution): 0.06746128137856762<extra></extra>",
          "d_model (CategoricalDistribution): 0.0719728248556287<extra></extra>",
          "num_layer (CategoricalDistribution): 0.07835873598736987<extra></extra>",
          "batch_size (CategoricalDistribution): 0.16327160533858873<extra></extra>",
          "learning_rate (FloatDistribution): 0.4828444314278563<extra></extra>"
         ],
         "name": "Objective Value",
         "orientation": "h",
         "text": [
          "<0.01",
          "0.01",
          "0.06",
          "0.07",
          "0.07",
          "0.07",
          "0.08",
          "0.16",
          "0.48"
         ],
         "textposition": "outside",
         "type": "bar",
         "x": [
          0,
          0.013799025533633913,
          0.05550900515361456,
          0.0667830903247403,
          0.06746128137856762,
          0.0719728248556287,
          0.07835873598736987,
          0.16327160533858873,
          0.4828444314278563
         ],
         "y": [
          "assets_list",
          "dropout_1",
          "dropout_2",
          "seq_len",
          "num_head",
          "d_model",
          "num_layer",
          "batch_size",
          "learning_rate"
         ]
        }
       ],
       "layout": {
        "template": {
         "data": {
          "bar": [
           {
            "error_x": {
             "color": "#2a3f5f"
            },
            "error_y": {
             "color": "#2a3f5f"
            },
            "marker": {
             "line": {
              "color": "#E5ECF6",
              "width": 0.5
             },
             "pattern": {
              "fillmode": "overlay",
              "size": 10,
              "solidity": 0.2
             }
            },
            "type": "bar"
           }
          ],
          "barpolar": [
           {
            "marker": {
             "line": {
              "color": "#E5ECF6",
              "width": 0.5
             },
             "pattern": {
              "fillmode": "overlay",
              "size": 10,
              "solidity": 0.2
             }
            },
            "type": "barpolar"
           }
          ],
          "carpet": [
           {
            "aaxis": {
             "endlinecolor": "#2a3f5f",
             "gridcolor": "white",
             "linecolor": "white",
             "minorgridcolor": "white",
             "startlinecolor": "#2a3f5f"
            },
            "baxis": {
             "endlinecolor": "#2a3f5f",
             "gridcolor": "white",
             "linecolor": "white",
             "minorgridcolor": "white",
             "startlinecolor": "#2a3f5f"
            },
            "type": "carpet"
           }
          ],
          "choropleth": [
           {
            "colorbar": {
             "outlinewidth": 0,
             "ticks": ""
            },
            "type": "choropleth"
           }
          ],
          "contour": [
           {
            "colorbar": {
             "outlinewidth": 0,
             "ticks": ""
            },
            "colorscale": [
             [
              0,
              "#0d0887"
             ],
             [
              0.1111111111111111,
              "#46039f"
             ],
             [
              0.2222222222222222,
              "#7201a8"
             ],
             [
              0.3333333333333333,
              "#9c179e"
             ],
             [
              0.4444444444444444,
              "#bd3786"
             ],
             [
              0.5555555555555556,
              "#d8576b"
             ],
             [
              0.6666666666666666,
              "#ed7953"
             ],
             [
              0.7777777777777778,
              "#fb9f3a"
             ],
             [
              0.8888888888888888,
              "#fdca26"
             ],
             [
              1,
              "#f0f921"
             ]
            ],
            "type": "contour"
           }
          ],
          "contourcarpet": [
           {
            "colorbar": {
             "outlinewidth": 0,
             "ticks": ""
            },
            "type": "contourcarpet"
           }
          ],
          "heatmap": [
           {
            "colorbar": {
             "outlinewidth": 0,
             "ticks": ""
            },
            "colorscale": [
             [
              0,
              "#0d0887"
             ],
             [
              0.1111111111111111,
              "#46039f"
             ],
             [
              0.2222222222222222,
              "#7201a8"
             ],
             [
              0.3333333333333333,
              "#9c179e"
             ],
             [
              0.4444444444444444,
              "#bd3786"
             ],
             [
              0.5555555555555556,
              "#d8576b"
             ],
             [
              0.6666666666666666,
              "#ed7953"
             ],
             [
              0.7777777777777778,
              "#fb9f3a"
             ],
             [
              0.8888888888888888,
              "#fdca26"
             ],
             [
              1,
              "#f0f921"
             ]
            ],
            "type": "heatmap"
           }
          ],
          "histogram": [
           {
            "marker": {
             "pattern": {
              "fillmode": "overlay",
              "size": 10,
              "solidity": 0.2
             }
            },
            "type": "histogram"
           }
          ],
          "histogram2d": [
           {
            "colorbar": {
             "outlinewidth": 0,
             "ticks": ""
            },
            "colorscale": [
             [
              0,
              "#0d0887"
             ],
             [
              0.1111111111111111,
              "#46039f"
             ],
             [
              0.2222222222222222,
              "#7201a8"
             ],
             [
              0.3333333333333333,
              "#9c179e"
             ],
             [
              0.4444444444444444,
              "#bd3786"
             ],
             [
              0.5555555555555556,
              "#d8576b"
             ],
             [
              0.6666666666666666,
              "#ed7953"
             ],
             [
              0.7777777777777778,
              "#fb9f3a"
             ],
             [
              0.8888888888888888,
              "#fdca26"
             ],
             [
              1,
              "#f0f921"
             ]
            ],
            "type": "histogram2d"
           }
          ],
          "histogram2dcontour": [
           {
            "colorbar": {
             "outlinewidth": 0,
             "ticks": ""
            },
            "colorscale": [
             [
              0,
              "#0d0887"
             ],
             [
              0.1111111111111111,
              "#46039f"
             ],
             [
              0.2222222222222222,
              "#7201a8"
             ],
             [
              0.3333333333333333,
              "#9c179e"
             ],
             [
              0.4444444444444444,
              "#bd3786"
             ],
             [
              0.5555555555555556,
              "#d8576b"
             ],
             [
              0.6666666666666666,
              "#ed7953"
             ],
             [
              0.7777777777777778,
              "#fb9f3a"
             ],
             [
              0.8888888888888888,
              "#fdca26"
             ],
             [
              1,
              "#f0f921"
             ]
            ],
            "type": "histogram2dcontour"
           }
          ],
          "mesh3d": [
           {
            "colorbar": {
             "outlinewidth": 0,
             "ticks": ""
            },
            "type": "mesh3d"
           }
          ],
          "parcoords": [
           {
            "line": {
             "colorbar": {
              "outlinewidth": 0,
              "ticks": ""
             }
            },
            "type": "parcoords"
           }
          ],
          "pie": [
           {
            "automargin": true,
            "type": "pie"
           }
          ],
          "scatter": [
           {
            "fillpattern": {
             "fillmode": "overlay",
             "size": 10,
             "solidity": 0.2
            },
            "type": "scatter"
           }
          ],
          "scatter3d": [
           {
            "line": {
             "colorbar": {
              "outlinewidth": 0,
              "ticks": ""
             }
            },
            "marker": {
             "colorbar": {
              "outlinewidth": 0,
              "ticks": ""
             }
            },
            "type": "scatter3d"
           }
          ],
          "scattercarpet": [
           {
            "marker": {
             "colorbar": {
              "outlinewidth": 0,
              "ticks": ""
             }
            },
            "type": "scattercarpet"
           }
          ],
          "scattergeo": [
           {
            "marker": {
             "colorbar": {
              "outlinewidth": 0,
              "ticks": ""
             }
            },
            "type": "scattergeo"
           }
          ],
          "scattergl": [
           {
            "marker": {
             "colorbar": {
              "outlinewidth": 0,
              "ticks": ""
             }
            },
            "type": "scattergl"
           }
          ],
          "scattermap": [
           {
            "marker": {
             "colorbar": {
              "outlinewidth": 0,
              "ticks": ""
             }
            },
            "type": "scattermap"
           }
          ],
          "scattermapbox": [
           {
            "marker": {
             "colorbar": {
              "outlinewidth": 0,
              "ticks": ""
             }
            },
            "type": "scattermapbox"
           }
          ],
          "scatterpolar": [
           {
            "marker": {
             "colorbar": {
              "outlinewidth": 0,
              "ticks": ""
             }
            },
            "type": "scatterpolar"
           }
          ],
          "scatterpolargl": [
           {
            "marker": {
             "colorbar": {
              "outlinewidth": 0,
              "ticks": ""
             }
            },
            "type": "scatterpolargl"
           }
          ],
          "scatterternary": [
           {
            "marker": {
             "colorbar": {
              "outlinewidth": 0,
              "ticks": ""
             }
            },
            "type": "scatterternary"
           }
          ],
          "surface": [
           {
            "colorbar": {
             "outlinewidth": 0,
             "ticks": ""
            },
            "colorscale": [
             [
              0,
              "#0d0887"
             ],
             [
              0.1111111111111111,
              "#46039f"
             ],
             [
              0.2222222222222222,
              "#7201a8"
             ],
             [
              0.3333333333333333,
              "#9c179e"
             ],
             [
              0.4444444444444444,
              "#bd3786"
             ],
             [
              0.5555555555555556,
              "#d8576b"
             ],
             [
              0.6666666666666666,
              "#ed7953"
             ],
             [
              0.7777777777777778,
              "#fb9f3a"
             ],
             [
              0.8888888888888888,
              "#fdca26"
             ],
             [
              1,
              "#f0f921"
             ]
            ],
            "type": "surface"
           }
          ],
          "table": [
           {
            "cells": {
             "fill": {
              "color": "#EBF0F8"
             },
             "line": {
              "color": "white"
             }
            },
            "header": {
             "fill": {
              "color": "#C8D4E3"
             },
             "line": {
              "color": "white"
             }
            },
            "type": "table"
           }
          ]
         },
         "layout": {
          "annotationdefaults": {
           "arrowcolor": "#2a3f5f",
           "arrowhead": 0,
           "arrowwidth": 1
          },
          "autotypenumbers": "strict",
          "coloraxis": {
           "colorbar": {
            "outlinewidth": 0,
            "ticks": ""
           }
          },
          "colorscale": {
           "diverging": [
            [
             0,
             "#8e0152"
            ],
            [
             0.1,
             "#c51b7d"
            ],
            [
             0.2,
             "#de77ae"
            ],
            [
             0.3,
             "#f1b6da"
            ],
            [
             0.4,
             "#fde0ef"
            ],
            [
             0.5,
             "#f7f7f7"
            ],
            [
             0.6,
             "#e6f5d0"
            ],
            [
             0.7,
             "#b8e186"
            ],
            [
             0.8,
             "#7fbc41"
            ],
            [
             0.9,
             "#4d9221"
            ],
            [
             1,
             "#276419"
            ]
           ],
           "sequential": [
            [
             0,
             "#0d0887"
            ],
            [
             0.1111111111111111,
             "#46039f"
            ],
            [
             0.2222222222222222,
             "#7201a8"
            ],
            [
             0.3333333333333333,
             "#9c179e"
            ],
            [
             0.4444444444444444,
             "#bd3786"
            ],
            [
             0.5555555555555556,
             "#d8576b"
            ],
            [
             0.6666666666666666,
             "#ed7953"
            ],
            [
             0.7777777777777778,
             "#fb9f3a"
            ],
            [
             0.8888888888888888,
             "#fdca26"
            ],
            [
             1,
             "#f0f921"
            ]
           ],
           "sequentialminus": [
            [
             0,
             "#0d0887"
            ],
            [
             0.1111111111111111,
             "#46039f"
            ],
            [
             0.2222222222222222,
             "#7201a8"
            ],
            [
             0.3333333333333333,
             "#9c179e"
            ],
            [
             0.4444444444444444,
             "#bd3786"
            ],
            [
             0.5555555555555556,
             "#d8576b"
            ],
            [
             0.6666666666666666,
             "#ed7953"
            ],
            [
             0.7777777777777778,
             "#fb9f3a"
            ],
            [
             0.8888888888888888,
             "#fdca26"
            ],
            [
             1,
             "#f0f921"
            ]
           ]
          },
          "colorway": [
           "#636efa",
           "#EF553B",
           "#00cc96",
           "#ab63fa",
           "#FFA15A",
           "#19d3f3",
           "#FF6692",
           "#B6E880",
           "#FF97FF",
           "#FECB52"
          ],
          "font": {
           "color": "#2a3f5f"
          },
          "geo": {
           "bgcolor": "white",
           "lakecolor": "white",
           "landcolor": "#E5ECF6",
           "showlakes": true,
           "showland": true,
           "subunitcolor": "white"
          },
          "hoverlabel": {
           "align": "left"
          },
          "hovermode": "closest",
          "mapbox": {
           "style": "light"
          },
          "paper_bgcolor": "white",
          "plot_bgcolor": "#E5ECF6",
          "polar": {
           "angularaxis": {
            "gridcolor": "white",
            "linecolor": "white",
            "ticks": ""
           },
           "bgcolor": "#E5ECF6",
           "radialaxis": {
            "gridcolor": "white",
            "linecolor": "white",
            "ticks": ""
           }
          },
          "scene": {
           "xaxis": {
            "backgroundcolor": "#E5ECF6",
            "gridcolor": "white",
            "gridwidth": 2,
            "linecolor": "white",
            "showbackground": true,
            "ticks": "",
            "zerolinecolor": "white"
           },
           "yaxis": {
            "backgroundcolor": "#E5ECF6",
            "gridcolor": "white",
            "gridwidth": 2,
            "linecolor": "white",
            "showbackground": true,
            "ticks": "",
            "zerolinecolor": "white"
           },
           "zaxis": {
            "backgroundcolor": "#E5ECF6",
            "gridcolor": "white",
            "gridwidth": 2,
            "linecolor": "white",
            "showbackground": true,
            "ticks": "",
            "zerolinecolor": "white"
           }
          },
          "shapedefaults": {
           "line": {
            "color": "#2a3f5f"
           }
          },
          "ternary": {
           "aaxis": {
            "gridcolor": "white",
            "linecolor": "white",
            "ticks": ""
           },
           "baxis": {
            "gridcolor": "white",
            "linecolor": "white",
            "ticks": ""
           },
           "bgcolor": "#E5ECF6",
           "caxis": {
            "gridcolor": "white",
            "linecolor": "white",
            "ticks": ""
           }
          },
          "title": {
           "x": 0.05
          },
          "xaxis": {
           "automargin": true,
           "gridcolor": "white",
           "linecolor": "white",
           "ticks": "",
           "title": {
            "standoff": 15
           },
           "zerolinecolor": "white",
           "zerolinewidth": 2
          },
          "yaxis": {
           "automargin": true,
           "gridcolor": "white",
           "linecolor": "white",
           "ticks": "",
           "title": {
            "standoff": 15
           },
           "zerolinecolor": "white",
           "zerolinewidth": 2
          }
         }
        },
        "title": {
         "text": "Hyperparameter Importances"
        },
        "xaxis": {
         "title": {
          "text": "Hyperparameter Importance"
         }
        },
        "yaxis": {
         "title": {
          "text": "Hyperparameter"
         }
        }
       }
      }
     },
     "metadata": {},
     "output_type": "display_data"
    }
   ],
   "source": [
    "from optuna.visualization import plot_param_importances\n",
    "\n",
    "fig = plot_param_importances(study)\n",
    "fig.show()"
   ]
  },
  {
   "cell_type": "markdown",
   "id": "dbb6c1bc",
   "metadata": {},
   "source": [
    "根据写死的最优参数更新保存模型\n",
    "最佳准确率:  0.3711612921370112\n",
    "最佳超参数:  {'seq_len': 118, 'patch_size': 5, 'num_layer': 3, 'num_head': 4, 'd_model': 256, 'dropout_1': 0.4818863873957155,\n",
    "'dropout_2': 0.0203014150393781, 'batch_size': 64, 'learning_rate': 0.0008700348124440109, 'assets_list': ['IH.CFX', 'IF.CFX', 'IC.CFX']}"
   ]
  },
  {
   "cell_type": "markdown",
   "id": "d5c8f0a8",
   "metadata": {},
   "source": [
    "最佳超参数:  {'seq_len': 164, 'num_layer': 4, 'num_head': 4, 'd_model': 512, 'dropout_1': 0.4904027601461599, 'dropout_2': 0.05173672499291169,\n",
    "'batch_size': 32, 'learning_rate': 0.0004063346203116716, 'weight_decay': 0.0009988629575338828, 'assets_list': ['IH.CFX', 'IF.CFX', 'IC.CFX']}"
   ]
  },
  {
   "cell_type": "code",
   "execution_count": 13,
   "id": "66e4c9f3",
   "metadata": {},
   "outputs": [
    {
     "name": "stderr",
     "output_type": "stream",
     "text": [
      "100%|██████████| 50/50 [02:01<00:00,  2.43s/it]\n"
     ]
    },
    {
     "data": {
      "image/png": "[encoded data removed]",
      "text/plain": [
       "<Figure size 640x480 with 1 Axes>"
      ]
     },
     "metadata": {},
     "output_type": "display_data"
    }
   ],
   "source": [
    "# 这些参数是两阶段共享的\n",
    "\n",
    "seq_len = 160\n",
    "patch_size = 5\n",
    "num_layer = 4\n",
    "num_head = 4\n",
    "d_model = 256\n",
    "\n",
    "assets_list = ['IH.CFX', 'IF.CFX', 'IC.CFX',]\n",
    "\n",
    "stride = patch_size // 2 # 50% overlap\n",
    "masking_ratio = 0.2 \n",
    "mask_expand_size = 1\n",
    "\n",
    "\n",
    "# 这些参数是可变的\n",
    "batch_size = 32\n",
    "\n",
    "dropout_1 = 0.5\n",
    "dropout_2 = 0.05\n",
    "dropout_3 = 0.2\n",
    "\n",
    "learning_rate = 0.0004063346203116716\n",
    "weight_decay = 0.0009988629575338828\n",
    "\n",
    "\n",
    "# 提取数据\n",
    "feature_columns = ['inday_chg_open','inday_chg_high','inday_chg_low','inday_chg_close','inday_chg_amplitude', 'ma_10','ma_26','ma_45','ma_90','ma_vol',]\n",
    "label_columns = ['label_return','down_prob','middle_prob','up_prob']\n",
    "\n",
    "feature = []\n",
    "label = []\n",
    "for asset_code in assets_list:\n",
    "    data = pd.read_csv(f'data/{asset_code}.csv')\n",
    "    feature.append(torch.tensor(data[feature_columns].values, dtype = torch.float32, device = 'cuda:0'))\n",
    "    label.append(torch.tensor(data[label_columns].values, dtype = torch.float32, device = 'cuda:0'))\n",
    "\n",
    "feature = torch.stack(feature, dim = 1)\n",
    "label = torch.stack(label, dim = 1)\n",
    "feature = feature.unfold(dimension = 0, size = seq_len, step = 1).transpose(2,3)\n",
    "label = label[seq_len-1:]\n",
    "data = RandomLoader(feature, label)\n",
    "train_loader, test_loader = data(batch_size=batch_size, slice_size=[0.5,0.4], balance=[True, False])\n",
    "\n",
    "\n",
    "loss_fn = nn.MSELoss()\n",
    "model = Patch_TST(input_size = 10,\n",
    "                    seq_len = seq_len,\n",
    "                    patch_size = patch_size,\n",
    "                    stride = stride,\n",
    "                    num_layer = num_layer, \n",
    "                    num_head = num_head,\n",
    "                    d_model = d_model,\n",
    "                    masking_ratio = masking_ratio,\n",
    "                    mask_expand_size = mask_expand_size,\n",
    "                    dropout_1 = dropout_1,\n",
    "                    dropout_2 = dropout_2,\n",
    "                    dropout_3 = dropout_3,\n",
    "                    ).to('cuda:0')\n",
    "\n",
    "optimizer = torch.optim.AdamW(model.parameters(), lr=learning_rate, weight_decay = weight_decay)\n",
    "scheduler = lr_scheduler.StepLR(optimizer, step_size=1, gamma=0.95)\n",
    "\n",
    "\n",
    "def epoch():\n",
    "    train_losses = []\n",
    "    model.train()\n",
    "    for batch_x, batch_y in train_loader:\n",
    "        optimizer.zero_grad()\n",
    "        x_reconstructed, x_target = model.self_supervised(batch_x)\n",
    "        loss = loss_fn(x_reconstructed, x_target)\n",
    "        train_losses.append(loss.item()) \n",
    "        loss.backward()\n",
    "        optimizer.step()\n",
    "        \n",
    "    test_losses = []\n",
    "    model.eval()\n",
    "    with torch.no_grad():\n",
    "        for batch_x, batch_y in test_loader:\n",
    "            x_reconstructed, x_target = model.self_supervised(batch_x)\n",
    "            loss = loss_fn(x_reconstructed, x_target)\n",
    "            test_losses.append(loss.item()) \n",
    "    return np.mean(train_losses), np.mean(test_losses)\n",
    "\n",
    "def train(epochs = 30):\n",
    "    train_losses = []\n",
    "    test_losses = []\n",
    "    for i in tqdm.tqdm(range(epochs)):\n",
    "        train_loss, test_loss = epoch()\n",
    "        train_losses.append(train_loss)\n",
    "        test_losses.append(test_loss)\n",
    "        scheduler.step()\n",
    "    plt.plot(range(epochs), train_losses)\n",
    "    plt.plot(range(epochs), test_losses)\n",
    "    plt.show()\n",
    "    return np.mean(test_losses[-10:])\n",
    "\n",
    "\n",
    "train(50)\n",
    "torch.save(model.state_dict(), 'params/self_supervised.params')"
   ]
  }
 ],
 "metadata": {
  "kernelspec": {
   "display_name": "Python 3",
   "language": "python",
   "name": "python3"
  },
  "language_info": {
   "codemirror_mode": {
    "name": "ipython",
    "version": 3
   },
   "file_extension": ".py",
   "mimetype": "text/x-python",
   "name": "python",
   "nbconvert_exporter": "python",
   "pygments_lexer": "ipython3",
   "version": "3.13.7"
  }
 },
 "nbformat": 4,
 "nbformat_minor": 5
}
