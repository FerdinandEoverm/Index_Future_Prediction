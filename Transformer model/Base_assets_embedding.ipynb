{
 "cells": [
  {
   "cell_type": "markdown",
   "id": "3d4a1378",
   "metadata": {},
   "source": [
    "Patch TST 模型是假设通道独立的，所谓通道独立，就是把每个时间序列都当作独立的时间序列，把面板数据降维到时间序列级别，再说难听一点就是忽略截面关系。这样的选择有一定道理，因为首先其实绝大部分时间序列的关系确实是微弱的，建模截面关系只会徒增复杂度，效果并不好，为过拟合控制带来额外的成本\n",
    "\n",
    "这样的假设导致了我们在训练输出层的时候，不能把所有的资产都加入到训练中，只能一个板块训练，然后用于预测一个板块，不同板块的资产，其变化模式的差异较大，只用单一输出层拟合所有资产带来的损失过大。\n",
    "\n",
    "但是金融市场的资产相关性是很强的，对于期货市场而言，既可以发掘板块内高相似性资产的套利关系，也可以发掘股指期货、国债期货、商品期货和贵金属期货、农产品期货的板块轮动关系，抛弃掉这样的关系未免太可惜了。"
   ]
  },
  {
   "cell_type": "markdown",
   "id": "12d80a5e",
   "metadata": {},
   "source": [
    "对此，我提出一种强相关性资产截面建模的模式，可以同时起到数据增强和因子挖掘的效果：\n",
    "\n",
    "1. 定义一组可以多空交易的资产，称为基资产(base assets)，基资产之间最好有较强的统计关系，覆盖面要足够广\n",
    "\n",
    "2. 任意基资产的多空组合（实际中控制多空比例和总仓位）称为组合资产。传统对于时间序列数据不足的问题有方法通过人工生成数据，但这些数据现实中不存在，对模型的指导意义存疑。由于期货市场的特性，组合资产是实在可交易的一种切实存在的金融资产，避免了传统人工生成的数据缺少实际意义的问题。\n",
    "\n",
    "3. 基资产也可以视为一个特殊的组合资产（单资产比例为100%）\n",
    "\n",
    "4. 定义一个可学习的嵌入，将每种基资产嵌入到高维空间的一个向量\n",
    "\n",
    "5. 任意组合资产的嵌入向量即使其基资产的高维嵌入的线性组合。例如假设C的嵌入是（0.2，0.3，0.5...） M的嵌入是（0.8，0.6，0.1...），则 70%C+30%M 的组合资产（即饲料，是有真实经济意义的资产组合）的嵌入即为（0.28，0.39，0.36...）\n",
    "\n",
    "6. 到这里其实已经很接近传统模型了，嵌入的各个维度实际上就是某种“因子”，或者说某种方向的 Risk Exposure，例如利率、通胀等等。一个投资组合的风险暴露或其它特性理应是其成分资产风险暴露的加权平均。这种结构化的约束或称归纳偏置使得嵌入空间的学习更加高效和有意义，避免了模型学到毫无逻辑的表征。\n",
    "\n",
    "7. 组合资产同样有价格时间序列，也有了嵌入表示，我们就可以将生成的组合资产加入到训练集中，大大弥补训练数据不足的问题；\n",
    "\n",
    "8. 而且这样的模式是端到端的。传统因子模型需要先验地定义因子（如市值、估值）。而维度不是预先定义的，而是模型学习出来的，比人为定义更科学，甚至可能能发现新的因子。"
   ]
  },
  {
   "cell_type": "markdown",
   "id": "bceaffad",
   "metadata": {},
   "source": [
    "下一个问题就是，如何预训练这个assets embedding呢？还是回到原假设，投资组合的风险暴露是其成分资产风险暴露的加权平均。\n",
    "\n",
    "由于基资产之间不可能是完全正交的，任意一种基资产应当可以被其他资产线性表出。我们随机选择一个基资产At当作组合资产，然后以其他基资产(A1,A2...)作为基向量，通过求解线性方程组的形式，得到一个目标基资产的线性组合表出：\n",
    "\n",
    "At = f1 * A1 + f2 * A2....\n",
    "\n",
    "然后我们随机选取一个时间段，计算这个时间段内每个资产的年化收益率，用(A1,A2...)的收益率与权重估计At的收益率，然后与真实的At收益率对比，计算L1 loss 并反向传播，更新embedding 的参数"
   ]
  },
  {
   "cell_type": "markdown",
   "id": "cf1574f5",
   "metadata": {},
   "source": [
    "当然，由于维度小于资产总数，线性表出的方式不止一种，我们希望的是找到其中权重参数绝对值最小的一组，即线性方程组的最小范数解。\n",
    "\n",
    "同时为了提高效率，我们可以同时选取多个目标基资产，虽然能找到的最小范数解并不一定是最优，但执行效率更高，可以向量化处理，解出伪逆矩阵就可以得到最小范数解"
   ]
  },
  {
   "cell_type": "code",
   "execution_count": 177,
   "id": "9563bda5",
   "metadata": {},
   "outputs": [
    {
     "name": "stdout",
     "output_type": "stream",
     "text": [
      "embedding              : torch.Size([10, 30])\n",
      "target                 : torch.Size([10, 5])\n",
      "base                   : torch.Size([10, 25])\n",
      "pseudoinverse          : torch.Size([25, 10])\n",
      "minimized norm solution: torch.Size([25, 5])\n"
     ]
    }
   ],
   "source": [
    "import torch\n",
    "device = 'cuda:0'\n",
    "\n",
    "# 总资产数 = 30，维度 = 10，目标资产 = 5\n",
    "A_embedding = torch.randn(size = (10, 30), device=device)\n",
    "\n",
    "# 根据随机数选择目标资产\n",
    "target_indices = torch.randperm(30, device=device)[:5]\n",
    "A_target = A_embedding[:, target_indices]\n",
    "\n",
    "# 剩余部分作为基向量\n",
    "mask = torch.ones(30, dtype=torch.bool, device=device)\n",
    "mask[target_indices] = False\n",
    "A_base = A_embedding[:, mask]\n",
    "\n",
    "# 解出伪逆矩阵\n",
    "A_base_pinv = torch.linalg.pinv(A_base)\n",
    "\n",
    "# 最小范数解即为\n",
    "X = A_base_pinv @ A_target\n",
    "\n",
    "print(f\"embedding              : {A_embedding.shape}\")\n",
    "print(f\"target                 : {A_target.shape}\")\n",
    "print(f\"base                   : {A_base.shape}\")\n",
    "print(f\"pseudoinverse          : {A_base_pinv.shape}\")\n",
    "print(f\"minimized norm solution: {X.shape}\")"
   ]
  },
  {
   "cell_type": "code",
   "execution_count": null,
   "id": "1e0acbac",
   "metadata": {},
   "outputs": [
    {
     "name": "stdout",
     "output_type": "stream",
     "text": [
      "torch.Size([32, 4]) torch.Size([32, 4])\n"
     ]
    }
   ],
   "source": [
    "import torch\n",
    "import torch.nn as nn\n",
    "import math\n",
    "\n",
    "class AssetsEmbedding(nn.Module):\n",
    "    def __init__(self, num_assets, embedding_dim, target_ratio = 0.2):\n",
    "        super().__init__()\n",
    "        self.num_assets = num_assets\n",
    "        self.embedding_dim  = embedding_dim\n",
    "        # 设置目标资产的比例\n",
    "        self.num_target = math.ceil((num_assets - embedding_dim) * target_ratio)\n",
    "        # 定义嵌入层\n",
    "        self.embedding = nn.Embedding(num_embeddings = num_assets, embedding_dim = embedding_dim)\n",
    "\n",
    "    def forward(self, x):\n",
    "        return self.embedding(x)\n",
    "    \n",
    "    def pre_train(self, x):\n",
    "        \"\"\"\n",
    "        预训练，现在每次输入的x是一个批次的收益率数据\n",
    "        x 的形状: (batch_size, num_assets)\n",
    "        返回: x_pred, x_real, 形状均为 (batch_size, 5)\n",
    "        \"\"\"\n",
    "        # 对于整个批次，我们选择相同的目标和基准资产\n",
    "        # 索引目标资产和基准资产\n",
    "        target_indices = torch.randperm(self.num_assets, device = x.device)[:self.num_target]\n",
    "        mask = torch.ones(self.num_assets, dtype=torch.bool, device = x.device)\n",
    "        mask[target_indices] = False\n",
    "\n",
    "        # 分离预测目标和基向量的嵌入\n",
    "        A_target = self.embedding.weight[target_indices]\n",
    "        A_base = self.embedding.weight[mask]\n",
    "\n",
    "        # 求解方程组，这个 solution 矩阵对于整个批次是通用的\n",
    "        solution = torch.linalg.lstsq(A_base.T, A_target.T).solution\n",
    "        \n",
    "        # 映射线性关系到批次的收益率上\n",
    "        # 从批次数据中选取所有样本的目标资产真实收益率\n",
    "        # x 形状 (batch_size, num_assets) -> x_real 形状 (batch_size, self.num_target)\n",
    "        x_real = x[:, target_indices] \n",
    "\n",
    "        # 从批次数据中选取所有样本的基准资产真实收益率\n",
    "        # x 形状 (batch_size, num_assets) -> x_base 形状 (batch_size, num_assets - self.num_target)\n",
    "        x_base = x[:, mask]\n",
    "        x_pred = x_base @ solution \n",
    "        \n",
    "        return x_pred, x_real\n",
    "\n",
    "model =  AssetsEmbedding(30, 10).to('cuda:0')\n",
    "loss_fn = nn.L1Loss()\n",
    "x = torch.randn(size = (32, 30), device = 'cuda:0')\n",
    "x_pred, x_real = model.pre_train(x)\n",
    "print(x_pred.shape, x_real.shape)"
   ]
  },
  {
   "cell_type": "markdown",
   "id": "2675d0d1",
   "metadata": {},
   "source": [
    "选取标准为上市历史超过1000个交易日，且最近100个交易日主力合约日均持仓量大于50000。交易持仓量过小的合约可能陷入流动性问题，且其成交量往往也比较小，价格不够透明，滑点交易成本也比较高。"
   ]
  },
  {
   "cell_type": "code",
   "execution_count": 180,
   "id": "b745bed3",
   "metadata": {},
   "outputs": [],
   "source": [
    "assets_list = [\n",
    "    # 股指期货\n",
    "    'IH.CFX', 'IF.CFX', 'IC.CFX',\n",
    "    # 国债期货\n",
    "    'TS.CFX', 'TF.CFX', 'T.CFX', 'TL.CFX',\n",
    "    # 黑色金属产业链\n",
    "    'I.DCE', 'JM.DCE', 'RB.SHF', 'HC.SHF', 'SS.SHF', 'SF.ZCE', 'SM.ZCE',\n",
    "    # 有色金属\n",
    "    'CU.SHF', 'AL.SHF', 'ZN.SHF', 'NI.SHF',\n",
    "    # 贵金属\n",
    "    'AU.SHF', 'AG.SHF',\n",
    "    # 能源化工\n",
    "    'FU.SHF', 'LU.INE', 'BU.SHF', 'PG.DCE', 'TA.ZCE', 'EG.DCE', 'PF.ZCE', \n",
    "    'L.DCE', 'PP.DCE', 'V.DCE', 'EB.DCE', 'MA.ZCE', 'UR.ZCE', 'RU.SHF',\n",
    "    # 农产品\n",
    "    'A.DCE', 'B.DCE', 'M.DCE', 'RM.ZCE', 'Y.DCE', 'OI.ZCE', 'P.DCE', 'PK.ZCE',\n",
    "    'C.DCE', 'CS.DCE', 'CF.ZCE', 'SR.ZCE', 'CJ.ZCE', 'AP.ZCE', 'SP.SHF', \n",
    "    'JD.DCE', 'LH.DCE',\n",
    "    # 建材\n",
    "    'FG.ZCE', 'SA.ZCE'\n",
    "]"
   ]
  },
  {
   "cell_type": "code",
   "execution_count": 181,
   "id": "9c271a3c",
   "metadata": {},
   "outputs": [],
   "source": [
    "assets_names = [\n",
    "    # 股指期货\n",
    "    '上证50', '沪深300', '中证500',\n",
    "    # 国债期货\n",
    "    '2年国债', '5年国债', '10年国债', '30年国债',\n",
    "    # 黑色金属\n",
    "    '铁矿石', '焦煤', '螺纹钢', '热轧卷板', '不锈钢', '硅铁', '锰硅',\n",
    "    # 有色金属\n",
    "    '沪铜', '沪铝', '沪锌', '沪镍',\n",
    "    # 贵金属\n",
    "    '黄金', '白银',\n",
    "    # 能源化工\n",
    "    '燃油', '低硫燃料油', '沥青', 'LPG', 'PTA', '乙二醇', '短纤', \n",
    "    '塑料', '聚丙烯', 'PVC', '苯乙烯', '甲醇', '尿素', '橡胶',\n",
    "    # 农产品\n",
    "    '豆一', '豆二', '豆粕', '菜粕', '豆油', '菜油', '棕榈油', '花生',\n",
    "    '玉米', '玉米淀粉', '棉花', '白糖', '红枣', '苹果', '纸浆', \n",
    "    '鸡蛋', '生猪',\n",
    "    # 建材\n",
    "    '玻璃', '纯碱'\n",
    "]"
   ]
  },
  {
   "cell_type": "code",
   "execution_count": 182,
   "id": "5c529035",
   "metadata": {},
   "outputs": [],
   "source": [
    "import os\n",
    "os.chdir('d:/future/Index_Future_Prediction')\n",
    "\n",
    "import yaml\n",
    "with open('config.yaml', 'r') as file:\n",
    "    token = yaml.safe_load(file)['token']\n",
    "\n",
    "import tushare as ts\n",
    "pro = ts.pro_api(token)"
   ]
  },
  {
   "cell_type": "code",
   "execution_count": 183,
   "id": "25f8c26e",
   "metadata": {},
   "outputs": [],
   "source": [
    "# 提取日收益率数据\n",
    "import numpy as np\n",
    "import pandas as pd\n",
    "daily_yield = []\n",
    "for assets_code in assets_list:\n",
    "    data = pro.fut_daily(ts_code = assets_code, start_date = '20210202', fields = 'trade_date, pre_close, close')\n",
    "    assets_daily_yield = np.log(data['close']) - np.log(data['pre_close'])\n",
    "    daily_yield.append(torch.tensor(assets_daily_yield.values, device = 'cuda:0', dtype = torch.float32))\n",
    "\n",
    "daily_yield = torch.stack(daily_yield, dim = 0)\n",
    "\n",
    "# 划分训练集和测试集\n",
    "train_yield = daily_yield[:,:800]\n",
    "test_yield = daily_yield[:,800:]"
   ]
  },
  {
   "cell_type": "code",
   "execution_count": null,
   "id": "59a198e2",
   "metadata": {},
   "outputs": [],
   "source": [
    "import optuna\n",
    "import tqdm\n",
    "# 二阶段 prediction训练\n",
    "def objective(trial):\n",
    "    # 调优参数\n",
    "    embedding_dim = trial.suggest_categorical(\"embedding_dim\", [8,10,12,14,16])\n",
    "    target_ratio = trial.suggest_float(\"target_ratio\", 0.01, 0.5)\n",
    "    learning_rate = trial.suggest_float(\"learning_rate\", 1e-7, 1e-1, log=True)\n",
    "    weight_decay = trial.suggest_float(\"weight_decay\", 1e-7, 1e-1, log=True)\n",
    "    minimize_window = trial.suggest_int(\"minimize_window\", 1, 100)\n",
    "    batch_size = trial.suggest_categorical(\"batch_size\", [128,256,512,1024])\n",
    "\n",
    "    num_assets = len(assets_list)\n",
    "    train_sample_range = train_yield.shape[1]\n",
    "    test_sample_range = test_yield.shape[1]\n",
    "\n",
    "    model = AssetsEmbedding(num_assets = num_assets, embedding_dim = embedding_dim, target_ratio = target_ratio).to('cuda:0')\n",
    "    loss_fn = nn.HuberLoss()\n",
    "    optimizer = torch.optim.AdamW(model.parameters(),lr=learning_rate, weight_decay=weight_decay)\n",
    "    \n",
    "    def batch(train_batch_size, test_batch_size):\n",
    "\n",
    "        # 训练\n",
    "        model.train()\n",
    "        batch_yield = []\n",
    "        begin = np.random.randint(0, train_sample_range - minimize_window, train_batch_size)\n",
    "        end = np.array([np.random.randint(first+minimize_window, train_sample_range) for first in begin])\n",
    "        for i in range(train_batch_size):\n",
    "            range_yield = train_yield[:, begin[i]: end[i]]\n",
    "            target_yield = torch.mean(range_yield, dim = 1)\n",
    "            batch_yield.append(target_yield)\n",
    "        batch_yield = torch.stack(batch_yield)\n",
    "\n",
    "        x_pred, x_real = model.pre_train(batch_yield)\n",
    "        optimizer.zero_grad()\n",
    "        train_loss = loss_fn(x_pred, x_real)\n",
    "        train_loss.backward()\n",
    "        optimizer.step()\n",
    "\n",
    "        # 测试\n",
    "        model.eval()\n",
    "        with torch.no_grad():\n",
    "            batch_yield = []\n",
    "            begin = np.random.randint(0, test_sample_range - minimize_window, test_batch_size)\n",
    "            end = np.array([np.random.randint(first+minimize_window,test_sample_range) for first in begin])\n",
    "            for i in range(test_batch_size):\n",
    "                range_yield = test_yield[:, begin[i]: end[i]]\n",
    "                target_yield = torch.mean(range_yield, dim = 1)\n",
    "                batch_yield.append(target_yield)\n",
    "            batch_yield = torch.stack(batch_yield)\n",
    "            x_pred, x_real = model.pre_train(batch_yield)\n",
    "            test_loss = loss_fn(x_pred, x_real)\n",
    "\n",
    "        return train_loss.cpu().detach(), test_loss.cpu().detach()\n",
    "\n",
    "    def train(round):\n",
    "        train_losses = []\n",
    "        test_losses = []\n",
    "        for i in tqdm.tqdm(range(round)):\n",
    "            train_loss, test_loss = batch(train_batch_size = batch_size, test_batch_size = batch_size)\n",
    "            train_losses.append(train_loss)\n",
    "            test_losses.append(test_loss)\n",
    "        return np.min(test_losses)\n",
    "    \n",
    "    min_loss = train(10000)\n",
    "    return min_loss"
   ]
  },
  {
   "cell_type": "code",
   "execution_count": 185,
   "id": "47e5403f",
   "metadata": {},
   "outputs": [
    {
     "name": "stderr",
     "output_type": "stream",
     "text": [
      "[I 2025-10-10 05:41:45,373] A new study created in RDB with name: assets_embed_1\n",
      "100%|██████████| 10000/10000 [02:02<00:00, 81.90it/s]\n",
      "[I 2025-10-10 05:43:47,589] Trial 0 finished with value: 6.105841521275579e-07 and parameters: {'embedding_dim': 14, 'target_ratio': 0.21245996322112576, 'learning_rate': 0.0022423049807778045, 'weight_decay': 8.304905767881481e-07, 'minimize_window': 39, 'batch_size': 128}. Best is trial 0 with value: 6.105841521275579e-07.\n",
      "100%|██████████| 10000/10000 [02:09<00:00, 77.16it/s]\n",
      "[I 2025-10-10 05:45:57,308] Trial 1 finished with value: 9.107062055591086e-07 and parameters: {'embedding_dim': 16, 'target_ratio': 0.377529656457951, 'learning_rate': 5.272016450273242e-06, 'weight_decay': 9.510242684465986e-05, 'minimize_window': 65, 'batch_size': 128}. Best is trial 0 with value: 6.105841521275579e-07.\n",
      "100%|██████████| 10000/10000 [03:16<00:00, 50.89it/s]\n",
      "[I 2025-10-10 05:49:13,933] Trial 2 finished with value: 3.999590262537822e-06 and parameters: {'embedding_dim': 14, 'target_ratio': 0.39032793253085063, 'learning_rate': 4.5727951084380554e-05, 'weight_decay': 0.0054353014929306295, 'minimize_window': 7, 'batch_size': 256}. Best is trial 0 with value: 6.105841521275579e-07.\n",
      "100%|██████████| 10000/10000 [01:58<00:00, 84.66it/s]\n",
      "[I 2025-10-10 05:51:12,172] Trial 3 finished with value: 4.4711538293995545e-07 and parameters: {'embedding_dim': 10, 'target_ratio': 0.17724554264349865, 'learning_rate': 8.62741206290537e-06, 'weight_decay': 9.589503954906277e-07, 'minimize_window': 73, 'batch_size': 128}. Best is trial 3 with value: 4.4711538293995545e-07.\n",
      "100%|██████████| 10000/10000 [02:02<00:00, 81.76it/s]\n",
      "[I 2025-10-10 05:53:14,592] Trial 4 finished with value: 5.249481205282791e-07 and parameters: {'embedding_dim': 14, 'target_ratio': 0.12760492685205943, 'learning_rate': 6.894203396235037e-05, 'weight_decay': 0.0009236306607480298, 'minimize_window': 34, 'batch_size': 128}. Best is trial 3 with value: 4.4711538293995545e-07.\n",
      "100%|██████████| 10000/10000 [08:47<00:00, 18.95it/s]\n",
      "[I 2025-10-10 06:02:02,520] Trial 5 finished with value: 1.0950852811220102e-06 and parameters: {'embedding_dim': 16, 'target_ratio': 0.09554064146069485, 'learning_rate': 2.174661769516133e-06, 'weight_decay': 0.004309794811742291, 'minimize_window': 18, 'batch_size': 1024}. Best is trial 3 with value: 4.4711538293995545e-07.\n",
      "100%|██████████| 10000/10000 [08:30<00:00, 19.59it/s]\n",
      "[I 2025-10-10 06:10:33,052] Trial 6 finished with value: 1.8708082052398822e-06 and parameters: {'embedding_dim': 8, 'target_ratio': 0.49753504785933206, 'learning_rate': 3.4260218138945535e-07, 'weight_decay': 1.9935983661745795e-07, 'minimize_window': 25, 'batch_size': 1024}. Best is trial 3 with value: 4.4711538293995545e-07.\n",
      "100%|██████████| 10000/10000 [01:58<00:00, 84.09it/s]\n",
      "[I 2025-10-10 06:12:32,081] Trial 7 finished with value: 3.429900345963688e-07 and parameters: {'embedding_dim': 10, 'target_ratio': 0.33376794937659193, 'learning_rate': 0.03461572850879239, 'weight_decay': 0.00012292047755086484, 'minimize_window': 90, 'batch_size': 128}. Best is trial 7 with value: 3.429900345963688e-07.\n",
      "100%|██████████| 10000/10000 [02:55<00:00, 56.88it/s]\n",
      "[I 2025-10-10 06:15:28,064] Trial 8 finished with value: 7.327150228775281e-07 and parameters: {'embedding_dim': 10, 'target_ratio': 0.4517168206582063, 'learning_rate': 2.860257626978751e-05, 'weight_decay': 0.08057802187191092, 'minimize_window': 78, 'batch_size': 256}. Best is trial 7 with value: 3.429900345963688e-07.\n",
      "100%|██████████| 10000/10000 [02:54<00:00, 57.41it/s]\n",
      "[I 2025-10-10 06:18:22,390] Trial 9 finished with value: 6.08524305789615e-06 and parameters: {'embedding_dim': 10, 'target_ratio': 0.44689065880081325, 'learning_rate': 5.948610070112129e-07, 'weight_decay': 0.0033164531296038724, 'minimize_window': 2, 'batch_size': 256}. Best is trial 7 with value: 3.429900345963688e-07.\n",
      "100%|██████████| 10000/10000 [04:53<00:00, 34.02it/s]\n",
      "[I 2025-10-10 06:23:16,442] Trial 10 finished with value: 8.794058814487471e-09 and parameters: {'embedding_dim': 12, 'target_ratio': 0.013041297122955237, 'learning_rate': 0.09287617780917244, 'weight_decay': 3.3573029266030956e-05, 'minimize_window': 99, 'batch_size': 512}. Best is trial 10 with value: 8.794058814487471e-09.\n",
      "100%|██████████| 10000/10000 [04:55<00:00, 33.87it/s]\n",
      "[I 2025-10-10 06:28:11,807] Trial 11 finished with value: 2.74278960432639e-07 and parameters: {'embedding_dim': 12, 'target_ratio': 0.2719633088903223, 'learning_rate': 0.0817770264626094, 'weight_decay': 2.7906357866223177e-05, 'minimize_window': 96, 'batch_size': 512}. Best is trial 10 with value: 8.794058814487471e-09.\n",
      "100%|██████████| 10000/10000 [04:56<00:00, 33.73it/s]\n",
      "[I 2025-10-10 06:33:08,429] Trial 12 finished with value: 3.804108139604523e-09 and parameters: {'embedding_dim': 12, 'target_ratio': 0.015112799860696802, 'learning_rate': 0.09354097612272955, 'weight_decay': 1.0230687504458523e-05, 'minimize_window': 98, 'batch_size': 512}. Best is trial 12 with value: 3.804108139604523e-09.\n",
      "100%|██████████| 10000/10000 [04:49<00:00, 34.53it/s]\n",
      "[I 2025-10-10 06:37:58,183] Trial 13 finished with value: 5.037422567966132e-08 and parameters: {'embedding_dim': 12, 'target_ratio': 0.016558426051194838, 'learning_rate': 0.0029250538298065433, 'weight_decay': 7.394636829103411e-06, 'minimize_window': 58, 'batch_size': 512}. Best is trial 12 with value: 3.804108139604523e-09.\n",
      "100%|██████████| 10000/10000 [04:47<00:00, 34.78it/s]\n",
      "[I 2025-10-10 06:42:45,819] Trial 14 finished with value: 4.214686200043616e-08 and parameters: {'embedding_dim': 12, 'target_ratio': 0.011485536264236398, 'learning_rate': 0.003679390188915985, 'weight_decay': 1.2057123466631223e-05, 'minimize_window': 99, 'batch_size': 512}. Best is trial 12 with value: 3.804108139604523e-09.\n",
      "100%|██████████| 10000/10000 [04:53<00:00, 34.02it/s]\n",
      "[I 2025-10-10 06:47:39,887] Trial 15 finished with value: 6.599741908530632e-08 and parameters: {'embedding_dim': 12, 'target_ratio': 0.06513542347864934, 'learning_rate': 0.016387253583595666, 'weight_decay': 4.14899899370307e-06, 'minimize_window': 84, 'batch_size': 512}. Best is trial 12 with value: 3.804108139604523e-09.\n",
      "100%|██████████| 10000/10000 [04:54<00:00, 33.98it/s]\n",
      "[I 2025-10-10 06:52:34,308] Trial 16 finished with value: 4.2364533214822586e-07 and parameters: {'embedding_dim': 12, 'target_ratio': 0.14410360089760849, 'learning_rate': 0.00043054121222187863, 'weight_decay': 0.00019065362982555403, 'minimize_window': 49, 'batch_size': 512}. Best is trial 12 with value: 3.804108139604523e-09.\n",
      "100%|██████████| 10000/10000 [04:16<00:00, 39.04it/s]\n",
      "[I 2025-10-10 06:56:50,560] Trial 17 finished with value: 5.476713837992975e-08 and parameters: {'embedding_dim': 8, 'target_ratio': 0.06585526099171068, 'learning_rate': 0.012276814961051692, 'weight_decay': 1.4080307368512715e-06, 'minimize_window': 100, 'batch_size': 512}. Best is trial 12 with value: 3.804108139604523e-09.\n",
      "100%|██████████| 10000/10000 [03:58<00:00, 41.87it/s]\n",
      "[I 2025-10-10 07:00:49,486] Trial 18 finished with value: 3.528078877934604e-07 and parameters: {'embedding_dim': 12, 'target_ratio': 0.25047467817202973, 'learning_rate': 0.0004442006337277207, 'weight_decay': 1.020582501009365e-07, 'minimize_window': 70, 'batch_size': 512}. Best is trial 12 with value: 3.804108139604523e-09.\n",
      "100%|██████████| 10000/10000 [03:58<00:00, 41.85it/s]\n",
      "[I 2025-10-10 07:04:48,554] Trial 19 finished with value: 4.347574744656413e-08 and parameters: {'embedding_dim': 12, 'target_ratio': 0.06520789598665613, 'learning_rate': 0.07826007697513222, 'weight_decay': 4.105294902436036e-05, 'minimize_window': 85, 'batch_size': 512}. Best is trial 12 with value: 3.804108139604523e-09.\n",
      "100%|██████████| 10000/10000 [07:08<00:00, 23.35it/s]\n",
      "[I 2025-10-10 07:11:56,853] Trial 20 finished with value: 4.947999059368158e-07 and parameters: {'embedding_dim': 12, 'target_ratio': 0.18086262184070348, 'learning_rate': 0.000482614287487761, 'weight_decay': 0.0003849009123317294, 'minimize_window': 55, 'batch_size': 1024}. Best is trial 12 with value: 3.804108139604523e-09.\n",
      "100%|██████████| 10000/10000 [03:59<00:00, 41.74it/s]\n",
      "[I 2025-10-10 07:15:56,518] Trial 21 finished with value: 4.9558678938410594e-08 and parameters: {'embedding_dim': 12, 'target_ratio': 0.016236840045824652, 'learning_rate': 0.005882038933781721, 'weight_decay': 6.2172394908561464e-06, 'minimize_window': 100, 'batch_size': 512}. Best is trial 12 with value: 3.804108139604523e-09.\n",
      "100%|██████████| 10000/10000 [03:57<00:00, 42.04it/s]\n",
      "[I 2025-10-10 07:19:54,494] Trial 22 finished with value: 3.348183952311956e-08 and parameters: {'embedding_dim': 12, 'target_ratio': 0.02549034959872319, 'learning_rate': 0.09823068288654958, 'weight_decay': 1.8698557289385066e-05, 'minimize_window': 90, 'batch_size': 512}. Best is trial 12 with value: 3.804108139604523e-09.\n",
      "100%|██████████| 10000/10000 [03:59<00:00, 41.76it/s]\n",
      "[I 2025-10-10 07:23:54,215] Trial 23 finished with value: 7.428575798940074e-08 and parameters: {'embedding_dim': 12, 'target_ratio': 0.10116664330082938, 'learning_rate': 0.09511488375047654, 'weight_decay': 4.489270086631204e-05, 'minimize_window': 89, 'batch_size': 512}. Best is trial 12 with value: 3.804108139604523e-09.\n",
      "100%|██████████| 10000/10000 [04:00<00:00, 41.65it/s]\n",
      "[I 2025-10-10 07:27:54,433] Trial 24 finished with value: 7.576446137136372e-08 and parameters: {'embedding_dim': 12, 'target_ratio': 0.05053178667604649, 'learning_rate': 0.02295896506288714, 'weight_decay': 1.4653401129665471e-05, 'minimize_window': 79, 'batch_size': 512}. Best is trial 12 with value: 3.804108139604523e-09.\n",
      "100%|██████████| 10000/10000 [03:59<00:00, 41.79it/s]\n",
      "[I 2025-10-10 07:31:53,846] Trial 25 finished with value: 1.943013643312952e-07 and parameters: {'embedding_dim': 8, 'target_ratio': 0.11370744570818404, 'learning_rate': 0.0010483818810031915, 'weight_decay': 3.051500183426259e-06, 'minimize_window': 91, 'batch_size': 512}. Best is trial 12 with value: 3.804108139604523e-09.\n",
      "100%|██████████| 10000/10000 [04:03<00:00, 41.08it/s]\n",
      "[I 2025-10-10 07:35:57,362] Trial 26 finished with value: 8.807860751858243e-08 and parameters: {'embedding_dim': 16, 'target_ratio': 0.046560652315590936, 'learning_rate': 0.0092504388619183, 'weight_decay': 0.0007438638053055055, 'minimize_window': 79, 'batch_size': 512}. Best is trial 12 with value: 3.804108139604523e-09.\n",
      "100%|██████████| 10000/10000 [03:58<00:00, 41.91it/s]\n",
      "[I 2025-10-10 07:39:56,097] Trial 27 finished with value: 3.9876248081327503e-08 and parameters: {'embedding_dim': 12, 'target_ratio': 0.010243357862013533, 'learning_rate': 0.037307935356945494, 'weight_decay': 2.1671546503493612e-05, 'minimize_window': 92, 'batch_size': 512}. Best is trial 12 with value: 3.804108139604523e-09.\n",
      "100%|██████████| 10000/10000 [02:25<00:00, 68.59it/s]\n",
      "[I 2025-10-10 07:42:22,017] Trial 28 finished with value: 9.299459691192169e-08 and parameters: {'embedding_dim': 12, 'target_ratio': 0.08427999199522856, 'learning_rate': 0.029789359417895674, 'weight_decay': 3.0219645786051443e-07, 'minimize_window': 71, 'batch_size': 256}. Best is trial 12 with value: 3.804108139604523e-09.\n",
      "100%|██████████| 10000/10000 [07:03<00:00, 23.61it/s]\n",
      "[I 2025-10-10 07:49:25,609] Trial 29 finished with value: 4.863522349296545e-07 and parameters: {'embedding_dim': 14, 'target_ratio': 0.15947690829959232, 'learning_rate': 0.0020259348545899358, 'weight_decay': 1.917967442267258e-06, 'minimize_window': 41, 'batch_size': 1024}. Best is trial 12 with value: 3.804108139604523e-09.\n",
      "100%|██████████| 10000/10000 [04:04<00:00, 40.82it/s]\n",
      "[I 2025-10-10 07:53:30,679] Trial 30 finished with value: 3.4507891655266576e-07 and parameters: {'embedding_dim': 12, 'target_ratio': 0.22356863021975576, 'learning_rate': 0.00022109538556635975, 'weight_decay': 5.264516463273466e-07, 'minimize_window': 84, 'batch_size': 512}. Best is trial 12 with value: 3.804108139604523e-09.\n",
      "100%|██████████| 10000/10000 [04:00<00:00, 41.51it/s]\n",
      "[I 2025-10-10 07:57:31,686] Trial 31 finished with value: 3.492179700970155e-08 and parameters: {'embedding_dim': 12, 'target_ratio': 0.03758875494669632, 'learning_rate': 0.047621987491750103, 'weight_decay': 1.6107951250907854e-05, 'minimize_window': 94, 'batch_size': 512}. Best is trial 12 with value: 3.804108139604523e-09.\n",
      "100%|██████████| 10000/10000 [03:58<00:00, 41.87it/s]\n",
      "[I 2025-10-10 08:01:30,608] Trial 32 finished with value: 1.7073130464950736e-08 and parameters: {'embedding_dim': 12, 'target_ratio': 0.03533969986143995, 'learning_rate': 0.09106434343943072, 'weight_decay': 6.504537555014003e-05, 'minimize_window': 94, 'batch_size': 512}. Best is trial 12 with value: 3.804108139604523e-09.\n",
      "100%|██████████| 10000/10000 [04:01<00:00, 41.42it/s]\n",
      "[I 2025-10-10 08:05:32,142] Trial 33 finished with value: 1.6425042304035742e-07 and parameters: {'embedding_dim': 16, 'target_ratio': 0.08215565782556727, 'learning_rate': 0.00856115156512604, 'weight_decay': 7.372073919939892e-05, 'minimize_window': 65, 'batch_size': 512}. Best is trial 12 with value: 3.804108139604523e-09.\n",
      "100%|██████████| 10000/10000 [01:42<00:00, 97.27it/s]\n",
      "[I 2025-10-10 08:07:15,049] Trial 34 finished with value: 4.739904824191399e-08 and parameters: {'embedding_dim': 14, 'target_ratio': 0.04573169533893851, 'learning_rate': 0.09349891924600146, 'weight_decay': 0.00028199699209775216, 'minimize_window': 86, 'batch_size': 128}. Best is trial 12 with value: 3.804108139604523e-09.\n",
      "100%|██████████| 10000/10000 [03:57<00:00, 42.19it/s]\n",
      "[I 2025-10-10 08:11:12,353] Trial 35 finished with value: 1.3740091731051507e-07 and parameters: {'embedding_dim': 12, 'target_ratio': 0.12047904597827422, 'learning_rate': 0.01749974194079893, 'weight_decay': 7.586836346644811e-05, 'minimize_window': 95, 'batch_size': 512}. Best is trial 12 with value: 3.804108139604523e-09.\n",
      "100%|██████████| 10000/10000 [02:18<00:00, 72.45it/s]\n",
      "[I 2025-10-10 08:13:30,487] Trial 36 finished with value: 1.0568647290654098e-08 and parameters: {'embedding_dim': 12, 'target_ratio': 0.03470693384306109, 'learning_rate': 0.04845411961207434, 'weight_decay': 0.0015482349134382585, 'minimize_window': 75, 'batch_size': 256}. Best is trial 12 with value: 3.804108139604523e-09.\n",
      "100%|██████████| 10000/10000 [02:22<00:00, 70.38it/s]\n",
      "[I 2025-10-10 08:15:52,673] Trial 37 finished with value: 2.8890792691527167e-07 and parameters: {'embedding_dim': 8, 'target_ratio': 0.1862033175082478, 'learning_rate': 0.0013717793599977487, 'weight_decay': 0.0006729271415590579, 'minimize_window': 76, 'batch_size': 256}. Best is trial 12 with value: 3.804108139604523e-09.\n",
      "100%|██████████| 10000/10000 [02:28<00:00, 67.44it/s]\n",
      "[I 2025-10-10 08:18:21,066] Trial 38 finished with value: 4.3809802718897117e-07 and parameters: {'embedding_dim': 16, 'target_ratio': 0.29546228247930606, 'learning_rate': 0.005282688639878147, 'weight_decay': 0.0019158514839666433, 'minimize_window': 65, 'batch_size': 256}. Best is trial 12 with value: 3.804108139604523e-09.\n",
      "100%|██████████| 10000/10000 [02:28<00:00, 67.37it/s]\n",
      "[I 2025-10-10 08:20:49,605] Trial 39 finished with value: 3.427808223932516e-07 and parameters: {'embedding_dim': 14, 'target_ratio': 0.1484409600571916, 'learning_rate': 1.6408346352679738e-05, 'weight_decay': 0.010276899164353813, 'minimize_window': 82, 'batch_size': 256}. Best is trial 12 with value: 3.804108139604523e-09.\n",
      "100%|██████████| 10000/10000 [01:44<00:00, 95.92it/s]\n",
      "[I 2025-10-10 08:22:33,967] Trial 40 finished with value: 8.353074321121312e-08 and parameters: {'embedding_dim': 10, 'target_ratio': 0.08648619354322225, 'learning_rate': 0.04141393949284356, 'weight_decay': 0.03007124583877779, 'minimize_window': 74, 'batch_size': 128}. Best is trial 12 with value: 3.804108139604523e-09.\n",
      "100%|██████████| 10000/10000 [02:20<00:00, 70.95it/s]\n",
      "[I 2025-10-10 08:24:55,017] Trial 41 finished with value: 1.3475794702344501e-08 and parameters: {'embedding_dim': 12, 'target_ratio': 0.03065296123273899, 'learning_rate': 0.05075156771646431, 'weight_decay': 0.00013938836762730176, 'minimize_window': 89, 'batch_size': 256}. Best is trial 12 with value: 3.804108139604523e-09.\n",
      "100%|██████████| 10000/10000 [02:25<00:00, 68.50it/s]\n",
      "[I 2025-10-10 08:27:21,102] Trial 42 finished with value: 1.0859810828378613e-08 and parameters: {'embedding_dim': 12, 'target_ratio': 0.03969101483383308, 'learning_rate': 0.04817184191955792, 'weight_decay': 0.00143679429925682, 'minimize_window': 96, 'batch_size': 256}. Best is trial 12 with value: 3.804108139604523e-09.\n",
      "100%|██████████| 10000/10000 [02:19<00:00, 71.76it/s]\n",
      "[I 2025-10-10 08:29:40,557] Trial 43 finished with value: 9.591231986405546e-08 and parameters: {'embedding_dim': 12, 'target_ratio': 0.06445087548889086, 'learning_rate': 1.0206226183835332e-07, 'weight_decay': 0.0018802008099998947, 'minimize_window': 97, 'batch_size': 256}. Best is trial 12 with value: 3.804108139604523e-09.\n",
      "100%|██████████| 10000/10000 [02:26<00:00, 68.22it/s]\n",
      "[I 2025-10-10 08:32:07,253] Trial 44 finished with value: 1.0125015847961549e-07 and parameters: {'embedding_dim': 12, 'target_ratio': 0.10044265607173034, 'learning_rate': 0.0429353740374424, 'weight_decay': 0.008688543419924094, 'minimize_window': 87, 'batch_size': 256}. Best is trial 12 with value: 3.804108139604523e-09.\n",
      "100%|██████████| 10000/10000 [02:22<00:00, 70.24it/s]\n",
      "[I 2025-10-10 08:34:29,716] Trial 45 finished with value: 3.709777018912064e-08 and parameters: {'embedding_dim': 12, 'target_ratio': 0.033333494527417525, 'learning_rate': 0.01999620188350651, 'weight_decay': 0.00013046383336937453, 'minimize_window': 100, 'batch_size': 256}. Best is trial 12 with value: 3.804108139604523e-09.\n",
      "100%|██████████| 10000/10000 [02:23<00:00, 69.50it/s]\n",
      "[I 2025-10-10 08:36:53,697] Trial 46 finished with value: 8.621702818345511e-07 and parameters: {'embedding_dim': 10, 'target_ratio': 0.33634073092426153, 'learning_rate': 0.007479471087040044, 'weight_decay': 0.0019442703348471555, 'minimize_window': 22, 'batch_size': 256}. Best is trial 12 with value: 3.804108139604523e-09.\n",
      "100%|██████████| 10000/10000 [02:27<00:00, 67.71it/s]\n",
      "[I 2025-10-10 08:39:21,513] Trial 47 finished with value: 3.629246592140589e-08 and parameters: {'embedding_dim': 12, 'target_ratio': 0.06366069118107773, 'learning_rate': 0.049236500976006375, 'weight_decay': 0.0004596253445525301, 'minimize_window': 80, 'batch_size': 256}. Best is trial 12 with value: 3.804108139604523e-09.\n",
      "100%|██████████| 10000/10000 [02:23<00:00, 69.65it/s]\n",
      "[I 2025-10-10 08:41:45,183] Trial 48 finished with value: 1.4472115594799106e-07 and parameters: {'embedding_dim': 12, 'target_ratio': 0.12707862089517244, 'learning_rate': 0.014967944276088885, 'weight_decay': 0.0002030960021098845, 'minimize_window': 95, 'batch_size': 256}. Best is trial 12 with value: 3.804108139604523e-09.\n",
      "100%|██████████| 10000/10000 [02:23<00:00, 69.58it/s]\n",
      "[I 2025-10-10 08:44:09,007] Trial 49 finished with value: 5.257001021163887e-07 and parameters: {'embedding_dim': 8, 'target_ratio': 0.40159944293835603, 'learning_rate': 4.504887743993536e-06, 'weight_decay': 0.02733889309704837, 'minimize_window': 90, 'batch_size': 256}. Best is trial 12 with value: 3.804108139604523e-09.\n"
     ]
    }
   ],
   "source": [
    "study = optuna.create_study(\n",
    "    direction=\"minimize\",\n",
    "    study_name=\"assets_embed_1\",\n",
    "    storage=\"sqlite:///data/db.sqlite3_assets_embed_1\",  # 保存到 SQLite 文件\n",
    "    load_if_exists=True # 如果存在同名study，则加载它\n",
    ")\n",
    "\n",
    "study.optimize(objective, n_trials=50)"
   ]
  },
  {
   "cell_type": "code",
   "execution_count": 186,
   "id": "6f2df35c",
   "metadata": {},
   "outputs": [
    {
     "data": {
      "application/vnd.plotly.v1+json": {
       "config": {
        "plotlyServerURL": "https://plot.ly"
       },
       "data": [
        {
         "mode": "markers",
         "name": "Objective Value",
         "type": "scatter",
         "x": [
          0,
          1,
          2,
          3,
          4,
          5,
          6,
          7,
          8,
          9,
          10,
          11,
          12,
          13,
          14,
          15,
          16,
          17,
          18,
          19,
          20,
          21,
          22,
          23,
          24,
          25,
          26,
          27,
          28,
          29,
          30,
          31,
          32,
          33,
          34,
          35,
          36,
          37,
          38,
          39,
          40,
          41,
          42,
          43,
          44,
          45,
          46,
          47,
          48,
          49
         ],
         "y": [
          6.105841521275579e-7,
          9.107062055591086e-7,
          0.000003999590262537822,
          4.4711538293995545e-7,
          5.249481205282791e-7,
          0.0000010950852811220102,
          0.0000018708082052398822,
          3.429900345963688e-7,
          7.327150228775281e-7,
          0.00000608524305789615,
          8.794058814487471e-9,
          2.74278960432639e-7,
          3.804108139604523e-9,
          5.037422567966132e-8,
          4.214686200043616e-8,
          6.599741908530632e-8,
          4.2364533214822586e-7,
          5.476713837992975e-8,
          3.528078877934604e-7,
          4.347574744656413e-8,
          4.947999059368158e-7,
          4.9558678938410594e-8,
          3.348183952311956e-8,
          7.428575798940074e-8,
          7.576446137136372e-8,
          1.943013643312952e-7,
          8.807860751858243e-8,
          3.9876248081327503e-8,
          9.299459691192169e-8,
          4.863522349296545e-7,
          3.4507891655266576e-7,
          3.492179700970155e-8,
          1.7073130464950736e-8,
          1.6425042304035742e-7,
          4.739904824191399e-8,
          1.3740091731051507e-7,
          1.0568647290654098e-8,
          2.8890792691527167e-7,
          4.3809802718897117e-7,
          3.427808223932516e-7,
          8.353074321121312e-8,
          1.3475794702344501e-8,
          1.0859810828378613e-8,
          9.591231986405546e-8,
          1.0125015847961549e-7,
          3.709777018912064e-8,
          8.621702818345511e-7,
          3.629246592140589e-8,
          1.4472115594799106e-7,
          5.257001021163887e-7
         ]
        },
        {
         "mode": "lines",
         "name": "Best Value",
         "type": "scatter",
         "x": [
          0,
          1,
          2,
          3,
          4,
          5,
          6,
          7,
          8,
          9,
          10,
          11,
          12,
          13,
          14,
          15,
          16,
          17,
          18,
          19,
          20,
          21,
          22,
          23,
          24,
          25,
          26,
          27,
          28,
          29,
          30,
          31,
          32,
          33,
          34,
          35,
          36,
          37,
          38,
          39,
          40,
          41,
          42,
          43,
          44,
          45,
          46,
          47,
          48,
          49
         ],
         "y": [
          6.105841521275579e-7,
          6.105841521275579e-7,
          6.105841521275579e-7,
          4.4711538293995545e-7,
          4.4711538293995545e-7,
          4.4711538293995545e-7,
          4.4711538293995545e-7,
          3.429900345963688e-7,
          3.429900345963688e-7,
          3.429900345963688e-7,
          8.794058814487471e-9,
          8.794058814487471e-9,
          3.804108139604523e-9,
          3.804108139604523e-9,
          3.804108139604523e-9,
          3.804108139604523e-9,
          3.804108139604523e-9,
          3.804108139604523e-9,
          3.804108139604523e-9,
          3.804108139604523e-9,
          3.804108139604523e-9,
          3.804108139604523e-9,
          3.804108139604523e-9,
          3.804108139604523e-9,
          3.804108139604523e-9,
          3.804108139604523e-9,
          3.804108139604523e-9,
          3.804108139604523e-9,
          3.804108139604523e-9,
          3.804108139604523e-9,
          3.804108139604523e-9,
          3.804108139604523e-9,
          3.804108139604523e-9,
          3.804108139604523e-9,
          3.804108139604523e-9,
          3.804108139604523e-9,
          3.804108139604523e-9,
          3.804108139604523e-9,
          3.804108139604523e-9,
          3.804108139604523e-9,
          3.804108139604523e-9,
          3.804108139604523e-9,
          3.804108139604523e-9,
          3.804108139604523e-9,
          3.804108139604523e-9,
          3.804108139604523e-9,
          3.804108139604523e-9,
          3.804108139604523e-9,
          3.804108139604523e-9,
          3.804108139604523e-9
         ]
        },
        {
         "marker": {
          "color": "#cccccc"
         },
         "mode": "markers",
         "name": "Infeasible Trial",
         "showlegend": false,
         "type": "scatter",
         "x": [],
         "y": []
        }
       ],
       "layout": {
        "template": {
         "data": {
          "bar": [
           {
            "error_x": {
             "color": "#2a3f5f"
            },
            "error_y": {
             "color": "#2a3f5f"
            },
            "marker": {
             "line": {
              "color": "#E5ECF6",
              "width": 0.5
             },
             "pattern": {
              "fillmode": "overlay",
              "size": 10,
              "solidity": 0.2
             }
            },
            "type": "bar"
           }
          ],
          "barpolar": [
           {
            "marker": {
             "line": {
              "color": "#E5ECF6",
              "width": 0.5
             },
             "pattern": {
              "fillmode": "overlay",
              "size": 10,
              "solidity": 0.2
             }
            },
            "type": "barpolar"
           }
          ],
          "carpet": [
           {
            "aaxis": {
             "endlinecolor": "#2a3f5f",
             "gridcolor": "white",
             "linecolor": "white",
             "minorgridcolor": "white",
             "startlinecolor": "#2a3f5f"
            },
            "baxis": {
             "endlinecolor": "#2a3f5f",
             "gridcolor": "white",
             "linecolor": "white",
             "minorgridcolor": "white",
             "startlinecolor": "#2a3f5f"
            },
            "type": "carpet"
           }
          ],
          "choropleth": [
           {
            "colorbar": {
             "outlinewidth": 0,
             "ticks": ""
            },
            "type": "choropleth"
           }
          ],
          "contour": [
           {
            "colorbar": {
             "outlinewidth": 0,
             "ticks": ""
            },
            "colorscale": [
             [
              0,
              "#0d0887"
             ],
             [
              0.1111111111111111,
              "#46039f"
             ],
             [
              0.2222222222222222,
              "#7201a8"
             ],
             [
              0.3333333333333333,
              "#9c179e"
             ],
             [
              0.4444444444444444,
              "#bd3786"
             ],
             [
              0.5555555555555556,
              "#d8576b"
             ],
             [
              0.6666666666666666,
              "#ed7953"
             ],
             [
              0.7777777777777778,
              "#fb9f3a"
             ],
             [
              0.8888888888888888,
              "#fdca26"
             ],
             [
              1,
              "#f0f921"
             ]
            ],
            "type": "contour"
           }
          ],
          "contourcarpet": [
           {
            "colorbar": {
             "outlinewidth": 0,
             "ticks": ""
            },
            "type": "contourcarpet"
           }
          ],
          "heatmap": [
           {
            "colorbar": {
             "outlinewidth": 0,
             "ticks": ""
            },
            "colorscale": [
             [
              0,
              "#0d0887"
             ],
             [
              0.1111111111111111,
              "#46039f"
             ],
             [
              0.2222222222222222,
              "#7201a8"
             ],
             [
              0.3333333333333333,
              "#9c179e"
             ],
             [
              0.4444444444444444,
              "#bd3786"
             ],
             [
              0.5555555555555556,
              "#d8576b"
             ],
             [
              0.6666666666666666,
              "#ed7953"
             ],
             [
              0.7777777777777778,
              "#fb9f3a"
             ],
             [
              0.8888888888888888,
              "#fdca26"
             ],
             [
              1,
              "#f0f921"
             ]
            ],
            "type": "heatmap"
           }
          ],
          "histogram": [
           {
            "marker": {
             "pattern": {
              "fillmode": "overlay",
              "size": 10,
              "solidity": 0.2
             }
            },
            "type": "histogram"
           }
          ],
          "histogram2d": [
           {
            "colorbar": {
             "outlinewidth": 0,
             "ticks": ""
            },
            "colorscale": [
             [
              0,
              "#0d0887"
             ],
             [
              0.1111111111111111,
              "#46039f"
             ],
             [
              0.2222222222222222,
              "#7201a8"
             ],
             [
              0.3333333333333333,
              "#9c179e"
             ],
             [
              0.4444444444444444,
              "#bd3786"
             ],
             [
              0.5555555555555556,
              "#d8576b"
             ],
             [
              0.6666666666666666,
              "#ed7953"
             ],
             [
              0.7777777777777778,
              "#fb9f3a"
             ],
             [
              0.8888888888888888,
              "#fdca26"
             ],
             [
              1,
              "#f0f921"
             ]
            ],
            "type": "histogram2d"
           }
          ],
          "histogram2dcontour": [
           {
            "colorbar": {
             "outlinewidth": 0,
             "ticks": ""
            },
            "colorscale": [
             [
              0,
              "#0d0887"
             ],
             [
              0.1111111111111111,
              "#46039f"
             ],
             [
              0.2222222222222222,
              "#7201a8"
             ],
             [
              0.3333333333333333,
              "#9c179e"
             ],
             [
              0.4444444444444444,
              "#bd3786"
             ],
             [
              0.5555555555555556,
              "#d8576b"
             ],
             [
              0.6666666666666666,
              "#ed7953"
             ],
             [
              0.7777777777777778,
              "#fb9f3a"
             ],
             [
              0.8888888888888888,
              "#fdca26"
             ],
             [
              1,
              "#f0f921"
             ]
            ],
            "type": "histogram2dcontour"
           }
          ],
          "mesh3d": [
           {
            "colorbar": {
             "outlinewidth": 0,
             "ticks": ""
            },
            "type": "mesh3d"
           }
          ],
          "parcoords": [
           {
            "line": {
             "colorbar": {
              "outlinewidth": 0,
              "ticks": ""
             }
            },
            "type": "parcoords"
           }
          ],
          "pie": [
           {
            "automargin": true,
            "type": "pie"
           }
          ],
          "scatter": [
           {
            "fillpattern": {
             "fillmode": "overlay",
             "size": 10,
             "solidity": 0.2
            },
            "type": "scatter"
           }
          ],
          "scatter3d": [
           {
            "line": {
             "colorbar": {
              "outlinewidth": 0,
              "ticks": ""
             }
            },
            "marker": {
             "colorbar": {
              "outlinewidth": 0,
              "ticks": ""
             }
            },
            "type": "scatter3d"
           }
          ],
          "scattercarpet": [
           {
            "marker": {
             "colorbar": {
              "outlinewidth": 0,
              "ticks": ""
             }
            },
            "type": "scattercarpet"
           }
          ],
          "scattergeo": [
           {
            "marker": {
             "colorbar": {
              "outlinewidth": 0,
              "ticks": ""
             }
            },
            "type": "scattergeo"
           }
          ],
          "scattergl": [
           {
            "marker": {
             "colorbar": {
              "outlinewidth": 0,
              "ticks": ""
             }
            },
            "type": "scattergl"
           }
          ],
          "scattermap": [
           {
            "marker": {
             "colorbar": {
              "outlinewidth": 0,
              "ticks": ""
             }
            },
            "type": "scattermap"
           }
          ],
          "scattermapbox": [
           {
            "marker": {
             "colorbar": {
              "outlinewidth": 0,
              "ticks": ""
             }
            },
            "type": "scattermapbox"
           }
          ],
          "scatterpolar": [
           {
            "marker": {
             "colorbar": {
              "outlinewidth": 0,
              "ticks": ""
             }
            },
            "type": "scatterpolar"
           }
          ],
          "scatterpolargl": [
           {
            "marker": {
             "colorbar": {
              "outlinewidth": 0,
              "ticks": ""
             }
            },
            "type": "scatterpolargl"
           }
          ],
          "scatterternary": [
           {
            "marker": {
             "colorbar": {
              "outlinewidth": 0,
              "ticks": ""
             }
            },
            "type": "scatterternary"
           }
          ],
          "surface": [
           {
            "colorbar": {
             "outlinewidth": 0,
             "ticks": ""
            },
            "colorscale": [
             [
              0,
              "#0d0887"
             ],
             [
              0.1111111111111111,
              "#46039f"
             ],
             [
              0.2222222222222222,
              "#7201a8"
             ],
             [
              0.3333333333333333,
              "#9c179e"
             ],
             [
              0.4444444444444444,
              "#bd3786"
             ],
             [
              0.5555555555555556,
              "#d8576b"
             ],
             [
              0.6666666666666666,
              "#ed7953"
             ],
             [
              0.7777777777777778,
              "#fb9f3a"
             ],
             [
              0.8888888888888888,
              "#fdca26"
             ],
             [
              1,
              "#f0f921"
             ]
            ],
            "type": "surface"
           }
          ],
          "table": [
           {
            "cells": {
             "fill": {
              "color": "#EBF0F8"
             },
             "line": {
              "color": "white"
             }
            },
            "header": {
             "fill": {
              "color": "#C8D4E3"
             },
             "line": {
              "color": "white"
             }
            },
            "type": "table"
           }
          ]
         },
         "layout": {
          "annotationdefaults": {
           "arrowcolor": "#2a3f5f",
           "arrowhead": 0,
           "arrowwidth": 1
          },
          "autotypenumbers": "strict",
          "coloraxis": {
           "colorbar": {
            "outlinewidth": 0,
            "ticks": ""
           }
          },
          "colorscale": {
           "diverging": [
            [
             0,
             "#8e0152"
            ],
            [
             0.1,
             "#c51b7d"
            ],
            [
             0.2,
             "#de77ae"
            ],
            [
             0.3,
             "#f1b6da"
            ],
            [
             0.4,
             "#fde0ef"
            ],
            [
             0.5,
             "#f7f7f7"
            ],
            [
             0.6,
             "#e6f5d0"
            ],
            [
             0.7,
             "#b8e186"
            ],
            [
             0.8,
             "#7fbc41"
            ],
            [
             0.9,
             "#4d9221"
            ],
            [
             1,
             "#276419"
            ]
           ],
           "sequential": [
            [
             0,
             "#0d0887"
            ],
            [
             0.1111111111111111,
             "#46039f"
            ],
            [
             0.2222222222222222,
             "#7201a8"
            ],
            [
             0.3333333333333333,
             "#9c179e"
            ],
            [
             0.4444444444444444,
             "#bd3786"
            ],
            [
             0.5555555555555556,
             "#d8576b"
            ],
            [
             0.6666666666666666,
             "#ed7953"
            ],
            [
             0.7777777777777778,
             "#fb9f3a"
            ],
            [
             0.8888888888888888,
             "#fdca26"
            ],
            [
             1,
             "#f0f921"
            ]
           ],
           "sequentialminus": [
            [
             0,
             "#0d0887"
            ],
            [
             0.1111111111111111,
             "#46039f"
            ],
            [
             0.2222222222222222,
             "#7201a8"
            ],
            [
             0.3333333333333333,
             "#9c179e"
            ],
            [
             0.4444444444444444,
             "#bd3786"
            ],
            [
             0.5555555555555556,
             "#d8576b"
            ],
            [
             0.6666666666666666,
             "#ed7953"
            ],
            [
             0.7777777777777778,
             "#fb9f3a"
            ],
            [
             0.8888888888888888,
             "#fdca26"
            ],
            [
             1,
             "#f0f921"
            ]
           ]
          },
          "colorway": [
           "#636efa",
           "#EF553B",
           "#00cc96",
           "#ab63fa",
           "#FFA15A",
           "#19d3f3",
           "#FF6692",
           "#B6E880",
           "#FF97FF",
           "#FECB52"
          ],
          "font": {
           "color": "#2a3f5f"
          },
          "geo": {
           "bgcolor": "white",
           "lakecolor": "white",
           "landcolor": "#E5ECF6",
           "showlakes": true,
           "showland": true,
           "subunitcolor": "white"
          },
          "hoverlabel": {
           "align": "left"
          },
          "hovermode": "closest",
          "mapbox": {
           "style": "light"
          },
          "paper_bgcolor": "white",
          "plot_bgcolor": "#E5ECF6",
          "polar": {
           "angularaxis": {
            "gridcolor": "white",
            "linecolor": "white",
            "ticks": ""
           },
           "bgcolor": "#E5ECF6",
           "radialaxis": {
            "gridcolor": "white",
            "linecolor": "white",
            "ticks": ""
           }
          },
          "scene": {
           "xaxis": {
            "backgroundcolor": "#E5ECF6",
            "gridcolor": "white",
            "gridwidth": 2,
            "linecolor": "white",
            "showbackground": true,
            "ticks": "",
            "zerolinecolor": "white"
           },
           "yaxis": {
            "backgroundcolor": "#E5ECF6",
            "gridcolor": "white",
            "gridwidth": 2,
            "linecolor": "white",
            "showbackground": true,
            "ticks": "",
            "zerolinecolor": "white"
           },
           "zaxis": {
            "backgroundcolor": "#E5ECF6",
            "gridcolor": "white",
            "gridwidth": 2,
            "linecolor": "white",
            "showbackground": true,
            "ticks": "",
            "zerolinecolor": "white"
           }
          },
          "shapedefaults": {
           "line": {
            "color": "#2a3f5f"
           }
          },
          "ternary": {
           "aaxis": {
            "gridcolor": "white",
            "linecolor": "white",
            "ticks": ""
           },
           "baxis": {
            "gridcolor": "white",
            "linecolor": "white",
            "ticks": ""
           },
           "bgcolor": "#E5ECF6",
           "caxis": {
            "gridcolor": "white",
            "linecolor": "white",
            "ticks": ""
           }
          },
          "title": {
           "x": 0.05
          },
          "xaxis": {
           "automargin": true,
           "gridcolor": "white",
           "linecolor": "white",
           "ticks": "",
           "title": {
            "standoff": 15
           },
           "zerolinecolor": "white",
           "zerolinewidth": 2
          },
          "yaxis": {
           "automargin": true,
           "gridcolor": "white",
           "linecolor": "white",
           "ticks": "",
           "title": {
            "standoff": 15
           },
           "zerolinecolor": "white",
           "zerolinewidth": 2
          }
         }
        },
        "title": {
         "text": "Optimization History Plot"
        },
        "xaxis": {
         "title": {
          "text": "Trial"
         }
        },
        "yaxis": {
         "title": {
          "text": "Objective Value"
         }
        }
       }
      }
     },
     "metadata": {},
     "output_type": "display_data"
    }
   ],
   "source": [
    "fig = optuna.visualization.plot_optimization_history(study)\n",
    "fig.show()"
   ]
  },
  {
   "cell_type": "code",
   "execution_count": 187,
   "id": "62d2e9b2",
   "metadata": {},
   "outputs": [
    {
     "data": {
      "application/vnd.plotly.v1+json": {
       "config": {
        "plotlyServerURL": "https://plot.ly"
       },
       "data": [
        {
         "cliponaxis": false,
         "hovertemplate": [
          "weight_decay (FloatDistribution): 0.0007033633956160044<extra></extra>",
          "learning_rate (FloatDistribution): 0.0008090103714329593<extra></extra>",
          "embedding_dim (CategoricalDistribution): 0.0060713321892539515<extra></extra>",
          "batch_size (CategoricalDistribution): 0.015707569659253462<extra></extra>",
          "target_ratio (FloatDistribution): 0.17886672650264196<extra></extra>",
          "minimize_window (IntDistribution): 0.7978419978818017<extra></extra>"
         ],
         "name": "Objective Value",
         "orientation": "h",
         "text": [
          "<0.01",
          "<0.01",
          "<0.01",
          "0.02",
          "0.18",
          "0.80"
         ],
         "textposition": "outside",
         "type": "bar",
         "x": [
          0.0007033633956160044,
          0.0008090103714329593,
          0.0060713321892539515,
          0.015707569659253462,
          0.17886672650264196,
          0.7978419978818017
         ],
         "y": [
          "weight_decay",
          "learning_rate",
          "embedding_dim",
          "batch_size",
          "target_ratio",
          "minimize_window"
         ]
        }
       ],
       "layout": {
        "template": {
         "data": {
          "bar": [
           {
            "error_x": {
             "color": "#2a3f5f"
            },
            "error_y": {
             "color": "#2a3f5f"
            },
            "marker": {
             "line": {
              "color": "#E5ECF6",
              "width": 0.5
             },
             "pattern": {
              "fillmode": "overlay",
              "size": 10,
              "solidity": 0.2
             }
            },
            "type": "bar"
           }
          ],
          "barpolar": [
           {
            "marker": {
             "line": {
              "color": "#E5ECF6",
              "width": 0.5
             },
             "pattern": {
              "fillmode": "overlay",
              "size": 10,
              "solidity": 0.2
             }
            },
            "type": "barpolar"
           }
          ],
          "carpet": [
           {
            "aaxis": {
             "endlinecolor": "#2a3f5f",
             "gridcolor": "white",
             "linecolor": "white",
             "minorgridcolor": "white",
             "startlinecolor": "#2a3f5f"
            },
            "baxis": {
             "endlinecolor": "#2a3f5f",
             "gridcolor": "white",
             "linecolor": "white",
             "minorgridcolor": "white",
             "startlinecolor": "#2a3f5f"
            },
            "type": "carpet"
           }
          ],
          "choropleth": [
           {
            "colorbar": {
             "outlinewidth": 0,
             "ticks": ""
            },
            "type": "choropleth"
           }
          ],
          "contour": [
           {
            "colorbar": {
             "outlinewidth": 0,
             "ticks": ""
            },
            "colorscale": [
             [
              0,
              "#0d0887"
             ],
             [
              0.1111111111111111,
              "#46039f"
             ],
             [
              0.2222222222222222,
              "#7201a8"
             ],
             [
              0.3333333333333333,
              "#9c179e"
             ],
             [
              0.4444444444444444,
              "#bd3786"
             ],
             [
              0.5555555555555556,
              "#d8576b"
             ],
             [
              0.6666666666666666,
              "#ed7953"
             ],
             [
              0.7777777777777778,
              "#fb9f3a"
             ],
             [
              0.8888888888888888,
              "#fdca26"
             ],
             [
              1,
              "#f0f921"
             ]
            ],
            "type": "contour"
           }
          ],
          "contourcarpet": [
           {
            "colorbar": {
             "outlinewidth": 0,
             "ticks": ""
            },
            "type": "contourcarpet"
           }
          ],
          "heatmap": [
           {
            "colorbar": {
             "outlinewidth": 0,
             "ticks": ""
            },
            "colorscale": [
             [
              0,
              "#0d0887"
             ],
             [
              0.1111111111111111,
              "#46039f"
             ],
             [
              0.2222222222222222,
              "#7201a8"
             ],
             [
              0.3333333333333333,
              "#9c179e"
             ],
             [
              0.4444444444444444,
              "#bd3786"
             ],
             [
              0.5555555555555556,
              "#d8576b"
             ],
             [
              0.6666666666666666,
              "#ed7953"
             ],
             [
              0.7777777777777778,
              "#fb9f3a"
             ],
             [
              0.8888888888888888,
              "#fdca26"
             ],
             [
              1,
              "#f0f921"
             ]
            ],
            "type": "heatmap"
           }
          ],
          "histogram": [
           {
            "marker": {
             "pattern": {
              "fillmode": "overlay",
              "size": 10,
              "solidity": 0.2
             }
            },
            "type": "histogram"
           }
          ],
          "histogram2d": [
           {
            "colorbar": {
             "outlinewidth": 0,
             "ticks": ""
            },
            "colorscale": [
             [
              0,
              "#0d0887"
             ],
             [
              0.1111111111111111,
              "#46039f"
             ],
             [
              0.2222222222222222,
              "#7201a8"
             ],
             [
              0.3333333333333333,
              "#9c179e"
             ],
             [
              0.4444444444444444,
              "#bd3786"
             ],
             [
              0.5555555555555556,
              "#d8576b"
             ],
             [
              0.6666666666666666,
              "#ed7953"
             ],
             [
              0.7777777777777778,
              "#fb9f3a"
             ],
             [
              0.8888888888888888,
              "#fdca26"
             ],
             [
              1,
              "#f0f921"
             ]
            ],
            "type": "histogram2d"
           }
          ],
          "histogram2dcontour": [
           {
            "colorbar": {
             "outlinewidth": 0,
             "ticks": ""
            },
            "colorscale": [
             [
              0,
              "#0d0887"
             ],
             [
              0.1111111111111111,
              "#46039f"
             ],
             [
              0.2222222222222222,
              "#7201a8"
             ],
             [
              0.3333333333333333,
              "#9c179e"
             ],
             [
              0.4444444444444444,
              "#bd3786"
             ],
             [
              0.5555555555555556,
              "#d8576b"
             ],
             [
              0.6666666666666666,
              "#ed7953"
             ],
             [
              0.7777777777777778,
              "#fb9f3a"
             ],
             [
              0.8888888888888888,
              "#fdca26"
             ],
             [
              1,
              "#f0f921"
             ]
            ],
            "type": "histogram2dcontour"
           }
          ],
          "mesh3d": [
           {
            "colorbar": {
             "outlinewidth": 0,
             "ticks": ""
            },
            "type": "mesh3d"
           }
          ],
          "parcoords": [
           {
            "line": {
             "colorbar": {
              "outlinewidth": 0,
              "ticks": ""
             }
            },
            "type": "parcoords"
           }
          ],
          "pie": [
           {
            "automargin": true,
            "type": "pie"
           }
          ],
          "scatter": [
           {
            "fillpattern": {
             "fillmode": "overlay",
             "size": 10,
             "solidity": 0.2
            },
            "type": "scatter"
           }
          ],
          "scatter3d": [
           {
            "line": {
             "colorbar": {
              "outlinewidth": 0,
              "ticks": ""
             }
            },
            "marker": {
             "colorbar": {
              "outlinewidth": 0,
              "ticks": ""
             }
            },
            "type": "scatter3d"
           }
          ],
          "scattercarpet": [
           {
            "marker": {
             "colorbar": {
              "outlinewidth": 0,
              "ticks": ""
             }
            },
            "type": "scattercarpet"
           }
          ],
          "scattergeo": [
           {
            "marker": {
             "colorbar": {
              "outlinewidth": 0,
              "ticks": ""
             }
            },
            "type": "scattergeo"
           }
          ],
          "scattergl": [
           {
            "marker": {
             "colorbar": {
              "outlinewidth": 0,
              "ticks": ""
             }
            },
            "type": "scattergl"
           }
          ],
          "scattermap": [
           {
            "marker": {
             "colorbar": {
              "outlinewidth": 0,
              "ticks": ""
             }
            },
            "type": "scattermap"
           }
          ],
          "scattermapbox": [
           {
            "marker": {
             "colorbar": {
              "outlinewidth": 0,
              "ticks": ""
             }
            },
            "type": "scattermapbox"
           }
          ],
          "scatterpolar": [
           {
            "marker": {
             "colorbar": {
              "outlinewidth": 0,
              "ticks": ""
             }
            },
            "type": "scatterpolar"
           }
          ],
          "scatterpolargl": [
           {
            "marker": {
             "colorbar": {
              "outlinewidth": 0,
              "ticks": ""
             }
            },
            "type": "scatterpolargl"
           }
          ],
          "scatterternary": [
           {
            "marker": {
             "colorbar": {
              "outlinewidth": 0,
              "ticks": ""
             }
            },
            "type": "scatterternary"
           }
          ],
          "surface": [
           {
            "colorbar": {
             "outlinewidth": 0,
             "ticks": ""
            },
            "colorscale": [
             [
              0,
              "#0d0887"
             ],
             [
              0.1111111111111111,
              "#46039f"
             ],
             [
              0.2222222222222222,
              "#7201a8"
             ],
             [
              0.3333333333333333,
              "#9c179e"
             ],
             [
              0.4444444444444444,
              "#bd3786"
             ],
             [
              0.5555555555555556,
              "#d8576b"
             ],
             [
              0.6666666666666666,
              "#ed7953"
             ],
             [
              0.7777777777777778,
              "#fb9f3a"
             ],
             [
              0.8888888888888888,
              "#fdca26"
             ],
             [
              1,
              "#f0f921"
             ]
            ],
            "type": "surface"
           }
          ],
          "table": [
           {
            "cells": {
             "fill": {
              "color": "#EBF0F8"
             },
             "line": {
              "color": "white"
             }
            },
            "header": {
             "fill": {
              "color": "#C8D4E3"
             },
             "line": {
              "color": "white"
             }
            },
            "type": "table"
           }
          ]
         },
         "layout": {
          "annotationdefaults": {
           "arrowcolor": "#2a3f5f",
           "arrowhead": 0,
           "arrowwidth": 1
          },
          "autotypenumbers": "strict",
          "coloraxis": {
           "colorbar": {
            "outlinewidth": 0,
            "ticks": ""
           }
          },
          "colorscale": {
           "diverging": [
            [
             0,
             "#8e0152"
            ],
            [
             0.1,
             "#c51b7d"
            ],
            [
             0.2,
             "#de77ae"
            ],
            [
             0.3,
             "#f1b6da"
            ],
            [
             0.4,
             "#fde0ef"
            ],
            [
             0.5,
             "#f7f7f7"
            ],
            [
             0.6,
             "#e6f5d0"
            ],
            [
             0.7,
             "#b8e186"
            ],
            [
             0.8,
             "#7fbc41"
            ],
            [
             0.9,
             "#4d9221"
            ],
            [
             1,
             "#276419"
            ]
           ],
           "sequential": [
            [
             0,
             "#0d0887"
            ],
            [
             0.1111111111111111,
             "#46039f"
            ],
            [
             0.2222222222222222,
             "#7201a8"
            ],
            [
             0.3333333333333333,
             "#9c179e"
            ],
            [
             0.4444444444444444,
             "#bd3786"
            ],
            [
             0.5555555555555556,
             "#d8576b"
            ],
            [
             0.6666666666666666,
             "#ed7953"
            ],
            [
             0.7777777777777778,
             "#fb9f3a"
            ],
            [
             0.8888888888888888,
             "#fdca26"
            ],
            [
             1,
             "#f0f921"
            ]
           ],
           "sequentialminus": [
            [
             0,
             "#0d0887"
            ],
            [
             0.1111111111111111,
             "#46039f"
            ],
            [
             0.2222222222222222,
             "#7201a8"
            ],
            [
             0.3333333333333333,
             "#9c179e"
            ],
            [
             0.4444444444444444,
             "#bd3786"
            ],
            [
             0.5555555555555556,
             "#d8576b"
            ],
            [
             0.6666666666666666,
             "#ed7953"
            ],
            [
             0.7777777777777778,
             "#fb9f3a"
            ],
            [
             0.8888888888888888,
             "#fdca26"
            ],
            [
             1,
             "#f0f921"
            ]
           ]
          },
          "colorway": [
           "#636efa",
           "#EF553B",
           "#00cc96",
           "#ab63fa",
           "#FFA15A",
           "#19d3f3",
           "#FF6692",
           "#B6E880",
           "#FF97FF",
           "#FECB52"
          ],
          "font": {
           "color": "#2a3f5f"
          },
          "geo": {
           "bgcolor": "white",
           "lakecolor": "white",
           "landcolor": "#E5ECF6",
           "showlakes": true,
           "showland": true,
           "subunitcolor": "white"
          },
          "hoverlabel": {
           "align": "left"
          },
          "hovermode": "closest",
          "mapbox": {
           "style": "light"
          },
          "paper_bgcolor": "white",
          "plot_bgcolor": "#E5ECF6",
          "polar": {
           "angularaxis": {
            "gridcolor": "white",
            "linecolor": "white",
            "ticks": ""
           },
           "bgcolor": "#E5ECF6",
           "radialaxis": {
            "gridcolor": "white",
            "linecolor": "white",
            "ticks": ""
           }
          },
          "scene": {
           "xaxis": {
            "backgroundcolor": "#E5ECF6",
            "gridcolor": "white",
            "gridwidth": 2,
            "linecolor": "white",
            "showbackground": true,
            "ticks": "",
            "zerolinecolor": "white"
           },
           "yaxis": {
            "backgroundcolor": "#E5ECF6",
            "gridcolor": "white",
            "gridwidth": 2,
            "linecolor": "white",
            "showbackground": true,
            "ticks": "",
            "zerolinecolor": "white"
           },
           "zaxis": {
            "backgroundcolor": "#E5ECF6",
            "gridcolor": "white",
            "gridwidth": 2,
            "linecolor": "white",
            "showbackground": true,
            "ticks": "",
            "zerolinecolor": "white"
           }
          },
          "shapedefaults": {
           "line": {
            "color": "#2a3f5f"
           }
          },
          "ternary": {
           "aaxis": {
            "gridcolor": "white",
            "linecolor": "white",
            "ticks": ""
           },
           "baxis": {
            "gridcolor": "white",
            "linecolor": "white",
            "ticks": ""
           },
           "bgcolor": "#E5ECF6",
           "caxis": {
            "gridcolor": "white",
            "linecolor": "white",
            "ticks": ""
           }
          },
          "title": {
           "x": 0.05
          },
          "xaxis": {
           "automargin": true,
           "gridcolor": "white",
           "linecolor": "white",
           "ticks": "",
           "title": {
            "standoff": 15
           },
           "zerolinecolor": "white",
           "zerolinewidth": 2
          },
          "yaxis": {
           "automargin": true,
           "gridcolor": "white",
           "linecolor": "white",
           "ticks": "",
           "title": {
            "standoff": 15
           },
           "zerolinecolor": "white",
           "zerolinewidth": 2
          }
         }
        },
        "title": {
         "text": "Hyperparameter Importances"
        },
        "xaxis": {
         "title": {
          "text": "Hyperparameter Importance"
         }
        },
        "yaxis": {
         "title": {
          "text": "Hyperparameter"
         }
        }
       }
      }
     },
     "metadata": {},
     "output_type": "display_data"
    }
   ],
   "source": [
    "fig = optuna.visualization.plot_param_importances(study)\n",
    "fig.show()"
   ]
  },
  {
   "cell_type": "code",
   "execution_count": 188,
   "id": "93a8034a",
   "metadata": {},
   "outputs": [
    {
     "data": {
      "application/vnd.microsoft.datawrangler.viewer.v0+json": {
       "columns": [
        {
         "name": "index",
         "rawType": "int64",
         "type": "integer"
        },
        {
         "name": "number",
         "rawType": "int64",
         "type": "integer"
        },
        {
         "name": "value",
         "rawType": "float64",
         "type": "float"
        },
        {
         "name": "datetime_start",
         "rawType": "datetime64[ns]",
         "type": "datetime"
        },
        {
         "name": "datetime_complete",
         "rawType": "datetime64[ns]",
         "type": "datetime"
        },
        {
         "name": "duration",
         "rawType": "timedelta64[ns]",
         "type": "unknown"
        },
        {
         "name": "params_batch_size",
         "rawType": "int64",
         "type": "integer"
        },
        {
         "name": "params_embedding_dim",
         "rawType": "int64",
         "type": "integer"
        },
        {
         "name": "params_learning_rate",
         "rawType": "float64",
         "type": "float"
        },
        {
         "name": "params_minimize_window",
         "rawType": "int64",
         "type": "integer"
        },
        {
         "name": "params_target_ratio",
         "rawType": "float64",
         "type": "float"
        },
        {
         "name": "params_weight_decay",
         "rawType": "float64",
         "type": "float"
        },
        {
         "name": "state",
         "rawType": "object",
         "type": "string"
        }
       ],
       "ref": "0c45a020-bcd5-4241-8e91-a0d76ecf7f52",
       "rows": [
        [
         "12",
         "12",
         "3.804108139604523e-09",
         "2025-10-10 06:28:11.812064",
         "2025-10-10 06:33:08.420052",
         "0 days 00:04:56.607988",
         "512",
         "12",
         "0.09354097612272955",
         "98",
         "0.015112799860696802",
         "1.0230687504458523e-05",
         "COMPLETE"
        ],
        [
         "10",
         "10",
         "8.794058814487471e-09",
         "2025-10-10 06:18:22.395831",
         "2025-10-10 06:23:16.432498",
         "0 days 00:04:54.036667",
         "512",
         "12",
         "0.09287617780917244",
         "99",
         "0.013041297122955237",
         "3.3573029266030956e-05",
         "COMPLETE"
        ],
        [
         "36",
         "36",
         "1.0568647290654098e-08",
         "2025-10-10 08:11:12.358111",
         "2025-10-10 08:13:30.477513",
         "0 days 00:02:18.119402",
         "256",
         "12",
         "0.04845411961207434",
         "75",
         "0.03470693384306109",
         "0.0015482349134382585",
         "COMPLETE"
        ],
        [
         "42",
         "42",
         "1.0859810828378613e-08",
         "2025-10-10 08:24:55.022891",
         "2025-10-10 08:27:21.093170",
         "0 days 00:02:26.070279",
         "256",
         "12",
         "0.04817184191955792",
         "96",
         "0.03969101483383308",
         "0.00143679429925682",
         "COMPLETE"
        ],
        [
         "41",
         "41",
         "1.3475794702344501e-08",
         "2025-10-10 08:22:33.971307",
         "2025-10-10 08:24:55.008193",
         "0 days 00:02:21.036886",
         "256",
         "12",
         "0.05075156771646431",
         "89",
         "0.03065296123273899",
         "0.00013938836762730176",
         "COMPLETE"
        ],
        [
         "32",
         "32",
         "1.7073130464950736e-08",
         "2025-10-10 07:57:31.688774",
         "2025-10-10 08:01:30.598724",
         "0 days 00:03:58.909950",
         "512",
         "12",
         "0.09106434343943072",
         "94",
         "0.03533969986143995",
         "6.504537555014003e-05",
         "COMPLETE"
        ],
        [
         "22",
         "22",
         "3.348183952311956e-08",
         "2025-10-10 07:15:56.522713",
         "2025-10-10 07:19:54.485270",
         "0 days 00:03:57.962557",
         "512",
         "12",
         "0.09823068288654958",
         "90",
         "0.02549034959872319",
         "1.8698557289385066e-05",
         "COMPLETE"
        ],
        [
         "31",
         "31",
         "3.492179700970155e-08",
         "2025-10-10 07:53:30.683796",
         "2025-10-10 07:57:31.676429",
         "0 days 00:04:00.992633",
         "512",
         "12",
         "0.047621987491750103",
         "94",
         "0.03758875494669632",
         "1.6107951250907854e-05",
         "COMPLETE"
        ],
        [
         "47",
         "47",
         "3.629246592140589e-08",
         "2025-10-10 08:36:53.704157",
         "2025-10-10 08:39:21.503865",
         "0 days 00:02:27.799708",
         "256",
         "12",
         "0.049236500976006375",
         "80",
         "0.06366069118107773",
         "0.0004596253445525301",
         "COMPLETE"
        ],
        [
         "45",
         "45",
         "3.709777018912064e-08",
         "2025-10-10 08:32:07.259907",
         "2025-10-10 08:34:29.707610",
         "0 days 00:02:22.447703",
         "256",
         "12",
         "0.01999620188350651",
         "100",
         "0.033333494527417525",
         "0.00013046383336937453",
         "COMPLETE"
        ],
        [
         "27",
         "27",
         "3.9876248081327503e-08",
         "2025-10-10 07:35:57.366453",
         "2025-10-10 07:39:56.088132",
         "0 days 00:03:58.721679",
         "512",
         "12",
         "0.037307935356945494",
         "92",
         "0.010243357862013533",
         "2.1671546503493612e-05",
         "COMPLETE"
        ],
        [
         "14",
         "14",
         "4.214686200043616e-08",
         "2025-10-10 06:37:58.187384",
         "2025-10-10 06:42:45.807676",
         "0 days 00:04:47.620292",
         "512",
         "12",
         "0.003679390188915985",
         "99",
         "0.011485536264236398",
         "1.2057123466631223e-05",
         "COMPLETE"
        ],
        [
         "19",
         "19",
         "4.347574744656413e-08",
         "2025-10-10 07:00:49.491729",
         "2025-10-10 07:04:48.544078",
         "0 days 00:03:59.052349",
         "512",
         "12",
         "0.07826007697513222",
         "85",
         "0.06520789598665613",
         "4.105294902436036e-05",
         "COMPLETE"
        ],
        [
         "34",
         "34",
         "4.739904824191399e-08",
         "2025-10-10 08:05:32.146444",
         "2025-10-10 08:07:15.039572",
         "0 days 00:01:42.893128",
         "128",
         "14",
         "0.09349891924600146",
         "86",
         "0.04573169533893851",
         "0.00028199699209775216",
         "COMPLETE"
        ],
        [
         "21",
         "21",
         "4.9558678938410594e-08",
         "2025-10-10 07:11:56.857371",
         "2025-10-10 07:15:56.508824",
         "0 days 00:03:59.651453",
         "512",
         "12",
         "0.005882038933781721",
         "100",
         "0.016236840045824652",
         "6.2172394908561464e-06",
         "COMPLETE"
        ],
        [
         "13",
         "13",
         "5.037422567966132e-08",
         "2025-10-10 06:33:08.432979",
         "2025-10-10 06:37:58.171977",
         "0 days 00:04:49.738998",
         "512",
         "12",
         "0.0029250538298065433",
         "58",
         "0.016558426051194838",
         "7.394636829103411e-06",
         "COMPLETE"
        ],
        [
         "17",
         "17",
         "5.476713837992975e-08",
         "2025-10-10 06:52:34.317983",
         "2025-10-10 06:56:50.551681",
         "0 days 00:04:16.233698",
         "512",
         "8",
         "0.012276814961051692",
         "100",
         "0.06585526099171068",
         "1.4080307368512715e-06",
         "COMPLETE"
        ],
        [
         "15",
         "15",
         "6.599741908530632e-08",
         "2025-10-10 06:42:45.824165",
         "2025-10-10 06:47:39.875672",
         "0 days 00:04:54.051507",
         "512",
         "12",
         "0.016387253583595666",
         "84",
         "0.06513542347864934",
         "4.14899899370307e-06",
         "COMPLETE"
        ],
        [
         "23",
         "23",
         "7.428575798940074e-08",
         "2025-10-10 07:19:54.497381",
         "2025-10-10 07:23:54.204639",
         "0 days 00:03:59.707258",
         "512",
         "12",
         "0.09511488375047654",
         "89",
         "0.10116664330082938",
         "4.489270086631204e-05",
         "COMPLETE"
        ],
        [
         "24",
         "24",
         "7.576446137136372e-08",
         "2025-10-10 07:23:54.220640",
         "2025-10-10 07:27:54.424324",
         "0 days 00:04:00.203684",
         "512",
         "12",
         "0.02295896506288714",
         "79",
         "0.05053178667604649",
         "1.4653401129665471e-05",
         "COMPLETE"
        ],
        [
         "40",
         "40",
         "8.353074321121312e-08",
         "2025-10-10 08:20:49.609828",
         "2025-10-10 08:22:33.951952",
         "0 days 00:01:44.342124",
         "128",
         "10",
         "0.04141393949284356",
         "74",
         "0.08648619354322225",
         "0.03007124583877779",
         "COMPLETE"
        ],
        [
         "26",
         "26",
         "8.807860751858243e-08",
         "2025-10-10 07:31:53.850638",
         "2025-10-10 07:35:57.352788",
         "0 days 00:04:03.502150",
         "512",
         "16",
         "0.0092504388619183",
         "79",
         "0.046560652315590936",
         "0.0007438638053055055",
         "COMPLETE"
        ],
        [
         "28",
         "28",
         "9.299459691192169e-08",
         "2025-10-10 07:39:56.101926",
         "2025-10-10 07:42:22.006968",
         "0 days 00:02:25.905042",
         "256",
         "12",
         "0.029789359417895674",
         "71",
         "0.08427999199522856",
         "3.0219645786051443e-07",
         "COMPLETE"
        ],
        [
         "43",
         "43",
         "9.591231986405546e-08",
         "2025-10-10 08:27:21.106525",
         "2025-10-10 08:29:40.545856",
         "0 days 00:02:19.439331",
         "256",
         "12",
         "1.0206226183835332e-07",
         "97",
         "0.06445087548889086",
         "0.0018802008099998947",
         "COMPLETE"
        ],
        [
         "44",
         "44",
         "1.0125015847961549e-07",
         "2025-10-10 08:29:40.561890",
         "2025-10-10 08:32:07.242122",
         "0 days 00:02:26.680232",
         "256",
         "12",
         "0.0429353740374424",
         "87",
         "0.10044265607173034",
         "0.008688543419924094",
         "COMPLETE"
        ],
        [
         "35",
         "35",
         "1.3740091731051507e-07",
         "2025-10-10 08:07:15.053662",
         "2025-10-10 08:11:12.343617",
         "0 days 00:03:57.289955",
         "512",
         "12",
         "0.01749974194079893",
         "95",
         "0.12047904597827422",
         "7.586836346644811e-05",
         "COMPLETE"
        ],
        [
         "48",
         "48",
         "1.4472115594799106e-07",
         "2025-10-10 08:39:21.518099",
         "2025-10-10 08:41:45.178403",
         "0 days 00:02:23.660304",
         "256",
         "12",
         "0.014967944276088885",
         "95",
         "0.12707862089517244",
         "0.0002030960021098845",
         "COMPLETE"
        ],
        [
         "33",
         "33",
         "1.6425042304035742e-07",
         "2025-10-10 08:01:30.612964",
         "2025-10-10 08:05:32.133146",
         "0 days 00:04:01.520182",
         "512",
         "16",
         "0.00856115156512604",
         "65",
         "0.08215565782556727",
         "7.372073919939892e-05",
         "COMPLETE"
        ],
        [
         "25",
         "25",
         "1.943013643312952e-07",
         "2025-10-10 07:27:54.436914",
         "2025-10-10 07:31:53.836828",
         "0 days 00:03:59.399914",
         "512",
         "8",
         "0.0010483818810031915",
         "91",
         "0.11370744570818404",
         "3.051500183426259e-06",
         "COMPLETE"
        ],
        [
         "11",
         "11",
         "2.74278960432639e-07",
         "2025-10-10 06:23:16.447640",
         "2025-10-10 06:28:11.796621",
         "0 days 00:04:55.348981",
         "512",
         "12",
         "0.0817770264626094",
         "96",
         "0.2719633088903223",
         "2.7906357866223177e-05",
         "COMPLETE"
        ],
        [
         "37",
         "37",
         "2.8890792691527167e-07",
         "2025-10-10 08:13:30.491275",
         "2025-10-10 08:15:52.663441",
         "0 days 00:02:22.172166",
         "256",
         "8",
         "0.0013717793599977487",
         "76",
         "0.1862033175082478",
         "0.0006729271415590579",
         "COMPLETE"
        ],
        [
         "39",
         "39",
         "3.427808223932516e-07",
         "2025-10-10 08:18:21.074816",
         "2025-10-10 08:20:49.594786",
         "0 days 00:02:28.519970",
         "256",
         "14",
         "1.6408346352679738e-05",
         "82",
         "0.1484409600571916",
         "0.010276899164353813",
         "COMPLETE"
        ],
        [
         "7",
         "7",
         "3.429900345963688e-07",
         "2025-10-10 06:10:33.057449",
         "2025-10-10 06:12:32.070512",
         "0 days 00:01:59.013063",
         "128",
         "10",
         "0.03461572850879239",
         "90",
         "0.33376794937659193",
         "0.00012292047755086484",
         "COMPLETE"
        ],
        [
         "30",
         "30",
         "3.4507891655266576e-07",
         "2025-10-10 07:49:25.614157",
         "2025-10-10 07:53:30.668270",
         "0 days 00:04:05.054113",
         "512",
         "12",
         "0.00022109538556635975",
         "84",
         "0.22356863021975576",
         "5.264516463273466e-07",
         "COMPLETE"
        ],
        [
         "18",
         "18",
         "3.528078877934604e-07",
         "2025-10-10 06:56:50.565074",
         "2025-10-10 07:00:49.475283",
         "0 days 00:03:58.910209",
         "512",
         "12",
         "0.0004442006337277207",
         "70",
         "0.25047467817202973",
         "1.020582501009365e-07",
         "COMPLETE"
        ],
        [
         "16",
         "16",
         "4.2364533214822586e-07",
         "2025-10-10 06:47:39.891091",
         "2025-10-10 06:52:34.302548",
         "0 days 00:04:54.411457",
         "512",
         "12",
         "0.00043054121222187863",
         "49",
         "0.14410360089760849",
         "0.00019065362982555403",
         "COMPLETE"
        ],
        [
         "38",
         "38",
         "4.3809802718897117e-07",
         "2025-10-10 08:15:52.674403",
         "2025-10-10 08:18:21.060005",
         "0 days 00:02:28.385602",
         "256",
         "16",
         "0.005282688639878147",
         "65",
         "0.29546228247930606",
         "0.0019158514839666433",
         "COMPLETE"
        ],
        [
         "3",
         "3",
         "4.4711538293995545e-07",
         "2025-10-10 05:49:13.942971",
         "2025-10-10 05:51:12.162734",
         "0 days 00:01:58.219763",
         "128",
         "10",
         "8.62741206290537e-06",
         "73",
         "0.17724554264349865",
         "9.589503954906277e-07",
         "COMPLETE"
        ],
        [
         "29",
         "29",
         "4.863522349296545e-07",
         "2025-10-10 07:42:22.021326",
         "2025-10-10 07:49:25.600217",
         "0 days 00:07:03.578891",
         "1024",
         "14",
         "0.0020259348545899358",
         "41",
         "0.15947690829959232",
         "1.917967442267258e-06",
         "COMPLETE"
        ],
        [
         "20",
         "20",
         "4.947999059368158e-07",
         "2025-10-10 07:04:48.558607",
         "2025-10-10 07:11:56.842901",
         "0 days 00:07:08.284294",
         "1024",
         "12",
         "0.000482614287487761",
         "55",
         "0.18086262184070348",
         "0.0003849009123317294",
         "COMPLETE"
        ],
        [
         "4",
         "4",
         "5.249481205282791e-07",
         "2025-10-10 05:51:12.177807",
         "2025-10-10 05:53:14.581292",
         "0 days 00:02:02.403485",
         "128",
         "14",
         "6.894203396235037e-05",
         "34",
         "0.12760492685205943",
         "0.0009236306607480298",
         "COMPLETE"
        ],
        [
         "49",
         "49",
         "5.257001021163887e-07",
         "2025-10-10 08:41:45.191314",
         "2025-10-10 08:44:08.998171",
         "0 days 00:02:23.806857",
         "256",
         "8",
         "4.504887743993536e-06",
         "90",
         "0.40159944293835603",
         "0.02733889309704837",
         "COMPLETE"
        ],
        [
         "0",
         "0",
         "6.105841521275579e-07",
         "2025-10-10 05:41:45.378843",
         "2025-10-10 05:43:47.579769",
         "0 days 00:02:02.200926",
         "128",
         "14",
         "0.0022423049807778045",
         "39",
         "0.21245996322112576",
         "8.304905767881481e-07",
         "COMPLETE"
        ],
        [
         "8",
         "8",
         "7.327150228775281e-07",
         "2025-10-10 06:12:32.086798",
         "2025-10-10 06:15:28.049269",
         "0 days 00:02:55.962471",
         "256",
         "10",
         "2.860257626978751e-05",
         "78",
         "0.4517168206582063",
         "0.08057802187191092",
         "COMPLETE"
        ],
        [
         "46",
         "46",
         "8.621702818345511e-07",
         "2025-10-10 08:34:29.720688",
         "2025-10-10 08:36:53.685051",
         "0 days 00:02:23.964363",
         "256",
         "10",
         "0.007479471087040044",
         "22",
         "0.33634073092426153",
         "0.0019442703348471555",
         "COMPLETE"
        ],
        [
         "1",
         "1",
         "9.107062055591086e-07",
         "2025-10-10 05:43:47.597897",
         "2025-10-10 05:45:57.297271",
         "0 days 00:02:09.699374",
         "128",
         "16",
         "5.272016450273242e-06",
         "65",
         "0.377529656457951",
         "9.510242684465986e-05",
         "COMPLETE"
        ],
        [
         "5",
         "5",
         "1.0950852811220102e-06",
         "2025-10-10 05:53:14.597022",
         "2025-10-10 06:02:02.509883",
         "0 days 00:08:47.912861",
         "1024",
         "16",
         "2.174661769516133e-06",
         "18",
         "0.09554064146069485",
         "0.004309794811742291",
         "COMPLETE"
        ],
        [
         "6",
         "6",
         "1.8708082052398822e-06",
         "2025-10-10 06:02:02.525223",
         "2025-10-10 06:10:33.038371",
         "0 days 00:08:30.513148",
         "1024",
         "8",
         "3.4260218138945535e-07",
         "25",
         "0.49753504785933206",
         "1.9935983661745795e-07",
         "COMPLETE"
        ],
        [
         "2",
         "2",
         "3.999590262537822e-06",
         "2025-10-10 05:45:57.313988",
         "2025-10-10 05:49:13.924827",
         "0 days 00:03:16.610839",
         "256",
         "14",
         "4.5727951084380554e-05",
         "7",
         "0.39032793253085063",
         "0.0054353014929306295",
         "COMPLETE"
        ],
        [
         "9",
         "9",
         "6.08524305789615e-06",
         "2025-10-10 06:15:28.073136",
         "2025-10-10 06:18:22.380134",
         "0 days 00:02:54.306998",
         "256",
         "10",
         "5.948610070112129e-07",
         "2",
         "0.44689065880081325",
         "0.0033164531296038724",
         "COMPLETE"
        ]
       ],
       "shape": {
        "columns": 12,
        "rows": 50
       }
      },
      "text/html": [
       "<div>\n",
       "<style scoped>\n",
       "    .dataframe tbody tr th:only-of-type {\n",
       "        vertical-align: middle;\n",
       "    }\n",
       "\n",
       "    .dataframe tbody tr th {\n",
       "        vertical-align: top;\n",
       "    }\n",
       "\n",
       "    .dataframe thead th {\n",
       "        text-align: right;\n",
       "    }\n",
       "</style>\n",
       "<table border=\"1\" class=\"dataframe\">\n",
       "  <thead>\n",
       "    <tr style=\"text-align: right;\">\n",
       "      <th></th>\n",
       "      <th>number</th>\n",
       "      <th>value</th>\n",
       "      <th>datetime_start</th>\n",
       "      <th>datetime_complete</th>\n",
       "      <th>duration</th>\n",
       "      <th>params_batch_size</th>\n",
       "      <th>params_embedding_dim</th>\n",
       "      <th>params_learning_rate</th>\n",
       "      <th>params_minimize_window</th>\n",
       "      <th>params_target_ratio</th>\n",
       "      <th>params_weight_decay</th>\n",
       "      <th>state</th>\n",
       "    </tr>\n",
       "  </thead>\n",
       "  <tbody>\n",
       "    <tr>\n",
       "      <th>12</th>\n",
       "      <td>12</td>\n",
       "      <td>3.804108e-09</td>\n",
       "      <td>2025-10-10 06:28:11.812064</td>\n",
       "      <td>2025-10-10 06:33:08.420052</td>\n",
       "      <td>0 days 00:04:56.607988</td>\n",
       "      <td>512</td>\n",
       "      <td>12</td>\n",
       "      <td>9.354098e-02</td>\n",
       "      <td>98</td>\n",
       "      <td>0.015113</td>\n",
       "      <td>1.023069e-05</td>\n",
       "      <td>COMPLETE</td>\n",
       "    </tr>\n",
       "    <tr>\n",
       "      <th>10</th>\n",
       "      <td>10</td>\n",
       "      <td>8.794059e-09</td>\n",
       "      <td>2025-10-10 06:18:22.395831</td>\n",
       "      <td>2025-10-10 06:23:16.432498</td>\n",
       "      <td>0 days 00:04:54.036667</td>\n",
       "      <td>512</td>\n",
       "      <td>12</td>\n",
       "      <td>9.287618e-02</td>\n",
       "      <td>99</td>\n",
       "      <td>0.013041</td>\n",
       "      <td>3.357303e-05</td>\n",
       "      <td>COMPLETE</td>\n",
       "    </tr>\n",
       "    <tr>\n",
       "      <th>36</th>\n",
       "      <td>36</td>\n",
       "      <td>1.056865e-08</td>\n",
       "      <td>2025-10-10 08:11:12.358111</td>\n",
       "      <td>2025-10-10 08:13:30.477513</td>\n",
       "      <td>0 days 00:02:18.119402</td>\n",
       "      <td>256</td>\n",
       "      <td>12</td>\n",
       "      <td>4.845412e-02</td>\n",
       "      <td>75</td>\n",
       "      <td>0.034707</td>\n",
       "      <td>1.548235e-03</td>\n",
       "      <td>COMPLETE</td>\n",
       "    </tr>\n",
       "    <tr>\n",
       "      <th>42</th>\n",
       "      <td>42</td>\n",
       "      <td>1.085981e-08</td>\n",
       "      <td>2025-10-10 08:24:55.022891</td>\n",
       "      <td>2025-10-10 08:27:21.093170</td>\n",
       "      <td>0 days 00:02:26.070279</td>\n",
       "      <td>256</td>\n",
       "      <td>12</td>\n",
       "      <td>4.817184e-02</td>\n",
       "      <td>96</td>\n",
       "      <td>0.039691</td>\n",
       "      <td>1.436794e-03</td>\n",
       "      <td>COMPLETE</td>\n",
       "    </tr>\n",
       "    <tr>\n",
       "      <th>41</th>\n",
       "      <td>41</td>\n",
       "      <td>1.347579e-08</td>\n",
       "      <td>2025-10-10 08:22:33.971307</td>\n",
       "      <td>2025-10-10 08:24:55.008193</td>\n",
       "      <td>0 days 00:02:21.036886</td>\n",
       "      <td>256</td>\n",
       "      <td>12</td>\n",
       "      <td>5.075157e-02</td>\n",
       "      <td>89</td>\n",
       "      <td>0.030653</td>\n",
       "      <td>1.393884e-04</td>\n",
       "      <td>COMPLETE</td>\n",
       "    </tr>\n",
       "    <tr>\n",
       "      <th>32</th>\n",
       "      <td>32</td>\n",
       "      <td>1.707313e-08</td>\n",
       "      <td>2025-10-10 07:57:31.688774</td>\n",
       "      <td>2025-10-10 08:01:30.598724</td>\n",
       "      <td>0 days 00:03:58.909950</td>\n",
       "      <td>512</td>\n",
       "      <td>12</td>\n",
       "      <td>9.106434e-02</td>\n",
       "      <td>94</td>\n",
       "      <td>0.035340</td>\n",
       "      <td>6.504538e-05</td>\n",
       "      <td>COMPLETE</td>\n",
       "    </tr>\n",
       "    <tr>\n",
       "      <th>22</th>\n",
       "      <td>22</td>\n",
       "      <td>3.348184e-08</td>\n",
       "      <td>2025-10-10 07:15:56.522713</td>\n",
       "      <td>2025-10-10 07:19:54.485270</td>\n",
       "      <td>0 days 00:03:57.962557</td>\n",
       "      <td>512</td>\n",
       "      <td>12</td>\n",
       "      <td>9.823068e-02</td>\n",
       "      <td>90</td>\n",
       "      <td>0.025490</td>\n",
       "      <td>1.869856e-05</td>\n",
       "      <td>COMPLETE</td>\n",
       "    </tr>\n",
       "    <tr>\n",
       "      <th>31</th>\n",
       "      <td>31</td>\n",
       "      <td>3.492180e-08</td>\n",
       "      <td>2025-10-10 07:53:30.683796</td>\n",
       "      <td>2025-10-10 07:57:31.676429</td>\n",
       "      <td>0 days 00:04:00.992633</td>\n",
       "      <td>512</td>\n",
       "      <td>12</td>\n",
       "      <td>4.762199e-02</td>\n",
       "      <td>94</td>\n",
       "      <td>0.037589</td>\n",
       "      <td>1.610795e-05</td>\n",
       "      <td>COMPLETE</td>\n",
       "    </tr>\n",
       "    <tr>\n",
       "      <th>47</th>\n",
       "      <td>47</td>\n",
       "      <td>3.629247e-08</td>\n",
       "      <td>2025-10-10 08:36:53.704157</td>\n",
       "      <td>2025-10-10 08:39:21.503865</td>\n",
       "      <td>0 days 00:02:27.799708</td>\n",
       "      <td>256</td>\n",
       "      <td>12</td>\n",
       "      <td>4.923650e-02</td>\n",
       "      <td>80</td>\n",
       "      <td>0.063661</td>\n",
       "      <td>4.596253e-04</td>\n",
       "      <td>COMPLETE</td>\n",
       "    </tr>\n",
       "    <tr>\n",
       "      <th>45</th>\n",
       "      <td>45</td>\n",
       "      <td>3.709777e-08</td>\n",
       "      <td>2025-10-10 08:32:07.259907</td>\n",
       "      <td>2025-10-10 08:34:29.707610</td>\n",
       "      <td>0 days 00:02:22.447703</td>\n",
       "      <td>256</td>\n",
       "      <td>12</td>\n",
       "      <td>1.999620e-02</td>\n",
       "      <td>100</td>\n",
       "      <td>0.033333</td>\n",
       "      <td>1.304638e-04</td>\n",
       "      <td>COMPLETE</td>\n",
       "    </tr>\n",
       "    <tr>\n",
       "      <th>27</th>\n",
       "      <td>27</td>\n",
       "      <td>3.987625e-08</td>\n",
       "      <td>2025-10-10 07:35:57.366453</td>\n",
       "      <td>2025-10-10 07:39:56.088132</td>\n",
       "      <td>0 days 00:03:58.721679</td>\n",
       "      <td>512</td>\n",
       "      <td>12</td>\n",
       "      <td>3.730794e-02</td>\n",
       "      <td>92</td>\n",
       "      <td>0.010243</td>\n",
       "      <td>2.167155e-05</td>\n",
       "      <td>COMPLETE</td>\n",
       "    </tr>\n",
       "    <tr>\n",
       "      <th>14</th>\n",
       "      <td>14</td>\n",
       "      <td>4.214686e-08</td>\n",
       "      <td>2025-10-10 06:37:58.187384</td>\n",
       "      <td>2025-10-10 06:42:45.807676</td>\n",
       "      <td>0 days 00:04:47.620292</td>\n",
       "      <td>512</td>\n",
       "      <td>12</td>\n",
       "      <td>3.679390e-03</td>\n",
       "      <td>99</td>\n",
       "      <td>0.011486</td>\n",
       "      <td>1.205712e-05</td>\n",
       "      <td>COMPLETE</td>\n",
       "    </tr>\n",
       "    <tr>\n",
       "      <th>19</th>\n",
       "      <td>19</td>\n",
       "      <td>4.347575e-08</td>\n",
       "      <td>2025-10-10 07:00:49.491729</td>\n",
       "      <td>2025-10-10 07:04:48.544078</td>\n",
       "      <td>0 days 00:03:59.052349</td>\n",
       "      <td>512</td>\n",
       "      <td>12</td>\n",
       "      <td>7.826008e-02</td>\n",
       "      <td>85</td>\n",
       "      <td>0.065208</td>\n",
       "      <td>4.105295e-05</td>\n",
       "      <td>COMPLETE</td>\n",
       "    </tr>\n",
       "    <tr>\n",
       "      <th>34</th>\n",
       "      <td>34</td>\n",
       "      <td>4.739905e-08</td>\n",
       "      <td>2025-10-10 08:05:32.146444</td>\n",
       "      <td>2025-10-10 08:07:15.039572</td>\n",
       "      <td>0 days 00:01:42.893128</td>\n",
       "      <td>128</td>\n",
       "      <td>14</td>\n",
       "      <td>9.349892e-02</td>\n",
       "      <td>86</td>\n",
       "      <td>0.045732</td>\n",
       "      <td>2.819970e-04</td>\n",
       "      <td>COMPLETE</td>\n",
       "    </tr>\n",
       "    <tr>\n",
       "      <th>21</th>\n",
       "      <td>21</td>\n",
       "      <td>4.955868e-08</td>\n",
       "      <td>2025-10-10 07:11:56.857371</td>\n",
       "      <td>2025-10-10 07:15:56.508824</td>\n",
       "      <td>0 days 00:03:59.651453</td>\n",
       "      <td>512</td>\n",
       "      <td>12</td>\n",
       "      <td>5.882039e-03</td>\n",
       "      <td>100</td>\n",
       "      <td>0.016237</td>\n",
       "      <td>6.217239e-06</td>\n",
       "      <td>COMPLETE</td>\n",
       "    </tr>\n",
       "    <tr>\n",
       "      <th>13</th>\n",
       "      <td>13</td>\n",
       "      <td>5.037423e-08</td>\n",
       "      <td>2025-10-10 06:33:08.432979</td>\n",
       "      <td>2025-10-10 06:37:58.171977</td>\n",
       "      <td>0 days 00:04:49.738998</td>\n",
       "      <td>512</td>\n",
       "      <td>12</td>\n",
       "      <td>2.925054e-03</td>\n",
       "      <td>58</td>\n",
       "      <td>0.016558</td>\n",
       "      <td>7.394637e-06</td>\n",
       "      <td>COMPLETE</td>\n",
       "    </tr>\n",
       "    <tr>\n",
       "      <th>17</th>\n",
       "      <td>17</td>\n",
       "      <td>5.476714e-08</td>\n",
       "      <td>2025-10-10 06:52:34.317983</td>\n",
       "      <td>2025-10-10 06:56:50.551681</td>\n",
       "      <td>0 days 00:04:16.233698</td>\n",
       "      <td>512</td>\n",
       "      <td>8</td>\n",
       "      <td>1.227681e-02</td>\n",
       "      <td>100</td>\n",
       "      <td>0.065855</td>\n",
       "      <td>1.408031e-06</td>\n",
       "      <td>COMPLETE</td>\n",
       "    </tr>\n",
       "    <tr>\n",
       "      <th>15</th>\n",
       "      <td>15</td>\n",
       "      <td>6.599742e-08</td>\n",
       "      <td>2025-10-10 06:42:45.824165</td>\n",
       "      <td>2025-10-10 06:47:39.875672</td>\n",
       "      <td>0 days 00:04:54.051507</td>\n",
       "      <td>512</td>\n",
       "      <td>12</td>\n",
       "      <td>1.638725e-02</td>\n",
       "      <td>84</td>\n",
       "      <td>0.065135</td>\n",
       "      <td>4.148999e-06</td>\n",
       "      <td>COMPLETE</td>\n",
       "    </tr>\n",
       "    <tr>\n",
       "      <th>23</th>\n",
       "      <td>23</td>\n",
       "      <td>7.428576e-08</td>\n",
       "      <td>2025-10-10 07:19:54.497381</td>\n",
       "      <td>2025-10-10 07:23:54.204639</td>\n",
       "      <td>0 days 00:03:59.707258</td>\n",
       "      <td>512</td>\n",
       "      <td>12</td>\n",
       "      <td>9.511488e-02</td>\n",
       "      <td>89</td>\n",
       "      <td>0.101167</td>\n",
       "      <td>4.489270e-05</td>\n",
       "      <td>COMPLETE</td>\n",
       "    </tr>\n",
       "    <tr>\n",
       "      <th>24</th>\n",
       "      <td>24</td>\n",
       "      <td>7.576446e-08</td>\n",
       "      <td>2025-10-10 07:23:54.220640</td>\n",
       "      <td>2025-10-10 07:27:54.424324</td>\n",
       "      <td>0 days 00:04:00.203684</td>\n",
       "      <td>512</td>\n",
       "      <td>12</td>\n",
       "      <td>2.295897e-02</td>\n",
       "      <td>79</td>\n",
       "      <td>0.050532</td>\n",
       "      <td>1.465340e-05</td>\n",
       "      <td>COMPLETE</td>\n",
       "    </tr>\n",
       "    <tr>\n",
       "      <th>40</th>\n",
       "      <td>40</td>\n",
       "      <td>8.353074e-08</td>\n",
       "      <td>2025-10-10 08:20:49.609828</td>\n",
       "      <td>2025-10-10 08:22:33.951952</td>\n",
       "      <td>0 days 00:01:44.342124</td>\n",
       "      <td>128</td>\n",
       "      <td>10</td>\n",
       "      <td>4.141394e-02</td>\n",
       "      <td>74</td>\n",
       "      <td>0.086486</td>\n",
       "      <td>3.007125e-02</td>\n",
       "      <td>COMPLETE</td>\n",
       "    </tr>\n",
       "    <tr>\n",
       "      <th>26</th>\n",
       "      <td>26</td>\n",
       "      <td>8.807861e-08</td>\n",
       "      <td>2025-10-10 07:31:53.850638</td>\n",
       "      <td>2025-10-10 07:35:57.352788</td>\n",
       "      <td>0 days 00:04:03.502150</td>\n",
       "      <td>512</td>\n",
       "      <td>16</td>\n",
       "      <td>9.250439e-03</td>\n",
       "      <td>79</td>\n",
       "      <td>0.046561</td>\n",
       "      <td>7.438638e-04</td>\n",
       "      <td>COMPLETE</td>\n",
       "    </tr>\n",
       "    <tr>\n",
       "      <th>28</th>\n",
       "      <td>28</td>\n",
       "      <td>9.299460e-08</td>\n",
       "      <td>2025-10-10 07:39:56.101926</td>\n",
       "      <td>2025-10-10 07:42:22.006968</td>\n",
       "      <td>0 days 00:02:25.905042</td>\n",
       "      <td>256</td>\n",
       "      <td>12</td>\n",
       "      <td>2.978936e-02</td>\n",
       "      <td>71</td>\n",
       "      <td>0.084280</td>\n",
       "      <td>3.021965e-07</td>\n",
       "      <td>COMPLETE</td>\n",
       "    </tr>\n",
       "    <tr>\n",
       "      <th>43</th>\n",
       "      <td>43</td>\n",
       "      <td>9.591232e-08</td>\n",
       "      <td>2025-10-10 08:27:21.106525</td>\n",
       "      <td>2025-10-10 08:29:40.545856</td>\n",
       "      <td>0 days 00:02:19.439331</td>\n",
       "      <td>256</td>\n",
       "      <td>12</td>\n",
       "      <td>1.020623e-07</td>\n",
       "      <td>97</td>\n",
       "      <td>0.064451</td>\n",
       "      <td>1.880201e-03</td>\n",
       "      <td>COMPLETE</td>\n",
       "    </tr>\n",
       "    <tr>\n",
       "      <th>44</th>\n",
       "      <td>44</td>\n",
       "      <td>1.012502e-07</td>\n",
       "      <td>2025-10-10 08:29:40.561890</td>\n",
       "      <td>2025-10-10 08:32:07.242122</td>\n",
       "      <td>0 days 00:02:26.680232</td>\n",
       "      <td>256</td>\n",
       "      <td>12</td>\n",
       "      <td>4.293537e-02</td>\n",
       "      <td>87</td>\n",
       "      <td>0.100443</td>\n",
       "      <td>8.688543e-03</td>\n",
       "      <td>COMPLETE</td>\n",
       "    </tr>\n",
       "    <tr>\n",
       "      <th>35</th>\n",
       "      <td>35</td>\n",
       "      <td>1.374009e-07</td>\n",
       "      <td>2025-10-10 08:07:15.053662</td>\n",
       "      <td>2025-10-10 08:11:12.343617</td>\n",
       "      <td>0 days 00:03:57.289955</td>\n",
       "      <td>512</td>\n",
       "      <td>12</td>\n",
       "      <td>1.749974e-02</td>\n",
       "      <td>95</td>\n",
       "      <td>0.120479</td>\n",
       "      <td>7.586836e-05</td>\n",
       "      <td>COMPLETE</td>\n",
       "    </tr>\n",
       "    <tr>\n",
       "      <th>48</th>\n",
       "      <td>48</td>\n",
       "      <td>1.447212e-07</td>\n",
       "      <td>2025-10-10 08:39:21.518099</td>\n",
       "      <td>2025-10-10 08:41:45.178403</td>\n",
       "      <td>0 days 00:02:23.660304</td>\n",
       "      <td>256</td>\n",
       "      <td>12</td>\n",
       "      <td>1.496794e-02</td>\n",
       "      <td>95</td>\n",
       "      <td>0.127079</td>\n",
       "      <td>2.030960e-04</td>\n",
       "      <td>COMPLETE</td>\n",
       "    </tr>\n",
       "    <tr>\n",
       "      <th>33</th>\n",
       "      <td>33</td>\n",
       "      <td>1.642504e-07</td>\n",
       "      <td>2025-10-10 08:01:30.612964</td>\n",
       "      <td>2025-10-10 08:05:32.133146</td>\n",
       "      <td>0 days 00:04:01.520182</td>\n",
       "      <td>512</td>\n",
       "      <td>16</td>\n",
       "      <td>8.561152e-03</td>\n",
       "      <td>65</td>\n",
       "      <td>0.082156</td>\n",
       "      <td>7.372074e-05</td>\n",
       "      <td>COMPLETE</td>\n",
       "    </tr>\n",
       "    <tr>\n",
       "      <th>25</th>\n",
       "      <td>25</td>\n",
       "      <td>1.943014e-07</td>\n",
       "      <td>2025-10-10 07:27:54.436914</td>\n",
       "      <td>2025-10-10 07:31:53.836828</td>\n",
       "      <td>0 days 00:03:59.399914</td>\n",
       "      <td>512</td>\n",
       "      <td>8</td>\n",
       "      <td>1.048382e-03</td>\n",
       "      <td>91</td>\n",
       "      <td>0.113707</td>\n",
       "      <td>3.051500e-06</td>\n",
       "      <td>COMPLETE</td>\n",
       "    </tr>\n",
       "    <tr>\n",
       "      <th>11</th>\n",
       "      <td>11</td>\n",
       "      <td>2.742790e-07</td>\n",
       "      <td>2025-10-10 06:23:16.447640</td>\n",
       "      <td>2025-10-10 06:28:11.796621</td>\n",
       "      <td>0 days 00:04:55.348981</td>\n",
       "      <td>512</td>\n",
       "      <td>12</td>\n",
       "      <td>8.177703e-02</td>\n",
       "      <td>96</td>\n",
       "      <td>0.271963</td>\n",
       "      <td>2.790636e-05</td>\n",
       "      <td>COMPLETE</td>\n",
       "    </tr>\n",
       "    <tr>\n",
       "      <th>37</th>\n",
       "      <td>37</td>\n",
       "      <td>2.889079e-07</td>\n",
       "      <td>2025-10-10 08:13:30.491275</td>\n",
       "      <td>2025-10-10 08:15:52.663441</td>\n",
       "      <td>0 days 00:02:22.172166</td>\n",
       "      <td>256</td>\n",
       "      <td>8</td>\n",
       "      <td>1.371779e-03</td>\n",
       "      <td>76</td>\n",
       "      <td>0.186203</td>\n",
       "      <td>6.729271e-04</td>\n",
       "      <td>COMPLETE</td>\n",
       "    </tr>\n",
       "    <tr>\n",
       "      <th>39</th>\n",
       "      <td>39</td>\n",
       "      <td>3.427808e-07</td>\n",
       "      <td>2025-10-10 08:18:21.074816</td>\n",
       "      <td>2025-10-10 08:20:49.594786</td>\n",
       "      <td>0 days 00:02:28.519970</td>\n",
       "      <td>256</td>\n",
       "      <td>14</td>\n",
       "      <td>1.640835e-05</td>\n",
       "      <td>82</td>\n",
       "      <td>0.148441</td>\n",
       "      <td>1.027690e-02</td>\n",
       "      <td>COMPLETE</td>\n",
       "    </tr>\n",
       "    <tr>\n",
       "      <th>7</th>\n",
       "      <td>7</td>\n",
       "      <td>3.429900e-07</td>\n",
       "      <td>2025-10-10 06:10:33.057449</td>\n",
       "      <td>2025-10-10 06:12:32.070512</td>\n",
       "      <td>0 days 00:01:59.013063</td>\n",
       "      <td>128</td>\n",
       "      <td>10</td>\n",
       "      <td>3.461573e-02</td>\n",
       "      <td>90</td>\n",
       "      <td>0.333768</td>\n",
       "      <td>1.229205e-04</td>\n",
       "      <td>COMPLETE</td>\n",
       "    </tr>\n",
       "    <tr>\n",
       "      <th>30</th>\n",
       "      <td>30</td>\n",
       "      <td>3.450789e-07</td>\n",
       "      <td>2025-10-10 07:49:25.614157</td>\n",
       "      <td>2025-10-10 07:53:30.668270</td>\n",
       "      <td>0 days 00:04:05.054113</td>\n",
       "      <td>512</td>\n",
       "      <td>12</td>\n",
       "      <td>2.210954e-04</td>\n",
       "      <td>84</td>\n",
       "      <td>0.223569</td>\n",
       "      <td>5.264516e-07</td>\n",
       "      <td>COMPLETE</td>\n",
       "    </tr>\n",
       "    <tr>\n",
       "      <th>18</th>\n",
       "      <td>18</td>\n",
       "      <td>3.528079e-07</td>\n",
       "      <td>2025-10-10 06:56:50.565074</td>\n",
       "      <td>2025-10-10 07:00:49.475283</td>\n",
       "      <td>0 days 00:03:58.910209</td>\n",
       "      <td>512</td>\n",
       "      <td>12</td>\n",
       "      <td>4.442006e-04</td>\n",
       "      <td>70</td>\n",
       "      <td>0.250475</td>\n",
       "      <td>1.020583e-07</td>\n",
       "      <td>COMPLETE</td>\n",
       "    </tr>\n",
       "    <tr>\n",
       "      <th>16</th>\n",
       "      <td>16</td>\n",
       "      <td>4.236453e-07</td>\n",
       "      <td>2025-10-10 06:47:39.891091</td>\n",
       "      <td>2025-10-10 06:52:34.302548</td>\n",
       "      <td>0 days 00:04:54.411457</td>\n",
       "      <td>512</td>\n",
       "      <td>12</td>\n",
       "      <td>4.305412e-04</td>\n",
       "      <td>49</td>\n",
       "      <td>0.144104</td>\n",
       "      <td>1.906536e-04</td>\n",
       "      <td>COMPLETE</td>\n",
       "    </tr>\n",
       "    <tr>\n",
       "      <th>38</th>\n",
       "      <td>38</td>\n",
       "      <td>4.380980e-07</td>\n",
       "      <td>2025-10-10 08:15:52.674403</td>\n",
       "      <td>2025-10-10 08:18:21.060005</td>\n",
       "      <td>0 days 00:02:28.385602</td>\n",
       "      <td>256</td>\n",
       "      <td>16</td>\n",
       "      <td>5.282689e-03</td>\n",
       "      <td>65</td>\n",
       "      <td>0.295462</td>\n",
       "      <td>1.915851e-03</td>\n",
       "      <td>COMPLETE</td>\n",
       "    </tr>\n",
       "    <tr>\n",
       "      <th>3</th>\n",
       "      <td>3</td>\n",
       "      <td>4.471154e-07</td>\n",
       "      <td>2025-10-10 05:49:13.942971</td>\n",
       "      <td>2025-10-10 05:51:12.162734</td>\n",
       "      <td>0 days 00:01:58.219763</td>\n",
       "      <td>128</td>\n",
       "      <td>10</td>\n",
       "      <td>8.627412e-06</td>\n",
       "      <td>73</td>\n",
       "      <td>0.177246</td>\n",
       "      <td>9.589504e-07</td>\n",
       "      <td>COMPLETE</td>\n",
       "    </tr>\n",
       "    <tr>\n",
       "      <th>29</th>\n",
       "      <td>29</td>\n",
       "      <td>4.863522e-07</td>\n",
       "      <td>2025-10-10 07:42:22.021326</td>\n",
       "      <td>2025-10-10 07:49:25.600217</td>\n",
       "      <td>0 days 00:07:03.578891</td>\n",
       "      <td>1024</td>\n",
       "      <td>14</td>\n",
       "      <td>2.025935e-03</td>\n",
       "      <td>41</td>\n",
       "      <td>0.159477</td>\n",
       "      <td>1.917967e-06</td>\n",
       "      <td>COMPLETE</td>\n",
       "    </tr>\n",
       "    <tr>\n",
       "      <th>20</th>\n",
       "      <td>20</td>\n",
       "      <td>4.947999e-07</td>\n",
       "      <td>2025-10-10 07:04:48.558607</td>\n",
       "      <td>2025-10-10 07:11:56.842901</td>\n",
       "      <td>0 days 00:07:08.284294</td>\n",
       "      <td>1024</td>\n",
       "      <td>12</td>\n",
       "      <td>4.826143e-04</td>\n",
       "      <td>55</td>\n",
       "      <td>0.180863</td>\n",
       "      <td>3.849009e-04</td>\n",
       "      <td>COMPLETE</td>\n",
       "    </tr>\n",
       "    <tr>\n",
       "      <th>4</th>\n",
       "      <td>4</td>\n",
       "      <td>5.249481e-07</td>\n",
       "      <td>2025-10-10 05:51:12.177807</td>\n",
       "      <td>2025-10-10 05:53:14.581292</td>\n",
       "      <td>0 days 00:02:02.403485</td>\n",
       "      <td>128</td>\n",
       "      <td>14</td>\n",
       "      <td>6.894203e-05</td>\n",
       "      <td>34</td>\n",
       "      <td>0.127605</td>\n",
       "      <td>9.236307e-04</td>\n",
       "      <td>COMPLETE</td>\n",
       "    </tr>\n",
       "    <tr>\n",
       "      <th>49</th>\n",
       "      <td>49</td>\n",
       "      <td>5.257001e-07</td>\n",
       "      <td>2025-10-10 08:41:45.191314</td>\n",
       "      <td>2025-10-10 08:44:08.998171</td>\n",
       "      <td>0 days 00:02:23.806857</td>\n",
       "      <td>256</td>\n",
       "      <td>8</td>\n",
       "      <td>4.504888e-06</td>\n",
       "      <td>90</td>\n",
       "      <td>0.401599</td>\n",
       "      <td>2.733889e-02</td>\n",
       "      <td>COMPLETE</td>\n",
       "    </tr>\n",
       "    <tr>\n",
       "      <th>0</th>\n",
       "      <td>0</td>\n",
       "      <td>6.105842e-07</td>\n",
       "      <td>2025-10-10 05:41:45.378843</td>\n",
       "      <td>2025-10-10 05:43:47.579769</td>\n",
       "      <td>0 days 00:02:02.200926</td>\n",
       "      <td>128</td>\n",
       "      <td>14</td>\n",
       "      <td>2.242305e-03</td>\n",
       "      <td>39</td>\n",
       "      <td>0.212460</td>\n",
       "      <td>8.304906e-07</td>\n",
       "      <td>COMPLETE</td>\n",
       "    </tr>\n",
       "    <tr>\n",
       "      <th>8</th>\n",
       "      <td>8</td>\n",
       "      <td>7.327150e-07</td>\n",
       "      <td>2025-10-10 06:12:32.086798</td>\n",
       "      <td>2025-10-10 06:15:28.049269</td>\n",
       "      <td>0 days 00:02:55.962471</td>\n",
       "      <td>256</td>\n",
       "      <td>10</td>\n",
       "      <td>2.860258e-05</td>\n",
       "      <td>78</td>\n",
       "      <td>0.451717</td>\n",
       "      <td>8.057802e-02</td>\n",
       "      <td>COMPLETE</td>\n",
       "    </tr>\n",
       "    <tr>\n",
       "      <th>46</th>\n",
       "      <td>46</td>\n",
       "      <td>8.621703e-07</td>\n",
       "      <td>2025-10-10 08:34:29.720688</td>\n",
       "      <td>2025-10-10 08:36:53.685051</td>\n",
       "      <td>0 days 00:02:23.964363</td>\n",
       "      <td>256</td>\n",
       "      <td>10</td>\n",
       "      <td>7.479471e-03</td>\n",
       "      <td>22</td>\n",
       "      <td>0.336341</td>\n",
       "      <td>1.944270e-03</td>\n",
       "      <td>COMPLETE</td>\n",
       "    </tr>\n",
       "    <tr>\n",
       "      <th>1</th>\n",
       "      <td>1</td>\n",
       "      <td>9.107062e-07</td>\n",
       "      <td>2025-10-10 05:43:47.597897</td>\n",
       "      <td>2025-10-10 05:45:57.297271</td>\n",
       "      <td>0 days 00:02:09.699374</td>\n",
       "      <td>128</td>\n",
       "      <td>16</td>\n",
       "      <td>5.272016e-06</td>\n",
       "      <td>65</td>\n",
       "      <td>0.377530</td>\n",
       "      <td>9.510243e-05</td>\n",
       "      <td>COMPLETE</td>\n",
       "    </tr>\n",
       "    <tr>\n",
       "      <th>5</th>\n",
       "      <td>5</td>\n",
       "      <td>1.095085e-06</td>\n",
       "      <td>2025-10-10 05:53:14.597022</td>\n",
       "      <td>2025-10-10 06:02:02.509883</td>\n",
       "      <td>0 days 00:08:47.912861</td>\n",
       "      <td>1024</td>\n",
       "      <td>16</td>\n",
       "      <td>2.174662e-06</td>\n",
       "      <td>18</td>\n",
       "      <td>0.095541</td>\n",
       "      <td>4.309795e-03</td>\n",
       "      <td>COMPLETE</td>\n",
       "    </tr>\n",
       "    <tr>\n",
       "      <th>6</th>\n",
       "      <td>6</td>\n",
       "      <td>1.870808e-06</td>\n",
       "      <td>2025-10-10 06:02:02.525223</td>\n",
       "      <td>2025-10-10 06:10:33.038371</td>\n",
       "      <td>0 days 00:08:30.513148</td>\n",
       "      <td>1024</td>\n",
       "      <td>8</td>\n",
       "      <td>3.426022e-07</td>\n",
       "      <td>25</td>\n",
       "      <td>0.497535</td>\n",
       "      <td>1.993598e-07</td>\n",
       "      <td>COMPLETE</td>\n",
       "    </tr>\n",
       "    <tr>\n",
       "      <th>2</th>\n",
       "      <td>2</td>\n",
       "      <td>3.999590e-06</td>\n",
       "      <td>2025-10-10 05:45:57.313988</td>\n",
       "      <td>2025-10-10 05:49:13.924827</td>\n",
       "      <td>0 days 00:03:16.610839</td>\n",
       "      <td>256</td>\n",
       "      <td>14</td>\n",
       "      <td>4.572795e-05</td>\n",
       "      <td>7</td>\n",
       "      <td>0.390328</td>\n",
       "      <td>5.435301e-03</td>\n",
       "      <td>COMPLETE</td>\n",
       "    </tr>\n",
       "    <tr>\n",
       "      <th>9</th>\n",
       "      <td>9</td>\n",
       "      <td>6.085243e-06</td>\n",
       "      <td>2025-10-10 06:15:28.073136</td>\n",
       "      <td>2025-10-10 06:18:22.380134</td>\n",
       "      <td>0 days 00:02:54.306998</td>\n",
       "      <td>256</td>\n",
       "      <td>10</td>\n",
       "      <td>5.948610e-07</td>\n",
       "      <td>2</td>\n",
       "      <td>0.446891</td>\n",
       "      <td>3.316453e-03</td>\n",
       "      <td>COMPLETE</td>\n",
       "    </tr>\n",
       "  </tbody>\n",
       "</table>\n",
       "</div>"
      ],
      "text/plain": [
       "    number         value             datetime_start  \\\n",
       "12      12  3.804108e-09 2025-10-10 06:28:11.812064   \n",
       "10      10  8.794059e-09 2025-10-10 06:18:22.395831   \n",
       "36      36  1.056865e-08 2025-10-10 08:11:12.358111   \n",
       "42      42  1.085981e-08 2025-10-10 08:24:55.022891   \n",
       "41      41  1.347579e-08 2025-10-10 08:22:33.971307   \n",
       "32      32  1.707313e-08 2025-10-10 07:57:31.688774   \n",
       "22      22  3.348184e-08 2025-10-10 07:15:56.522713   \n",
       "31      31  3.492180e-08 2025-10-10 07:53:30.683796   \n",
       "47      47  3.629247e-08 2025-10-10 08:36:53.704157   \n",
       "45      45  3.709777e-08 2025-10-10 08:32:07.259907   \n",
       "27      27  3.987625e-08 2025-10-10 07:35:57.366453   \n",
       "14      14  4.214686e-08 2025-10-10 06:37:58.187384   \n",
       "19      19  4.347575e-08 2025-10-10 07:00:49.491729   \n",
       "34      34  4.739905e-08 2025-10-10 08:05:32.146444   \n",
       "21      21  4.955868e-08 2025-10-10 07:11:56.857371   \n",
       "13      13  5.037423e-08 2025-10-10 06:33:08.432979   \n",
       "17      17  5.476714e-08 2025-10-10 06:52:34.317983   \n",
       "15      15  6.599742e-08 2025-10-10 06:42:45.824165   \n",
       "23      23  7.428576e-08 2025-10-10 07:19:54.497381   \n",
       "24      24  7.576446e-08 2025-10-10 07:23:54.220640   \n",
       "40      40  8.353074e-08 2025-10-10 08:20:49.609828   \n",
       "26      26  8.807861e-08 2025-10-10 07:31:53.850638   \n",
       "28      28  9.299460e-08 2025-10-10 07:39:56.101926   \n",
       "43      43  9.591232e-08 2025-10-10 08:27:21.106525   \n",
       "44      44  1.012502e-07 2025-10-10 08:29:40.561890   \n",
       "35      35  1.374009e-07 2025-10-10 08:07:15.053662   \n",
       "48      48  1.447212e-07 2025-10-10 08:39:21.518099   \n",
       "33      33  1.642504e-07 2025-10-10 08:01:30.612964   \n",
       "25      25  1.943014e-07 2025-10-10 07:27:54.436914   \n",
       "11      11  2.742790e-07 2025-10-10 06:23:16.447640   \n",
       "37      37  2.889079e-07 2025-10-10 08:13:30.491275   \n",
       "39      39  3.427808e-07 2025-10-10 08:18:21.074816   \n",
       "7        7  3.429900e-07 2025-10-10 06:10:33.057449   \n",
       "30      30  3.450789e-07 2025-10-10 07:49:25.614157   \n",
       "18      18  3.528079e-07 2025-10-10 06:56:50.565074   \n",
       "16      16  4.236453e-07 2025-10-10 06:47:39.891091   \n",
       "38      38  4.380980e-07 2025-10-10 08:15:52.674403   \n",
       "3        3  4.471154e-07 2025-10-10 05:49:13.942971   \n",
       "29      29  4.863522e-07 2025-10-10 07:42:22.021326   \n",
       "20      20  4.947999e-07 2025-10-10 07:04:48.558607   \n",
       "4        4  5.249481e-07 2025-10-10 05:51:12.177807   \n",
       "49      49  5.257001e-07 2025-10-10 08:41:45.191314   \n",
       "0        0  6.105842e-07 2025-10-10 05:41:45.378843   \n",
       "8        8  7.327150e-07 2025-10-10 06:12:32.086798   \n",
       "46      46  8.621703e-07 2025-10-10 08:34:29.720688   \n",
       "1        1  9.107062e-07 2025-10-10 05:43:47.597897   \n",
       "5        5  1.095085e-06 2025-10-10 05:53:14.597022   \n",
       "6        6  1.870808e-06 2025-10-10 06:02:02.525223   \n",
       "2        2  3.999590e-06 2025-10-10 05:45:57.313988   \n",
       "9        9  6.085243e-06 2025-10-10 06:15:28.073136   \n",
       "\n",
       "            datetime_complete               duration  params_batch_size  \\\n",
       "12 2025-10-10 06:33:08.420052 0 days 00:04:56.607988                512   \n",
       "10 2025-10-10 06:23:16.432498 0 days 00:04:54.036667                512   \n",
       "36 2025-10-10 08:13:30.477513 0 days 00:02:18.119402                256   \n",
       "42 2025-10-10 08:27:21.093170 0 days 00:02:26.070279                256   \n",
       "41 2025-10-10 08:24:55.008193 0 days 00:02:21.036886                256   \n",
       "32 2025-10-10 08:01:30.598724 0 days 00:03:58.909950                512   \n",
       "22 2025-10-10 07:19:54.485270 0 days 00:03:57.962557                512   \n",
       "31 2025-10-10 07:57:31.676429 0 days 00:04:00.992633                512   \n",
       "47 2025-10-10 08:39:21.503865 0 days 00:02:27.799708                256   \n",
       "45 2025-10-10 08:34:29.707610 0 days 00:02:22.447703                256   \n",
       "27 2025-10-10 07:39:56.088132 0 days 00:03:58.721679                512   \n",
       "14 2025-10-10 06:42:45.807676 0 days 00:04:47.620292                512   \n",
       "19 2025-10-10 07:04:48.544078 0 days 00:03:59.052349                512   \n",
       "34 2025-10-10 08:07:15.039572 0 days 00:01:42.893128                128   \n",
       "21 2025-10-10 07:15:56.508824 0 days 00:03:59.651453                512   \n",
       "13 2025-10-10 06:37:58.171977 0 days 00:04:49.738998                512   \n",
       "17 2025-10-10 06:56:50.551681 0 days 00:04:16.233698                512   \n",
       "15 2025-10-10 06:47:39.875672 0 days 00:04:54.051507                512   \n",
       "23 2025-10-10 07:23:54.204639 0 days 00:03:59.707258                512   \n",
       "24 2025-10-10 07:27:54.424324 0 days 00:04:00.203684                512   \n",
       "40 2025-10-10 08:22:33.951952 0 days 00:01:44.342124                128   \n",
       "26 2025-10-10 07:35:57.352788 0 days 00:04:03.502150                512   \n",
       "28 2025-10-10 07:42:22.006968 0 days 00:02:25.905042                256   \n",
       "43 2025-10-10 08:29:40.545856 0 days 00:02:19.439331                256   \n",
       "44 2025-10-10 08:32:07.242122 0 days 00:02:26.680232                256   \n",
       "35 2025-10-10 08:11:12.343617 0 days 00:03:57.289955                512   \n",
       "48 2025-10-10 08:41:45.178403 0 days 00:02:23.660304                256   \n",
       "33 2025-10-10 08:05:32.133146 0 days 00:04:01.520182                512   \n",
       "25 2025-10-10 07:31:53.836828 0 days 00:03:59.399914                512   \n",
       "11 2025-10-10 06:28:11.796621 0 days 00:04:55.348981                512   \n",
       "37 2025-10-10 08:15:52.663441 0 days 00:02:22.172166                256   \n",
       "39 2025-10-10 08:20:49.594786 0 days 00:02:28.519970                256   \n",
       "7  2025-10-10 06:12:32.070512 0 days 00:01:59.013063                128   \n",
       "30 2025-10-10 07:53:30.668270 0 days 00:04:05.054113                512   \n",
       "18 2025-10-10 07:00:49.475283 0 days 00:03:58.910209                512   \n",
       "16 2025-10-10 06:52:34.302548 0 days 00:04:54.411457                512   \n",
       "38 2025-10-10 08:18:21.060005 0 days 00:02:28.385602                256   \n",
       "3  2025-10-10 05:51:12.162734 0 days 00:01:58.219763                128   \n",
       "29 2025-10-10 07:49:25.600217 0 days 00:07:03.578891               1024   \n",
       "20 2025-10-10 07:11:56.842901 0 days 00:07:08.284294               1024   \n",
       "4  2025-10-10 05:53:14.581292 0 days 00:02:02.403485                128   \n",
       "49 2025-10-10 08:44:08.998171 0 days 00:02:23.806857                256   \n",
       "0  2025-10-10 05:43:47.579769 0 days 00:02:02.200926                128   \n",
       "8  2025-10-10 06:15:28.049269 0 days 00:02:55.962471                256   \n",
       "46 2025-10-10 08:36:53.685051 0 days 00:02:23.964363                256   \n",
       "1  2025-10-10 05:45:57.297271 0 days 00:02:09.699374                128   \n",
       "5  2025-10-10 06:02:02.509883 0 days 00:08:47.912861               1024   \n",
       "6  2025-10-10 06:10:33.038371 0 days 00:08:30.513148               1024   \n",
       "2  2025-10-10 05:49:13.924827 0 days 00:03:16.610839                256   \n",
       "9  2025-10-10 06:18:22.380134 0 days 00:02:54.306998                256   \n",
       "\n",
       "    params_embedding_dim  params_learning_rate  params_minimize_window  \\\n",
       "12                    12          9.354098e-02                      98   \n",
       "10                    12          9.287618e-02                      99   \n",
       "36                    12          4.845412e-02                      75   \n",
       "42                    12          4.817184e-02                      96   \n",
       "41                    12          5.075157e-02                      89   \n",
       "32                    12          9.106434e-02                      94   \n",
       "22                    12          9.823068e-02                      90   \n",
       "31                    12          4.762199e-02                      94   \n",
       "47                    12          4.923650e-02                      80   \n",
       "45                    12          1.999620e-02                     100   \n",
       "27                    12          3.730794e-02                      92   \n",
       "14                    12          3.679390e-03                      99   \n",
       "19                    12          7.826008e-02                      85   \n",
       "34                    14          9.349892e-02                      86   \n",
       "21                    12          5.882039e-03                     100   \n",
       "13                    12          2.925054e-03                      58   \n",
       "17                     8          1.227681e-02                     100   \n",
       "15                    12          1.638725e-02                      84   \n",
       "23                    12          9.511488e-02                      89   \n",
       "24                    12          2.295897e-02                      79   \n",
       "40                    10          4.141394e-02                      74   \n",
       "26                    16          9.250439e-03                      79   \n",
       "28                    12          2.978936e-02                      71   \n",
       "43                    12          1.020623e-07                      97   \n",
       "44                    12          4.293537e-02                      87   \n",
       "35                    12          1.749974e-02                      95   \n",
       "48                    12          1.496794e-02                      95   \n",
       "33                    16          8.561152e-03                      65   \n",
       "25                     8          1.048382e-03                      91   \n",
       "11                    12          8.177703e-02                      96   \n",
       "37                     8          1.371779e-03                      76   \n",
       "39                    14          1.640835e-05                      82   \n",
       "7                     10          3.461573e-02                      90   \n",
       "30                    12          2.210954e-04                      84   \n",
       "18                    12          4.442006e-04                      70   \n",
       "16                    12          4.305412e-04                      49   \n",
       "38                    16          5.282689e-03                      65   \n",
       "3                     10          8.627412e-06                      73   \n",
       "29                    14          2.025935e-03                      41   \n",
       "20                    12          4.826143e-04                      55   \n",
       "4                     14          6.894203e-05                      34   \n",
       "49                     8          4.504888e-06                      90   \n",
       "0                     14          2.242305e-03                      39   \n",
       "8                     10          2.860258e-05                      78   \n",
       "46                    10          7.479471e-03                      22   \n",
       "1                     16          5.272016e-06                      65   \n",
       "5                     16          2.174662e-06                      18   \n",
       "6                      8          3.426022e-07                      25   \n",
       "2                     14          4.572795e-05                       7   \n",
       "9                     10          5.948610e-07                       2   \n",
       "\n",
       "    params_target_ratio  params_weight_decay     state  \n",
       "12             0.015113         1.023069e-05  COMPLETE  \n",
       "10             0.013041         3.357303e-05  COMPLETE  \n",
       "36             0.034707         1.548235e-03  COMPLETE  \n",
       "42             0.039691         1.436794e-03  COMPLETE  \n",
       "41             0.030653         1.393884e-04  COMPLETE  \n",
       "32             0.035340         6.504538e-05  COMPLETE  \n",
       "22             0.025490         1.869856e-05  COMPLETE  \n",
       "31             0.037589         1.610795e-05  COMPLETE  \n",
       "47             0.063661         4.596253e-04  COMPLETE  \n",
       "45             0.033333         1.304638e-04  COMPLETE  \n",
       "27             0.010243         2.167155e-05  COMPLETE  \n",
       "14             0.011486         1.205712e-05  COMPLETE  \n",
       "19             0.065208         4.105295e-05  COMPLETE  \n",
       "34             0.045732         2.819970e-04  COMPLETE  \n",
       "21             0.016237         6.217239e-06  COMPLETE  \n",
       "13             0.016558         7.394637e-06  COMPLETE  \n",
       "17             0.065855         1.408031e-06  COMPLETE  \n",
       "15             0.065135         4.148999e-06  COMPLETE  \n",
       "23             0.101167         4.489270e-05  COMPLETE  \n",
       "24             0.050532         1.465340e-05  COMPLETE  \n",
       "40             0.086486         3.007125e-02  COMPLETE  \n",
       "26             0.046561         7.438638e-04  COMPLETE  \n",
       "28             0.084280         3.021965e-07  COMPLETE  \n",
       "43             0.064451         1.880201e-03  COMPLETE  \n",
       "44             0.100443         8.688543e-03  COMPLETE  \n",
       "35             0.120479         7.586836e-05  COMPLETE  \n",
       "48             0.127079         2.030960e-04  COMPLETE  \n",
       "33             0.082156         7.372074e-05  COMPLETE  \n",
       "25             0.113707         3.051500e-06  COMPLETE  \n",
       "11             0.271963         2.790636e-05  COMPLETE  \n",
       "37             0.186203         6.729271e-04  COMPLETE  \n",
       "39             0.148441         1.027690e-02  COMPLETE  \n",
       "7              0.333768         1.229205e-04  COMPLETE  \n",
       "30             0.223569         5.264516e-07  COMPLETE  \n",
       "18             0.250475         1.020583e-07  COMPLETE  \n",
       "16             0.144104         1.906536e-04  COMPLETE  \n",
       "38             0.295462         1.915851e-03  COMPLETE  \n",
       "3              0.177246         9.589504e-07  COMPLETE  \n",
       "29             0.159477         1.917967e-06  COMPLETE  \n",
       "20             0.180863         3.849009e-04  COMPLETE  \n",
       "4              0.127605         9.236307e-04  COMPLETE  \n",
       "49             0.401599         2.733889e-02  COMPLETE  \n",
       "0              0.212460         8.304906e-07  COMPLETE  \n",
       "8              0.451717         8.057802e-02  COMPLETE  \n",
       "46             0.336341         1.944270e-03  COMPLETE  \n",
       "1              0.377530         9.510243e-05  COMPLETE  \n",
       "5              0.095541         4.309795e-03  COMPLETE  \n",
       "6              0.497535         1.993598e-07  COMPLETE  \n",
       "2              0.390328         5.435301e-03  COMPLETE  \n",
       "9              0.446891         3.316453e-03  COMPLETE  "
      ]
     },
     "execution_count": 188,
     "metadata": {},
     "output_type": "execute_result"
    }
   ],
   "source": [
    "df = study.trials_dataframe()\n",
    "df.sort_values(by='value', ascending=True)"
   ]
  },
  {
   "cell_type": "code",
   "execution_count": 195,
   "id": "e7e396e5",
   "metadata": {},
   "outputs": [
    {
     "name": "stderr",
     "output_type": "stream",
     "text": [
      "100%|██████████| 10000/10000 [03:58<00:00, 41.88it/s]\n"
     ]
    },
    {
     "data": {
      "image/png": "[encoded data removed]",
      "text/plain": [
       "<Figure size 640x480 with 1 Axes>"
      ]
     },
     "metadata": {},
     "output_type": "display_data"
    }
   ],
   "source": [
    "import matplotlib.pyplot as plt\n",
    "import tqdm\n",
    "\n",
    "num_assets = len(assets_list)\n",
    "\n",
    "batch_size = 512\n",
    "embedding_dim = 12\n",
    "learning_rate = 0.09354097612272955\n",
    "target_ratio = 0.015112799860696802 # 最优的target ratio 接近0 说明只选择1个资产作为目标最好\n",
    "weight_decay = 1.0230687504458523e-05\n",
    "\n",
    "minimize_window = 100\n",
    "train_sample_range = train_yield.shape[1]\n",
    "test_sample_range = test_yield.shape[1]\n",
    "\n",
    "model = AssetsEmbedding(num_assets = num_assets, embedding_dim = embedding_dim, target_ratio = target_ratio).to('cuda:0')\n",
    "loss_fn = nn.HuberLoss()\n",
    "optimizer = torch.optim.AdamW(model.parameters(),lr=learning_rate, weight_decay=weight_decay)\n",
    "\n",
    "def batch(batch_size):\n",
    "\n",
    "    # 训练\n",
    "    model.train()\n",
    "    batch_yield = []\n",
    "    begin = np.random.randint(0, train_sample_range - minimize_window, batch_size)\n",
    "    end = np.array([np.random.randint(first+minimize_window, train_sample_range) for first in begin])\n",
    "    for i in range(batch_size):\n",
    "        range_yield = train_yield[:, begin[i]: end[i]]\n",
    "        target_yield = torch.mean(range_yield, dim = 1)\n",
    "        batch_yield.append(target_yield)\n",
    "    batch_yield = torch.stack(batch_yield)\n",
    "\n",
    "    x_pred, x_real = model.pre_train(batch_yield)\n",
    "    optimizer.zero_grad()\n",
    "    train_loss = loss_fn(x_pred, x_real)\n",
    "    train_loss.backward()\n",
    "    optimizer.step()\n",
    "\n",
    "    # 测试\n",
    "    model.eval()\n",
    "    with torch.no_grad():\n",
    "        batch_yield = []\n",
    "        begin = np.random.randint(0, test_sample_range - minimize_window, batch_size)\n",
    "        end = np.array([np.random.randint(first+minimize_window,test_sample_range) for first in begin])\n",
    "        for i in range(batch_size):\n",
    "            range_yield = test_yield[:, begin[i]: end[i]]\n",
    "            target_yield = torch.mean(range_yield, dim = 1)\n",
    "            batch_yield.append(target_yield)\n",
    "        batch_yield = torch.stack(batch_yield)\n",
    "        x_pred, x_real = model.pre_train(batch_yield)\n",
    "        test_loss = loss_fn(x_pred, x_real)\n",
    "    return train_loss.cpu().detach(), test_loss.cpu().detach()\n",
    "\n",
    "def train(round):\n",
    "    train_losses = []\n",
    "    test_losses = []\n",
    "    for i in tqdm.tqdm(range(round)):\n",
    "        train_loss, test_loss = batch(batch_size = batch_size)\n",
    "        train_losses.append(train_loss)\n",
    "        test_losses.append(test_loss)\n",
    "\n",
    "    plt.plot(range(round), train_losses)\n",
    "    plt.plot(range(round), test_losses)\n",
    "    plt.show()\n",
    "\n",
    "train(10000)"
   ]
  },
  {
   "cell_type": "code",
   "execution_count": 196,
   "id": "aacd62e4",
   "metadata": {},
   "outputs": [],
   "source": [
    "embeddings = model.embedding.weight.detach().cpu().numpy()"
   ]
  },
  {
   "cell_type": "code",
   "execution_count": 191,
   "id": "bbb078c7",
   "metadata": {},
   "outputs": [],
   "source": [
    "# torch.save(model.state_dict(), 'params/assets_embedding_final.params')"
   ]
  },
  {
   "cell_type": "code",
   "execution_count": 197,
   "id": "c2064ef3",
   "metadata": {},
   "outputs": [
    {
     "data": {
      "image/png": "[encoded data removed]",
      "text/plain": [
       "<Figure size 1800x1500 with 2 Axes>"
      ]
     },
     "metadata": {},
     "output_type": "display_data"
    }
   ],
   "source": [
    "import seaborn as sns\n",
    "import matplotlib.pyplot as plt\n",
    "import pandas as pd\n",
    "from sklearn.metrics.pairwise import cosine_similarity\n",
    "\n",
    "# 画热力图\n",
    "similarity_matrix = cosine_similarity(embeddings)\n",
    "similarity_df = pd.DataFrame(similarity_matrix, index=assets_names, columns=assets_names)\n",
    "\n",
    "plt.figure(figsize=(18, 15))\n",
    "sns.heatmap(similarity_df, cmap='viridis', annot=False)\n",
    "plt.title('Heat Map')\n",
    "plt.show()"
   ]
  },
  {
   "cell_type": "markdown",
   "id": "c220e7de",
   "metadata": {},
   "source": [
    "股指和国债期货分别形成了一个极其明亮的黄色方块。模型准确地识别出它们是高度相关性。同时股指方块和国债方块之间的区域是深蓝色，显示出它们之间存在极强的负相关性，符合股债轮动。此外，国债与黑色板块也呈现出极强的负相关性。\n",
    "\n",
    "黑色板块呈现大块的矩形亮色区域，板块内呈现出极强的正相关性。这说明模型学习到了黑色产业链的相关关系；\n",
    "\n",
    "有色金属板块是若干个小的亮色区域，暗示着有色金属之间既有替代关系也有互补关系，并非简单的同涨同跌；\n",
    "\n",
    "能源化工板块内部，油品链 (燃油, 低硫燃料油, 沥青, LPG) 聚酯/塑料链 (PTA, 乙二醇, 短纤, 塑料, 聚丙烯, PVC) 也能分别形成两个独立的子区域\n",
    "\n",
    "农产品板块则没有什么强的关联，大部分农产品都具有相对独立的生产区域，产业链也远不如工业品，其价格走势往往由产区的特殊气候驱动，跨资产间高度的独立性也是合理的。\n",
    "\n",
    "但也有一些细节的关联，例如豆粕与豆二关联很强，但与豆一没什么关系，实际上豆粕也主要是用转基因的进口大豆制作的，非常合理；\n",
    "\n",
    "而豆油虽然也是压榨的产品，但其绝对价格较高，价格的波动性与菜油、棕榈油关联性更强，反应出更强的替代关系。"
   ]
  },
  {
   "cell_type": "code",
   "execution_count": 198,
   "id": "56dac526",
   "metadata": {},
   "outputs": [
    {
     "data": {
      "image/png": "[encoded data removed]",
      "text/plain": [
       "<Figure size 1000x1600 with 2 Axes>"
      ]
     },
     "metadata": {},
     "output_type": "display_data"
    }
   ],
   "source": [
    "# PCA分析\n",
    "from sklearn.decomposition import PCA\n",
    "\n",
    "pca = PCA(n_components=3)\n",
    "embeddings_pca = pca.fit_transform(embeddings)\n",
    "\n",
    "fig, axes = plt.subplots(2, 1, figsize=(10, 16)) # 增大图像尺寸以容纳三个子图\n",
    "\n",
    "axes[0].scatter(embeddings_pca[:, 0], embeddings_pca[:, 1])\n",
    "for i, name in enumerate(assets_names):\n",
    "    axes[0].annotate(name, (embeddings_pca[i, 0], embeddings_pca[i, 1]), fontsize=9)\n",
    "axes[0].set_title('PCA 1 & 2')\n",
    "axes[0].set_xlabel('PCA 1')\n",
    "axes[0].set_ylabel('PCA 2')\n",
    "axes[0].grid(True)\n",
    "\n",
    "axes[1].scatter(embeddings_pca[:, 0], embeddings_pca[:, 2])\n",
    "for i, name in enumerate(assets_names):\n",
    "    axes[1].annotate(name, (embeddings_pca[i, 0], embeddings_pca[i, 2]), fontsize=9)\n",
    "axes[1].set_title('PCA 1 & 3')\n",
    "axes[1].set_xlabel('PCA 1')\n",
    "axes[1].set_ylabel('PCA 3')\n",
    "axes[1].grid(True)\n",
    "\n",
    "plt.tight_layout()\n",
    "plt.show()"
   ]
  },
  {
   "cell_type": "markdown",
   "id": "4097c865",
   "metadata": {},
   "source": [
    "1. PCA 1轴 主要刻画周期性，股指期货、工业品等顺周期资产大部分都在负半轴，国债，贵金属则集中在右侧。\n",
    "\n",
    "2. PCA 2轴 则主要划分农产品和工业品属性，大部分农产品，如生猪、菜油、豆油、棕榈油、苹果、玉米等都在正半轴，工业品则分布在负半轴。\n",
    "\n",
    "3. PCA 3轴 可能反映了国际宏观因素的影响强弱"
   ]
  },
  {
   "cell_type": "code",
   "execution_count": 199,
   "id": "fbf8c820",
   "metadata": {},
   "outputs": [
    {
     "data": {
      "image/png": "[encoded data removed]",
      "text/plain": [
       "<Figure size 1000x800 with 1 Axes>"
      ]
     },
     "metadata": {},
     "output_type": "display_data"
    }
   ],
   "source": [
    "# tSNE分析\n",
    "from sklearn.manifold import TSNE\n",
    "tsne = TSNE(n_components=2, perplexity=5, random_state=42)\n",
    "embeddings_tsne = tsne.fit_transform(embeddings)\n",
    "plt.figure(figsize=(10, 8))\n",
    "plt.scatter(embeddings_tsne[:, 0], embeddings_tsne[:, 1])\n",
    "for i, name in enumerate(assets_names):\n",
    "    plt.annotate(name, (embeddings_tsne[i, 0], embeddings_tsne[i, 1]))\n",
    "\n",
    "plt.title('嵌入向量的 t-SNE 分析')\n",
    "plt.xlabel('t-SNE aomponent 1')\n",
    "plt.ylabel('t-SNE Component 2')\n",
    "plt.grid(True)\n",
    "plt.show()"
   ]
  },
  {
   "cell_type": "markdown",
   "id": "95690946",
   "metadata": {},
   "source": [
    "t-SNE 算法主要分析和展现相似关系，可以看到相似的资产在图上也非常接近"
   ]
  },
  {
   "cell_type": "markdown",
   "id": "ba371d2b",
   "metadata": {},
   "source": [
    "总体来说，该模型成功的刻画了资产之间的相关关系，以该模型得到的资产嵌入作为基础，能很好的服务大模型跨板块注意力机制的作用。"
   ]
  }
 ],
 "metadata": {
  "kernelspec": {
   "display_name": "future",
   "language": "python",
   "name": "python3"
  },
  "language_info": {
   "codemirror_mode": {
    "name": "ipython",
    "version": 3
   },
   "file_extension": ".py",
   "mimetype": "text/x-python",
   "name": "python",
   "nbconvert_exporter": "python",
   "pygments_lexer": "ipython3",
   "version": "3.12.9"
  }
 },
 "nbformat": 4,
 "nbformat_minor": 5
}
