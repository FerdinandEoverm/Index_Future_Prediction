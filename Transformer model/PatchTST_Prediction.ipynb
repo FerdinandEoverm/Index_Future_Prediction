{
 "cells": [
  {
   "cell_type": "markdown",
   "id": "88bc4d21",
   "metadata": {},
   "source": [
    "在预训练完成之后，将其他层参数固定，只训练输出层"
   ]
  },
  {
   "cell_type": "code",
   "execution_count": 14,
   "id": "d3856689",
   "metadata": {},
   "outputs": [],
   "source": [
    "import os\n",
    "os.chdir('d:/future/Index_Future_Prediction')\n",
    "\n",
    "import numpy as np\n",
    "import pandas as pd\n",
    "import matplotlib.pyplot as plt\n",
    "import tqdm\n",
    "import optuna\n",
    "\n",
    "import torch\n",
    "import torch.nn as nn\n",
    "from torch.nn import functional as F\n",
    "from torch.optim import lr_scheduler, Adam, AdamW\n",
    "from torch.utils.data import TensorDataset, DataLoader\n",
    "\n",
    "from utils import *\n",
    "from modules import *\n",
    "\n",
    "import warnings\n",
    "warnings.filterwarnings(\"ignore\", category=FutureWarning)\n",
    "warnings.filterwarnings(\"ignore\", category=UserWarning)"
   ]
  },
  {
   "cell_type": "code",
   "execution_count": 15,
   "id": "9f3c757e",
   "metadata": {},
   "outputs": [],
   "source": [
    "class Patch_TST(nn.Module):\n",
    "    \"\"\"Patch Time Series Transformer\"\"\"\n",
    "    def __init__(self, input_size, seq_len, patch_size, stride, num_layer, num_head, d_model, masking_ratio, mask_expand_size, dropout_1, dropout_2, dropout_3):\n",
    "        super().__init__()\n",
    "        self.device = 'cuda:0'\n",
    "        self.input_size = input_size\n",
    "        self.patch_size = patch_size\n",
    "        self.stride = stride\n",
    "        self.masking_ratio = masking_ratio\n",
    "        self.mask_expand_size = mask_expand_size\n",
    "\n",
    "        self.num_patch = int(np.floor((seq_len - patch_size) / stride) + 1)\n",
    "\n",
    "        self.patch = TimeSeriesPatcher(patch_size, stride) # 首先经过patcher分成子序列\n",
    "\n",
    "        self.projection = PatchProjection(input_size, patch_size, d_model = d_model, dropout = dropout_1)\n",
    "\n",
    "        self.encoder = MultiLayerEncoder(dim_feature = d_model, dim_sequence = self.num_patch, num_enc_layer = num_layer, num_head = num_head, num_ffn_hidden = d_model*2, dropout = dropout_2)\n",
    "\n",
    "        self.reconstruction = nn.Linear(d_model, input_size * patch_size)\n",
    "        \n",
    "        self.output = nn.Sequential(\n",
    "            nn.Flatten(start_dim = -2),\n",
    "            nn.Linear(self.num_patch * d_model, self.num_patch * d_model),\n",
    "            nn.Dropout(dropout_3),\n",
    "            HybridDecoder(dim_state = self.num_patch * d_model, init_prob = [0.0,0.0,0.0])\n",
    "        )\n",
    "    \n",
    "    def self_supervised(self, x):\n",
    "        \"\"\"\n",
    "        自监督预训练\n",
    "        如果不允许patch重叠，正好被patch隔断的形态无法学习到。\n",
    "        允许patch重叠，则模型预训练的时候可以从前后patch偷看到信息。\n",
    "        需要用双重mask\n",
    "        target mask 是真正需要重建的patch\n",
    "        input mask 是target mask的扩展，根据系数向两侧扩展掩蔽范围。例如假如patch允许重叠50%，则向前后各多屏蔽一个patch就可以完全屏蔽掉信息。\n",
    "        \"\"\"\n",
    "        device = x.device\n",
    "        batch_size = x.shape[0]\n",
    "\n",
    "\n",
    "        noise = torch.rand(size=(batch_size, self.num_patch), device=device)\n",
    "        target_mask = noise < self.masking_ratio\n",
    "        \n",
    "        # 防止出现所有 patch 都没被 mask 的情况，至少 mask 一个随机选择一个 patch 进行 mask\n",
    "        if not target_mask.any(dim=1).all():\n",
    "            for i in range(batch_size):\n",
    "                if not target_mask[i].any():\n",
    "                    fallback_idx = torch.randint(0, self.num_patch, (1,)).item()\n",
    "                    target_mask[i, fallback_idx] = True\n",
    "\n",
    "        target_mask_float = target_mask.float().unsqueeze(1)\n",
    "        kernel_size = 2 * self.mask_expand_size + 1\n",
    "        kernel = torch.ones(1, 1, kernel_size, device=device)\n",
    "        padding = self.mask_expand_size\n",
    "        expanded_mask_float = F.conv1d(target_mask_float, kernel, padding=padding)\n",
    "        input_mask = (expanded_mask_float > 0).squeeze(1)\n",
    "\n",
    "\n",
    "        x_patched = self.patch(x)\n",
    "        reshape_mask = input_mask.unsqueeze(-1)\n",
    "        x_masked = torch.where(reshape_mask, 0.0, x_patched)\n",
    "        x_projected = self.projection(x_masked)\n",
    "        x_encodered = self.encoder(x_projected)\n",
    "        \n",
    "        x_pre_reconstruction = x_encodered[target_mask] # 仅关注target mask\n",
    "        x_reconstructed = self.reconstruction(x_pre_reconstruction)\n",
    "        x_target = x_patched[target_mask] # 仅关注target mask\n",
    "\n",
    "        return x_reconstructed, x_target\n",
    "    \n",
    "    def forward(self, x):\n",
    "        \"\"\"前向传播输出\"\"\"\n",
    "        x_patched = self.patch(x)\n",
    "        x_projected = self.projection(x_patched)\n",
    "        x_encodered = self.encoder(x_projected)\n",
    "        output = self.output(x_encodered)\n",
    "        return output\n",
    "        \n"
   ]
  },
  {
   "cell_type": "code",
   "execution_count": 16,
   "id": "6a16fcb9",
   "metadata": {},
   "outputs": [],
   "source": [
    "# 固定参数组\n",
    "seq_len = 120\n",
    "patch_size = 8\n",
    "num_layer = 2\n",
    "num_head = 16\n",
    "d_model = 128\n",
    "\n",
    "masking_ratio = 0.2\n",
    "mask_expand_size = 1\n",
    "stride = 4\n",
    "\n",
    "assets_list = ['IH.CFX', 'IF.CFX', 'IC.CFX',]\n"
   ]
  },
  {
   "cell_type": "code",
   "execution_count": 17,
   "id": "4d8334d6",
   "metadata": {},
   "outputs": [],
   "source": [
    "recorder = PredictionRecorder()\n",
    "animator = TrainMonitor(figsize=(12,6))"
   ]
  },
  {
   "cell_type": "code",
   "execution_count": 18,
   "id": "f2107fc2",
   "metadata": {},
   "outputs": [],
   "source": [
    "# 二阶段 prediction训练\n",
    "def objective(trial):\n",
    "\n",
    "    # 训练输出层需要调优的可变参数\n",
    "    batch_size = trial.suggest_categorical(\"batch_size\", [128, 256])\n",
    "    dropout_1 = 0.1 # 已经不需要了，但是实例化模型的时候还是需要设置一个\n",
    "    dropout_2 = 0.1 # 已经不需要了，但是实例化模型的时候还是需要设置一个\n",
    "    dropout_3 = trial.suggest_float(\"dropout_3\", 0.3, 0.7)\n",
    "\n",
    "    learning_rate = trial.suggest_float(\"learning_rate\", 1e-7, 1e-4, log=True)\n",
    "    weight_decay = trial.suggest_float(\"weight_decay\", 1e-6, 1e-1, log=True)\n",
    "    \n",
    "    alpha = trial.suggest_float(\"alpha\", 1e-2, 1e-1, log=True)\n",
    "    delta = 1.2 # trial.suggest_float(\"delta\", 1.0, 1.3)\n",
    "    gamma = 0.9 # trial.suggest_float(\"gamma\", 0.7, 1, log=True)\n",
    "\n",
    "\n",
    "    # 提取数据\n",
    "    feature_columns = ['inday_chg_open','inday_chg_high','inday_chg_low','inday_chg_close','inday_chg_amplitude', 'ma_10','ma_26','ma_45','ma_90','ma_vol',]\n",
    "    label_columns = ['label_return','down_prob','middle_prob','up_prob']\n",
    "\n",
    "    feature = []\n",
    "    label = []\n",
    "    for asset_code in assets_list:\n",
    "        data = pd.read_csv(f'data/{asset_code}.csv')\n",
    "        data = data[data['trade_date'] < 20230901].copy()\n",
    "        feature.append(torch.tensor(data[feature_columns].values, dtype = torch.float32, device = 'cuda:0'))\n",
    "        label.append(torch.tensor(data[label_columns].values, dtype = torch.float32, device = 'cuda:0'))\n",
    "\n",
    "    feature = torch.stack(feature, dim = 1)\n",
    "    label = torch.stack(label, dim = 1)\n",
    "    feature = feature.unfold(dimension = 0, size = seq_len, step = 1).transpose(2,3)\n",
    "    label = label[seq_len-1:]\n",
    "    data = RandomLoader(feature, label)\n",
    "\n",
    "\n",
    "    precision_list = []\n",
    "\n",
    "    for i in range(10):\n",
    "        animator.reset()\n",
    "\n",
    "        train_loader, test_loader = data(batch_size=batch_size, slice_size=[0.6,0.1], balance=[True, False]) # 这里我们随机取10个不同的测试集进行训练，并且设置balance = False，模拟可能遇到的不同市场环境，选择总体最为稳健的训练参数\n",
    "\n",
    "        model = Patch_TST(input_size = 10,\n",
    "                        seq_len = seq_len,\n",
    "                        patch_size = patch_size,\n",
    "                        stride = stride,\n",
    "                        num_layer = num_layer, \n",
    "                        num_head = num_head,\n",
    "                        d_model = d_model,\n",
    "                        masking_ratio = masking_ratio,\n",
    "                        mask_expand_size = mask_expand_size,\n",
    "                        dropout_1 = dropout_1,\n",
    "                        dropout_2 = dropout_2,\n",
    "                        dropout_3 = dropout_3,\n",
    "                        ).to('cuda:0')\n",
    "        model.load_state_dict(torch.load('params/self_supervised_1.params'))\n",
    "\n",
    "        # 对预训练部分设置不同学习率\n",
    "\n",
    "        optimizer = torch.optim.AdamW(model.parameters(),lr=learning_rate, weight_decay=weight_decay)\n",
    "        scheduler = lr_scheduler.StepLR(optimizer, step_size=1, gamma=gamma)\n",
    "        loss_fn = HybridLoss(alpha = alpha, delta = delta, show_loss = False)\n",
    "        train = ModelTrain(model = model, train_loader = train_loader, test_loader = test_loader, loss_fn = loss_fn, optimizer = optimizer, scheduler = scheduler, recorder = recorder,graph = animator)\n",
    "\n",
    "        prediction, precision = train.epoch_train(epochs = 5, early_stop = 100)\n",
    "        precision_list.append(precision)\n",
    "    \n",
    "    return np.mean(precision_list)/np.std(precision_list)"
   ]
  },
  {
   "cell_type": "code",
   "execution_count": 19,
   "id": "e5398068",
   "metadata": {},
   "outputs": [
    {
     "data": {
      "image/png": "[encoded data removed]",
      "text/plain": [
       "<Figure size 1200x600 with 6 Axes>"
      ]
     },
     "metadata": {},
     "output_type": "display_data"
    },
    {
     "name": "stderr",
     "output_type": "stream",
     "text": [
      "100%|██████████| 2/2 [00:00<00:00, 128.69it/s]\n",
      "[I 2025-10-09 11:32:53,169] Trial 29 finished with value: 0.3616258959456932 and parameters: {'batch_size': 256, 'dropout_3': 0.6042630949327341, 'learning_rate': 7.158459349004357e-07, 'weight_decay': 1.7400487293693279e-06, 'alpha': 0.06992617912719502}. Best is trial 14 with value: 1.1151205700035436.\n"
     ]
    },
    {
     "data": {
      "image/png": "[encoded data removed]",
      "text/plain": [
       "<Figure size 1200x600 with 6 Axes>"
      ]
     },
     "metadata": {},
     "output_type": "display_data"
    }
   ],
   "source": [
    "study = optuna.create_study(\n",
    "    direction=\"maximize\",\n",
    "    # study_name=\"patchtstprediction\",\n",
    "    # storage=\"sqlite:///data/db.sqlite3_prediction\",  # 保存到 SQLite 文件\n",
    "    # load_if_exists=True # 如果存在同名study，则加载它\n",
    ")\n",
    "\n",
    "study.optimize(objective, n_trials=30)\n"
   ]
  },
  {
   "cell_type": "code",
   "execution_count": 20,
   "id": "84e91c16",
   "metadata": {},
   "outputs": [
    {
     "name": "stdout",
     "output_type": "stream",
     "text": [
      "最佳准确率:  1.1151205700035436\n",
      "最佳超参数:  {'batch_size': 128, 'dropout_3': 0.6490277985075713, 'learning_rate': 5.5987144958680995e-06, 'weight_decay': 1.2527359023018682e-06, 'alpha': 0.036033757540400044}\n"
     ]
    }
   ],
   "source": [
    "print(\"最佳准确率: \", study.best_value)\n",
    "print(\"最佳超参数: \", study.best_params)"
   ]
  },
  {
   "cell_type": "code",
   "execution_count": 21,
   "id": "063159e5",
   "metadata": {},
   "outputs": [
    {
     "data": {
      "application/vnd.microsoft.datawrangler.viewer.v0+json": {
       "columns": [
        {
         "name": "index",
         "rawType": "int64",
         "type": "integer"
        },
        {
         "name": "number",
         "rawType": "int64",
         "type": "integer"
        },
        {
         "name": "value",
         "rawType": "float64",
         "type": "float"
        },
        {
         "name": "datetime_start",
         "rawType": "datetime64[ns]",
         "type": "datetime"
        },
        {
         "name": "datetime_complete",
         "rawType": "datetime64[ns]",
         "type": "datetime"
        },
        {
         "name": "duration",
         "rawType": "timedelta64[ns]",
         "type": "unknown"
        },
        {
         "name": "params_alpha",
         "rawType": "float64",
         "type": "float"
        },
        {
         "name": "params_batch_size",
         "rawType": "int64",
         "type": "integer"
        },
        {
         "name": "params_dropout_3",
         "rawType": "float64",
         "type": "float"
        },
        {
         "name": "params_learning_rate",
         "rawType": "float64",
         "type": "float"
        },
        {
         "name": "params_weight_decay",
         "rawType": "float64",
         "type": "float"
        },
        {
         "name": "state",
         "rawType": "object",
         "type": "string"
        }
       ],
       "ref": "06af563a-f061-4dd6-ba33-2bffba646529",
       "rows": [
        [
         "14",
         "14",
         "1.1151205700035436",
         "2025-10-09 11:17:48.391482",
         "2025-10-09 11:18:47.711224",
         "0 days 00:00:59.319742",
         "0.036033757540400044",
         "128",
         "0.6490277985075713",
         "5.5987144958680995e-06",
         "1.2527359023018682e-06",
         "COMPLETE"
        ],
        [
         "21",
         "21",
         "1.095536852350901",
         "2025-10-09 11:24:32.647368",
         "2025-10-09 11:25:32.020150",
         "0 days 00:00:59.372782",
         "0.057191198714951784",
         "128",
         "0.6469299473554719",
         "4.8578809477320196e-06",
         "5.752683409029571e-05",
         "COMPLETE"
        ],
        [
         "11",
         "11",
         "0.9397176120969521",
         "2025-10-09 11:14:57.790259",
         "2025-10-09 11:15:55.115182",
         "0 days 00:00:57.324923",
         "0.09875289676121891",
         "128",
         "0.6928939055274059",
         "2.4259103093102508e-06",
         "6.124270914426667e-06",
         "COMPLETE"
        ],
        [
         "2",
         "2",
         "0.8596363318298577",
         "2025-10-09 11:06:54.710081",
         "2025-10-09 11:07:52.865708",
         "0 days 00:00:58.155627",
         "0.061756892910455115",
         "128",
         "0.6234765764291998",
         "3.3525053996233988e-06",
         "3.866327215567249e-05",
         "COMPLETE"
        ],
        [
         "10",
         "10",
         "0.8542073828729769",
         "2025-10-09 11:14:00.408810",
         "2025-10-09 11:14:57.789827",
         "0 days 00:00:57.381017",
         "0.09091573252591514",
         "128",
         "0.6808873268691124",
         "1.8237048136277586e-06",
         "2.709587404023007e-06",
         "COMPLETE"
        ],
        [
         "1",
         "1",
         "0.7689195203454378",
         "2025-10-09 11:06:06.785095",
         "2025-10-09 11:06:54.709549",
         "0 days 00:00:47.924454",
         "0.04825967966865189",
         "256",
         "0.3421467067251052",
         "3.1099279585642515e-05",
         "0.00014466405439955994",
         "COMPLETE"
        ],
        [
         "18",
         "18",
         "0.7326003643099831",
         "2025-10-09 11:21:39.013342",
         "2025-10-09 11:22:37.672622",
         "0 days 00:00:58.659280",
         "0.019995283368868817",
         "128",
         "0.4626897458977172",
         "9.832402944137993e-07",
         "0.0004147992295794485",
         "COMPLETE"
        ],
        [
         "4",
         "4",
         "0.7142940560211835",
         "2025-10-09 11:08:49.493055",
         "2025-10-09 11:09:37.784571",
         "0 days 00:00:48.291516",
         "0.010610764718851182",
         "256",
         "0.44182590113042014",
         "1.164759301445962e-05",
         "0.025554974749817744",
         "COMPLETE"
        ],
        [
         "20",
         "20",
         "0.6910818854993074",
         "2025-10-09 11:23:34.845226",
         "2025-10-09 11:24:32.647003",
         "0 days 00:00:57.801777",
         "0.01280109580978903",
         "128",
         "0.5825805833686635",
         "1.2498149351809569e-06",
         "1.047176171813869e-06",
         "COMPLETE"
        ],
        [
         "12",
         "12",
         "0.5368007592247969",
         "2025-10-09 11:15:55.115618",
         "2025-10-09 11:16:52.504118",
         "0 days 00:00:57.388500",
         "0.09828903297967743",
         "128",
         "0.6909473980409702",
         "4.174531473565869e-06",
         "2.2040325162077923e-05",
         "COMPLETE"
        ],
        [
         "27",
         "27",
         "0.5352843761816171",
         "2025-10-09 11:30:10.980089",
         "2025-10-09 11:31:08.377019",
         "0 days 00:00:57.396930",
         "0.040670709038750655",
         "128",
         "0.664575822249839",
         "1.6583043478301726e-06",
         "4.1464459618320176e-06",
         "COMPLETE"
        ],
        [
         "24",
         "24",
         "0.5006732673471971",
         "2025-10-09 11:27:27.064326",
         "2025-10-09 11:28:24.785700",
         "0 days 00:00:57.721374",
         "0.0807730780163531",
         "128",
         "0.656524238607002",
         "8.005899000400395e-06",
         "8.203681593193316e-06",
         "COMPLETE"
        ],
        [
         "0",
         "0",
         "0.4875788647174442",
         "2025-10-09 11:05:17.844540",
         "2025-10-09 11:06:06.784564",
         "0 days 00:00:48.940024",
         "0.014576003184127304",
         "256",
         "0.5391679998173371",
         "8.782377189351667e-07",
         "2.296448167579654e-06",
         "COMPLETE"
        ],
        [
         "17",
         "17",
         "0.4639856200805401",
         "2025-10-09 11:20:40.685782",
         "2025-10-09 11:21:39.012839",
         "0 days 00:00:58.327057",
         "0.035309940822379524",
         "128",
         "0.5864045224251301",
         "1.0815109345031742e-07",
         "7.106353034638944e-06",
         "COMPLETE"
        ],
        [
         "22",
         "22",
         "0.367854831429922",
         "2025-10-09 11:25:32.020516",
         "2025-10-09 11:26:29.414158",
         "0 days 00:00:57.393642",
         "0.04196073508896791",
         "128",
         "0.6970595364230963",
         "5.5683064551363985e-06",
         "6.150245500532891e-06",
         "COMPLETE"
        ],
        [
         "29",
         "29",
         "0.3616258959456932",
         "2025-10-09 11:32:05.075159",
         "2025-10-09 11:32:53.169609",
         "0 days 00:00:48.094450",
         "0.06992617912719502",
         "256",
         "0.6042630949327341",
         "7.158459349004357e-07",
         "1.7400487293693279e-06",
         "COMPLETE"
        ],
        [
         "23",
         "23",
         "0.31910077804875553",
         "2025-10-09 11:26:29.414640",
         "2025-10-09 11:27:27.063738",
         "0 days 00:00:57.649098",
         "0.05383776077026577",
         "128",
         "0.6418807947206047",
         "2.055011825318651e-06",
         "7.759304844811228e-05",
         "COMPLETE"
        ],
        [
         "15",
         "15",
         "0.19150762931889875",
         "2025-10-09 11:18:47.711743",
         "2025-10-09 11:19:44.110553",
         "0 days 00:00:56.398810",
         "0.036650499702757126",
         "128",
         "0.6797116537657077",
         "7.2122391526354855e-06",
         "2.7648186855447846e-06",
         "COMPLETE"
        ],
        [
         "19",
         "19",
         "0.1804957006014057",
         "2025-10-09 11:22:37.673163",
         "2025-10-09 11:23:34.844809",
         "0 days 00:00:57.171646",
         "0.07835809454046634",
         "128",
         "0.3966658502975613",
         "7.4648220411381594e-06",
         "0.0013155414878283376",
         "COMPLETE"
        ],
        [
         "5",
         "5",
         "0.14328841082355137",
         "2025-10-09 11:09:37.785020",
         "2025-10-09 11:10:33.251629",
         "0 days 00:00:55.466609",
         "0.06852116568298139",
         "128",
         "0.3182771669004868",
         "2.85766312212908e-07",
         "0.00010579738167837535",
         "COMPLETE"
        ],
        [
         "25",
         "25",
         "0.09796939292368213",
         "2025-10-09 11:28:24.786048",
         "2025-10-09 11:29:22.948207",
         "0 days 00:00:58.162159",
         "0.03297812276139093",
         "128",
         "0.611113515306297",
         "4.943704243914374e-07",
         "4.992212728982556e-05",
         "COMPLETE"
        ],
        [
         "8",
         "8",
         "0.06807734995469265",
         "2025-10-09 11:12:16.161513",
         "2025-10-09 11:13:03.310250",
         "0 days 00:00:47.148737",
         "0.026258340053734147",
         "256",
         "0.6347447807774336",
         "1.448968985733955e-05",
         "0.008731457058111269",
         "COMPLETE"
        ],
        [
         "26",
         "26",
         "0.06142382930636689",
         "2025-10-09 11:29:22.948676",
         "2025-10-09 11:30:10.979638",
         "0 days 00:00:48.030962",
         "0.058335208769972134",
         "256",
         "0.5436238283507093",
         "4.399920774154962e-06",
         "0.000195455720683673",
         "COMPLETE"
        ],
        [
         "6",
         "6",
         "-0.022858398031232494",
         "2025-10-09 11:10:33.252070",
         "2025-10-09 11:11:20.286881",
         "0 days 00:00:47.034811",
         "0.043782011222814964",
         "256",
         "0.5612472881351394",
         "2.1360069984724933e-05",
         "0.004984654520769387",
         "COMPLETE"
        ],
        [
         "13",
         "13",
         "-0.041763814849507516",
         "2025-10-09 11:16:52.504765",
         "2025-10-09 11:17:48.391077",
         "0 days 00:00:55.886312",
         "0.07022461604385724",
         "128",
         "0.6227488624798727",
         "2.641984199587274e-06",
         "1.2612260712429624e-05",
         "COMPLETE"
        ],
        [
         "28",
         "28",
         "-0.04897646482618756",
         "2025-10-09 11:31:08.377584",
         "2025-10-09 11:32:05.074666",
         "0 days 00:00:56.697082",
         "0.08248105563950789",
         "128",
         "0.5118528125515704",
         "3.2219722959469784e-06",
         "1.5587447046500355e-05",
         "COMPLETE"
        ],
        [
         "3",
         "3",
         "-0.05156487354467659",
         "2025-10-09 11:07:52.866171",
         "2025-10-09 11:08:49.492664",
         "0 days 00:00:56.626493",
         "0.026433782679951966",
         "128",
         "0.5120067789313981",
         "4.04992718723106e-05",
         "0.06164187142267529",
         "COMPLETE"
        ],
        [
         "7",
         "7",
         "-0.07336553057456958",
         "2025-10-09 11:11:20.287316",
         "2025-10-09 11:12:16.160995",
         "0 days 00:00:55.873679",
         "0.05508283292841239",
         "128",
         "0.5880002044270132",
         "1.727405236718744e-05",
         "0.0006210758928100028",
         "COMPLETE"
        ],
        [
         "9",
         "9",
         "-0.11656618958401099",
         "2025-10-09 11:13:03.310700",
         "2025-10-09 11:14:00.408467",
         "0 days 00:00:57.097767",
         "0.025231834659865934",
         "128",
         "0.44430213067905666",
         "4.1883045025987123e-07",
         "2.4974991491483196e-05",
         "COMPLETE"
        ],
        [
         "16",
         "16",
         "-0.48628015203016717",
         "2025-10-09 11:19:44.111018",
         "2025-10-09 11:20:40.685298",
         "0 days 00:00:56.574280",
         "0.018403009844523338",
         "128",
         "0.6498495663741731",
         "7.105145565429191e-05",
         "1.080173310157918e-06",
         "COMPLETE"
        ]
       ],
       "shape": {
        "columns": 11,
        "rows": 30
       }
      },
      "text/html": [
       "<div>\n",
       "<style scoped>\n",
       "    .dataframe tbody tr th:only-of-type {\n",
       "        vertical-align: middle;\n",
       "    }\n",
       "\n",
       "    .dataframe tbody tr th {\n",
       "        vertical-align: top;\n",
       "    }\n",
       "\n",
       "    .dataframe thead th {\n",
       "        text-align: right;\n",
       "    }\n",
       "</style>\n",
       "<table border=\"1\" class=\"dataframe\">\n",
       "  <thead>\n",
       "    <tr style=\"text-align: right;\">\n",
       "      <th></th>\n",
       "      <th>number</th>\n",
       "      <th>value</th>\n",
       "      <th>datetime_start</th>\n",
       "      <th>datetime_complete</th>\n",
       "      <th>duration</th>\n",
       "      <th>params_alpha</th>\n",
       "      <th>params_batch_size</th>\n",
       "      <th>params_dropout_3</th>\n",
       "      <th>params_learning_rate</th>\n",
       "      <th>params_weight_decay</th>\n",
       "      <th>state</th>\n",
       "    </tr>\n",
       "  </thead>\n",
       "  <tbody>\n",
       "    <tr>\n",
       "      <th>14</th>\n",
       "      <td>14</td>\n",
       "      <td>1.115121</td>\n",
       "      <td>2025-10-09 11:17:48.391482</td>\n",
       "      <td>2025-10-09 11:18:47.711224</td>\n",
       "      <td>0 days 00:00:59.319742</td>\n",
       "      <td>0.036034</td>\n",
       "      <td>128</td>\n",
       "      <td>0.649028</td>\n",
       "      <td>5.598714e-06</td>\n",
       "      <td>0.000001</td>\n",
       "      <td>COMPLETE</td>\n",
       "    </tr>\n",
       "    <tr>\n",
       "      <th>21</th>\n",
       "      <td>21</td>\n",
       "      <td>1.095537</td>\n",
       "      <td>2025-10-09 11:24:32.647368</td>\n",
       "      <td>2025-10-09 11:25:32.020150</td>\n",
       "      <td>0 days 00:00:59.372782</td>\n",
       "      <td>0.057191</td>\n",
       "      <td>128</td>\n",
       "      <td>0.646930</td>\n",
       "      <td>4.857881e-06</td>\n",
       "      <td>0.000058</td>\n",
       "      <td>COMPLETE</td>\n",
       "    </tr>\n",
       "    <tr>\n",
       "      <th>11</th>\n",
       "      <td>11</td>\n",
       "      <td>0.939718</td>\n",
       "      <td>2025-10-09 11:14:57.790259</td>\n",
       "      <td>2025-10-09 11:15:55.115182</td>\n",
       "      <td>0 days 00:00:57.324923</td>\n",
       "      <td>0.098753</td>\n",
       "      <td>128</td>\n",
       "      <td>0.692894</td>\n",
       "      <td>2.425910e-06</td>\n",
       "      <td>0.000006</td>\n",
       "      <td>COMPLETE</td>\n",
       "    </tr>\n",
       "    <tr>\n",
       "      <th>2</th>\n",
       "      <td>2</td>\n",
       "      <td>0.859636</td>\n",
       "      <td>2025-10-09 11:06:54.710081</td>\n",
       "      <td>2025-10-09 11:07:52.865708</td>\n",
       "      <td>0 days 00:00:58.155627</td>\n",
       "      <td>0.061757</td>\n",
       "      <td>128</td>\n",
       "      <td>0.623477</td>\n",
       "      <td>3.352505e-06</td>\n",
       "      <td>0.000039</td>\n",
       "      <td>COMPLETE</td>\n",
       "    </tr>\n",
       "    <tr>\n",
       "      <th>10</th>\n",
       "      <td>10</td>\n",
       "      <td>0.854207</td>\n",
       "      <td>2025-10-09 11:14:00.408810</td>\n",
       "      <td>2025-10-09 11:14:57.789827</td>\n",
       "      <td>0 days 00:00:57.381017</td>\n",
       "      <td>0.090916</td>\n",
       "      <td>128</td>\n",
       "      <td>0.680887</td>\n",
       "      <td>1.823705e-06</td>\n",
       "      <td>0.000003</td>\n",
       "      <td>COMPLETE</td>\n",
       "    </tr>\n",
       "    <tr>\n",
       "      <th>1</th>\n",
       "      <td>1</td>\n",
       "      <td>0.768920</td>\n",
       "      <td>2025-10-09 11:06:06.785095</td>\n",
       "      <td>2025-10-09 11:06:54.709549</td>\n",
       "      <td>0 days 00:00:47.924454</td>\n",
       "      <td>0.048260</td>\n",
       "      <td>256</td>\n",
       "      <td>0.342147</td>\n",
       "      <td>3.109928e-05</td>\n",
       "      <td>0.000145</td>\n",
       "      <td>COMPLETE</td>\n",
       "    </tr>\n",
       "    <tr>\n",
       "      <th>18</th>\n",
       "      <td>18</td>\n",
       "      <td>0.732600</td>\n",
       "      <td>2025-10-09 11:21:39.013342</td>\n",
       "      <td>2025-10-09 11:22:37.672622</td>\n",
       "      <td>0 days 00:00:58.659280</td>\n",
       "      <td>0.019995</td>\n",
       "      <td>128</td>\n",
       "      <td>0.462690</td>\n",
       "      <td>9.832403e-07</td>\n",
       "      <td>0.000415</td>\n",
       "      <td>COMPLETE</td>\n",
       "    </tr>\n",
       "    <tr>\n",
       "      <th>4</th>\n",
       "      <td>4</td>\n",
       "      <td>0.714294</td>\n",
       "      <td>2025-10-09 11:08:49.493055</td>\n",
       "      <td>2025-10-09 11:09:37.784571</td>\n",
       "      <td>0 days 00:00:48.291516</td>\n",
       "      <td>0.010611</td>\n",
       "      <td>256</td>\n",
       "      <td>0.441826</td>\n",
       "      <td>1.164759e-05</td>\n",
       "      <td>0.025555</td>\n",
       "      <td>COMPLETE</td>\n",
       "    </tr>\n",
       "    <tr>\n",
       "      <th>20</th>\n",
       "      <td>20</td>\n",
       "      <td>0.691082</td>\n",
       "      <td>2025-10-09 11:23:34.845226</td>\n",
       "      <td>2025-10-09 11:24:32.647003</td>\n",
       "      <td>0 days 00:00:57.801777</td>\n",
       "      <td>0.012801</td>\n",
       "      <td>128</td>\n",
       "      <td>0.582581</td>\n",
       "      <td>1.249815e-06</td>\n",
       "      <td>0.000001</td>\n",
       "      <td>COMPLETE</td>\n",
       "    </tr>\n",
       "    <tr>\n",
       "      <th>12</th>\n",
       "      <td>12</td>\n",
       "      <td>0.536801</td>\n",
       "      <td>2025-10-09 11:15:55.115618</td>\n",
       "      <td>2025-10-09 11:16:52.504118</td>\n",
       "      <td>0 days 00:00:57.388500</td>\n",
       "      <td>0.098289</td>\n",
       "      <td>128</td>\n",
       "      <td>0.690947</td>\n",
       "      <td>4.174531e-06</td>\n",
       "      <td>0.000022</td>\n",
       "      <td>COMPLETE</td>\n",
       "    </tr>\n",
       "    <tr>\n",
       "      <th>27</th>\n",
       "      <td>27</td>\n",
       "      <td>0.535284</td>\n",
       "      <td>2025-10-09 11:30:10.980089</td>\n",
       "      <td>2025-10-09 11:31:08.377019</td>\n",
       "      <td>0 days 00:00:57.396930</td>\n",
       "      <td>0.040671</td>\n",
       "      <td>128</td>\n",
       "      <td>0.664576</td>\n",
       "      <td>1.658304e-06</td>\n",
       "      <td>0.000004</td>\n",
       "      <td>COMPLETE</td>\n",
       "    </tr>\n",
       "    <tr>\n",
       "      <th>24</th>\n",
       "      <td>24</td>\n",
       "      <td>0.500673</td>\n",
       "      <td>2025-10-09 11:27:27.064326</td>\n",
       "      <td>2025-10-09 11:28:24.785700</td>\n",
       "      <td>0 days 00:00:57.721374</td>\n",
       "      <td>0.080773</td>\n",
       "      <td>128</td>\n",
       "      <td>0.656524</td>\n",
       "      <td>8.005899e-06</td>\n",
       "      <td>0.000008</td>\n",
       "      <td>COMPLETE</td>\n",
       "    </tr>\n",
       "    <tr>\n",
       "      <th>0</th>\n",
       "      <td>0</td>\n",
       "      <td>0.487579</td>\n",
       "      <td>2025-10-09 11:05:17.844540</td>\n",
       "      <td>2025-10-09 11:06:06.784564</td>\n",
       "      <td>0 days 00:00:48.940024</td>\n",
       "      <td>0.014576</td>\n",
       "      <td>256</td>\n",
       "      <td>0.539168</td>\n",
       "      <td>8.782377e-07</td>\n",
       "      <td>0.000002</td>\n",
       "      <td>COMPLETE</td>\n",
       "    </tr>\n",
       "    <tr>\n",
       "      <th>17</th>\n",
       "      <td>17</td>\n",
       "      <td>0.463986</td>\n",
       "      <td>2025-10-09 11:20:40.685782</td>\n",
       "      <td>2025-10-09 11:21:39.012839</td>\n",
       "      <td>0 days 00:00:58.327057</td>\n",
       "      <td>0.035310</td>\n",
       "      <td>128</td>\n",
       "      <td>0.586405</td>\n",
       "      <td>1.081511e-07</td>\n",
       "      <td>0.000007</td>\n",
       "      <td>COMPLETE</td>\n",
       "    </tr>\n",
       "    <tr>\n",
       "      <th>22</th>\n",
       "      <td>22</td>\n",
       "      <td>0.367855</td>\n",
       "      <td>2025-10-09 11:25:32.020516</td>\n",
       "      <td>2025-10-09 11:26:29.414158</td>\n",
       "      <td>0 days 00:00:57.393642</td>\n",
       "      <td>0.041961</td>\n",
       "      <td>128</td>\n",
       "      <td>0.697060</td>\n",
       "      <td>5.568306e-06</td>\n",
       "      <td>0.000006</td>\n",
       "      <td>COMPLETE</td>\n",
       "    </tr>\n",
       "    <tr>\n",
       "      <th>29</th>\n",
       "      <td>29</td>\n",
       "      <td>0.361626</td>\n",
       "      <td>2025-10-09 11:32:05.075159</td>\n",
       "      <td>2025-10-09 11:32:53.169609</td>\n",
       "      <td>0 days 00:00:48.094450</td>\n",
       "      <td>0.069926</td>\n",
       "      <td>256</td>\n",
       "      <td>0.604263</td>\n",
       "      <td>7.158459e-07</td>\n",
       "      <td>0.000002</td>\n",
       "      <td>COMPLETE</td>\n",
       "    </tr>\n",
       "    <tr>\n",
       "      <th>23</th>\n",
       "      <td>23</td>\n",
       "      <td>0.319101</td>\n",
       "      <td>2025-10-09 11:26:29.414640</td>\n",
       "      <td>2025-10-09 11:27:27.063738</td>\n",
       "      <td>0 days 00:00:57.649098</td>\n",
       "      <td>0.053838</td>\n",
       "      <td>128</td>\n",
       "      <td>0.641881</td>\n",
       "      <td>2.055012e-06</td>\n",
       "      <td>0.000078</td>\n",
       "      <td>COMPLETE</td>\n",
       "    </tr>\n",
       "    <tr>\n",
       "      <th>15</th>\n",
       "      <td>15</td>\n",
       "      <td>0.191508</td>\n",
       "      <td>2025-10-09 11:18:47.711743</td>\n",
       "      <td>2025-10-09 11:19:44.110553</td>\n",
       "      <td>0 days 00:00:56.398810</td>\n",
       "      <td>0.036650</td>\n",
       "      <td>128</td>\n",
       "      <td>0.679712</td>\n",
       "      <td>7.212239e-06</td>\n",
       "      <td>0.000003</td>\n",
       "      <td>COMPLETE</td>\n",
       "    </tr>\n",
       "    <tr>\n",
       "      <th>19</th>\n",
       "      <td>19</td>\n",
       "      <td>0.180496</td>\n",
       "      <td>2025-10-09 11:22:37.673163</td>\n",
       "      <td>2025-10-09 11:23:34.844809</td>\n",
       "      <td>0 days 00:00:57.171646</td>\n",
       "      <td>0.078358</td>\n",
       "      <td>128</td>\n",
       "      <td>0.396666</td>\n",
       "      <td>7.464822e-06</td>\n",
       "      <td>0.001316</td>\n",
       "      <td>COMPLETE</td>\n",
       "    </tr>\n",
       "    <tr>\n",
       "      <th>5</th>\n",
       "      <td>5</td>\n",
       "      <td>0.143288</td>\n",
       "      <td>2025-10-09 11:09:37.785020</td>\n",
       "      <td>2025-10-09 11:10:33.251629</td>\n",
       "      <td>0 days 00:00:55.466609</td>\n",
       "      <td>0.068521</td>\n",
       "      <td>128</td>\n",
       "      <td>0.318277</td>\n",
       "      <td>2.857663e-07</td>\n",
       "      <td>0.000106</td>\n",
       "      <td>COMPLETE</td>\n",
       "    </tr>\n",
       "    <tr>\n",
       "      <th>25</th>\n",
       "      <td>25</td>\n",
       "      <td>0.097969</td>\n",
       "      <td>2025-10-09 11:28:24.786048</td>\n",
       "      <td>2025-10-09 11:29:22.948207</td>\n",
       "      <td>0 days 00:00:58.162159</td>\n",
       "      <td>0.032978</td>\n",
       "      <td>128</td>\n",
       "      <td>0.611114</td>\n",
       "      <td>4.943704e-07</td>\n",
       "      <td>0.000050</td>\n",
       "      <td>COMPLETE</td>\n",
       "    </tr>\n",
       "    <tr>\n",
       "      <th>8</th>\n",
       "      <td>8</td>\n",
       "      <td>0.068077</td>\n",
       "      <td>2025-10-09 11:12:16.161513</td>\n",
       "      <td>2025-10-09 11:13:03.310250</td>\n",
       "      <td>0 days 00:00:47.148737</td>\n",
       "      <td>0.026258</td>\n",
       "      <td>256</td>\n",
       "      <td>0.634745</td>\n",
       "      <td>1.448969e-05</td>\n",
       "      <td>0.008731</td>\n",
       "      <td>COMPLETE</td>\n",
       "    </tr>\n",
       "    <tr>\n",
       "      <th>26</th>\n",
       "      <td>26</td>\n",
       "      <td>0.061424</td>\n",
       "      <td>2025-10-09 11:29:22.948676</td>\n",
       "      <td>2025-10-09 11:30:10.979638</td>\n",
       "      <td>0 days 00:00:48.030962</td>\n",
       "      <td>0.058335</td>\n",
       "      <td>256</td>\n",
       "      <td>0.543624</td>\n",
       "      <td>4.399921e-06</td>\n",
       "      <td>0.000195</td>\n",
       "      <td>COMPLETE</td>\n",
       "    </tr>\n",
       "    <tr>\n",
       "      <th>6</th>\n",
       "      <td>6</td>\n",
       "      <td>-0.022858</td>\n",
       "      <td>2025-10-09 11:10:33.252070</td>\n",
       "      <td>2025-10-09 11:11:20.286881</td>\n",
       "      <td>0 days 00:00:47.034811</td>\n",
       "      <td>0.043782</td>\n",
       "      <td>256</td>\n",
       "      <td>0.561247</td>\n",
       "      <td>2.136007e-05</td>\n",
       "      <td>0.004985</td>\n",
       "      <td>COMPLETE</td>\n",
       "    </tr>\n",
       "    <tr>\n",
       "      <th>13</th>\n",
       "      <td>13</td>\n",
       "      <td>-0.041764</td>\n",
       "      <td>2025-10-09 11:16:52.504765</td>\n",
       "      <td>2025-10-09 11:17:48.391077</td>\n",
       "      <td>0 days 00:00:55.886312</td>\n",
       "      <td>0.070225</td>\n",
       "      <td>128</td>\n",
       "      <td>0.622749</td>\n",
       "      <td>2.641984e-06</td>\n",
       "      <td>0.000013</td>\n",
       "      <td>COMPLETE</td>\n",
       "    </tr>\n",
       "    <tr>\n",
       "      <th>28</th>\n",
       "      <td>28</td>\n",
       "      <td>-0.048976</td>\n",
       "      <td>2025-10-09 11:31:08.377584</td>\n",
       "      <td>2025-10-09 11:32:05.074666</td>\n",
       "      <td>0 days 00:00:56.697082</td>\n",
       "      <td>0.082481</td>\n",
       "      <td>128</td>\n",
       "      <td>0.511853</td>\n",
       "      <td>3.221972e-06</td>\n",
       "      <td>0.000016</td>\n",
       "      <td>COMPLETE</td>\n",
       "    </tr>\n",
       "    <tr>\n",
       "      <th>3</th>\n",
       "      <td>3</td>\n",
       "      <td>-0.051565</td>\n",
       "      <td>2025-10-09 11:07:52.866171</td>\n",
       "      <td>2025-10-09 11:08:49.492664</td>\n",
       "      <td>0 days 00:00:56.626493</td>\n",
       "      <td>0.026434</td>\n",
       "      <td>128</td>\n",
       "      <td>0.512007</td>\n",
       "      <td>4.049927e-05</td>\n",
       "      <td>0.061642</td>\n",
       "      <td>COMPLETE</td>\n",
       "    </tr>\n",
       "    <tr>\n",
       "      <th>7</th>\n",
       "      <td>7</td>\n",
       "      <td>-0.073366</td>\n",
       "      <td>2025-10-09 11:11:20.287316</td>\n",
       "      <td>2025-10-09 11:12:16.160995</td>\n",
       "      <td>0 days 00:00:55.873679</td>\n",
       "      <td>0.055083</td>\n",
       "      <td>128</td>\n",
       "      <td>0.588000</td>\n",
       "      <td>1.727405e-05</td>\n",
       "      <td>0.000621</td>\n",
       "      <td>COMPLETE</td>\n",
       "    </tr>\n",
       "    <tr>\n",
       "      <th>9</th>\n",
       "      <td>9</td>\n",
       "      <td>-0.116566</td>\n",
       "      <td>2025-10-09 11:13:03.310700</td>\n",
       "      <td>2025-10-09 11:14:00.408467</td>\n",
       "      <td>0 days 00:00:57.097767</td>\n",
       "      <td>0.025232</td>\n",
       "      <td>128</td>\n",
       "      <td>0.444302</td>\n",
       "      <td>4.188305e-07</td>\n",
       "      <td>0.000025</td>\n",
       "      <td>COMPLETE</td>\n",
       "    </tr>\n",
       "    <tr>\n",
       "      <th>16</th>\n",
       "      <td>16</td>\n",
       "      <td>-0.486280</td>\n",
       "      <td>2025-10-09 11:19:44.111018</td>\n",
       "      <td>2025-10-09 11:20:40.685298</td>\n",
       "      <td>0 days 00:00:56.574280</td>\n",
       "      <td>0.018403</td>\n",
       "      <td>128</td>\n",
       "      <td>0.649850</td>\n",
       "      <td>7.105146e-05</td>\n",
       "      <td>0.000001</td>\n",
       "      <td>COMPLETE</td>\n",
       "    </tr>\n",
       "  </tbody>\n",
       "</table>\n",
       "</div>"
      ],
      "text/plain": [
       "    number     value             datetime_start          datetime_complete  \\\n",
       "14      14  1.115121 2025-10-09 11:17:48.391482 2025-10-09 11:18:47.711224   \n",
       "21      21  1.095537 2025-10-09 11:24:32.647368 2025-10-09 11:25:32.020150   \n",
       "11      11  0.939718 2025-10-09 11:14:57.790259 2025-10-09 11:15:55.115182   \n",
       "2        2  0.859636 2025-10-09 11:06:54.710081 2025-10-09 11:07:52.865708   \n",
       "10      10  0.854207 2025-10-09 11:14:00.408810 2025-10-09 11:14:57.789827   \n",
       "1        1  0.768920 2025-10-09 11:06:06.785095 2025-10-09 11:06:54.709549   \n",
       "18      18  0.732600 2025-10-09 11:21:39.013342 2025-10-09 11:22:37.672622   \n",
       "4        4  0.714294 2025-10-09 11:08:49.493055 2025-10-09 11:09:37.784571   \n",
       "20      20  0.691082 2025-10-09 11:23:34.845226 2025-10-09 11:24:32.647003   \n",
       "12      12  0.536801 2025-10-09 11:15:55.115618 2025-10-09 11:16:52.504118   \n",
       "27      27  0.535284 2025-10-09 11:30:10.980089 2025-10-09 11:31:08.377019   \n",
       "24      24  0.500673 2025-10-09 11:27:27.064326 2025-10-09 11:28:24.785700   \n",
       "0        0  0.487579 2025-10-09 11:05:17.844540 2025-10-09 11:06:06.784564   \n",
       "17      17  0.463986 2025-10-09 11:20:40.685782 2025-10-09 11:21:39.012839   \n",
       "22      22  0.367855 2025-10-09 11:25:32.020516 2025-10-09 11:26:29.414158   \n",
       "29      29  0.361626 2025-10-09 11:32:05.075159 2025-10-09 11:32:53.169609   \n",
       "23      23  0.319101 2025-10-09 11:26:29.414640 2025-10-09 11:27:27.063738   \n",
       "15      15  0.191508 2025-10-09 11:18:47.711743 2025-10-09 11:19:44.110553   \n",
       "19      19  0.180496 2025-10-09 11:22:37.673163 2025-10-09 11:23:34.844809   \n",
       "5        5  0.143288 2025-10-09 11:09:37.785020 2025-10-09 11:10:33.251629   \n",
       "25      25  0.097969 2025-10-09 11:28:24.786048 2025-10-09 11:29:22.948207   \n",
       "8        8  0.068077 2025-10-09 11:12:16.161513 2025-10-09 11:13:03.310250   \n",
       "26      26  0.061424 2025-10-09 11:29:22.948676 2025-10-09 11:30:10.979638   \n",
       "6        6 -0.022858 2025-10-09 11:10:33.252070 2025-10-09 11:11:20.286881   \n",
       "13      13 -0.041764 2025-10-09 11:16:52.504765 2025-10-09 11:17:48.391077   \n",
       "28      28 -0.048976 2025-10-09 11:31:08.377584 2025-10-09 11:32:05.074666   \n",
       "3        3 -0.051565 2025-10-09 11:07:52.866171 2025-10-09 11:08:49.492664   \n",
       "7        7 -0.073366 2025-10-09 11:11:20.287316 2025-10-09 11:12:16.160995   \n",
       "9        9 -0.116566 2025-10-09 11:13:03.310700 2025-10-09 11:14:00.408467   \n",
       "16      16 -0.486280 2025-10-09 11:19:44.111018 2025-10-09 11:20:40.685298   \n",
       "\n",
       "                 duration  params_alpha  params_batch_size  params_dropout_3  \\\n",
       "14 0 days 00:00:59.319742      0.036034                128          0.649028   \n",
       "21 0 days 00:00:59.372782      0.057191                128          0.646930   \n",
       "11 0 days 00:00:57.324923      0.098753                128          0.692894   \n",
       "2  0 days 00:00:58.155627      0.061757                128          0.623477   \n",
       "10 0 days 00:00:57.381017      0.090916                128          0.680887   \n",
       "1  0 days 00:00:47.924454      0.048260                256          0.342147   \n",
       "18 0 days 00:00:58.659280      0.019995                128          0.462690   \n",
       "4  0 days 00:00:48.291516      0.010611                256          0.441826   \n",
       "20 0 days 00:00:57.801777      0.012801                128          0.582581   \n",
       "12 0 days 00:00:57.388500      0.098289                128          0.690947   \n",
       "27 0 days 00:00:57.396930      0.040671                128          0.664576   \n",
       "24 0 days 00:00:57.721374      0.080773                128          0.656524   \n",
       "0  0 days 00:00:48.940024      0.014576                256          0.539168   \n",
       "17 0 days 00:00:58.327057      0.035310                128          0.586405   \n",
       "22 0 days 00:00:57.393642      0.041961                128          0.697060   \n",
       "29 0 days 00:00:48.094450      0.069926                256          0.604263   \n",
       "23 0 days 00:00:57.649098      0.053838                128          0.641881   \n",
       "15 0 days 00:00:56.398810      0.036650                128          0.679712   \n",
       "19 0 days 00:00:57.171646      0.078358                128          0.396666   \n",
       "5  0 days 00:00:55.466609      0.068521                128          0.318277   \n",
       "25 0 days 00:00:58.162159      0.032978                128          0.611114   \n",
       "8  0 days 00:00:47.148737      0.026258                256          0.634745   \n",
       "26 0 days 00:00:48.030962      0.058335                256          0.543624   \n",
       "6  0 days 00:00:47.034811      0.043782                256          0.561247   \n",
       "13 0 days 00:00:55.886312      0.070225                128          0.622749   \n",
       "28 0 days 00:00:56.697082      0.082481                128          0.511853   \n",
       "3  0 days 00:00:56.626493      0.026434                128          0.512007   \n",
       "7  0 days 00:00:55.873679      0.055083                128          0.588000   \n",
       "9  0 days 00:00:57.097767      0.025232                128          0.444302   \n",
       "16 0 days 00:00:56.574280      0.018403                128          0.649850   \n",
       "\n",
       "    params_learning_rate  params_weight_decay     state  \n",
       "14          5.598714e-06             0.000001  COMPLETE  \n",
       "21          4.857881e-06             0.000058  COMPLETE  \n",
       "11          2.425910e-06             0.000006  COMPLETE  \n",
       "2           3.352505e-06             0.000039  COMPLETE  \n",
       "10          1.823705e-06             0.000003  COMPLETE  \n",
       "1           3.109928e-05             0.000145  COMPLETE  \n",
       "18          9.832403e-07             0.000415  COMPLETE  \n",
       "4           1.164759e-05             0.025555  COMPLETE  \n",
       "20          1.249815e-06             0.000001  COMPLETE  \n",
       "12          4.174531e-06             0.000022  COMPLETE  \n",
       "27          1.658304e-06             0.000004  COMPLETE  \n",
       "24          8.005899e-06             0.000008  COMPLETE  \n",
       "0           8.782377e-07             0.000002  COMPLETE  \n",
       "17          1.081511e-07             0.000007  COMPLETE  \n",
       "22          5.568306e-06             0.000006  COMPLETE  \n",
       "29          7.158459e-07             0.000002  COMPLETE  \n",
       "23          2.055012e-06             0.000078  COMPLETE  \n",
       "15          7.212239e-06             0.000003  COMPLETE  \n",
       "19          7.464822e-06             0.001316  COMPLETE  \n",
       "5           2.857663e-07             0.000106  COMPLETE  \n",
       "25          4.943704e-07             0.000050  COMPLETE  \n",
       "8           1.448969e-05             0.008731  COMPLETE  \n",
       "26          4.399921e-06             0.000195  COMPLETE  \n",
       "6           2.136007e-05             0.004985  COMPLETE  \n",
       "13          2.641984e-06             0.000013  COMPLETE  \n",
       "28          3.221972e-06             0.000016  COMPLETE  \n",
       "3           4.049927e-05             0.061642  COMPLETE  \n",
       "7           1.727405e-05             0.000621  COMPLETE  \n",
       "9           4.188305e-07             0.000025  COMPLETE  \n",
       "16          7.105146e-05             0.000001  COMPLETE  "
      ]
     },
     "execution_count": 21,
     "metadata": {},
     "output_type": "execute_result"
    }
   ],
   "source": [
    "df = study.trials_dataframe()\n",
    "df.sort_values(by='value', ascending=False)"
   ]
  },
  {
   "cell_type": "code",
   "execution_count": 22,
   "id": "e4e221d6",
   "metadata": {},
   "outputs": [
    {
     "data": {
      "application/vnd.plotly.v1+json": {
       "config": {
        "plotlyServerURL": "https://plot.ly"
       },
       "data": [
        {
         "mode": "markers",
         "name": "Objective Value",
         "type": "scatter",
         "x": [
          0,
          1,
          2,
          3,
          4,
          5,
          6,
          7,
          8,
          9,
          10,
          11,
          12,
          13,
          14,
          15,
          16,
          17,
          18,
          19,
          20,
          21,
          22,
          23,
          24,
          25,
          26,
          27,
          28,
          29
         ],
         "y": [
          0.4875788647174442,
          0.7689195203454378,
          0.8596363318298577,
          -0.05156487354467659,
          0.7142940560211835,
          0.14328841082355137,
          -0.022858398031232494,
          -0.07336553057456958,
          0.06807734995469265,
          -0.11656618958401099,
          0.8542073828729769,
          0.9397176120969521,
          0.5368007592247969,
          -0.041763814849507516,
          1.1151205700035436,
          0.19150762931889875,
          -0.48628015203016717,
          0.4639856200805401,
          0.7326003643099831,
          0.1804957006014057,
          0.6910818854993074,
          1.095536852350901,
          0.367854831429922,
          0.31910077804875553,
          0.5006732673471971,
          0.09796939292368213,
          0.06142382930636689,
          0.5352843761816171,
          -0.04897646482618756,
          0.3616258959456932
         ]
        },
        {
         "mode": "lines",
         "name": "Best Value",
         "type": "scatter",
         "x": [
          0,
          1,
          2,
          3,
          4,
          5,
          6,
          7,
          8,
          9,
          10,
          11,
          12,
          13,
          14,
          15,
          16,
          17,
          18,
          19,
          20,
          21,
          22,
          23,
          24,
          25,
          26,
          27,
          28,
          29
         ],
         "y": [
          0.4875788647174442,
          0.7689195203454378,
          0.8596363318298577,
          0.8596363318298577,
          0.8596363318298577,
          0.8596363318298577,
          0.8596363318298577,
          0.8596363318298577,
          0.8596363318298577,
          0.8596363318298577,
          0.8596363318298577,
          0.9397176120969521,
          0.9397176120969521,
          0.9397176120969521,
          1.1151205700035436,
          1.1151205700035436,
          1.1151205700035436,
          1.1151205700035436,
          1.1151205700035436,
          1.1151205700035436,
          1.1151205700035436,
          1.1151205700035436,
          1.1151205700035436,
          1.1151205700035436,
          1.1151205700035436,
          1.1151205700035436,
          1.1151205700035436,
          1.1151205700035436,
          1.1151205700035436,
          1.1151205700035436
         ]
        },
        {
         "marker": {
          "color": "#cccccc"
         },
         "mode": "markers",
         "name": "Infeasible Trial",
         "showlegend": false,
         "type": "scatter",
         "x": [],
         "y": []
        }
       ],
       "layout": {
        "template": {
         "data": {
          "bar": [
           {
            "error_x": {
             "color": "#2a3f5f"
            },
            "error_y": {
             "color": "#2a3f5f"
            },
            "marker": {
             "line": {
              "color": "#E5ECF6",
              "width": 0.5
             },
             "pattern": {
              "fillmode": "overlay",
              "size": 10,
              "solidity": 0.2
             }
            },
            "type": "bar"
           }
          ],
          "barpolar": [
           {
            "marker": {
             "line": {
              "color": "#E5ECF6",
              "width": 0.5
             },
             "pattern": {
              "fillmode": "overlay",
              "size": 10,
              "solidity": 0.2
             }
            },
            "type": "barpolar"
           }
          ],
          "carpet": [
           {
            "aaxis": {
             "endlinecolor": "#2a3f5f",
             "gridcolor": "white",
             "linecolor": "white",
             "minorgridcolor": "white",
             "startlinecolor": "#2a3f5f"
            },
            "baxis": {
             "endlinecolor": "#2a3f5f",
             "gridcolor": "white",
             "linecolor": "white",
             "minorgridcolor": "white",
             "startlinecolor": "#2a3f5f"
            },
            "type": "carpet"
           }
          ],
          "choropleth": [
           {
            "colorbar": {
             "outlinewidth": 0,
             "ticks": ""
            },
            "type": "choropleth"
           }
          ],
          "contour": [
           {
            "colorbar": {
             "outlinewidth": 0,
             "ticks": ""
            },
            "colorscale": [
             [
              0,
              "#0d0887"
             ],
             [
              0.1111111111111111,
              "#46039f"
             ],
             [
              0.2222222222222222,
              "#7201a8"
             ],
             [
              0.3333333333333333,
              "#9c179e"
             ],
             [
              0.4444444444444444,
              "#bd3786"
             ],
             [
              0.5555555555555556,
              "#d8576b"
             ],
             [
              0.6666666666666666,
              "#ed7953"
             ],
             [
              0.7777777777777778,
              "#fb9f3a"
             ],
             [
              0.8888888888888888,
              "#fdca26"
             ],
             [
              1,
              "#f0f921"
             ]
            ],
            "type": "contour"
           }
          ],
          "contourcarpet": [
           {
            "colorbar": {
             "outlinewidth": 0,
             "ticks": ""
            },
            "type": "contourcarpet"
           }
          ],
          "heatmap": [
           {
            "colorbar": {
             "outlinewidth": 0,
             "ticks": ""
            },
            "colorscale": [
             [
              0,
              "#0d0887"
             ],
             [
              0.1111111111111111,
              "#46039f"
             ],
             [
              0.2222222222222222,
              "#7201a8"
             ],
             [
              0.3333333333333333,
              "#9c179e"
             ],
             [
              0.4444444444444444,
              "#bd3786"
             ],
             [
              0.5555555555555556,
              "#d8576b"
             ],
             [
              0.6666666666666666,
              "#ed7953"
             ],
             [
              0.7777777777777778,
              "#fb9f3a"
             ],
             [
              0.8888888888888888,
              "#fdca26"
             ],
             [
              1,
              "#f0f921"
             ]
            ],
            "type": "heatmap"
           }
          ],
          "histogram": [
           {
            "marker": {
             "pattern": {
              "fillmode": "overlay",
              "size": 10,
              "solidity": 0.2
             }
            },
            "type": "histogram"
           }
          ],
          "histogram2d": [
           {
            "colorbar": {
             "outlinewidth": 0,
             "ticks": ""
            },
            "colorscale": [
             [
              0,
              "#0d0887"
             ],
             [
              0.1111111111111111,
              "#46039f"
             ],
             [
              0.2222222222222222,
              "#7201a8"
             ],
             [
              0.3333333333333333,
              "#9c179e"
             ],
             [
              0.4444444444444444,
              "#bd3786"
             ],
             [
              0.5555555555555556,
              "#d8576b"
             ],
             [
              0.6666666666666666,
              "#ed7953"
             ],
             [
              0.7777777777777778,
              "#fb9f3a"
             ],
             [
              0.8888888888888888,
              "#fdca26"
             ],
             [
              1,
              "#f0f921"
             ]
            ],
            "type": "histogram2d"
           }
          ],
          "histogram2dcontour": [
           {
            "colorbar": {
             "outlinewidth": 0,
             "ticks": ""
            },
            "colorscale": [
             [
              0,
              "#0d0887"
             ],
             [
              0.1111111111111111,
              "#46039f"
             ],
             [
              0.2222222222222222,
              "#7201a8"
             ],
             [
              0.3333333333333333,
              "#9c179e"
             ],
             [
              0.4444444444444444,
              "#bd3786"
             ],
             [
              0.5555555555555556,
              "#d8576b"
             ],
             [
              0.6666666666666666,
              "#ed7953"
             ],
             [
              0.7777777777777778,
              "#fb9f3a"
             ],
             [
              0.8888888888888888,
              "#fdca26"
             ],
             [
              1,
              "#f0f921"
             ]
            ],
            "type": "histogram2dcontour"
           }
          ],
          "mesh3d": [
           {
            "colorbar": {
             "outlinewidth": 0,
             "ticks": ""
            },
            "type": "mesh3d"
           }
          ],
          "parcoords": [
           {
            "line": {
             "colorbar": {
              "outlinewidth": 0,
              "ticks": ""
             }
            },
            "type": "parcoords"
           }
          ],
          "pie": [
           {
            "automargin": true,
            "type": "pie"
           }
          ],
          "scatter": [
           {
            "fillpattern": {
             "fillmode": "overlay",
             "size": 10,
             "solidity": 0.2
            },
            "type": "scatter"
           }
          ],
          "scatter3d": [
           {
            "line": {
             "colorbar": {
              "outlinewidth": 0,
              "ticks": ""
             }
            },
            "marker": {
             "colorbar": {
              "outlinewidth": 0,
              "ticks": ""
             }
            },
            "type": "scatter3d"
           }
          ],
          "scattercarpet": [
           {
            "marker": {
             "colorbar": {
              "outlinewidth": 0,
              "ticks": ""
             }
            },
            "type": "scattercarpet"
           }
          ],
          "scattergeo": [
           {
            "marker": {
             "colorbar": {
              "outlinewidth": 0,
              "ticks": ""
             }
            },
            "type": "scattergeo"
           }
          ],
          "scattergl": [
           {
            "marker": {
             "colorbar": {
              "outlinewidth": 0,
              "ticks": ""
             }
            },
            "type": "scattergl"
           }
          ],
          "scattermap": [
           {
            "marker": {
             "colorbar": {
              "outlinewidth": 0,
              "ticks": ""
             }
            },
            "type": "scattermap"
           }
          ],
          "scattermapbox": [
           {
            "marker": {
             "colorbar": {
              "outlinewidth": 0,
              "ticks": ""
             }
            },
            "type": "scattermapbox"
           }
          ],
          "scatterpolar": [
           {
            "marker": {
             "colorbar": {
              "outlinewidth": 0,
              "ticks": ""
             }
            },
            "type": "scatterpolar"
           }
          ],
          "scatterpolargl": [
           {
            "marker": {
             "colorbar": {
              "outlinewidth": 0,
              "ticks": ""
             }
            },
            "type": "scatterpolargl"
           }
          ],
          "scatterternary": [
           {
            "marker": {
             "colorbar": {
              "outlinewidth": 0,
              "ticks": ""
             }
            },
            "type": "scatterternary"
           }
          ],
          "surface": [
           {
            "colorbar": {
             "outlinewidth": 0,
             "ticks": ""
            },
            "colorscale": [
             [
              0,
              "#0d0887"
             ],
             [
              0.1111111111111111,
              "#46039f"
             ],
             [
              0.2222222222222222,
              "#7201a8"
             ],
             [
              0.3333333333333333,
              "#9c179e"
             ],
             [
              0.4444444444444444,
              "#bd3786"
             ],
             [
              0.5555555555555556,
              "#d8576b"
             ],
             [
              0.6666666666666666,
              "#ed7953"
             ],
             [
              0.7777777777777778,
              "#fb9f3a"
             ],
             [
              0.8888888888888888,
              "#fdca26"
             ],
             [
              1,
              "#f0f921"
             ]
            ],
            "type": "surface"
           }
          ],
          "table": [
           {
            "cells": {
             "fill": {
              "color": "#EBF0F8"
             },
             "line": {
              "color": "white"
             }
            },
            "header": {
             "fill": {
              "color": "#C8D4E3"
             },
             "line": {
              "color": "white"
             }
            },
            "type": "table"
           }
          ]
         },
         "layout": {
          "annotationdefaults": {
           "arrowcolor": "#2a3f5f",
           "arrowhead": 0,
           "arrowwidth": 1
          },
          "autotypenumbers": "strict",
          "coloraxis": {
           "colorbar": {
            "outlinewidth": 0,
            "ticks": ""
           }
          },
          "colorscale": {
           "diverging": [
            [
             0,
             "#8e0152"
            ],
            [
             0.1,
             "#c51b7d"
            ],
            [
             0.2,
             "#de77ae"
            ],
            [
             0.3,
             "#f1b6da"
            ],
            [
             0.4,
             "#fde0ef"
            ],
            [
             0.5,
             "#f7f7f7"
            ],
            [
             0.6,
             "#e6f5d0"
            ],
            [
             0.7,
             "#b8e186"
            ],
            [
             0.8,
             "#7fbc41"
            ],
            [
             0.9,
             "#4d9221"
            ],
            [
             1,
             "#276419"
            ]
           ],
           "sequential": [
            [
             0,
             "#0d0887"
            ],
            [
             0.1111111111111111,
             "#46039f"
            ],
            [
             0.2222222222222222,
             "#7201a8"
            ],
            [
             0.3333333333333333,
             "#9c179e"
            ],
            [
             0.4444444444444444,
             "#bd3786"
            ],
            [
             0.5555555555555556,
             "#d8576b"
            ],
            [
             0.6666666666666666,
             "#ed7953"
            ],
            [
             0.7777777777777778,
             "#fb9f3a"
            ],
            [
             0.8888888888888888,
             "#fdca26"
            ],
            [
             1,
             "#f0f921"
            ]
           ],
           "sequentialminus": [
            [
             0,
             "#0d0887"
            ],
            [
             0.1111111111111111,
             "#46039f"
            ],
            [
             0.2222222222222222,
             "#7201a8"
            ],
            [
             0.3333333333333333,
             "#9c179e"
            ],
            [
             0.4444444444444444,
             "#bd3786"
            ],
            [
             0.5555555555555556,
             "#d8576b"
            ],
            [
             0.6666666666666666,
             "#ed7953"
            ],
            [
             0.7777777777777778,
             "#fb9f3a"
            ],
            [
             0.8888888888888888,
             "#fdca26"
            ],
            [
             1,
             "#f0f921"
            ]
           ]
          },
          "colorway": [
           "#636efa",
           "#EF553B",
           "#00cc96",
           "#ab63fa",
           "#FFA15A",
           "#19d3f3",
           "#FF6692",
           "#B6E880",
           "#FF97FF",
           "#FECB52"
          ],
          "font": {
           "color": "#2a3f5f"
          },
          "geo": {
           "bgcolor": "white",
           "lakecolor": "white",
           "landcolor": "#E5ECF6",
           "showlakes": true,
           "showland": true,
           "subunitcolor": "white"
          },
          "hoverlabel": {
           "align": "left"
          },
          "hovermode": "closest",
          "mapbox": {
           "style": "light"
          },
          "paper_bgcolor": "white",
          "plot_bgcolor": "#E5ECF6",
          "polar": {
           "angularaxis": {
            "gridcolor": "white",
            "linecolor": "white",
            "ticks": ""
           },
           "bgcolor": "#E5ECF6",
           "radialaxis": {
            "gridcolor": "white",
            "linecolor": "white",
            "ticks": ""
           }
          },
          "scene": {
           "xaxis": {
            "backgroundcolor": "#E5ECF6",
            "gridcolor": "white",
            "gridwidth": 2,
            "linecolor": "white",
            "showbackground": true,
            "ticks": "",
            "zerolinecolor": "white"
           },
           "yaxis": {
            "backgroundcolor": "#E5ECF6",
            "gridcolor": "white",
            "gridwidth": 2,
            "linecolor": "white",
            "showbackground": true,
            "ticks": "",
            "zerolinecolor": "white"
           },
           "zaxis": {
            "backgroundcolor": "#E5ECF6",
            "gridcolor": "white",
            "gridwidth": 2,
            "linecolor": "white",
            "showbackground": true,
            "ticks": "",
            "zerolinecolor": "white"
           }
          },
          "shapedefaults": {
           "line": {
            "color": "#2a3f5f"
           }
          },
          "ternary": {
           "aaxis": {
            "gridcolor": "white",
            "linecolor": "white",
            "ticks": ""
           },
           "baxis": {
            "gridcolor": "white",
            "linecolor": "white",
            "ticks": ""
           },
           "bgcolor": "#E5ECF6",
           "caxis": {
            "gridcolor": "white",
            "linecolor": "white",
            "ticks": ""
           }
          },
          "title": {
           "x": 0.05
          },
          "xaxis": {
           "automargin": true,
           "gridcolor": "white",
           "linecolor": "white",
           "ticks": "",
           "title": {
            "standoff": 15
           },
           "zerolinecolor": "white",
           "zerolinewidth": 2
          },
          "yaxis": {
           "automargin": true,
           "gridcolor": "white",
           "linecolor": "white",
           "ticks": "",
           "title": {
            "standoff": 15
           },
           "zerolinecolor": "white",
           "zerolinewidth": 2
          }
         }
        },
        "title": {
         "text": "Optimization History Plot"
        },
        "xaxis": {
         "title": {
          "text": "Trial"
         }
        },
        "yaxis": {
         "title": {
          "text": "Objective Value"
         }
        }
       }
      }
     },
     "metadata": {},
     "output_type": "display_data"
    }
   ],
   "source": [
    "fig = optuna.visualization.plot_optimization_history(study)\n",
    "fig.show()"
   ]
  },
  {
   "cell_type": "code",
   "execution_count": 23,
   "id": "47dc57c7",
   "metadata": {},
   "outputs": [
    {
     "data": {
      "application/vnd.plotly.v1+json": {
       "config": {
        "plotlyServerURL": "https://plot.ly"
       },
       "data": [
        {
         "cliponaxis": false,
         "hovertemplate": [
          "weight_decay (FloatDistribution): 0.0354381357301862<extra></extra>",
          "batch_size (CategoricalDistribution): 0.03688022995517563<extra></extra>",
          "alpha (FloatDistribution): 0.2135628307947789<extra></extra>",
          "learning_rate (FloatDistribution): 0.3502392359650645<extra></extra>",
          "dropout_3 (FloatDistribution): 0.3638795675547948<extra></extra>"
         ],
         "name": "Objective Value",
         "orientation": "h",
         "text": [
          "0.04",
          "0.04",
          "0.21",
          "0.35",
          "0.36"
         ],
         "textposition": "outside",
         "type": "bar",
         "x": [
          0.0354381357301862,
          0.03688022995517563,
          0.2135628307947789,
          0.3502392359650645,
          0.3638795675547948
         ],
         "y": [
          "weight_decay",
          "batch_size",
          "alpha",
          "learning_rate",
          "dropout_3"
         ]
        }
       ],
       "layout": {
        "template": {
         "data": {
          "bar": [
           {
            "error_x": {
             "color": "#2a3f5f"
            },
            "error_y": {
             "color": "#2a3f5f"
            },
            "marker": {
             "line": {
              "color": "#E5ECF6",
              "width": 0.5
             },
             "pattern": {
              "fillmode": "overlay",
              "size": 10,
              "solidity": 0.2
             }
            },
            "type": "bar"
           }
          ],
          "barpolar": [
           {
            "marker": {
             "line": {
              "color": "#E5ECF6",
              "width": 0.5
             },
             "pattern": {
              "fillmode": "overlay",
              "size": 10,
              "solidity": 0.2
             }
            },
            "type": "barpolar"
           }
          ],
          "carpet": [
           {
            "aaxis": {
             "endlinecolor": "#2a3f5f",
             "gridcolor": "white",
             "linecolor": "white",
             "minorgridcolor": "white",
             "startlinecolor": "#2a3f5f"
            },
            "baxis": {
             "endlinecolor": "#2a3f5f",
             "gridcolor": "white",
             "linecolor": "white",
             "minorgridcolor": "white",
             "startlinecolor": "#2a3f5f"
            },
            "type": "carpet"
           }
          ],
          "choropleth": [
           {
            "colorbar": {
             "outlinewidth": 0,
             "ticks": ""
            },
            "type": "choropleth"
           }
          ],
          "contour": [
           {
            "colorbar": {
             "outlinewidth": 0,
             "ticks": ""
            },
            "colorscale": [
             [
              0,
              "#0d0887"
             ],
             [
              0.1111111111111111,
              "#46039f"
             ],
             [
              0.2222222222222222,
              "#7201a8"
             ],
             [
              0.3333333333333333,
              "#9c179e"
             ],
             [
              0.4444444444444444,
              "#bd3786"
             ],
             [
              0.5555555555555556,
              "#d8576b"
             ],
             [
              0.6666666666666666,
              "#ed7953"
             ],
             [
              0.7777777777777778,
              "#fb9f3a"
             ],
             [
              0.8888888888888888,
              "#fdca26"
             ],
             [
              1,
              "#f0f921"
             ]
            ],
            "type": "contour"
           }
          ],
          "contourcarpet": [
           {
            "colorbar": {
             "outlinewidth": 0,
             "ticks": ""
            },
            "type": "contourcarpet"
           }
          ],
          "heatmap": [
           {
            "colorbar": {
             "outlinewidth": 0,
             "ticks": ""
            },
            "colorscale": [
             [
              0,
              "#0d0887"
             ],
             [
              0.1111111111111111,
              "#46039f"
             ],
             [
              0.2222222222222222,
              "#7201a8"
             ],
             [
              0.3333333333333333,
              "#9c179e"
             ],
             [
              0.4444444444444444,
              "#bd3786"
             ],
             [
              0.5555555555555556,
              "#d8576b"
             ],
             [
              0.6666666666666666,
              "#ed7953"
             ],
             [
              0.7777777777777778,
              "#fb9f3a"
             ],
             [
              0.8888888888888888,
              "#fdca26"
             ],
             [
              1,
              "#f0f921"
             ]
            ],
            "type": "heatmap"
           }
          ],
          "histogram": [
           {
            "marker": {
             "pattern": {
              "fillmode": "overlay",
              "size": 10,
              "solidity": 0.2
             }
            },
            "type": "histogram"
           }
          ],
          "histogram2d": [
           {
            "colorbar": {
             "outlinewidth": 0,
             "ticks": ""
            },
            "colorscale": [
             [
              0,
              "#0d0887"
             ],
             [
              0.1111111111111111,
              "#46039f"
             ],
             [
              0.2222222222222222,
              "#7201a8"
             ],
             [
              0.3333333333333333,
              "#9c179e"
             ],
             [
              0.4444444444444444,
              "#bd3786"
             ],
             [
              0.5555555555555556,
              "#d8576b"
             ],
             [
              0.6666666666666666,
              "#ed7953"
             ],
             [
              0.7777777777777778,
              "#fb9f3a"
             ],
             [
              0.8888888888888888,
              "#fdca26"
             ],
             [
              1,
              "#f0f921"
             ]
            ],
            "type": "histogram2d"
           }
          ],
          "histogram2dcontour": [
           {
            "colorbar": {
             "outlinewidth": 0,
             "ticks": ""
            },
            "colorscale": [
             [
              0,
              "#0d0887"
             ],
             [
              0.1111111111111111,
              "#46039f"
             ],
             [
              0.2222222222222222,
              "#7201a8"
             ],
             [
              0.3333333333333333,
              "#9c179e"
             ],
             [
              0.4444444444444444,
              "#bd3786"
             ],
             [
              0.5555555555555556,
              "#d8576b"
             ],
             [
              0.6666666666666666,
              "#ed7953"
             ],
             [
              0.7777777777777778,
              "#fb9f3a"
             ],
             [
              0.8888888888888888,
              "#fdca26"
             ],
             [
              1,
              "#f0f921"
             ]
            ],
            "type": "histogram2dcontour"
           }
          ],
          "mesh3d": [
           {
            "colorbar": {
             "outlinewidth": 0,
             "ticks": ""
            },
            "type": "mesh3d"
           }
          ],
          "parcoords": [
           {
            "line": {
             "colorbar": {
              "outlinewidth": 0,
              "ticks": ""
             }
            },
            "type": "parcoords"
           }
          ],
          "pie": [
           {
            "automargin": true,
            "type": "pie"
           }
          ],
          "scatter": [
           {
            "fillpattern": {
             "fillmode": "overlay",
             "size": 10,
             "solidity": 0.2
            },
            "type": "scatter"
           }
          ],
          "scatter3d": [
           {
            "line": {
             "colorbar": {
              "outlinewidth": 0,
              "ticks": ""
             }
            },
            "marker": {
             "colorbar": {
              "outlinewidth": 0,
              "ticks": ""
             }
            },
            "type": "scatter3d"
           }
          ],
          "scattercarpet": [
           {
            "marker": {
             "colorbar": {
              "outlinewidth": 0,
              "ticks": ""
             }
            },
            "type": "scattercarpet"
           }
          ],
          "scattergeo": [
           {
            "marker": {
             "colorbar": {
              "outlinewidth": 0,
              "ticks": ""
             }
            },
            "type": "scattergeo"
           }
          ],
          "scattergl": [
           {
            "marker": {
             "colorbar": {
              "outlinewidth": 0,
              "ticks": ""
             }
            },
            "type": "scattergl"
           }
          ],
          "scattermap": [
           {
            "marker": {
             "colorbar": {
              "outlinewidth": 0,
              "ticks": ""
             }
            },
            "type": "scattermap"
           }
          ],
          "scattermapbox": [
           {
            "marker": {
             "colorbar": {
              "outlinewidth": 0,
              "ticks": ""
             }
            },
            "type": "scattermapbox"
           }
          ],
          "scatterpolar": [
           {
            "marker": {
             "colorbar": {
              "outlinewidth": 0,
              "ticks": ""
             }
            },
            "type": "scatterpolar"
           }
          ],
          "scatterpolargl": [
           {
            "marker": {
             "colorbar": {
              "outlinewidth": 0,
              "ticks": ""
             }
            },
            "type": "scatterpolargl"
           }
          ],
          "scatterternary": [
           {
            "marker": {
             "colorbar": {
              "outlinewidth": 0,
              "ticks": ""
             }
            },
            "type": "scatterternary"
           }
          ],
          "surface": [
           {
            "colorbar": {
             "outlinewidth": 0,
             "ticks": ""
            },
            "colorscale": [
             [
              0,
              "#0d0887"
             ],
             [
              0.1111111111111111,
              "#46039f"
             ],
             [
              0.2222222222222222,
              "#7201a8"
             ],
             [
              0.3333333333333333,
              "#9c179e"
             ],
             [
              0.4444444444444444,
              "#bd3786"
             ],
             [
              0.5555555555555556,
              "#d8576b"
             ],
             [
              0.6666666666666666,
              "#ed7953"
             ],
             [
              0.7777777777777778,
              "#fb9f3a"
             ],
             [
              0.8888888888888888,
              "#fdca26"
             ],
             [
              1,
              "#f0f921"
             ]
            ],
            "type": "surface"
           }
          ],
          "table": [
           {
            "cells": {
             "fill": {
              "color": "#EBF0F8"
             },
             "line": {
              "color": "white"
             }
            },
            "header": {
             "fill": {
              "color": "#C8D4E3"
             },
             "line": {
              "color": "white"
             }
            },
            "type": "table"
           }
          ]
         },
         "layout": {
          "annotationdefaults": {
           "arrowcolor": "#2a3f5f",
           "arrowhead": 0,
           "arrowwidth": 1
          },
          "autotypenumbers": "strict",
          "coloraxis": {
           "colorbar": {
            "outlinewidth": 0,
            "ticks": ""
           }
          },
          "colorscale": {
           "diverging": [
            [
             0,
             "#8e0152"
            ],
            [
             0.1,
             "#c51b7d"
            ],
            [
             0.2,
             "#de77ae"
            ],
            [
             0.3,
             "#f1b6da"
            ],
            [
             0.4,
             "#fde0ef"
            ],
            [
             0.5,
             "#f7f7f7"
            ],
            [
             0.6,
             "#e6f5d0"
            ],
            [
             0.7,
             "#b8e186"
            ],
            [
             0.8,
             "#7fbc41"
            ],
            [
             0.9,
             "#4d9221"
            ],
            [
             1,
             "#276419"
            ]
           ],
           "sequential": [
            [
             0,
             "#0d0887"
            ],
            [
             0.1111111111111111,
             "#46039f"
            ],
            [
             0.2222222222222222,
             "#7201a8"
            ],
            [
             0.3333333333333333,
             "#9c179e"
            ],
            [
             0.4444444444444444,
             "#bd3786"
            ],
            [
             0.5555555555555556,
             "#d8576b"
            ],
            [
             0.6666666666666666,
             "#ed7953"
            ],
            [
             0.7777777777777778,
             "#fb9f3a"
            ],
            [
             0.8888888888888888,
             "#fdca26"
            ],
            [
             1,
             "#f0f921"
            ]
           ],
           "sequentialminus": [
            [
             0,
             "#0d0887"
            ],
            [
             0.1111111111111111,
             "#46039f"
            ],
            [
             0.2222222222222222,
             "#7201a8"
            ],
            [
             0.3333333333333333,
             "#9c179e"
            ],
            [
             0.4444444444444444,
             "#bd3786"
            ],
            [
             0.5555555555555556,
             "#d8576b"
            ],
            [
             0.6666666666666666,
             "#ed7953"
            ],
            [
             0.7777777777777778,
             "#fb9f3a"
            ],
            [
             0.8888888888888888,
             "#fdca26"
            ],
            [
             1,
             "#f0f921"
            ]
           ]
          },
          "colorway": [
           "#636efa",
           "#EF553B",
           "#00cc96",
           "#ab63fa",
           "#FFA15A",
           "#19d3f3",
           "#FF6692",
           "#B6E880",
           "#FF97FF",
           "#FECB52"
          ],
          "font": {
           "color": "#2a3f5f"
          },
          "geo": {
           "bgcolor": "white",
           "lakecolor": "white",
           "landcolor": "#E5ECF6",
           "showlakes": true,
           "showland": true,
           "subunitcolor": "white"
          },
          "hoverlabel": {
           "align": "left"
          },
          "hovermode": "closest",
          "mapbox": {
           "style": "light"
          },
          "paper_bgcolor": "white",
          "plot_bgcolor": "#E5ECF6",
          "polar": {
           "angularaxis": {
            "gridcolor": "white",
            "linecolor": "white",
            "ticks": ""
           },
           "bgcolor": "#E5ECF6",
           "radialaxis": {
            "gridcolor": "white",
            "linecolor": "white",
            "ticks": ""
           }
          },
          "scene": {
           "xaxis": {
            "backgroundcolor": "#E5ECF6",
            "gridcolor": "white",
            "gridwidth": 2,
            "linecolor": "white",
            "showbackground": true,
            "ticks": "",
            "zerolinecolor": "white"
           },
           "yaxis": {
            "backgroundcolor": "#E5ECF6",
            "gridcolor": "white",
            "gridwidth": 2,
            "linecolor": "white",
            "showbackground": true,
            "ticks": "",
            "zerolinecolor": "white"
           },
           "zaxis": {
            "backgroundcolor": "#E5ECF6",
            "gridcolor": "white",
            "gridwidth": 2,
            "linecolor": "white",
            "showbackground": true,
            "ticks": "",
            "zerolinecolor": "white"
           }
          },
          "shapedefaults": {
           "line": {
            "color": "#2a3f5f"
           }
          },
          "ternary": {
           "aaxis": {
            "gridcolor": "white",
            "linecolor": "white",
            "ticks": ""
           },
           "baxis": {
            "gridcolor": "white",
            "linecolor": "white",
            "ticks": ""
           },
           "bgcolor": "#E5ECF6",
           "caxis": {
            "gridcolor": "white",
            "linecolor": "white",
            "ticks": ""
           }
          },
          "title": {
           "x": 0.05
          },
          "xaxis": {
           "automargin": true,
           "gridcolor": "white",
           "linecolor": "white",
           "ticks": "",
           "title": {
            "standoff": 15
           },
           "zerolinecolor": "white",
           "zerolinewidth": 2
          },
          "yaxis": {
           "automargin": true,
           "gridcolor": "white",
           "linecolor": "white",
           "ticks": "",
           "title": {
            "standoff": 15
           },
           "zerolinecolor": "white",
           "zerolinewidth": 2
          }
         }
        },
        "title": {
         "text": "Hyperparameter Importances"
        },
        "xaxis": {
         "title": {
          "text": "Hyperparameter Importance"
         }
        },
        "yaxis": {
         "title": {
          "text": "Hyperparameter"
         }
        }
       }
      }
     },
     "metadata": {},
     "output_type": "display_data"
    }
   ],
   "source": [
    "fig = optuna.visualization.plot_param_importances(study)\n",
    "fig.show()"
   ]
  },
  {
   "cell_type": "markdown",
   "id": "1b2e14d4",
   "metadata": {},
   "source": [
    "在以所有资产为目标的情况下进行调优得到的参数：\n",
    "\n",
    "batch_size = 128\n",
    "dropout_3 = 0.7\n",
    "learning_rate = 1e-6\n",
    "weight_decay = 0.008 \n",
    "alpha = 0.05\n",
    "delta = 1.2\n",
    "gamma = 0.9\n",
    "\n",
    "以该参数训练出的模型回测年化收益："
   ]
  },
  {
   "cell_type": "code",
   "execution_count": 24,
   "id": "6d00c510",
   "metadata": {},
   "outputs": [],
   "source": [
    "# 提取数据\n",
    "feature_columns = ['inday_chg_open','inday_chg_high','inday_chg_low','inday_chg_close','inday_chg_amplitude', 'ma_10','ma_26','ma_45','ma_90','ma_vol',]\n",
    "label_columns = ['label_return','down_prob','middle_prob','up_prob']\n",
    "\n",
    "feature = []\n",
    "label = []\n",
    "\n",
    "for asset_code in assets_list:\n",
    "    data = pd.read_csv(f'data/{asset_code}.csv')\n",
    "    data = data[data['trade_date'] < 20230901].copy() # 所有2023年以后数据不参与训练\n",
    "    feature.append(torch.tensor(data[feature_columns].values, dtype = torch.float32, device = 'cuda:0'))\n",
    "    label.append(torch.tensor(data[label_columns].values, dtype = torch.float32, device = 'cuda:0'))\n",
    "\n",
    "feature = torch.stack(feature, dim = 1)\n",
    "label = torch.stack(label, dim = 1)\n",
    "\n",
    "feature = feature.unfold(dimension = 0, size = seq_len, step = 1).transpose(2,3)\n",
    "label = label[seq_len-1:]\n",
    "\n",
    "feature = torch.flatten(feature, start_dim=0, end_dim = 1)\n",
    "label = torch.flatten(label, start_dim=0, end_dim = 1)\n",
    "\n",
    "data = RandomLoader(feature, label)\n",
    "recorder = PredictionRecorder()\n",
    "animator = TrainMonitor(figsize=(12,6))"
   ]
  },
  {
   "cell_type": "code",
   "execution_count": 25,
   "id": "6f390dee",
   "metadata": {},
   "outputs": [],
   "source": [
    "# 可变参数组\n",
    "assets_list = ['IH.CFX', 'IF.CFX', 'IC.CFX']\n",
    "# assets_list = ['JM.DCE','RB.SHF','HC.SHF', 'I.DCE',]\n",
    "# assets_list = ['IH.CFX', 'IF.CFX', 'IC.CFX', 'AU.SHF', 'JM.DCE','RB.SHF','HC.SHF', 'I.DCE', 'M.DCE', 'CF.ZCE',]\n",
    "\n",
    "batch_size = 128\n",
    "dropout_3 = 0.7\n",
    "learning_rate = 1e-6\n",
    "weight_decay = 0.008 \n",
    "alpha = 0.05\n",
    "delta = 1.2\n",
    "gamma = 0.9\n",
    "\n",
    "dropout_1 = 0\n",
    "dropout_2 = 0\n",
    "\n",
    "train_loader, test_loader = data(batch_size=batch_size, slice_size=[0.75,0.24], balance=[True, True])"
   ]
  },
  {
   "cell_type": "code",
   "execution_count": 26,
   "id": "64f916eb",
   "metadata": {},
   "outputs": [
    {
     "data": {
      "image/png": "[encoded data removed]",
      "text/plain": [
       "<Figure size 1200x600 with 6 Axes>"
      ]
     },
     "metadata": {},
     "output_type": "display_data"
    },
    {
     "name": "stderr",
     "output_type": "stream",
     "text": [
      "100%|██████████| 10/10 [00:00<00:00, 202.91it/s]\n"
     ]
    },
    {
     "data": {
      "image/png": "[encoded data removed]",
      "text/plain": [
       "<Figure size 1200x600 with 6 Axes>"
      ]
     },
     "metadata": {},
     "output_type": "display_data"
    }
   ],
   "source": [
    "# 训练\n",
    "model = Patch_TST(input_size = 10,\n",
    "                    seq_len = seq_len,\n",
    "                    patch_size = patch_size,\n",
    "                    stride = stride,\n",
    "                    num_layer = num_layer, \n",
    "                    num_head = num_head,\n",
    "                    d_model = d_model,\n",
    "                    masking_ratio = masking_ratio,\n",
    "                    mask_expand_size = mask_expand_size,\n",
    "                    dropout_1 = dropout_1,\n",
    "                    dropout_2 = dropout_2,\n",
    "                    dropout_3 = dropout_3,\n",
    "                    ).to('cuda:0')\n",
    "model.load_state_dict(torch.load('params/self_supervised_1.params'))\n",
    "# zero_bias = torch.tensor([0.0, 0.0, 0.0], device = 'cuda:0')\n",
    "# model.output[2].log_prob[0].bias.data = zero_bias\n",
    "\n",
    "\n",
    "optimizer = torch.optim.AdamW(model.parameters(), lr = learning_rate, weight_decay=weight_decay)\n",
    "scheduler = lr_scheduler.StepLR(optimizer, step_size=1, gamma=gamma)\n",
    "loss_fn = HybridLoss(alpha = alpha, delta = delta, show_loss = False)\n",
    "\n",
    "\n",
    "train = ModelTrain(model = model, train_loader = train_loader, test_loader = test_loader, loss_fn = loss_fn, optimizer = optimizer, scheduler = scheduler, recorder = recorder, graph = animator)\n",
    "# 备注：这里我修改了一下 ModelTrain\n",
    "# 在训练轮次调用self.model.train() 之后，调用了\n",
    "# self.model.encoder.eval()\n",
    "# self.model.projection.eval()\n",
    "# 来使前置的编码层进入不更新参数和完全体输出的状态，服务于输出层的训练\n",
    "\n",
    "prediction, precision = train.epoch_train(epochs = 3, early_stop = 100)\n",
    "\n",
    "torch.save(model.state_dict(), 'params/supervised_1.params')\n"
   ]
  },
  {
   "cell_type": "code",
   "execution_count": 27,
   "id": "fb34f683",
   "metadata": {},
   "outputs": [],
   "source": [
    "# all_assets = pd.DataFrame({\n",
    "#     'stage_1_prediction': np.mean(result, axis = 0)[:,0],\n",
    "#     'stage_2_prediction': np.mean(result, axis = 0)[:,2],\n",
    "\n",
    "#     'stage_1_precision': np.mean(result, axis = 0)[:,1],\n",
    "#     'stage_2_precision': np.mean(result, axis = 0)[:,3],\n",
    "\n",
    "#     'stage_1_precision_std': np.std(result, axis = 0)[:,1],\n",
    "#     'stage_2_precision_std': np.std(result, axis = 0)[:,3],\n",
    "# })\n",
    "# # all_assets.index = pd.Series(assets_list)\n",
    "# for col in all_assets.columns:\n",
    "#     all_assets[col] = all_assets[col].apply(lambda x: f\"{x:.1%}\")\n",
    "\n",
    "# # 转换为Markdown\n",
    "# markdown_table = all_assets.to_markdown(index=False)\n",
    "# print(markdown_table)"
   ]
  }
 ],
 "metadata": {
  "kernelspec": {
   "display_name": "Python 3",
   "language": "python",
   "name": "python3"
  },
  "language_info": {
   "codemirror_mode": {
    "name": "ipython",
    "version": 3
   },
   "file_extension": ".py",
   "mimetype": "text/x-python",
   "name": "python",
   "nbconvert_exporter": "python",
   "pygments_lexer": "ipython3",
   "version": "3.13.7"
  }
 },
 "nbformat": 4,
 "nbformat_minor": 5
}
