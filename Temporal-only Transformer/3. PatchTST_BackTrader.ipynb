{
 "cells": [
  {
   "cell_type": "code",
   "execution_count": 206,
   "id": "f1108003",
   "metadata": {},
   "outputs": [],
   "source": [
    "import os\n",
    "os.chdir('d:/future/Index_Future_Prediction')\n",
    "\n",
    "import numpy as np\n",
    "import pandas as pd\n",
    "import matplotlib.pyplot as plt\n",
    "%matplotlib inline\n",
    "import tqdm\n",
    "import optuna\n",
    "import math\n",
    "import backtrader as bt\n",
    "from datetime import datetime\n",
    "\n",
    "import torch\n",
    "import torch.nn as nn\n",
    "from torch.nn import functional as F\n",
    "from torch.optim import lr_scheduler, Adam, AdamW\n",
    "from torch.utils.data import TensorDataset, DataLoader\n",
    "\n",
    "from utils import *\n",
    "from modules import *\n",
    "\n",
    "import warnings\n",
    "warnings.filterwarnings(\"ignore\", category=FutureWarning)\n",
    "warnings.filterwarnings(\"ignore\", category=UserWarning)"
   ]
  },
  {
   "cell_type": "markdown",
   "id": "1d7c464c",
   "metadata": {},
   "source": [
    "在得到输出层的训练结果之后，就可以进行回测了。由于在训练过程中完全没有使用过2023年9月1号以后的数据，以此作为回测是安全的。\n",
    "\n",
    "我们以2023.9.1-2024.9.1 和 2024.9.1-2025.9.1 这两个时间段分别进行回测，从2024.9.24之后市场环境发生了很大变化，正好可以以此来观察该模型在不同市场环境下的泛化性能\n",
    "\n",
    "我们先用一个简单方案，直接在backtrader外计算好模型给出的操作建议，然后输入到backtrader"
   ]
  },
  {
   "cell_type": "code",
   "execution_count": 207,
   "id": "089b2fcc",
   "metadata": {},
   "outputs": [],
   "source": [
    "class Patch_TST(nn.Module):\n",
    "    \"\"\"Patch Time Series Transformer\"\"\"\n",
    "    def __init__(self, input_size, seq_len, patch_size, stride, num_layer, num_head, d_model, masking_ratio, mask_expand_size, dropout_1, dropout_2, dropout_3):\n",
    "        super().__init__()\n",
    "        self.device = 'cuda:0'\n",
    "        self.input_size = input_size\n",
    "        self.patch_size = patch_size\n",
    "        self.stride = stride\n",
    "        self.masking_ratio = masking_ratio\n",
    "        self.mask_expand_size = mask_expand_size # 扩展mask的宽度 1 表示向左右各扩展一个patch\n",
    "\n",
    "        self.num_patch = int(np.floor((seq_len - patch_size) / stride) + 1)\n",
    "\n",
    "        self.patch = TimeSeriesPatcher(patch_size, stride) # 首先经过patcher分成子序列\n",
    "\n",
    "        self.projection = PatchProjection(input_size, patch_size, d_model = d_model, dropout = dropout_1)\n",
    "\n",
    "        self.encoder = MultiLayerEncoder(dim_feature = d_model, dim_sequence = self.num_patch, num_enc_layer = num_layer, num_head = num_head, num_ffn_hidden = d_model*2, dropout = dropout_2)\n",
    "\n",
    "        self.reconstruction = nn.Linear(d_model, input_size * patch_size)\n",
    "        \n",
    "        self.output = nn.Sequential(\n",
    "            nn.Flatten(start_dim = -2),\n",
    "            nn.Linear(self.num_patch * d_model, self.num_patch * d_model),\n",
    "            nn.Dropout(dropout_3),\n",
    "            HybridDecoder(dim_state = self.num_patch * d_model, init_prob = [0.0,0.5,0.0])\n",
    "        )\n",
    "    \n",
    "    def self_supervised(self, x):\n",
    "        \"\"\"\n",
    "        自监督预训练\n",
    "        如果不允许patch重叠，正好被patch隔断的形态无法学习到。\n",
    "        允许patch重叠，则模型预训练的时候可以从前后patch偷看到信息。\n",
    "        需要用双重mask\n",
    "        target mask 是真正需要重建的patch\n",
    "        input mask 是target mask的扩展，根据系数向两侧扩展掩蔽范围。例如假如patch允许重叠50%，则向前后各多屏蔽一个patch就可以完全屏蔽掉信息。\n",
    "        \"\"\"\n",
    "        device = x.device\n",
    "        batch_size = x.shape[0]\n",
    "\n",
    "\n",
    "        noise = torch.rand(size=(batch_size, self.num_patch), device=device)\n",
    "        target_mask = noise < self.masking_ratio\n",
    "        \n",
    "        # 防止出现所有 patch 都没被 mask 的情况，至少 mask 一个随机选择一个 patch 进行 mask\n",
    "        if not target_mask.any(dim=1).all():\n",
    "            for i in range(batch_size):\n",
    "                if not target_mask[i].any():\n",
    "                    fallback_idx = torch.randint(0, self.num_patch, (1,)).item()\n",
    "                    target_mask[i, fallback_idx] = True\n",
    "\n",
    "        target_mask_float = target_mask.float().unsqueeze(1)\n",
    "        kernel_size = 2 * self.mask_expand_size + 1\n",
    "        kernel = torch.ones(1, 1, kernel_size, device=device)\n",
    "        padding = self.mask_expand_size\n",
    "        expanded_mask_float = F.conv1d(target_mask_float, kernel, padding=padding)\n",
    "        input_mask = (expanded_mask_float > 0).squeeze(1)\n",
    "\n",
    "\n",
    "        x_patched = self.patch(x)\n",
    "        reshape_mask = input_mask.unsqueeze(-1)\n",
    "        x_masked = torch.where(reshape_mask, 0.0, x_patched)\n",
    "        x_projected = self.projection(x_masked)\n",
    "        x_encodered = self.encoder(x_projected)\n",
    "        \n",
    "        x_pre_reconstruction = x_encodered[target_mask] # 仅关注target mask\n",
    "        x_reconstructed = self.reconstruction(x_pre_reconstruction)\n",
    "        x_target = x_patched[target_mask] # 仅关注target mask\n",
    "\n",
    "        return x_reconstructed, x_target\n",
    "    \n",
    "    def forward(self, x):\n",
    "        \"\"\"前向传播输出\"\"\"\n",
    "        x_patched = self.patch(x)\n",
    "        x_projected = self.projection(x_patched)\n",
    "        x_encodered = self.encoder(x_projected)\n",
    "        output = self.output(x_encodered)\n",
    "        return output\n",
    "        "
   ]
  },
  {
   "cell_type": "markdown",
   "id": "3abb5069",
   "metadata": {},
   "source": [
    "构建一个backtrader 的Strategy，通过回望过去5天的预测结果，计算今天的目标仓位并进行调仓，可以做到滚动持有来实现我们模型计算的5日预期收益"
   ]
  },
  {
   "cell_type": "code",
   "execution_count": 208,
   "id": "58900ae0",
   "metadata": {},
   "outputs": [],
   "source": [
    "class TargetPositionStrategy(bt.Strategy):\n",
    "    \"\"\"\n",
    "    基于回望期信号确定目标仓位，并进行调整。\n",
    "    同时记录每日的总资产价值用于后续绘图。\n",
    "    \"\"\"\n",
    "    params = (\n",
    "        ('lookback', 5),\n",
    "    )\n",
    "\n",
    "    def __init__(self):\n",
    "        self.log_dates = []\n",
    "        self.log_values = []\n",
    "\n",
    "    def log(self, txt, dt=None):\n",
    "        dt = dt or self.datas[0].datetime.date(0)\n",
    "        print(f'{dt.isoformat()} - {txt}')\n",
    "        \n",
    "    def next(self):\n",
    "        self.log_dates.append(self.data.datetime.date(0))\n",
    "        self.log_values.append(self.broker.getvalue())\n",
    "\n",
    "        for d in self.datas:\n",
    "            if len(d) < self.p.lookback:\n",
    "                continue\n",
    "            signals = d.openinterest.get(size=self.p.lookback) # 这里我们直接把计算好的策略覆盖到openinterest上了\n",
    "            target_position = int(sum(signals))\n",
    "            current_position = self.getposition(d).size\n",
    "\n",
    "            if target_position != current_position:\n",
    "                self.order_target_size(data=d, target=target_position)\n",
    "    \n",
    "    def stop(self):\n",
    "\n",
    "        for d in self.datas:\n",
    "            if self.getposition(d).size != 0:\n",
    "                self.order_target_size(data=d, target=0)\n"
   ]
  },
  {
   "cell_type": "code",
   "execution_count": 209,
   "id": "9302e347",
   "metadata": {},
   "outputs": [
    {
     "data": {
      "text/plain": [
       "Patch_TST(\n",
       "  (patch): TimeSeriesPatcher()\n",
       "  (projection): PatchProjection(\n",
       "    (project): Linear(in_features=80, out_features=128, bias=True)\n",
       "    (pe): PositionalEncoding(\n",
       "      (dropout): Dropout(p=0, inplace=False)\n",
       "    )\n",
       "  )\n",
       "  (encoder): MultiLayerEncoder(\n",
       "    (layers): ModuleList(\n",
       "      (0-1): 2 x EncoderBlock(\n",
       "        (attn): MultiHeadAttention(\n",
       "          (wq): Linear(in_features=128, out_features=128, bias=True)\n",
       "          (wk): Linear(in_features=128, out_features=128, bias=True)\n",
       "          (wv): Linear(in_features=128, out_features=128, bias=True)\n",
       "          (fc_out): Linear(in_features=128, out_features=128, bias=True)\n",
       "        )\n",
       "        (addnorm1): AddNorm(\n",
       "          (dropout): Dropout(p=0, inplace=False)\n",
       "          (ln): LayerNorm((29, 128), eps=1e-05, elementwise_affine=True)\n",
       "        )\n",
       "        (ffn): PositionWiseFFN(\n",
       "          (dense1): Linear(in_features=128, out_features=256, bias=True)\n",
       "          (relu): GELU(approximate='none')\n",
       "          (dense2): Linear(in_features=256, out_features=128, bias=True)\n",
       "        )\n",
       "        (addnorm2): AddNorm(\n",
       "          (dropout): Dropout(p=0, inplace=False)\n",
       "          (ln): LayerNorm((29, 128), eps=1e-05, elementwise_affine=True)\n",
       "        )\n",
       "      )\n",
       "    )\n",
       "  )\n",
       "  (reconstruction): Linear(in_features=128, out_features=80, bias=True)\n",
       "  (output): Sequential(\n",
       "    (0): Flatten(start_dim=-2, end_dim=-1)\n",
       "    (1): Linear(in_features=3712, out_features=3712, bias=True)\n",
       "    (2): Dropout(p=0, inplace=False)\n",
       "    (3): HybridDecoder(\n",
       "      (log_prob): Sequential(\n",
       "        (0): Linear(in_features=3712, out_features=3, bias=True)\n",
       "        (1): LogSoftmax(dim=-1)\n",
       "      )\n",
       "      (regress): Linear(in_features=3712, out_features=1, bias=True)\n",
       "    )\n",
       "  )\n",
       ")"
      ]
     },
     "execution_count": 209,
     "metadata": {},
     "output_type": "execute_result"
    }
   ],
   "source": [
    "# 固定参数组\n",
    "seq_len = 120\n",
    "patch_size = 8\n",
    "num_layer = 2\n",
    "num_head = 16\n",
    "d_model = 128\n",
    "\n",
    "masking_ratio = 0.2\n",
    "mask_expand_size = 1\n",
    "stride = 4\n",
    "\n",
    "assets_list = ['IH.CFX', 'IF.CFX', 'IC.CFX', 'AU.SHF', 'JM.DCE','RB.SHF','HC.SHF', 'I.DCE', 'M.DCE', 'CF.ZCE',]\n",
    "\n",
    "# 可变参数\n",
    "batch_size = 64\n",
    "dropout_1 = 0.18965831923308327\n",
    "dropout_2 = 0.1430970459619855\n",
    "dropout_3 = 0\n",
    "\n",
    "learning_rate = 0.001439252094023002\n",
    "weight_decay = 2.0667123273384227e-06\n",
    "gamma = 0.9810991631410341\n",
    "\n",
    "model = Patch_TST(input_size = 10,\n",
    "                    seq_len = seq_len,\n",
    "                    patch_size = patch_size,\n",
    "                    stride = stride,\n",
    "                    num_layer = num_layer, \n",
    "                    num_head = num_head,\n",
    "                    d_model = d_model,\n",
    "                    masking_ratio = masking_ratio,\n",
    "                    mask_expand_size = mask_expand_size,\n",
    "                    dropout_1 = 0,\n",
    "                    dropout_2 = 0,\n",
    "                    dropout_3 = 0,\n",
    "                    ).to('cuda:0')\n",
    "\n",
    "model.load_state_dict(torch.load('params/supervised_1.params'))\n",
    "model.eval()"
   ]
  },
  {
   "cell_type": "code",
   "execution_count": 210,
   "id": "96d33260",
   "metadata": {},
   "outputs": [],
   "source": [
    "feature_columns = ['inday_chg_open','inday_chg_high','inday_chg_low','inday_chg_close','inday_chg_amplitude', 'ma_10','ma_26','ma_45','ma_90','ma_vol',]\n",
    "label_columns = ['label_return','down_prob','middle_prob','up_prob']\n",
    "\n",
    "assets_list = ['IH.CFX', 'IF.CFX', 'IC.CFX', 'AU.SHF', 'JM.DCE','RB.SHF','HC.SHF', 'I.DCE', 'M.DCE', 'CF.ZCE',]\n",
    "assets_list = ['IH.CFX', 'IF.CFX', 'IC.CFX']\n",
    "# assets_list = ['JM.DCE','RB.SHF','HC.SHF', 'I.DCE',]\n"
   ]
  },
  {
   "cell_type": "code",
   "execution_count": 211,
   "id": "d59a70fa",
   "metadata": {},
   "outputs": [],
   "source": [
    "def simple_backtest(start_date, end_date):\n",
    "\n",
    "    cerebro = bt.Cerebro()\n",
    "    for asset_code in assets_list:\n",
    "\n",
    "        data = pd.read_csv(f'data/{asset_code}.csv')\n",
    "        data['trade_date'] = pd.to_datetime(data['trade_date'], format = '%Y%m%d')\n",
    "        data.index = data['trade_date']\n",
    "\n",
    "\n",
    "        input = torch.tensor(data[feature_columns].values, dtype = torch.float32, device = 'cuda:0')\n",
    "        input = input.unfold(dimension = 0, size = seq_len, step = 1).transpose(1,2)\n",
    "        output = model(input).detach().cpu().numpy()\n",
    "        prob_prediction = np.argmax(output[:,1:], axis = 1) - 1  # 转换为 -1, 0, +1 的方向表示\n",
    "\n",
    "\n",
    "        days = data['trade_date'][seq_len-1:]\n",
    "        position = pd.Series(index = days, data = prob_prediction, name = 'openinterest') # 为了方便，我们直接覆盖掉没使用的open interest\n",
    "        data = data.join(position, how='left')\n",
    "\n",
    "        data['volume'] = data['vol']\n",
    "        data = data[['open', 'high', 'low', 'close', 'volume', 'openinterest']][160-1:].copy()\n",
    "        feed_data = bt.feeds.PandasData(dataname=data, fromdate=start_date, todate=end_date, name = asset_code)  # 加载数据\n",
    "        cerebro.adddata(feed_data)\n",
    "\n",
    "\n",
    "    cerebro.broker.setcash(70000.0) # 5份IH 5份IF 5份IC 最大理论单边持仓约7w\n",
    "    cerebro.broker.setcommission(commission=0.0001)\n",
    "    cerebro.addstrategy(TargetPositionStrategy)\n",
    "    cerebro.addanalyzer(bt.analyzers.Returns, _name='returns')\n",
    "    cerebro.addanalyzer(bt.analyzers.TimeReturn, _name='timereturn', timeframe=bt.TimeFrame.Days)\n",
    "    cerebro.addanalyzer(bt.analyzers.DrawDown, _name='drawdown')\n",
    "    cerebro.addanalyzer(bt.analyzers.SharpeRatio, _name='sharpe', timeframe=bt.TimeFrame.Days, compression=1, riskfreerate=0.02, factor=252, annualize = True)\n",
    "    cerebro.addanalyzer(bt.analyzers.TradeAnalyzer, _name='trades')\n",
    "    results = cerebro.run()\n",
    "\n",
    "    print(f\"Final Portfolio Value: {cerebro.broker.getvalue():.2f}\")\n",
    "    strategy_instance = results[0]\n",
    "\n",
    "    # 年化收益\n",
    "    returns_analysis = strategy_instance.analyzers.returns.get_analysis()\n",
    "    print(f\"Annualized Return: {returns_analysis.get('rnorm', 'N/A'):.2%}\")\n",
    "    \n",
    "    # 年化标准差\n",
    "    timereturn_analysis = strategy_instance.analyzers.timereturn.get_analysis()\n",
    "    daily_returns = pd.Series(timereturn_analysis)\n",
    "    std_dev_daily = daily_returns.std()\n",
    "    print(f\"Annualized Std: {std_dev_daily * math.sqrt(252):.2%}\")\n",
    "    # 夏普比率\n",
    "    sharpe_analysis = strategy_instance.analyzers.sharpe.get_analysis()\n",
    "    print(f\"Sharpe Ratio: {sharpe_analysis.get('sharperatio', 'N/A'):.4f}\")\n",
    "    # 最大回撤\n",
    "    drawdown_analysis = strategy_instance.analyzers.drawdown.get_analysis()\n",
    "    print(f\"Max Drawdown: {drawdown_analysis.max.get('drawdown', 'N/A'):.2f}%\")\n",
    "    # 胜率\n",
    "    trades_analysis = strategy_instance.analyzers.trades.get_analysis()\n",
    "    print(f\"Total Trades: {trades_analysis.total.total}\")\n",
    "    print(f\"Win Rate: {(trades_analysis.won.total / trades_analysis.total.total) * 100:.2f}%\")\n",
    "    print(f\"Average PnL per Trade: {trades_analysis.pnl.net.average:.2f}\")\n",
    "\n",
    "    return strategy_instance\n"
   ]
  },
  {
   "cell_type": "code",
   "execution_count": 212,
   "id": "28bef07e",
   "metadata": {},
   "outputs": [
    {
     "name": "stdout",
     "output_type": "stream",
     "text": [
      "Final Portfolio Value: 80938.59\n",
      "Annualized Return: 16.18%\n",
      "Annualized Std: 7.16%\n",
      "Sharpe Ratio: 1.8585\n",
      "Max Drawdown: 5.90%\n",
      "Total Trades: 34\n",
      "Win Rate: 73.53%\n",
      "Average PnL per Trade: 454.12\n"
     ]
    }
   ],
   "source": [
    "strategy_instance_train = simple_backtest(datetime(2022, 9, 1), datetime(2023, 9, 1))"
   ]
  },
  {
   "cell_type": "markdown",
   "id": "9ae81218",
   "metadata": {},
   "source": [
    "由于2022-2023是在训练集内的，回测结果当然是非常好的，这个结果不能作为参考"
   ]
  },
  {
   "cell_type": "code",
   "execution_count": 213,
   "id": "73b83e31",
   "metadata": {},
   "outputs": [
    {
     "name": "stdout",
     "output_type": "stream",
     "text": [
      "Final Portfolio Value: 75090.86\n",
      "Annualized Return: 7.58%\n",
      "Annualized Std: 10.31%\n",
      "Sharpe Ratio: 0.5690\n",
      "Max Drawdown: 10.78%\n",
      "Total Trades: 26\n",
      "Win Rate: 61.54%\n",
      "Average PnL per Trade: 187.03\n"
     ]
    }
   ],
   "source": [
    "strategy_instance_test_1 = simple_backtest(datetime(2023, 9, 1), datetime(2024, 9, 1))"
   ]
  },
  {
   "cell_type": "markdown",
   "id": "7ac29d92",
   "metadata": {},
   "source": [
    "2023-9-1 到 2024-9-1期间，上证指数从3200下跌到最低2800"
   ]
  },
  {
   "cell_type": "code",
   "execution_count": 214,
   "id": "cb171302",
   "metadata": {},
   "outputs": [
    {
     "name": "stdout",
     "output_type": "stream",
     "text": [
      "Final Portfolio Value: 76303.97\n",
      "Annualized Return: 9.39%\n",
      "Annualized Std: 12.33%\n",
      "Sharpe Ratio: 0.6299\n",
      "Max Drawdown: 8.02%\n",
      "Total Trades: 37\n",
      "Win Rate: 40.54%\n",
      "Average PnL per Trade: 224.11\n"
     ]
    }
   ],
   "source": [
    "strategy_instance_test_2 = simple_backtest(datetime(2024, 9, 1), datetime(2025, 9, 1))"
   ]
  },
  {
   "cell_type": "markdown",
   "id": "7cf56b72",
   "metadata": {},
   "source": [
    "924之后的市场大家都知道了，从2800涨到3800，大盘涨了30%以上"
   ]
  },
  {
   "cell_type": "markdown",
   "id": "9583163d",
   "metadata": {},
   "source": [
    "可以看到，该模型在多头主导和空头主导的市场中，都有较为中性的表现"
   ]
  },
  {
   "cell_type": "code",
   "execution_count": 215,
   "id": "ec0303a9",
   "metadata": {},
   "outputs": [
    {
     "data": {
      "image/png": "[encoded data removed]",
      "text/plain": [
       "<Figure size 1600x600 with 2 Axes>"
      ]
     },
     "metadata": {},
     "output_type": "display_data"
    }
   ],
   "source": [
    "log_dates_1 = strategy_instance_test_1.log_dates\n",
    "log_values_1 = strategy_instance_test_1.log_values\n",
    "equity_curve_1 = pd.Series(log_values_1, index=pd.to_datetime(log_dates_1))\n",
    "log_dates_2 = strategy_instance_test_2.log_dates\n",
    "log_values_2 = strategy_instance_test_2.log_values\n",
    "equity_curve_2 = pd.Series(log_values_2, index=pd.to_datetime(log_dates_2))\n",
    "\n",
    "\n",
    "fig, (ax1, ax2) = plt.subplots(nrows=1, ncols=2, figsize=(16, 6), sharey = True)\n",
    "\n",
    "ax1.plot(equity_curve_1.index, equity_curve_1.values, label='Portfolio 1 Value', color='royalblue', linewidth=2)\n",
    "ax1.set_title('Portfolio 1 Equity Curve')\n",
    "ax1.set_xlabel('Date')\n",
    "ax1.set_ylabel('Portfolio Value ($)')\n",
    "ax1.legend()\n",
    "ax1.grid(True)\n",
    "\n",
    "ax2.plot(equity_curve_2.index, equity_curve_2.values, label='Portfolio 2 Value', color='seagreen', linewidth=2)\n",
    "ax2.set_title('Portfolio 2 Equity Curve')\n",
    "ax2.set_xlabel('Date')\n",
    "ax2.set_ylabel('Portfolio Value ($)')\n",
    "ax2.legend()\n",
    "ax2.grid(True)"
   ]
  }
 ],
 "metadata": {
  "kernelspec": {
   "display_name": "Python 3",
   "language": "python",
   "name": "python3"
  },
  "language_info": {
   "codemirror_mode": {
    "name": "ipython",
    "version": 3
   },
   "file_extension": ".py",
   "mimetype": "text/x-python",
   "name": "python",
   "nbconvert_exporter": "python",
   "pygments_lexer": "ipython3",
   "version": "3.13.7"
  }
 },
 "nbformat": 4,
 "nbformat_minor": 5
}
