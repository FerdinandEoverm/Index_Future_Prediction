{
 "cells": [
  {
   "cell_type": "markdown",
   "id": "6ebf8b81",
   "metadata": {},
   "source": [
    "接下来就遇到了一个非常头痛的问题：不同序列的长度是有很大差别的。\n",
    "\n",
    "比较早的品种，长度有20年以上，但短的品种可能只有一两年。\n",
    "\n",
    "如果要追求覆盖面的广度，那么时间序列的长度就会缩短；\n",
    "\n",
    "如果想要延长序列长度，那么能涵盖的品种范围就要缩小。"
   ]
  },
  {
   "cell_type": "code",
   "execution_count": 6,
   "id": "6d0898ea",
   "metadata": {},
   "outputs": [],
   "source": [
    "assets_list = [\n",
    "    # 股指期货\n",
    "    'IH.CFX', 'IF.CFX', 'IC.CFX',\n",
    "    # 国债期货\n",
    "    'TS.CFX', 'TF.CFX', 'T.CFX', 'TL1.CFX',\n",
    "    # 黑色金属产业链\n",
    "    'I.DCE', 'JM.DCE', 'RB.SHF', 'HC.SHF', 'SS.SHF', 'SF.ZCE', 'SM.ZCE',\n",
    "    # 有色金属\n",
    "    'CU.SHF', 'AL.SHF', 'ZN.SHF', 'NI.SHF',\n",
    "    # 贵金属\n",
    "    'AU.SHF', 'AG.SHF',\n",
    "    # 能源化工\n",
    "    'FU.SHF', 'LU.INE', 'BU.SHF', 'PG.DCE', 'TA.ZCE', 'EG.DCE', 'PF.ZCE', \n",
    "    'L.DCE', 'PP.DCE', 'V.DCE', 'EB.DCE', 'MA.ZCE', 'UR.ZCE', 'RU.SHF',\n",
    "    # 农产品\n",
    "    'A.DCE', 'B.DCE', 'M.DCE', 'RM.ZCE', 'Y.DCE', 'OI.ZCE', 'P.DCE', 'PK.ZCE',\n",
    "    'C.DCE', 'CS.DCE', 'CF.ZCE', 'SR.ZCE', 'CJ.ZCE', 'AP.ZCE', 'SP.SHF', \n",
    "    'JD.DCE', 'LH.DCE',\n",
    "    # 建材\n",
    "    'FG.ZCE', 'SA.ZCE'\n",
    "]\n"
   ]
  },
  {
   "cell_type": "markdown",
   "id": "7ee5a693",
   "metadata": {},
   "source": [
    "例如，上述品种中，尽管已经做了筛选，但最短的品种也只有4年左右的历史可用，再加上测试集还需要排除一部分，整体的数据量非常受限。"
   ]
  },
  {
   "cell_type": "code",
   "execution_count": 7,
   "id": "8a4efaa7",
   "metadata": {},
   "outputs": [],
   "source": [
    "import numpy as np\n",
    "import pandas as pd\n",
    "import torch\n",
    "from torch.utils.data import TensorDataset, DataLoader\n",
    "import os\n",
    "os.chdir('d:/future/Index_Future_Prediction')"
   ]
  },
  {
   "cell_type": "markdown",
   "id": "2c7e87a6",
   "metadata": {},
   "source": [
    "能不能在这个问题上做到二者的兼顾呢？\n",
    "\n",
    "对此需要设计一套能处理变长输入的结构，分段来处理这个问题，首先选择最长的时间和最窄的范围，构造一个dataloader，然后再缩短长度，扩大范围，再构建新的dataloader。不断重复这个过程，就能得到一系列dataloader，数据的长度和宽度都不一样。\n",
    "\n",
    "将这些dataloader合并，就可以做到对长短历史的兼顾。此外，这么做还有一个优势，就是对于长序列，其近期的历史被重复了多次，提高了权重，这对于解决模式迁移是有帮助的。"
   ]
  },
  {
   "cell_type": "code",
   "execution_count": 8,
   "id": "afc4f74a",
   "metadata": {},
   "outputs": [],
   "source": [
    "# 提取数据\n",
    "seq_len = 120\n",
    "batch_size = 64\n",
    "\n",
    "feature_columns = ['inday_chg_open','inday_chg_high','inday_chg_low','inday_chg_close','inday_chg_amplitude', 'ma_10','ma_26','ma_45','ma_90','ma_vol',]\n",
    "label_columns = ['label_return','down_prob','middle_prob','up_prob']"
   ]
  },
  {
   "cell_type": "code",
   "execution_count": 9,
   "id": "540c4a96",
   "metadata": {},
   "outputs": [
    {
     "name": "stdout",
     "output_type": "stream",
     "text": [
      "20100901 17\n",
      "20110901 18\n",
      "20120901 18\n",
      "20130901 20\n",
      "20140901 23\n",
      "20150901 29\n",
      "20160901 36\n",
      "20170901 37\n",
      "20180901 38\n",
      "20190901 41\n",
      "20200901 45\n",
      "20210901 50\n",
      "20220901 53\n"
     ]
    }
   ],
   "source": [
    "for i in range(13):\n",
    "\n",
    "    start_date = 20100901 + i*10000\n",
    "    end_date = 20230901\n",
    "\n",
    "    feature = []\n",
    "    label = []\n",
    "    current_assets = []\n",
    "\n",
    "    data = pd.read_csv(f'data/C.DCE.csv')\n",
    "    data = data[data['trade_date'] > start_date].copy()\n",
    "    data = data[data['trade_date'] < end_date].copy() # 20230901年以后数据不参与训练\n",
    "    full_length = len(data)\n",
    "\n",
    "    for asset_code in assets_list:\n",
    "        data = pd.read_csv(f'data/{asset_code}.csv')\n",
    "        data = data[data['trade_date'] > start_date]\n",
    "        data = data[data['trade_date'] < end_date] # 所有2024年以后数据不参与训练\n",
    "        # print(asset_code, len(data))\n",
    "        if len(data) == full_length:\n",
    "            current_assets.append(asset_code)\n",
    "    print(start_date, len(current_assets))"
   ]
  },
  {
   "cell_type": "markdown",
   "id": "77bb6222",
   "metadata": {},
   "source": [
    "因此，可以将数据分为3组，从2011年开始涵盖18个品种，从2016年开始涵盖36个品种，从2021年开始涵盖50个品种。\n",
    "\n",
    "这里直接保存张量，供训练使用"
   ]
  },
  {
   "cell_type": "code",
   "execution_count": 10,
   "id": "109fdf68",
   "metadata": {},
   "outputs": [
    {
     "name": "stdout",
     "output_type": "stream",
     "text": [
      "torch.Size([365, 50, 120, 10])\n",
      "torch.Size([365, 50, 4])\n",
      "torch.Size([365, 50, 53])\n"
     ]
    }
   ],
   "source": [
    "start_date = 20210901\n",
    "end_date = 20230901\n",
    "\n",
    "feature = []\n",
    "label = []\n",
    "current_assets = []\n",
    "\n",
    "data = pd.read_csv(f'data/C.DCE.csv')\n",
    "data = data[data['trade_date'] > start_date].copy()\n",
    "data = data[data['trade_date'] < end_date].copy()\n",
    "full_length = len(data)\n",
    "\n",
    "for asset_code in assets_list:\n",
    "    data = pd.read_csv(f'data/{asset_code}.csv')\n",
    "    data = data[data['trade_date'] > start_date]\n",
    "    data = data[data['trade_date'] < end_date]\n",
    "    if len(data) == full_length:\n",
    "        current_assets.append(asset_code)\n",
    "        feature.append(torch.tensor(data[feature_columns].values, dtype = torch.float32, device = 'cuda:0'))\n",
    "        label.append(torch.tensor(data[label_columns].values, dtype = torch.float32, device = 'cuda:0'))\n",
    "\n",
    "feature = torch.stack(feature, dim = 1)\n",
    "label = torch.stack(label, dim = 1)\n",
    "feature = feature.unfold(dimension = 0, size = seq_len, step = 1).transpose(2,3)\n",
    "label = label[seq_len-1:]\n",
    "\n",
    "# 记录当前可用的资产序号\n",
    "assets_code = torch.tensor([assets_list.index(item) if item in assets_list else -1 for item in current_assets])\n",
    "\n",
    "# 转化为weights并广播道跟feature相同维度\n",
    "weights = torch.nn.functional.one_hot(assets_code, num_classes=53)\n",
    "weights = weights.to(torch.float32)\n",
    "weights = weights.broadcast_to(size = (feature.shape[0], *weights.shape))\n",
    "\n",
    "print(feature.shape)\n",
    "print(label.shape)\n",
    "print(weights.shape)\n",
    "\n",
    "torch.save(feature, f'data/feature_{start_date}')\n",
    "torch.save(label, f'data/label_{start_date}')\n",
    "torch.save(weights, f'data/weights_{start_date}')"
   ]
  }
 ],
 "metadata": {
  "kernelspec": {
   "display_name": "Python 3",
   "language": "python",
   "name": "python3"
  },
  "language_info": {
   "codemirror_mode": {
    "name": "ipython",
    "version": 3
   },
   "file_extension": ".py",
   "mimetype": "text/x-python",
   "name": "python",
   "nbconvert_exporter": "python",
   "pygments_lexer": "ipython3",
   "version": "3.13.7"
  }
 },
 "nbformat": 4,
 "nbformat_minor": 5
}
