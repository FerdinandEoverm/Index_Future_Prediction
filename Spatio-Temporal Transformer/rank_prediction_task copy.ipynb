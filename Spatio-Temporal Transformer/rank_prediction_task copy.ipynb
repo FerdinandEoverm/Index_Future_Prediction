{
 "cells": [
  {
   "cell_type": "markdown",
   "id": "d8700666",
   "metadata": {},
   "source": [
    "接下来就可以采用多资产的联合预测了，业内比较常用的思路是预测相对强弱排名，即一个rank，这样做的主要原因还是前面提到的金融资产预测的问题：\n",
    "\n",
    "以价格为目标的预测有伪拟合，以收益率为目标的预测会坍塌到0附近，而以符号做预测会丢失信息且容易出现模型懒惰现象，即模型只会预测一个分类，在学习到有价值信息之前陷入了一个很难逃离的局部最优。\n",
    "\n",
    "其实造成这些问题的原因只有一个，那就是噪声的比例太大了。rank方法和我提出的hybrid loss本质上都是一样的，都是通过对预测目标进行预先的信息提取，提取出先验的有价值信息再让模型预测，人为的降低噪声的影响。\n",
    "\n",
    "其实rank方法会更稳健一些，只不过rank方法只适用于多资产联合预测。"
   ]
  },
  {
   "cell_type": "markdown",
   "id": "fe2b5c70",
   "metadata": {},
   "source": [
    "相比于simple prediction 总体上要修改的不多，只需要\n",
    "\n",
    "1. 预处理一下 y 把真实收益率处理成rank\n",
    "\n",
    "2. 修改预测头，现在让模型对每个资产输出一个预测值，按照这个预测值排序\n",
    "\n",
    "3. 修改损失函数为排序类损失函数\n",
    "\n",
    "1和2都很简单，但损失函数也是一个问题：排序本身是离散的，如何让离散的损失函数能顺利传播梯度呢？\n",
    "\n",
    "其实还是相同的思路，将离散分类转为概率，因为就算我们的模型基于目前的信息完美预测了未来趋势，但是未来趋势也会因为未来的新因素，围绕我们的预测波动，或者说，从先验概率偏移到后验概率"
   ]
  },
  {
   "cell_type": "code",
   "execution_count": 330,
   "id": "7a2dc2ca",
   "metadata": {},
   "outputs": [],
   "source": [
    "import os\n",
    "os.chdir('d:/future/Index_Future_Prediction')\n",
    "\n",
    "import numpy as np\n",
    "import pandas as pd\n",
    "import matplotlib.pyplot as plt\n",
    "import tqdm\n",
    "import optuna\n",
    "import math\n",
    "\n",
    "import torch\n",
    "import torch.nn as nn\n",
    "from torch.nn import functional as F\n",
    "from torch.optim import lr_scheduler, Adam, AdamW\n",
    "from torch.utils.data import TensorDataset, DataLoader\n",
    "\n",
    "from utils import *\n",
    "from modules import *\n",
    "\n",
    "import warnings\n",
    "warnings.filterwarnings(\"ignore\", category=FutureWarning)\n",
    "warnings.filterwarnings(\"ignore\", category=UserWarning)"
   ]
  },
  {
   "cell_type": "markdown",
   "id": "111c1e1d",
   "metadata": {},
   "source": [
    "首先只考虑两个资产，假设模型输出的，对资产i,j的强势程度评分score 为Si, Sj 且有 Si > Sj 那么模型当然是预估i资产更强的，但是具体有多强，还是取决于Si 与Sj的相对大小。\n",
    "\n",
    "换言之，如果Si 只比Sj大一点点，那么其实P(i>j) 应该相当接近0.5，在这种情况下，预测错误的损失应当较小，因为模型相当于是在告诉我们，这两个资产是很接近的，我对资产强弱的相对关系非常不确定\n",
    "\n",
    "为了防止模型懒惰，对所有资产都输出相同数字，还可以进行归一化\n",
    "\n",
    "这样就把原始问题转变为了两两计算交叉熵问题。实现如下："
   ]
  },
  {
   "cell_type": "code",
   "execution_count": 331,
   "id": "85659fec",
   "metadata": {},
   "outputs": [
    {
     "data": {
      "text/plain": [
       "tensor(0.8871)"
      ]
     },
     "execution_count": 331,
     "metadata": {},
     "output_type": "execute_result"
    }
   ],
   "source": [
    "class RankLoss(nn.Module):\n",
    "    def __init__(self, ):\n",
    "        super().__init__()\n",
    "        self.bceloss = nn.BCEWithLogitsLoss() # 用这个版本的BCE可以直接输入logits\n",
    "    \n",
    "    # def forward(self, pred, real):\n",
    "    #     \"\"\"\n",
    "    #     对每一个资产输出一个分数，pred和real的格式都是(batch_size, num_assets)\n",
    "    #     不同的是，real是rank, [r1, r2, ....] pred 是预测的分数\n",
    "    #     \"\"\"\n",
    "    #     batch_size = pred.shape[0]\n",
    "    #     num_assets = pred.shape[1]\n",
    "\n",
    "    #     total_loss = []\n",
    "    #     for i in range(num_assets):\n",
    "    #         for j in range(i+1, num_assets):\n",
    "    #             # 差值就是相对概率的logits\n",
    "    #             prob_i_j = pred[:,i] - pred[:,j] \n",
    "    #             # 把rank转换为bool\n",
    "    #             real_i_j = ((real[:,i] < real[:,j])).float()\n",
    "\n",
    "    #             # 计算两个点的loss 并累计\n",
    "    #             loss_i_j = self.bceloss(prob_i_j, real_i_j)\n",
    "    #             total_loss.append(loss_i_j)\n",
    "\n",
    "    #     # 总和就是整体的loss，求平均值以适应不同的assets数量\n",
    "    #     total_loss = torch.stack(total_loss)\n",
    "    #     return torch.mean(total_loss)\n",
    "    \n",
    "    def forward(self, pred, real):\n",
    "        \"\"\"\n",
    "        向量化加速后的forward\n",
    "        对每一个资产输出一个分数，pred和real的格式都是(batch_size, num_assets)\n",
    "        不同的是，real是rank, [r1, r2, ....] pred 是预测的分数\n",
    "        \"\"\"\n",
    "        # 1. 生成所有唯一的资产对索引 (i, j) where i < j\n",
    "        # combinations(2) 会生成 (0,1), (0,2), ..., (1,2), ...\n",
    "        indices = torch.combinations(torch.arange(pred.shape[1]), r=2)\n",
    "        # indices.shape: [num_combinations, 2]\n",
    "        # 例如，当 num_assets=10, num_combinations = 10*9/2 = 45\n",
    "        \n",
    "        # 将索引移到与输入张量相同的设备上\n",
    "        indices = indices.to(pred.device)\n",
    "        i_indices = indices[:, 0]\n",
    "        j_indices = indices[:, 1]\n",
    "        \n",
    "        # 2. 使用高级索引一次性获取所有资产对的 pred 和 real 值\n",
    "        # pred.shape: [batch_size, num_assets]\n",
    "        # i_indices: [num_combinations]\n",
    "        # pred[:, i_indices] 的 shape: [batch_size, num_combinations]\n",
    "        pred_i = pred[:, i_indices]\n",
    "        pred_j = pred[:, j_indices]\n",
    "        \n",
    "        real_i = real[:, i_indices]\n",
    "        real_j = real[:, j_indices]\n",
    "\n",
    "        # 3. 向量化计算所有对的 logits 和 target\n",
    "        # prob_diff 的 shape: [batch_size, num_combinations]\n",
    "        prob_diff = pred_i - pred_j\n",
    "        \n",
    "        # real_diff 的 shape: [batch_size, num_combinations]\n",
    "        real_diff = (real_i < real_j).float()\n",
    "\n",
    "        # 4. 计算损失\n",
    "        # bceloss期望的输入是 (N, *)，其中N是batch size\n",
    "        # 这里我们将 batch_size 和 num_combinations 两个维度展平\n",
    "        # prob_diff.view(-1) 的 shape: [batch_size * num_combinations]\n",
    "        return self.bceloss(prob_diff.view(-1), real_diff.view(-1))\n",
    "    \n",
    "loss_fn = RankLoss()\n",
    "pred = torch.randn(size = (1024, 10))\n",
    "real = torch.randn(size = (1024, 10))\n",
    "loss_fn(pred, real)"
   ]
  },
  {
   "cell_type": "code",
   "execution_count": 332,
   "id": "9a233950",
   "metadata": {},
   "outputs": [
    {
     "data": {
      "text/plain": [
       "<All keys matched successfully>"
      ]
     },
     "execution_count": 332,
     "metadata": {},
     "output_type": "execute_result"
    }
   ],
   "source": [
    "class PanelTransformerBackbone(nn.Module):\n",
    "    def __init__(self, dim_patch_feature, dim_projection, dim_temporal_embedding, dim_assets_embedding, num_bass_assets, num_head, num_layer, dropout):\n",
    "        super().__init__()\n",
    "        dim_encoder_input = dim_projection +  dim_temporal_embedding + dim_assets_embedding\n",
    "        self.projection = nn.Linear(dim_patch_feature, dim_projection)\n",
    "        self.assets_embedding = AssetsEmbedding(num_base_assets = num_bass_assets, embedding_dim = dim_assets_embedding, target_ratio = 0.2, freeze = True)\n",
    "        self.temporal_embedding = TemporalEmbedding(dim_embedding = dim_temporal_embedding)\n",
    "        self.panel_encoder = MultiLayerPanelEncoder(num_layer = num_layer, d_model = dim_encoder_input, num_head = num_head, num_ffn_hidden = dim_encoder_input * 2, dropout = dropout)\n",
    "\n",
    "    def forward(self, x, weights):\n",
    "        x = self.projection(x)\n",
    "        x = self.temporal_embedding(x)\n",
    "        x = self.assets_embedding(x, weights)\n",
    "        x = self.panel_encoder(x)\n",
    "        return x\n",
    "\n",
    "model = PanelTransformerBackbone(dim_patch_feature = 120, dim_projection = 128, dim_temporal_embedding = 6, dim_assets_embedding = 10, num_bass_assets = 53, num_head = 8, num_layer = 3 , dropout = 0.5)\n",
    "model.assets_embedding.load_state_dict(torch.load('params/assets_embedding.params'))"
   ]
  },
  {
   "cell_type": "code",
   "execution_count": 333,
   "id": "bba0c07e",
   "metadata": {},
   "outputs": [],
   "source": [
    "class RankPanelTransformer(nn.Module):\n",
    "    \"\"\"Panel Time Series Transformer\"\"\"\n",
    "    def __init__(self, dim_raw_feature, patch_size, stride, mask_expand_size, seq_len, dim_projection, dim_temporal_embedding, dim_assets_embedding, num_bass_assets, num_head, num_layer, dropout):\n",
    "        super().__init__()\n",
    "        # 模型参数\n",
    "        self.device = 'cuda:0'\n",
    "        self.input_size = dim_raw_feature\n",
    "        self.patch_size = patch_size\n",
    "        self.stride = stride\n",
    "        self.mask_expand_size = mask_expand_size\n",
    "        self.num_patch = int(np.floor((seq_len - patch_size) / stride) + 1)\n",
    "\n",
    "        self.dim_projection = dim_projection\n",
    "\n",
    "        dim_encoder_input = dim_projection +  dim_temporal_embedding + dim_assets_embedding\n",
    "\n",
    "        # 前置层\n",
    "        self.patch = TimeSeriesPatcher(patch_size, stride)\n",
    "\n",
    "        # 编码层\n",
    "        self.encoder = PanelTransformerBackbone(dim_patch_feature = dim_raw_feature * patch_size,\n",
    "                                                  dim_projection = dim_projection,\n",
    "                                                  dim_temporal_embedding = dim_temporal_embedding,\n",
    "                                                  dim_assets_embedding = dim_assets_embedding,\n",
    "                                                  num_bass_assets = num_bass_assets,\n",
    "                                                  num_head = num_head,\n",
    "                                                  num_layer = num_layer,\n",
    "                                                  dropout = dropout)\n",
    "\n",
    "        # 改为输出排名\n",
    "        self.decoder = nn.Sequential(\n",
    "            nn.Flatten(start_dim = -2),\n",
    "            # nn.Linear(self.num_patch * dim_encoder_input, self.num_patch *dim_encoder_input),\n",
    "            nn.Dropout(dropout),\n",
    "            nn.Linear(self.num_patch * dim_encoder_input, 1),\n",
    "            nn.Flatten(start_dim = -2),\n",
    "            nn.Softmax(dim = -1)\n",
    "        )\n",
    "    \n",
    "    def forward(self, x, weights):\n",
    "        x_patched = self.patch(x)\n",
    "        enc_out = self.encoder(x_patched, weights)\n",
    "        output = self.decoder(enc_out)\n",
    "        return output\n",
    "    \n",
    "    # # 重写 train 方法，来固定模型只训练输出层\n",
    "    # def train(self, mode = True):\n",
    "    #     super().train(mode)\n",
    "    #     if mode:\n",
    "    #         self.encoder.eval()\n"
   ]
  },
  {
   "cell_type": "code",
   "execution_count": 334,
   "id": "8559306b",
   "metadata": {},
   "outputs": [],
   "source": [
    "dim_raw_feature = 10\n",
    "patch_size = 8\n",
    "stride = 4\n",
    "mask_expand_size = 1\n",
    "seq_len = 120\n",
    "dim_projection = 112\n",
    "dim_temporal_embedding = 6\n",
    "dim_assets_embedding = 10\n",
    "num_bass_assets = 53\n",
    "num_head = 8\n",
    "num_layer = 3\n",
    "dropout = 0.7\n",
    "\n",
    "batch_size = 64\n",
    "learning_rate = 1e-4\n",
    "weight_decay = 1e-1\n",
    "gamma = 1\n",
    "\n",
    "epochs = 10\n",
    "test_size = 512"
   ]
  },
  {
   "cell_type": "code",
   "execution_count": 335,
   "id": "4ede3c7d",
   "metadata": {},
   "outputs": [],
   "source": [
    "# 加载数据\n",
    "loaders = []\n",
    "for i in [20110901, 20160901, ]:  # 20210901\n",
    "\n",
    "    feature = torch.load(f'data/feature_{i}')\n",
    "    label = torch.load(f'data/label_{i}')\n",
    "    weights = torch.load(f'data/weights_{i}')\n",
    "\n",
    "    train_set = TensorDataset(feature[:-test_size-seq_len], weights[:-test_size-seq_len], label[:-test_size-seq_len])\n",
    "    train_loader = DataLoader(train_set, batch_size, True)\n",
    "    loaders.append(train_loader)\n",
    "\n",
    "\n",
    "feature = torch.load('data/feature_20210901')\n",
    "label = torch.load('data/label_20210901')\n",
    "weights = torch.load('data/weights_20210901')\n",
    "test_set = TensorDataset(feature[-test_size:], weights[-test_size:], label[-test_size:])\n",
    "test_loader = DataLoader(test_set, batch_size, False)\n",
    "\n",
    "# test_loader 只需要最新的就行了，因为是一样的，重复test没意义"
   ]
  },
  {
   "cell_type": "code",
   "execution_count": 336,
   "id": "7ab04253",
   "metadata": {},
   "outputs": [
    {
     "name": "stderr",
     "output_type": "stream",
     "text": [
      "  0%|          | 0/10 [00:00<?, ?it/s]"
     ]
    },
    {
     "name": "stderr",
     "output_type": "stream",
     "text": [
      "100%|██████████| 10/10 [00:16<00:00,  1.61s/it]\n"
     ]
    },
    {
     "data": {
      "image/png": "[encoded data removed]",
      "text/plain": [
       "<Figure size 640x480 with 1 Axes>"
      ]
     },
     "metadata": {},
     "output_type": "display_data"
    },
    {
     "name": "stdout",
     "output_type": "stream",
     "text": [
      "0.6931244889895122\n"
     ]
    }
   ],
   "source": [
    "# 预训练\n",
    "loss_fn = RankLoss()\n",
    "\n",
    "model = RankPanelTransformer(dim_raw_feature,patch_size,stride,mask_expand_size,seq_len,dim_projection,dim_temporal_embedding,dim_assets_embedding,num_bass_assets,num_head,num_layer,dropout).to('cuda:0')\n",
    "model.encoder.load_state_dict(torch.load('params/panel_tf_backbone.params'))\n",
    "model.encoder.assets_embedding.load_state_dict(torch.load('params/assets_embedding.params'))\n",
    "\n",
    "optimizer = torch.optim.AdamW(model.parameters(), lr=learning_rate, weight_decay = weight_decay)\n",
    "scheduler = lr_scheduler.StepLR(optimizer, step_size=1, gamma=gamma)\n",
    "\n",
    "\n",
    "def epoch():\n",
    "    train_losses = []\n",
    "    model.train()\n",
    "    for loader in loaders:\n",
    "        for batch_x, batch_weights, batch_y in loader:\n",
    "            optimizer.zero_grad()\n",
    "            pred = model(batch_x.to('cuda:0'), batch_weights.to('cuda:0'))\n",
    "            batch_y = batch_y[...,0]# y 需要处理，只选第一列\n",
    "            loss = loss_fn(pred, batch_y.to('cuda:0'))\n",
    "            train_losses.append(loss.item()) \n",
    "            loss.backward()\n",
    "            optimizer.step()\n",
    "        \n",
    "    test_losses = []\n",
    "    model.eval()\n",
    "    with torch.no_grad():\n",
    "        for batch_x, batch_weights, batch_y in test_loader:\n",
    "            pred = model(batch_x.to('cuda:0'), batch_weights.to('cuda:0'))\n",
    "            batch_y = batch_y[...,0]# y 需要处理，只选第一列\n",
    "            loss = loss_fn(pred, batch_y.to('cuda:0'))\n",
    "            test_losses.append(loss.item()) \n",
    "    \n",
    "    return np.mean(train_losses), np.mean(test_losses)\n",
    "\n",
    "\n",
    "def train(epochs = 30):\n",
    "    train_losses = []\n",
    "    test_losses = []\n",
    "    for i in tqdm.tqdm(range(epochs)):\n",
    "        train_loss, test_loss = epoch()\n",
    "        train_losses.append(train_loss)\n",
    "        test_losses.append(test_loss)\n",
    "        scheduler.step()\n",
    "    plt.plot(range(epochs), train_losses)\n",
    "    plt.plot(range(epochs), test_losses)\n",
    "    plt.show()\n",
    "    return np.mean(test_losses[-5:])\n",
    "\n",
    "final_loss = train(epochs)\n",
    "print(final_loss)"
   ]
  },
  {
   "cell_type": "markdown",
   "id": "4a990c93",
   "metadata": {},
   "source": [
    "first date of test set: 20230901\n",
    "last date of test set: 20250829"
   ]
  },
  {
   "cell_type": "code",
   "execution_count": 337,
   "id": "5a750b60",
   "metadata": {},
   "outputs": [],
   "source": [
    "# 加载测试数据\n",
    "feature = torch.load('data/feature_test').to('cuda:0')\n",
    "label = torch.load('data/label_test').to('cuda:0')\n",
    "weights = torch.load('data/weights_test').to('cuda:0')\n",
    "test_set = TensorDataset(feature, weights, label)\n",
    "test_loader = DataLoader(test_set, 32, False)\n"
   ]
  },
  {
   "cell_type": "code",
   "execution_count": 338,
   "id": "b784baa4",
   "metadata": {},
   "outputs": [
    {
     "data": {
      "text/plain": [
       "(483, 53)"
      ]
     },
     "execution_count": 338,
     "metadata": {},
     "output_type": "execute_result"
    }
   ],
   "source": [
    "model.eval()\n",
    "test_result = []\n",
    "for x, weights, y in test_loader:\n",
    "    result = model(x, weights).detach().cpu().numpy()\n",
    "    test_result.append(result)\n",
    "test_result = np.concatenate(test_result, axis = 0)\n",
    "index = np.argsort(test_result, axis=1)\n",
    "rank = np.argsort(index, axis = 1)\n",
    "rank.shape # 计算出资产排序"
   ]
  },
  {
   "cell_type": "code",
   "execution_count": 339,
   "id": "72004c25",
   "metadata": {},
   "outputs": [],
   "source": [
    "assets_list = [\n",
    "    # 股指期货\n",
    "    'IH.CFX', 'IF.CFX', 'IC.CFX',\n",
    "    # 国债期货\n",
    "    'TS.CFX', 'TF.CFX', 'T.CFX', 'TL1.CFX',\n",
    "    # 黑色金属产业链\n",
    "    'I.DCE', 'JM.DCE', 'RB.SHF', 'HC.SHF', 'SS.SHF', 'SF.ZCE', 'SM.ZCE',\n",
    "    # 有色金属\n",
    "    'CU.SHF', 'AL.SHF', 'ZN.SHF', 'NI.SHF',\n",
    "    # 贵金属\n",
    "    'AU.SHF', 'AG.SHF',\n",
    "    # 能源化工\n",
    "    'FU.SHF', 'LU.INE', 'BU.SHF', 'PG.DCE', 'TA.ZCE', 'EG.DCE', 'PF.ZCE', \n",
    "    'L.DCE', 'PP.DCE', 'V.DCE', 'EB.DCE', 'MA.ZCE', 'UR.ZCE', 'RU.SHF',\n",
    "    # 农产品\n",
    "    'A.DCE', 'B.DCE', 'M.DCE', 'RM.ZCE', 'Y.DCE', 'OI.ZCE', 'P.DCE', 'PK.ZCE',\n",
    "    'C.DCE', 'CS.DCE', 'CF.ZCE', 'SR.ZCE', 'CJ.ZCE', 'AP.ZCE', 'SP.SHF', \n",
    "    'JD.DCE', 'LH.DCE',\n",
    "    # 建材\n",
    "    'FG.ZCE', 'SA.ZCE'\n",
    "]\n"
   ]
  },
  {
   "cell_type": "code",
   "execution_count": 340,
   "id": "0dd0c0cb",
   "metadata": {},
   "outputs": [],
   "source": [
    "import backtrader as bt\n",
    "\n",
    "class TargetPositionStrategy(bt.Strategy):\n",
    "    \"\"\"\n",
    "    简单单资产策略，对每个资产都一视同仁，不考虑相关性\n",
    "    \"\"\"\n",
    "    params = (\n",
    "        ('lookback', 5),\n",
    "        ('capital_per_asset', 100000.0),  # 每个资产分配的固定金额\n",
    "    )\n",
    "\n",
    "    def __init__(self):\n",
    "        self.log_dates = []\n",
    "        self.log_values = []\n",
    "        self.log_cash = []\n",
    "\n",
    "    def log(self, txt, dt=None):\n",
    "        dt = dt or self.datas[0].datetime.date(0)\n",
    "        \n",
    "    def next(self):\n",
    "        # 记录每日的总资产价值\n",
    "        self.log_dates.append(self.data.datetime.date(0))\n",
    "        self.log_values.append(self.broker.getvalue())\n",
    "        self.log_cash.append(self.broker.getcash())\n",
    "\n",
    "\n",
    "        # 遍历所有传入的数据（即所有资产）\n",
    "        for d in self.datas:\n",
    "            # 如果数据点不足以覆盖回望期，则跳过\n",
    "            if len(d) < self.p.lookback:\n",
    "                continue\n",
    "            # 从 openinterest 获取预先计算好的信号\n",
    "            signals = d.openinterest.get(size=self.p.lookback)\n",
    "            signal_sum = sum(signals)\n",
    "            target_pct = signal_sum / self.p.lookback\n",
    "            # 计算目标仓位价值。\n",
    "            target_value = self.p.capital_per_asset * target_pct\n",
    "            # 调仓\n",
    "            self.order_target_value(data=d, target=target_value)\n",
    "    \n",
    "    def stop(self):\n",
    "        for d in self.datas:\n",
    "            # 如果仍持有头寸 (无论是多头还是空头)，都通过将目标价值设为0来平仓\n",
    "            if self.getposition(d).size != 0:\n",
    "                self.log(f\"Closing position for {d._name} at stop.\")\n",
    "                self.order_target_value(data=d, target=0.0)"
   ]
  },
  {
   "cell_type": "markdown",
   "id": "ccf02591",
   "metadata": {},
   "source": [
    "我们做多前10%资产，空后10%资产"
   ]
  },
  {
   "cell_type": "code",
   "execution_count": 341,
   "id": "31096aca",
   "metadata": {},
   "outputs": [],
   "source": [
    "top = 10"
   ]
  },
  {
   "cell_type": "code",
   "execution_count": 342,
   "id": "f74084b9",
   "metadata": {},
   "outputs": [
    {
     "name": "stdout",
     "output_type": "stream",
     "text": [
      "Final Portfolio Value: 1440806.63\n",
      "Annualized Return: 20.99%\n",
      "Annualized Std: 11.70%\n",
      "Sharpe Ratio: 1.5201\n",
      "Max Drawdown: 8.74%\n",
      "Total Trades: 851\n",
      "Win Rate: 50.29%\n",
      "Average PnL per Trade: 510.21\n"
     ]
    }
   ],
   "source": [
    "from datetime import datetime\n",
    "cerebro = bt.Cerebro()\n",
    "start_date = datetime(2023,9,1)\n",
    "end_date = datetime(2025,9,1)\n",
    "\n",
    "for i in range(len(assets_list)):\n",
    "\n",
    "    asset_code = assets_list[i]\n",
    "\n",
    "    current_rank = rank[:,i]\n",
    "    position = np.zeros_like(current_rank)\n",
    "    position[current_rank <= top] = 1\n",
    "    position[current_rank >= 54-top] = -1\n",
    "\n",
    "    data = pd.read_csv(f'data/{asset_code}.csv')\n",
    "    data = data[data['trade_date'] >= 20230901].copy()\n",
    "    data = data[data['trade_date'] < 20250901].copy()\n",
    "\n",
    "    data['trade_date'] = pd.to_datetime(data['trade_date'], format = '%Y%m%d')\n",
    "    data.index = data['trade_date']\n",
    "    days = data['trade_date']\n",
    "    position = pd.Series(index = days, data = position, name = 'openinterest') # 为了方便，我们直接覆盖掉没使用的open interest\n",
    "    data = data.join(position, how='left')\n",
    "\n",
    "    data['volume'] = data['vol']\n",
    "    data = data[['open', 'high', 'low', 'close', 'volume', 'openinterest']].copy()\n",
    "    feed_data = bt.feeds.PandasData(dataname=data, fromdate=start_date, todate=end_date, name = asset_code)  # 加载数据\n",
    "    cerebro.adddata(feed_data)\n",
    "\n",
    "\n",
    "cerebro.broker.setcash(1000000.0) \n",
    "cerebro.broker.setcommission(commission=0.0001)\n",
    "cerebro.addstrategy(TargetPositionStrategy)\n",
    "cerebro.addanalyzer(bt.analyzers.Returns, _name='returns')\n",
    "cerebro.addanalyzer(bt.analyzers.TimeReturn, _name='timereturn', timeframe=bt.TimeFrame.Days)\n",
    "cerebro.addanalyzer(bt.analyzers.DrawDown, _name='drawdown')\n",
    "cerebro.addanalyzer(bt.analyzers.SharpeRatio, _name='sharpe', timeframe=bt.TimeFrame.Days, compression=1, riskfreerate=0.02, factor=252, annualize = True)\n",
    "cerebro.addanalyzer(bt.analyzers.TradeAnalyzer, _name='trades')\n",
    "results = cerebro.run()\n",
    "\n",
    "print(f\"Final Portfolio Value: {cerebro.broker.getvalue():.2f}\")\n",
    "strategy_instance = results[0]\n",
    "\n",
    "# 年化收益\n",
    "returns_analysis = strategy_instance.analyzers.returns.get_analysis()\n",
    "print(f\"Annualized Return: {returns_analysis.get('rnorm', 'N/A'):.2%}\")\n",
    "    \n",
    "# 年化标准差\n",
    "timereturn_analysis = strategy_instance.analyzers.timereturn.get_analysis()\n",
    "daily_returns = pd.Series(timereturn_analysis)\n",
    "std_dev_daily = daily_returns.std()\n",
    "print(f\"Annualized Std: {std_dev_daily * math.sqrt(252):.2%}\")\n",
    "# 夏普比率\n",
    "sharpe_analysis = strategy_instance.analyzers.sharpe.get_analysis()\n",
    "print(f\"Sharpe Ratio: {sharpe_analysis.get('sharperatio', 'N/A'):.4f}\")\n",
    "# 最大回撤\n",
    "drawdown_analysis = strategy_instance.analyzers.drawdown.get_analysis()\n",
    "print(f\"Max Drawdown: {drawdown_analysis.max.get('drawdown', 'N/A'):.2f}%\")\n",
    "# 胜率\n",
    "trades_analysis = strategy_instance.analyzers.trades.get_analysis()\n",
    "print(f\"Total Trades: {trades_analysis.total.total}\")\n",
    "print(f\"Win Rate: {(trades_analysis.won.total / trades_analysis.total.total) * 100:.2f}%\")\n",
    "print(f\"Average PnL per Trade: {trades_analysis.pnl.net.average:.2f}\")"
   ]
  },
  {
   "cell_type": "code",
   "execution_count": 343,
   "id": "953ee275",
   "metadata": {},
   "outputs": [
    {
     "name": "stdout",
     "output_type": "stream",
     "text": [
      "最低现金：763,740.19, 平均现金: 1,005,445.89\n"
     ]
    },
    {
     "data": {
      "image/png": "[encoded data removed]",
      "text/plain": [
       "<Figure size 640x480 with 1 Axes>"
      ]
     },
     "metadata": {},
     "output_type": "display_data"
    }
   ],
   "source": [
    "log_dates = strategy_instance.log_dates\n",
    "log_values = strategy_instance.log_values\n",
    "log_cash = strategy_instance.log_cash\n",
    "equity_curve = pd.Series(log_values, index=pd.to_datetime(log_dates))\n",
    "print(f'最低现金：{np.min(log_cash):,.2f}, 平均现金: {np.mean(log_cash):,.2f}')\n",
    "\n",
    "plt.plot(figsize=(10, 10))\n",
    "plt.plot(equity_curve.index, equity_curve.values, label='Portfolio Value', linewidth=2)\n",
    "plt.title('Portfolio Value Curve')\n",
    "plt.xlabel('Date')\n",
    "plt.ylabel('Portfolio Value ($)')\n",
    "plt.legend()\n",
    "plt.grid(True)\n",
    "plt.show()"
   ]
  }
 ],
 "metadata": {
  "kernelspec": {
   "display_name": "future",
   "language": "python",
   "name": "python3"
  },
  "language_info": {
   "codemirror_mode": {
    "name": "ipython",
    "version": 3
   },
   "file_extension": ".py",
   "mimetype": "text/x-python",
   "name": "python",
   "nbconvert_exporter": "python",
   "pygments_lexer": "ipython3",
   "version": "3.13.7"
  }
 },
 "nbformat": 4,
 "nbformat_minor": 5
}
