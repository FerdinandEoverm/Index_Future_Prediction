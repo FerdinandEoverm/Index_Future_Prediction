{
 "cells": [
  {
   "cell_type": "markdown",
   "id": "6b8b5ddb",
   "metadata": {},
   "source": [
    "最后设计一个回测类，通过在测试集多次随机选取连续切片进行回测，得到年化收益和年化标准差，并按照3%无风险利率计算夏普比率"
   ]
  },
  {
   "cell_type": "code",
   "execution_count": null,
   "id": "66af19f5",
   "metadata": {},
   "outputs": [],
   "source": [
    "import numpy as np\n",
    "\n",
    "class RandomModelTest:\n",
    "    def __init__(self, model, x_test, y_test):\n",
    "        self.model = model\n",
    "        self.x_test = x_test\n",
    "        self.y_test = y_test\n",
    "        self.test_size = len(x_test) // 2\n",
    "\n",
    "    def test(self, rounds):\n",
    "        profits_per_round = []\n",
    "\n",
    "        for r in range(rounds):\n",
    "            start_index = np.random.randint(0, self.test_size)\n",
    "            end_index = start_index + self.test_size\n",
    "            x_round = self.x_test[start_index:end_index]\n",
    "            y_round = self.y_test[start_index:end_index]\n",
    "            round_profit = self.calculate_round_profit(x_round, y_round)\n",
    "            profits_per_round.append(round_profit)\n",
    "        \n",
    "        profits_per_round = np.array(profits_per_round)\n",
    "        yearly_return = np.mean(profits_per_round)/self.test_size*250\n",
    "        yearly_std = np.std(profits_per_round)/self.test_size*250\n",
    "        sharpe_ratio = (yearly_return - 0.03)/yearly_std\n",
    "\n",
    "        print(f'yearly_return:{yearly_return:.2%}')\n",
    "        print(f'yearly_std:{yearly_std:.2%}') \n",
    "        print(f'sharpe_ratio:{sharpe_ratio:.2f}') \n",
    "\n",
    "\n",
    "    def calculate_round_profit(self, x_round, y_round):\n",
    "\n",
    "        total_profit = 0\n",
    "        logits = self.model(x_round)\n",
    "        trading_directions = np.argmax(logits, axis=1)\n",
    "        for i in range(len(trading_directions) - 1):\n",
    "            direction = trading_directions[i]\n",
    "            current_price = y_round[i]\n",
    "            next_price = y_round[i+1]\n",
    "            \n",
    "            daily_return = (next_price - current_price) / current_price if current_price != 0 else 0\n",
    "\n",
    "            if direction == 0:\n",
    "                profit = -daily_return\n",
    "            elif direction == 1:\n",
    "                profit = 0\n",
    "            elif direction == 2:\n",
    "                profit = daily_return\n",
    "            else:\n",
    "                profit = 0\n",
    "            \n",
    "            total_profit += profit\n",
    "\n",
    "        return total_profit"
   ]
  }
 ],
 "metadata": {
  "kernelspec": {
   "display_name": "Python 3",
   "language": "python",
   "name": "python3"
  },
  "language_info": {
   "codemirror_mode": {
    "name": "ipython",
    "version": 3
   },
   "file_extension": ".py",
   "mimetype": "text/x-python",
   "name": "python",
   "nbconvert_exporter": "python",
   "pygments_lexer": "ipython3",
   "version": "3.11.11"
  }
 },
 "nbformat": 4,
 "nbformat_minor": 5
}
