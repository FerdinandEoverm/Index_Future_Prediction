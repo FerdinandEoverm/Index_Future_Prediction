{
 "cells": [
  {
   "cell_type": "code",
   "execution_count": null,
   "id": "9f70ea07",
   "metadata": {},
   "outputs": [],
   "source": [
    "import numpy as np\n",
    "import pandas as pd\n",
    "from scipy.stats import norm, t"
   ]
  },
  {
   "cell_type": "code",
   "execution_count": null,
   "id": "8f850fcf",
   "metadata": {},
   "outputs": [],
   "source": [
    "import os\n",
    "os.chdir('d:/future/Index_Future_Prediction')\n",
    "\n",
    "import yaml\n",
    "with open('config.yaml', 'r') as file:\n",
    "    token = yaml.safe_load(file)['token']\n",
    "\n",
    "import tushare as ts\n",
    "pro = ts.pro_api(token)"
   ]
  },
  {
   "cell_type": "code",
   "execution_count": null,
   "id": "7eace247",
   "metadata": {},
   "outputs": [],
   "source": [
    "future_list = pro.fut_basic(fut_type = 2)\n",
    "future_list"
   ]
  },
  {
   "cell_type": "code",
   "execution_count": null,
   "id": "26b8b919",
   "metadata": {},
   "outputs": [],
   "source": [
    "start_date = '20170901'\n",
    "end_date = '20230901'\n",
    "data = pro.fut_daily(ts_code = 'IF.CFX')\n",
    "data = data[data['trade_date'] > start_date].copy()\n",
    "data = data[data['trade_date'] < end_date].copy()\n",
    "data"
   ]
  },
  {
   "cell_type": "code",
   "execution_count": null,
   "id": "7670ba0e",
   "metadata": {},
   "outputs": [],
   "source": [
    "data = pro.fut_daily(ts_code = 'TL1.CFX')\n",
    "data = data[data['trade_date'] > start_date].copy()\n",
    "data = data[data['trade_date'] < end_date].copy()\n",
    "data"
   ]
  },
  {
   "cell_type": "code",
   "execution_count": null,
   "id": "e29e5518",
   "metadata": {},
   "outputs": [],
   "source": [
    "import matplotlib.pyplot as plt\n",
    "plt.plot(data['close'])\n",
    "plt.show()"
   ]
  },
  {
   "cell_type": "code",
   "execution_count": null,
   "id": "03d7f52e",
   "metadata": {},
   "outputs": [],
   "source": [
    "# assets_list = []\n",
    "# assets_names = []\n",
    "# for i in future_list.index:\n",
    "#     assets_code = future_list.loc[i, 'ts_code']\n",
    "#     assets_name = future_list.loc[i, 'name']\n",
    "\n",
    "#     if \"主力\" not in assets_name:\n",
    "#         continue\n",
    "\n",
    "#     data = pro.fut_daily(ts_code = assets_code)\n",
    "#     data_head = data.head(100)\n",
    "\n",
    "#     if len(data) < 1000:\n",
    "#         continue\n",
    "#     if data_head['oi'].mean() < 50000:\n",
    "#         continue\n",
    "#     assets_list.append(assets_code)\n",
    "#     assets_names.append(assets_name)\n",
    "\n",
    "# len(assets_list)"
   ]
  },
  {
   "cell_type": "code",
   "execution_count": null,
   "id": "af54aefa",
   "metadata": {},
   "outputs": [],
   "source": [
    "assets_list = [\n",
    "    # 股指期货\n",
    "    'IH.CFX', 'IF.CFX', 'IC.CFX',\n",
    "    # 国债期货\n",
    "    'TS.CFX', 'TF.CFX', 'T.CFX', 'TL1.CFX',\n",
    "    # 黑色金属产业链\n",
    "    'I.DCE', 'JM.DCE', 'RB.SHF', 'HC.SHF', 'SS.SHF', 'SF.ZCE', 'SM.ZCE',\n",
    "    # 有色金属\n",
    "    'CU.SHF', 'AL.SHF', 'ZN.SHF', 'NI.SHF',\n",
    "    # 贵金属\n",
    "    'AU.SHF', 'AG.SHF',\n",
    "    # 能源化工\n",
    "    'FU.SHF', 'LU.INE', 'BU.SHF', 'PG.DCE', 'TA.ZCE', 'EG.DCE', 'PF.ZCE', \n",
    "    'L.DCE', 'PP.DCE', 'V.DCE', 'EB.DCE', 'MA.ZCE', 'UR.ZCE', 'RU.SHF',\n",
    "    # 农产品\n",
    "    'A.DCE', 'B.DCE', 'M.DCE', 'RM.ZCE', 'Y.DCE', 'OI.ZCE', 'P.DCE', 'PK.ZCE',\n",
    "    'C.DCE', 'CS.DCE', 'CF.ZCE', 'SR.ZCE', 'CJ.ZCE', 'AP.ZCE', 'SP.SHF', \n",
    "    'JD.DCE', 'LH.DCE',\n",
    "    # 建材\n",
    "    'FG.ZCE', 'SA.ZCE'\n",
    "]"
   ]
  },
  {
   "cell_type": "code",
   "execution_count": null,
   "id": "3a397dd3",
   "metadata": {},
   "outputs": [],
   "source": [
    "# assets_list = ['IH.CFX', 'IF.CFX', 'IC.CFX', 'AU.SHF', 'JM.DCE','RB.SHF','HC.SHF', 'I.DCE', 'M.DCE', 'CF.ZCE',]"
   ]
  },
  {
   "cell_type": "code",
   "execution_count": null,
   "id": "7c7d88d3",
   "metadata": {},
   "outputs": [],
   "source": [
    "data = pro.fut_daily(ts_code = 'SF.ZCE', start_date = '20100101', end_date = '20180101')\n",
    "data"
   ]
  },
  {
   "cell_type": "code",
   "execution_count": null,
   "id": "21f71f2a",
   "metadata": {},
   "outputs": [],
   "source": [
    "pred_len = 5\n",
    "threshold_ratio = 0.26"
   ]
  },
  {
   "cell_type": "code",
   "execution_count": null,
   "id": "7c91a70e",
   "metadata": {},
   "outputs": [],
   "source": [
    "for asset_code in assets_list:\n",
    "\n",
    "    data_1 = pro.fut_daily(ts_code = asset_code, start_date = '20100101', end_date = '20180101', fields = 'ts_code,trade_date,pre_close,open,high,low,close,vol')\n",
    "    data_2 = pro.fut_daily(ts_code = asset_code, start_date = '20180101', fields = 'ts_code,trade_date,pre_close,open,high,low,close,vol')\n",
    "    data = pd.concat([data_1, data_2], ignore_index = True)\n",
    "\n",
    "    data.sort_values(by = 'trade_date', inplace = True)\n",
    "\n",
    "    data['open'] = data['open'].fillna(data['pre_close'])\n",
    "    data['high'] = data['high'].fillna(data['pre_close'])\n",
    "    data['low'] = data['low'].fillna(data['pre_close'])\n",
    "    data['close'] = data['close'].fillna(data['pre_close'])\n",
    "\n",
    "    \n",
    "    data['vol'] = data['vol'].replace(0, 1)\n",
    "\n",
    "    data.dropna(inplace=True)\n",
    "    \n",
    "\n",
    "    # 日内相对价格\n",
    "    data['inday_chg_open'] = np.log(data['open'] / data['pre_close']) * 100 \n",
    "    data['inday_chg_high'] = np.log(data['high'] / data['pre_close']) * 100 \n",
    "    data['inday_chg_low'] = np.log(data['low'] / data['pre_close']) * 100 \n",
    "    data['inday_chg_close'] = np.log(data['close'] / data['pre_close']) * 100\n",
    "    data['inday_chg_amplitude'] = np.log(data['high'] / data['low']) * 100\n",
    "\n",
    "    \n",
    "    # 辅助变量 加强长距离信息传递\n",
    "    data['ma_10'] = np.log(data['close'] / data['close'].rolling(window = 10).mean()) / 10**0.5 * 100\n",
    "    data['ma_26'] = np.log(data['close'] / data['close'].rolling(window = 26).mean()) / 26**0.5 * 100\n",
    "    data['ma_45'] = np.log(data['close'] / data['close'].rolling(window = 45).mean()) / 45**0.5 * 100\n",
    "    data['ma_90'] = np.log(data['close'] / data['close'].rolling(window = 90).mean()) / 90**0.5 * 100\n",
    "    data['ma_vol'] = np.log(data['vol'] / data['vol'].rolling(window = 90).mean())\n",
    "    \n",
    "\n",
    "    # 预测目标\n",
    "    data['label_return'] = data['inday_chg_close'].rolling(window = pred_len).sum().shift(-pred_len) # 标准化为对数百分比（不含百分号），可以直接相加\n",
    "    data['return_std_hist'] = data['label_return'].rolling(window = 250).std() # 过去一年的预测目标的标准差\n",
    "\n",
    "    # Garman-Klass 方差计算估测目标的真实方差\n",
    "    data['label_garman_klass_variance'] = (0.5 * (np.log(data['high']) - np.log(data['low'])) ** 2 - 0.386 * (np.log(data['close']) - np.log(data['open'])) ** 2)\n",
    "    # 计算10日移动方差\n",
    "    data['label_garman_klass_variance_pred'] = data['label_garman_klass_variance'].rolling(window = pred_len).sum().shift(-pred_len)\n",
    "    # 计算10日移动标准差\n",
    "    data['label_garman_klass_std_pred'] = data['label_garman_klass_variance_pred']**0.5\n",
    "    # 再根据真实标准差均值来矫正预期\n",
    "    data['label_garman_klass_std_hist'] = data['label_garman_klass_std_pred'].rolling(window = 250).mean()\n",
    "    \n",
    "    # 估计的标准差\n",
    "    data['label_std'] = data['label_garman_klass_std_pred'] / data['label_garman_klass_std_hist'] * data['return_std_hist']\n",
    "\n",
    "    data['label_std'] = data['label_std'].replace(0, data['label_std'].mean())\n",
    "\n",
    "\n",
    "    # print(data['label_std'].mean(), data['return_std_hist'].mean())\n",
    "    # 振幅估计方法（已废弃）\n",
    "    # data['average_log_amplitude'] = data['log_amplitude'].rolling(window = pred_len).mean().shift(-pred_len)\n",
    "    # data['label_pred_high'] = data['high'].rolling(window = pred_len).max().shift(-pred_len)\n",
    "    # data['label_pred_low'] = data['low'].rolling(window = pred_len).min().shift(-pred_len)\n",
    "    # data['label_amplitude'] = data['label_pred_high'] - data['label_pred_low']\n",
    "    # data['label_amplitude_ma'] = data['label_amplitude'].rolling(window = 250).mean()\n",
    "    # data['label_std'] = data['label_amplitude'] / data['label_amplitude_ma'] * data['ma_return_std'] # 用预测目标的振幅作为波动率的辅助变量\n",
    "\n",
    "    # 阈值分位数\n",
    "    data['upper_bond'] = data['label_return'].rolling(window = 250).quantile(1 - threshold_ratio) # 过去一年的收益下分位数\n",
    "    data['lower_bond'] = data['label_return'].rolling(window = 250).quantile(threshold_ratio) # 过去一年的收益上分位数\n",
    "    data['threshold'] = (abs(data['upper_bond']) + abs(data['lower_bond']))/2 # 过去一年的收益的分割阈值\n",
    "\n",
    "    def down_probability(row):\n",
    "        return norm.cdf(row['lower_bond'], loc = row['label_return'], scale=row['label_std'])\n",
    "\n",
    "    def middle_probability(row):\n",
    "        return norm.cdf(row['upper_bond'], loc = row['label_return'], scale=row['label_std']) - norm.cdf(row['lower_bond'], loc = row['label_return'], scale=row['label_std'])\n",
    "\n",
    "    def up_probability(row):\n",
    "        return 1 - norm.cdf(row['upper_bond'], loc = row['label_return'], scale=row['label_std'])\n",
    "\n",
    "    data['down_prob'] = data.apply(down_probability, axis = 1)\n",
    "    data['middle_prob'] = data.apply(middle_probability, axis = 1)\n",
    "    data['up_prob'] = data.apply(up_probability, axis = 1)\n",
    "\n",
    "\n",
    "    data.dropna(inplace=True)\n",
    "    print(asset_code, len(data))\n",
    "    data.to_csv(f'data/{asset_code}.csv')"
   ]
  },
  {
   "cell_type": "code",
   "execution_count": null,
   "id": "7775ea55",
   "metadata": {},
   "outputs": [],
   "source": [
    "data = pd.read_csv('data/SF.ZCE.csv')\n",
    "data"
   ]
  },
  {
   "cell_type": "code",
   "execution_count": null,
   "id": "597b9862",
   "metadata": {},
   "outputs": [],
   "source": [
    "data = pd.read_csv('data/IH.CFX.csv')\n",
    "data[data['trade_date'] > 20210101]"
   ]
  },
  {
   "cell_type": "code",
   "execution_count": null,
   "id": "7454908e",
   "metadata": {},
   "outputs": [],
   "source": [
    "data = pd.read_csv('data/LU.INE.csv')\n",
    "data[data['trade_date'] > 20210101]"
   ]
  },
  {
   "cell_type": "code",
   "execution_count": null,
   "id": "7b058d0d",
   "metadata": {},
   "outputs": [],
   "source": [
    "data = pro.fut_daily(ts_code = 'IH.CFX', start_date = '20180101', fields = 'ts_code,trade_date,pre_close,pre_settle,open,high,low,close,settle,vol, amount')\n",
    "data[data['trade_date'] > '20210101']"
   ]
  },
  {
   "cell_type": "code",
   "execution_count": null,
   "id": "ff216bf1",
   "metadata": {},
   "outputs": [],
   "source": [
    "data = pro.fut_daily(ts_code = 'LU.INE', start_date = '20180101', fields = 'ts_code,trade_date,pre_close,pre_settle,open,high,low,close,settle,vol,amount')\n",
    "data[data['trade_date'] > '20210101']"
   ]
  },
  {
   "cell_type": "code",
   "execution_count": null,
   "id": "2d5106f7",
   "metadata": {},
   "outputs": [],
   "source": [
    "data.describe()"
   ]
  },
  {
   "cell_type": "code",
   "execution_count": null,
   "id": "664f34b2",
   "metadata": {},
   "outputs": [],
   "source": [
    "data.describe().loc[['mean', 'std'],['inday_chg_open','inday_chg_high','inday_chg_low','inday_chg_close','inday_chg_amplitude', 'ma_10','ma_26','ma_45','ma_90','ma_vol',]]"
   ]
  },
  {
   "cell_type": "code",
   "execution_count": null,
   "id": "24f5a7e4",
   "metadata": {},
   "outputs": [],
   "source": [
    "data.describe().loc[['mean', 'std'],['label_return','down_prob','middle_prob','up_prob',]]"
   ]
  },
  {
   "cell_type": "code",
   "execution_count": null,
   "id": "6027aad5",
   "metadata": {},
   "outputs": [],
   "source": [
    "import torch\n",
    "feature = []\n",
    "label = []\n",
    "feature_columns = ['inday_chg_open','inday_chg_high','inday_chg_low','inday_chg_close','inday_chg_amplitude', 'ma_10','ma_26','ma_45','ma_90','ma_vol',]\n",
    "label_columns = ['label_return','down_prob','middle_prob','up_prob',]\n",
    "\n",
    "for asset_code in assets_list:\n",
    "    data = pd.read_csv(f'{asset_code}.csv')\n",
    "    feature.append(torch.tensor(data[feature_columns].values, dtype = torch.float32, device = 'cuda:0'))\n",
    "    label.append(torch.tensor(data[label_columns].values, dtype = torch.float32, device = 'cuda:0'))\n",
    "\n",
    "feature = torch.stack(feature, dim = 1)\n",
    "label = torch.stack(label, dim = 1)\n",
    "\n",
    "feature.shape, label.shape"
   ]
  },
  {
   "cell_type": "code",
   "execution_count": null,
   "id": "7f0c0acc",
   "metadata": {},
   "outputs": [],
   "source": [
    "seq_len = 30\n",
    "feature = feature.unfold(dimension = 0, size = seq_len, step = 1).permute(0,1,3,2)\n",
    "label = label[seq_len-1:]\n",
    "\n",
    "feature.shape, label.shape"
   ]
  }
 ],
 "metadata": {
  "kernelspec": {
   "display_name": "Python 3",
   "language": "python",
   "name": "python3"
  },
  "language_info": {
   "codemirror_mode": {
    "name": "ipython",
    "version": 3
   },
   "file_extension": ".py",
   "mimetype": "text/x-python",
   "name": "python",
   "nbconvert_exporter": "python",
   "pygments_lexer": "ipython3",
   "version": "3.13.7"
  }
 },
 "nbformat": 4,
 "nbformat_minor": 5
}
