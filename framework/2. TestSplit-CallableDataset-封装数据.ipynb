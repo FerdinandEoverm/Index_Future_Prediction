{
 "cells": [
  {
   "cell_type": "markdown",
   "id": "edfaca1f",
   "metadata": {},
   "source": [
    "由于不同的模型需要的输入数据结构可能不同，为了使ModelTrain类有更兼容的性能，我们需要定义一个可被调用的数据集，生成所需数据\n",
    "\n",
    "继承pytorch原生的TensorDataset并添加__call__方法，使得结构化的数据集可以直接被调用而返回ModelTrain需要的数据。"
   ]
  },
  {
   "cell_type": "code",
   "execution_count": 63,
   "id": "14ee2d12",
   "metadata": {},
   "outputs": [],
   "source": [
    "import torch\n",
    "from torch.utils.data import TensorDataset\n",
    "\n",
    "class CallableDataset(TensorDataset):\n",
    "    \"\"\"\n",
    "    封装数据接口\n",
    "    \"\"\"\n",
    "    def __init__(self, *args):\n",
    "        super(CallableDataset, self).__init__(*args)\n",
    "    \n",
    "    def __call__(self, batch_size):\n",
    "        \"\"\"\n",
    "        根据ModelTrain 类的要求，我们这里继承自原生的Dataset类，实现一个callable的Dataset\n",
    "        \"\"\"\n",
    "        total_size = len(self)\n",
    "        indices = torch.randint(0, total_size, (batch_size,))\n",
    "        batch = [tensor[indices] for tensor in self.tensors]\n",
    "        \n",
    "        return tuple(batch)"
   ]
  },
  {
   "cell_type": "markdown",
   "id": "486ba1a6",
   "metadata": {},
   "source": [
    "随机划分训练集、验证集、测试集，并返回 CallableDataset的实例"
   ]
  },
  {
   "cell_type": "code",
   "execution_count": 64,
   "id": "61449256",
   "metadata": {},
   "outputs": [],
   "source": [
    "import numpy as np\n",
    "import torch\n",
    "\n",
    "class RandomSplit():\n",
    "    def __init__(self, data, device):\n",
    "        self.data = data.dropna()\n",
    "        self.device = device\n",
    "\n",
    "        self.column_names = [] # 记录需要输出的列名\n",
    "        self.dtypes = [] # 记录需要输出的列名\n",
    "        self.unfold = [] # 记录是否需要滑动窗口\n",
    "\n",
    "    def set_output(self, column_name, dtype, unfold = False):\n",
    "        self.column_names.append(column_name)\n",
    "        self.dtypes.append(dtype)\n",
    "        self.unfold.append(unfold)\n",
    "\n",
    "    def get_split_data(self, train_size, validation_size, test_size, window_size):\n",
    "\n",
    "        if len(self.unfold) == 0:\n",
    "            raise ValueError('you have not set output yet')\n",
    "        \n",
    "        tensors = []\n",
    "        for i in range(len(self.unfold)):\n",
    "            tensor = torch.tensor(self.data[self.column_names[i]].values, dtype = self.dtypes[i], device = self.device)\n",
    "            if self.unfold[i]:\n",
    "                tensor = tensor.unfold(dimension = 0, size = window_size, step = 1).transpose(1,2)\n",
    "            else:\n",
    "                tensor = tensor[window_size-1:] # 如果该tensor未进行滑动窗口，则需要裁去前面部分以对齐滑动窗口\n",
    "            tensors.append(tensor)\n",
    "\n",
    "\n",
    "        split = np.random.randint(train_size, len(self.data) - validation_size - test_size)\n",
    "        train_tensors = []\n",
    "        validation_tensors = []\n",
    "        test_tensors = []\n",
    "\n",
    "        for tensor in tensors:\n",
    "            train_tensors.append(tensor[:split])\n",
    "            validation_tensors.append(tensor[split:split+validation_size])\n",
    "            test_tensors.append(tensor[split+validation_size:split+validation_size+test_size])\n",
    "\n",
    "        return CallableDataset(*tuple(train_tensors)), CallableDataset(*tuple(validation_tensors)), CallableDataset(*tuple(test_tensors))\n",
    "\n"
   ]
  }
 ],
 "metadata": {
  "kernelspec": {
   "display_name": "Python 3",
   "language": "python",
   "name": "python3"
  },
  "language_info": {
   "codemirror_mode": {
    "name": "ipython",
    "version": 3
   },
   "file_extension": ".py",
   "mimetype": "text/x-python",
   "name": "python",
   "nbconvert_exporter": "python",
   "pygments_lexer": "ipython3",
   "version": "3.11.11"
  }
 },
 "nbformat": 4,
 "nbformat_minor": 5
}
